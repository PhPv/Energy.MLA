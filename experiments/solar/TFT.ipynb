{
 "cells": [
  {
   "cell_type": "code",
   "execution_count": 1,
   "outputs": [],
   "source": [
    "import warnings\n",
    "warnings.filterwarnings(\"ignore\")  # avoid printing out absolute paths\n"
   ],
   "metadata": {
    "collapsed": false,
    "pycharm": {
     "name": "#%%\n"
    }
   }
  },
  {
   "cell_type": "code",
   "execution_count": 2,
   "metadata": {
    "collapsed": true,
    "pycharm": {
     "name": "#%%\n"
    }
   },
   "outputs": [],
   "source": [
    "# imports for training\n",
    "import pandas as pd\n",
    "import numpy as np\n",
    "import pytorch_lightning as pl\n",
    "from pytorch_lightning.loggers import TensorBoardLogger\n",
    "from pytorch_lightning.callbacks import EarlyStopping, LearningRateMonitor\n",
    "# import dataset, network to train and metric to optimize\n",
    "from pytorch_forecasting import TimeSeriesDataSet, TemporalFusionTransformer, QuantileLoss"
   ]
  },
  {
   "cell_type": "code",
   "execution_count": 3,
   "outputs": [
    {
     "name": "stdout",
     "output_type": "stream",
     "text": [
      "env: CLEARML_WEB_HOST=http://148.253.62.107:8080\n",
      "env: CLEARML_API_HOST=http://148.253.62.107:8008\n",
      "env: CLEARML_FILES_HOST=http://148.253.62.107:8081\n",
      "env: CLEARML_API_ACCESS_KEY=OL9OG6XAEEURZXY317LA\n",
      "env: CLEARML_API_SECRET_KEY=O5xABmDwofVJoXRQcAODx3IQWFksGGtUf2S6JCBSDRCm4hsfqx\n"
     ]
    }
   ],
   "source": [
    "%env CLEARML_WEB_HOST=http://148.253.62.107:8080\n",
    "%env CLEARML_API_HOST=http://148.253.62.107:8008\n",
    "%env CLEARML_FILES_HOST=http://148.253.62.107:8081\n",
    "%env CLEARML_API_ACCESS_KEY=OL9OG6XAEEURZXY317LA\n",
    "%env CLEARML_API_SECRET_KEY=O5xABmDwofVJoXRQcAODx3IQWFksGGtUf2S6JCBSDRCm4hsfqx"
   ],
   "metadata": {
    "collapsed": false,
    "pycharm": {
     "name": "#%%\n"
    }
   }
  },
  {
   "cell_type": "code",
   "execution_count": 4,
   "outputs": [
    {
     "name": "stdout",
     "output_type": "stream",
     "text": [
      "ClearML Task: created new task id=a91a5f4681334c13b5b45353b44358b4\n",
      "ClearML results page: http://148.253.62.107:8080/projects/43606053e6db48478ba1120f9ba5322b/experiments/a91a5f4681334c13b5b45353b44358b4/output/log\n"
     ]
    }
   ],
   "source": [
    "from clearml import Task\n",
    "task = Task.init(project_name='TemporalFusionTransformer', task_name='Experiment Solar')"
   ],
   "metadata": {
    "collapsed": false,
    "pycharm": {
     "name": "#%%\n"
    }
   }
  },
  {
   "cell_type": "code",
   "execution_count": 5,
   "outputs": [],
   "source": [
    "df = pd.read_csv('/home/kpavel/PycharmProjects/energy/data/solar/station_1/data_v2.csv', sep=',')"
   ],
   "metadata": {
    "collapsed": false,
    "pycharm": {
     "name": "#%%\n"
    }
   }
  },
  {
   "cell_type": "code",
   "execution_count": 6,
   "outputs": [],
   "source": [
    "df['time_idx_column'] = df.index"
   ],
   "metadata": {
    "collapsed": false,
    "pycharm": {
     "name": "#%%\n"
    }
   }
  },
  {
   "cell_type": "code",
   "execution_count": 7,
   "outputs": [],
   "source": [
    "df['id'] = 0"
   ],
   "metadata": {
    "collapsed": false,
    "pycharm": {
     "name": "#%%\n"
    }
   }
  },
  {
   "cell_type": "code",
   "execution_count": 8,
   "outputs": [
    {
     "data": {
      "text/plain": "(4250, 30)"
     },
     "execution_count": 8,
     "metadata": {},
     "output_type": "execute_result"
    }
   ],
   "source": [
    "df.shape"
   ],
   "metadata": {
    "collapsed": false,
    "pycharm": {
     "name": "#%%\n"
    }
   }
  },
  {
   "cell_type": "code",
   "execution_count": 9,
   "outputs": [],
   "source": [
    "df = df.dropna(subset=['dt'], axis=0)"
   ],
   "metadata": {
    "collapsed": false,
    "pycharm": {
     "name": "#%%\n"
    }
   }
  },
  {
   "cell_type": "code",
   "execution_count": 10,
   "outputs": [],
   "source": [
    "df = df.dropna(axis=0)\n"
   ],
   "metadata": {
    "collapsed": false,
    "pycharm": {
     "name": "#%%\n"
    }
   }
  },
  {
   "cell_type": "code",
   "execution_count": 11,
   "outputs": [
    {
     "data": {
      "text/plain": "(83, 30)"
     },
     "execution_count": 11,
     "metadata": {},
     "output_type": "execute_result"
    }
   ],
   "source": [
    "df[4167:].shape"
   ],
   "metadata": {
    "collapsed": false,
    "pycharm": {
     "name": "#%%\n"
    }
   }
  },
  {
   "cell_type": "code",
   "execution_count": 12,
   "outputs": [],
   "source": [
    "#df['dt'] = df['dt'].astype(np.datetime64).astype(int)"
   ],
   "metadata": {
    "collapsed": false,
    "pycharm": {
     "name": "#%%\n"
    }
   }
  },
  {
   "cell_type": "code",
   "execution_count": 13,
   "outputs": [],
   "source": [
    "\n",
    "# load data: this is pandas dataframe with at least a column for\n",
    "# * the target (what you want to predict)\n",
    "# * the timeseries ID (which should be a unique string to identify each timeseries)\n",
    "# * the time of the observation (which should be a monotonically increasing integer)\n",
    "# data = df\n",
    "\n",
    "# define the dataset, i.e. add metadata to pandas dataframe for the model to understand it\n",
    "max_prediction_length = 6\n",
    "max_encoder_length = 4 * max_prediction_length\n",
    "# training_cutoff = \"2022-07-25 04:00:00\"  # day for cutoff"
   ],
   "metadata": {
    "collapsed": false,
    "pycharm": {
     "name": "#%%\n"
    }
   }
  },
  {
   "cell_type": "code",
   "execution_count": 14,
   "outputs": [],
   "source": [
    "from pytorch_forecasting import NaNLabelEncoder\n",
    "training_cutoff = df[\"time_idx_column\"].max() - max_prediction_length\n",
    "\n",
    "training = TimeSeriesDataSet(\n",
    "    df[lambda x: x.time_idx_column <= training_cutoff],\n",
    "    time_idx= 'time_idx_column',  # column name of time of observation\n",
    "    target= 'fact',  # column name of target to predict\n",
    "    group_ids=[ 'id' ],  # column name(s) for timeseries IDs\n",
    "    # allow_missing_timesteps=True,\n",
    "    min_encoder_length=max_encoder_length // 2,  # keep encoder length long (as it is in the validation set)\n",
    "    max_encoder_length=max_encoder_length,  # how much history to use\n",
    "    min_prediction_length=1,\n",
    "    max_prediction_length=max_prediction_length,  # how far to predict into future\n",
    "   # categorical_encoders={data.columns[3]: NaNLabelEncoder(add_nan=True)}\n",
    "    add_relative_time_idx=True,\n",
    ")"
   ],
   "metadata": {
    "collapsed": false,
    "pycharm": {
     "name": "#%%\n"
    }
   }
  },
  {
   "cell_type": "code",
   "execution_count": 15,
   "outputs": [
    {
     "name": "stdout",
     "output_type": "stream",
     "text": [
      "2022-12-28 23:03:26,501 - clearml.Task - INFO - Storing jupyter notebook directly as code\n"
     ]
    }
   ],
   "source": [
    "\n",
    "# create validation set (predict=True) which means to predict the last max_prediction_length points in time\n",
    "# for each series\n",
    "validation = TimeSeriesDataSet.from_dataset(training, df,\n",
    "                                            predict=False,\n",
    "                                            stop_randomization=True\n",
    "                                            )\n",
    "\n",
    "# create dataloaders for model\n",
    "batch_size = 8  # set this between 32 to 128\n",
    "train_dataloader = training.to_dataloader(train=True, batch_size=batch_size, num_workers=0)\n",
    "val_dataloader = validation.to_dataloader(train=False, batch_size=batch_size * 10, num_workers=0)"
   ],
   "metadata": {
    "collapsed": false,
    "pycharm": {
     "name": "#%%\n"
    }
   }
  },
  {
   "cell_type": "code",
   "execution_count": 20,
   "outputs": [],
   "source": [
    "# iss = []\n",
    "# for i, el in enumerate(train_dataloader):\n",
    "#     iss.append(i)\n",
    "#\n",
    "# print(len(iss))\n",
    "# iss = []\n",
    "# for i, el in enumerate(val_dataloader):\n",
    "#     iss.append(i)\n",
    "#\n",
    "# print(len(iss))"
   ],
   "metadata": {
    "collapsed": false,
    "pycharm": {
     "name": "#%%\n"
    }
   }
  },
  {
   "cell_type": "code",
   "execution_count": 20,
   "outputs": [],
   "source": [],
   "metadata": {
    "collapsed": false,
    "pycharm": {
     "name": "#%%\n"
    }
   }
  },
  {
   "cell_type": "code",
   "execution_count": 21,
   "outputs": [
    {
     "name": "stderr",
     "output_type": "stream",
     "text": [
      "/home/kpavel/anaconda3/envs/energy/lib/python3.9/site-packages/pytorch_lightning/trainer/connectors/accelerator_connector.py:441: LightningDeprecationWarning:\n",
      "\n",
      "Setting `Trainer(gpus=1)` is deprecated in v1.7 and will be removed in v2.0. Please use `Trainer(accelerator='gpu', devices=1)` instead.\n",
      "\n",
      "GPU available: True (cuda), used: True\n",
      "TPU available: False, using: 0 TPU cores\n",
      "IPU available: False, using: 0 IPUs\n",
      "HPU available: False, using: 0 HPUs\n"
     ]
    }
   ],
   "source": [
    "\n",
    "# create PyTorch Lighning Trainer with early stopping\n",
    "early_stop_callback = EarlyStopping(monitor=\"val_loss\", min_delta=1e-4, patience=1, verbose=False, mode=\"min\")\n",
    "lr_logger = LearningRateMonitor()\n",
    "trainer = pl.Trainer(\n",
    "    max_epochs=100,\n",
    "    gpus=1,  # run on CPU, if on multiple GPUs, use accelerator=\"ddp\"\n",
    "    gradient_clip_val=0.1,\n",
    "    limit_train_batches=30,  # 30 batches per epoch\n",
    "    callbacks=[lr_logger, early_stop_callback],\n",
    "    logger=TensorBoardLogger(\"lightning_logs\")\n",
    ")"
   ],
   "metadata": {
    "collapsed": false,
    "pycharm": {
     "name": "#%%\n"
    }
   }
  },
  {
   "cell_type": "code",
   "execution_count": 22,
   "outputs": [
    {
     "name": "stderr",
     "output_type": "stream",
     "text": [
      "Global seed set to 42\n",
      "/home/kpavel/anaconda3/envs/energy/lib/python3.9/site-packages/pytorch_lightning/trainer/connectors/accelerator_connector.py:441: LightningDeprecationWarning:\n",
      "\n",
      "Setting `Trainer(gpus=1)` is deprecated in v1.7 and will be removed in v2.0. Please use `Trainer(accelerator='gpu', devices=1)` instead.\n",
      "\n",
      "GPU available: True (cuda), used: True\n",
      "TPU available: False, using: 0 TPU cores\n",
      "IPU available: False, using: 0 IPUs\n",
      "HPU available: False, using: 0 HPUs\n"
     ]
    },
    {
     "name": "stdout",
     "output_type": "stream",
     "text": [
      "Number of parameters in network: 15.8k\n"
     ]
    }
   ],
   "source": [
    "# configure network and trainer\n",
    "pl.seed_everything(42)\n",
    "trainer = pl.Trainer(\n",
    "    gpus=1,\n",
    "    # clipping gradients is a hyperparameter and important to prevent divergance\n",
    "    # of the gradient for recurrent neural networks\n",
    "    gradient_clip_val=0.1,\n",
    ")\n",
    "\n",
    "\n",
    "tft = TemporalFusionTransformer.from_dataset(\n",
    "    training,\n",
    "    # not meaningful for finding the learning rate but otherwise very important\n",
    "    learning_rate=0.03,\n",
    "    hidden_size=16,  # most important hyperparameter apart from learning rate\n",
    "    # number of attention heads. Set to up to 4 for large datasets\n",
    "    attention_head_size=1,\n",
    "    dropout=0.1,  # between 0.1 and 0.3 are good values\n",
    "    hidden_continuous_size=8,  # set to <= hidden_size\n",
    "    output_size=7,  # 7 quantiles by default\n",
    "    loss=QuantileLoss(),\n",
    "    # reduce learning rate if no improvement in validation loss after x epochs\n",
    "    reduce_on_plateau_patience=4,\n",
    ")\n",
    "print(f\"Number of parameters in network: {tft.size()/1e3:.1f}k\")"
   ],
   "metadata": {
    "collapsed": false,
    "pycharm": {
     "name": "#%%\n"
    }
   }
  },
  {
   "cell_type": "code",
   "execution_count": 23,
   "outputs": [
    {
     "name": "stderr",
     "output_type": "stream",
     "text": [
      "Missing logger folder: /home/kpavel/PycharmProjects/energy/experiments/other/lightning_logs\n",
      "LOCAL_RANK: 0 - CUDA_VISIBLE_DEVICES: [0]\n"
     ]
    },
    {
     "data": {
      "text/plain": "Finding best initial lr:   0%|          | 0/100 [00:00<?, ?it/s]",
      "application/vnd.jupyter.widget-view+json": {
       "version_major": 2,
       "version_minor": 0,
       "model_id": "abd8926787d1445d8a7d227a24591134"
      }
     },
     "metadata": {},
     "output_type": "display_data"
    },
    {
     "name": "stderr",
     "output_type": "stream",
     "text": [
      "`Trainer.fit` stopped: `max_steps=100` reached.\n",
      "Restoring states from the checkpoint path at /home/kpavel/PycharmProjects/energy/experiments/other/.lr_find_5fd46e36-213e-416d-8718-43e2822b107d.ckpt\n"
     ]
    },
    {
     "ename": "KeyError",
     "evalue": "'radam_buffer'",
     "output_type": "error",
     "traceback": [
      "\u001B[0;31m---------------------------------------------------------------------------\u001B[0m",
      "\u001B[0;31mKeyError\u001B[0m                                  Traceback (most recent call last)",
      "Cell \u001B[0;32mIn[23], line 1\u001B[0m\n\u001B[0;32m----> 1\u001B[0m res \u001B[38;5;241m=\u001B[39m \u001B[43mtrainer\u001B[49m\u001B[38;5;241;43m.\u001B[39;49m\u001B[43mtuner\u001B[49m\u001B[38;5;241;43m.\u001B[39;49m\u001B[43mlr_find\u001B[49m\u001B[43m(\u001B[49m\n\u001B[1;32m      2\u001B[0m \u001B[43m    \u001B[49m\u001B[43mtft\u001B[49m\u001B[43m,\u001B[49m\n\u001B[1;32m      3\u001B[0m \u001B[43m    \u001B[49m\u001B[43mtrain_dataloaders\u001B[49m\u001B[38;5;241;43m=\u001B[39;49m\u001B[43mtrain_dataloader\u001B[49m\u001B[43m,\u001B[49m\n\u001B[1;32m      4\u001B[0m \u001B[43m    \u001B[49m\u001B[43mval_dataloaders\u001B[49m\u001B[38;5;241;43m=\u001B[39;49m\u001B[43mval_dataloader\u001B[49m\u001B[43m,\u001B[49m\n\u001B[1;32m      5\u001B[0m \u001B[43m    \u001B[49m\u001B[43mmax_lr\u001B[49m\u001B[38;5;241;43m=\u001B[39;49m\u001B[38;5;241;43m10.0\u001B[39;49m\u001B[43m,\u001B[49m\n\u001B[1;32m      6\u001B[0m \u001B[43m    \u001B[49m\u001B[43mmin_lr\u001B[49m\u001B[38;5;241;43m=\u001B[39;49m\u001B[38;5;241;43m1e-6\u001B[39;49m\u001B[43m,\u001B[49m\n\u001B[1;32m      7\u001B[0m \u001B[43m)\u001B[49m\n\u001B[1;32m      9\u001B[0m \u001B[38;5;28mprint\u001B[39m(\u001B[38;5;124mf\u001B[39m\u001B[38;5;124m\"\u001B[39m\u001B[38;5;124msuggested learning rate: \u001B[39m\u001B[38;5;132;01m{\u001B[39;00mres\u001B[38;5;241m.\u001B[39msuggestion()\u001B[38;5;132;01m}\u001B[39;00m\u001B[38;5;124m\"\u001B[39m)\n\u001B[1;32m     10\u001B[0m fig \u001B[38;5;241m=\u001B[39m res\u001B[38;5;241m.\u001B[39mplot(show\u001B[38;5;241m=\u001B[39m\u001B[38;5;28;01mTrue\u001B[39;00m, suggest\u001B[38;5;241m=\u001B[39m\u001B[38;5;28;01mTrue\u001B[39;00m)\n",
      "File \u001B[0;32m~/anaconda3/envs/energy/lib/python3.9/site-packages/pytorch_lightning/tuner/tuning.py:267\u001B[0m, in \u001B[0;36mTuner.lr_find\u001B[0;34m(self, model, train_dataloaders, val_dataloaders, dataloaders, datamodule, method, min_lr, max_lr, num_training, mode, early_stop_threshold, update_attr)\u001B[0m\n\u001B[1;32m    264\u001B[0m lr_finder_callback\u001B[38;5;241m.\u001B[39m_early_exit \u001B[38;5;241m=\u001B[39m \u001B[38;5;28;01mTrue\u001B[39;00m\n\u001B[1;32m    265\u001B[0m \u001B[38;5;28mself\u001B[39m\u001B[38;5;241m.\u001B[39mtrainer\u001B[38;5;241m.\u001B[39mcallbacks \u001B[38;5;241m=\u001B[39m [lr_finder_callback] \u001B[38;5;241m+\u001B[39m \u001B[38;5;28mself\u001B[39m\u001B[38;5;241m.\u001B[39mtrainer\u001B[38;5;241m.\u001B[39mcallbacks\n\u001B[0;32m--> 267\u001B[0m \u001B[38;5;28;43mself\u001B[39;49m\u001B[38;5;241;43m.\u001B[39;49m\u001B[43mtrainer\u001B[49m\u001B[38;5;241;43m.\u001B[39;49m\u001B[43mfit\u001B[49m\u001B[43m(\u001B[49m\u001B[43mmodel\u001B[49m\u001B[43m,\u001B[49m\u001B[43m \u001B[49m\u001B[43mtrain_dataloaders\u001B[49m\u001B[43m,\u001B[49m\u001B[43m \u001B[49m\u001B[43mval_dataloaders\u001B[49m\u001B[43m,\u001B[49m\u001B[43m \u001B[49m\u001B[43mdatamodule\u001B[49m\u001B[43m)\u001B[49m\n\u001B[1;32m    269\u001B[0m \u001B[38;5;28mself\u001B[39m\u001B[38;5;241m.\u001B[39mtrainer\u001B[38;5;241m.\u001B[39mcallbacks \u001B[38;5;241m=\u001B[39m [cb \u001B[38;5;28;01mfor\u001B[39;00m cb \u001B[38;5;129;01min\u001B[39;00m \u001B[38;5;28mself\u001B[39m\u001B[38;5;241m.\u001B[39mtrainer\u001B[38;5;241m.\u001B[39mcallbacks \u001B[38;5;28;01mif\u001B[39;00m cb \u001B[38;5;129;01mis\u001B[39;00m \u001B[38;5;129;01mnot\u001B[39;00m lr_finder_callback]\n\u001B[1;32m    271\u001B[0m \u001B[38;5;28mself\u001B[39m\u001B[38;5;241m.\u001B[39mtrainer\u001B[38;5;241m.\u001B[39mauto_lr_find \u001B[38;5;241m=\u001B[39m \u001B[38;5;28;01mFalse\u001B[39;00m\n",
      "File \u001B[0;32m~/anaconda3/envs/energy/lib/python3.9/site-packages/pytorch_lightning/trainer/trainer.py:603\u001B[0m, in \u001B[0;36mTrainer.fit\u001B[0;34m(self, model, train_dataloaders, val_dataloaders, datamodule, ckpt_path)\u001B[0m\n\u001B[1;32m    601\u001B[0m     \u001B[38;5;28;01mraise\u001B[39;00m \u001B[38;5;167;01mTypeError\u001B[39;00m(\u001B[38;5;124mf\u001B[39m\u001B[38;5;124m\"\u001B[39m\u001B[38;5;124m`Trainer.fit()` requires a `LightningModule`, got: \u001B[39m\u001B[38;5;132;01m{\u001B[39;00mmodel\u001B[38;5;241m.\u001B[39m\u001B[38;5;18m__class__\u001B[39m\u001B[38;5;241m.\u001B[39m\u001B[38;5;18m__qualname__\u001B[39m\u001B[38;5;132;01m}\u001B[39;00m\u001B[38;5;124m\"\u001B[39m)\n\u001B[1;32m    602\u001B[0m \u001B[38;5;28mself\u001B[39m\u001B[38;5;241m.\u001B[39mstrategy\u001B[38;5;241m.\u001B[39m_lightning_module \u001B[38;5;241m=\u001B[39m model\n\u001B[0;32m--> 603\u001B[0m \u001B[43mcall\u001B[49m\u001B[38;5;241;43m.\u001B[39;49m\u001B[43m_call_and_handle_interrupt\u001B[49m\u001B[43m(\u001B[49m\n\u001B[1;32m    604\u001B[0m \u001B[43m    \u001B[49m\u001B[38;5;28;43mself\u001B[39;49m\u001B[43m,\u001B[49m\u001B[43m \u001B[49m\u001B[38;5;28;43mself\u001B[39;49m\u001B[38;5;241;43m.\u001B[39;49m\u001B[43m_fit_impl\u001B[49m\u001B[43m,\u001B[49m\u001B[43m \u001B[49m\u001B[43mmodel\u001B[49m\u001B[43m,\u001B[49m\u001B[43m \u001B[49m\u001B[43mtrain_dataloaders\u001B[49m\u001B[43m,\u001B[49m\u001B[43m \u001B[49m\u001B[43mval_dataloaders\u001B[49m\u001B[43m,\u001B[49m\u001B[43m \u001B[49m\u001B[43mdatamodule\u001B[49m\u001B[43m,\u001B[49m\u001B[43m \u001B[49m\u001B[43mckpt_path\u001B[49m\n\u001B[1;32m    605\u001B[0m \u001B[43m\u001B[49m\u001B[43m)\u001B[49m\n",
      "File \u001B[0;32m~/anaconda3/envs/energy/lib/python3.9/site-packages/pytorch_lightning/trainer/call.py:38\u001B[0m, in \u001B[0;36m_call_and_handle_interrupt\u001B[0;34m(trainer, trainer_fn, *args, **kwargs)\u001B[0m\n\u001B[1;32m     36\u001B[0m         \u001B[38;5;28;01mreturn\u001B[39;00m trainer\u001B[38;5;241m.\u001B[39mstrategy\u001B[38;5;241m.\u001B[39mlauncher\u001B[38;5;241m.\u001B[39mlaunch(trainer_fn, \u001B[38;5;241m*\u001B[39margs, trainer\u001B[38;5;241m=\u001B[39mtrainer, \u001B[38;5;241m*\u001B[39m\u001B[38;5;241m*\u001B[39mkwargs)\n\u001B[1;32m     37\u001B[0m     \u001B[38;5;28;01melse\u001B[39;00m:\n\u001B[0;32m---> 38\u001B[0m         \u001B[38;5;28;01mreturn\u001B[39;00m \u001B[43mtrainer_fn\u001B[49m\u001B[43m(\u001B[49m\u001B[38;5;241;43m*\u001B[39;49m\u001B[43margs\u001B[49m\u001B[43m,\u001B[49m\u001B[43m \u001B[49m\u001B[38;5;241;43m*\u001B[39;49m\u001B[38;5;241;43m*\u001B[39;49m\u001B[43mkwargs\u001B[49m\u001B[43m)\u001B[49m\n\u001B[1;32m     40\u001B[0m \u001B[38;5;28;01mexcept\u001B[39;00m _TunerExitException:\n\u001B[1;32m     41\u001B[0m     trainer\u001B[38;5;241m.\u001B[39m_call_teardown_hook()\n",
      "File \u001B[0;32m~/anaconda3/envs/energy/lib/python3.9/site-packages/pytorch_lightning/trainer/trainer.py:645\u001B[0m, in \u001B[0;36mTrainer._fit_impl\u001B[0;34m(self, model, train_dataloaders, val_dataloaders, datamodule, ckpt_path)\u001B[0m\n\u001B[1;32m    638\u001B[0m ckpt_path \u001B[38;5;241m=\u001B[39m ckpt_path \u001B[38;5;129;01mor\u001B[39;00m \u001B[38;5;28mself\u001B[39m\u001B[38;5;241m.\u001B[39mresume_from_checkpoint\n\u001B[1;32m    639\u001B[0m \u001B[38;5;28mself\u001B[39m\u001B[38;5;241m.\u001B[39m_ckpt_path \u001B[38;5;241m=\u001B[39m \u001B[38;5;28mself\u001B[39m\u001B[38;5;241m.\u001B[39m_checkpoint_connector\u001B[38;5;241m.\u001B[39m_set_ckpt_path(\n\u001B[1;32m    640\u001B[0m     \u001B[38;5;28mself\u001B[39m\u001B[38;5;241m.\u001B[39mstate\u001B[38;5;241m.\u001B[39mfn,\n\u001B[1;32m    641\u001B[0m     ckpt_path,  \u001B[38;5;66;03m# type: ignore[arg-type]\u001B[39;00m\n\u001B[1;32m    642\u001B[0m     model_provided\u001B[38;5;241m=\u001B[39m\u001B[38;5;28;01mTrue\u001B[39;00m,\n\u001B[1;32m    643\u001B[0m     model_connected\u001B[38;5;241m=\u001B[39m\u001B[38;5;28mself\u001B[39m\u001B[38;5;241m.\u001B[39mlightning_module \u001B[38;5;129;01mis\u001B[39;00m \u001B[38;5;129;01mnot\u001B[39;00m \u001B[38;5;28;01mNone\u001B[39;00m,\n\u001B[1;32m    644\u001B[0m )\n\u001B[0;32m--> 645\u001B[0m \u001B[38;5;28;43mself\u001B[39;49m\u001B[38;5;241;43m.\u001B[39;49m\u001B[43m_run\u001B[49m\u001B[43m(\u001B[49m\u001B[43mmodel\u001B[49m\u001B[43m,\u001B[49m\u001B[43m \u001B[49m\u001B[43mckpt_path\u001B[49m\u001B[38;5;241;43m=\u001B[39;49m\u001B[38;5;28;43mself\u001B[39;49m\u001B[38;5;241;43m.\u001B[39;49m\u001B[43mckpt_path\u001B[49m\u001B[43m)\u001B[49m\n\u001B[1;32m    647\u001B[0m \u001B[38;5;28;01massert\u001B[39;00m \u001B[38;5;28mself\u001B[39m\u001B[38;5;241m.\u001B[39mstate\u001B[38;5;241m.\u001B[39mstopped\n\u001B[1;32m    648\u001B[0m \u001B[38;5;28mself\u001B[39m\u001B[38;5;241m.\u001B[39mtraining \u001B[38;5;241m=\u001B[39m \u001B[38;5;28;01mFalse\u001B[39;00m\n",
      "File \u001B[0;32m~/anaconda3/envs/energy/lib/python3.9/site-packages/pytorch_lightning/trainer/trainer.py:1083\u001B[0m, in \u001B[0;36mTrainer._run\u001B[0;34m(self, model, ckpt_path)\u001B[0m\n\u001B[1;32m   1081\u001B[0m \u001B[38;5;66;03m# hook\u001B[39;00m\n\u001B[1;32m   1082\u001B[0m \u001B[38;5;28;01mif\u001B[39;00m \u001B[38;5;28mself\u001B[39m\u001B[38;5;241m.\u001B[39mstate\u001B[38;5;241m.\u001B[39mfn \u001B[38;5;241m==\u001B[39m TrainerFn\u001B[38;5;241m.\u001B[39mFITTING:\n\u001B[0;32m-> 1083\u001B[0m     \u001B[38;5;28;43mself\u001B[39;49m\u001B[38;5;241;43m.\u001B[39;49m\u001B[43m_call_callback_hooks\u001B[49m\u001B[43m(\u001B[49m\u001B[38;5;124;43m\"\u001B[39;49m\u001B[38;5;124;43mon_fit_start\u001B[39;49m\u001B[38;5;124;43m\"\u001B[39;49m\u001B[43m)\u001B[49m\n\u001B[1;32m   1084\u001B[0m     \u001B[38;5;28mself\u001B[39m\u001B[38;5;241m.\u001B[39m_call_lightning_module_hook(\u001B[38;5;124m\"\u001B[39m\u001B[38;5;124mon_fit_start\u001B[39m\u001B[38;5;124m\"\u001B[39m)\n\u001B[1;32m   1086\u001B[0m \u001B[38;5;28mself\u001B[39m\u001B[38;5;241m.\u001B[39m_log_hyperparams()\n",
      "File \u001B[0;32m~/anaconda3/envs/energy/lib/python3.9/site-packages/pytorch_lightning/trainer/trainer.py:1380\u001B[0m, in \u001B[0;36mTrainer._call_callback_hooks\u001B[0;34m(self, hook_name, *args, **kwargs)\u001B[0m\n\u001B[1;32m   1378\u001B[0m     \u001B[38;5;28;01mif\u001B[39;00m callable(fn):\n\u001B[1;32m   1379\u001B[0m         \u001B[38;5;28;01mwith\u001B[39;00m \u001B[38;5;28mself\u001B[39m\u001B[38;5;241m.\u001B[39mprofiler\u001B[38;5;241m.\u001B[39mprofile(\u001B[38;5;124mf\u001B[39m\u001B[38;5;124m\"\u001B[39m\u001B[38;5;124m[Callback]\u001B[39m\u001B[38;5;132;01m{\u001B[39;00mcallback\u001B[38;5;241m.\u001B[39mstate_key\u001B[38;5;132;01m}\u001B[39;00m\u001B[38;5;124m.\u001B[39m\u001B[38;5;132;01m{\u001B[39;00mhook_name\u001B[38;5;132;01m}\u001B[39;00m\u001B[38;5;124m\"\u001B[39m):\n\u001B[0;32m-> 1380\u001B[0m             \u001B[43mfn\u001B[49m\u001B[43m(\u001B[49m\u001B[38;5;28;43mself\u001B[39;49m\u001B[43m,\u001B[49m\u001B[43m \u001B[49m\u001B[38;5;28;43mself\u001B[39;49m\u001B[38;5;241;43m.\u001B[39;49m\u001B[43mlightning_module\u001B[49m\u001B[43m,\u001B[49m\u001B[43m \u001B[49m\u001B[38;5;241;43m*\u001B[39;49m\u001B[43margs\u001B[49m\u001B[43m,\u001B[49m\u001B[43m \u001B[49m\u001B[38;5;241;43m*\u001B[39;49m\u001B[38;5;241;43m*\u001B[39;49m\u001B[43mkwargs\u001B[49m\u001B[43m)\u001B[49m\n\u001B[1;32m   1382\u001B[0m \u001B[38;5;28;01mif\u001B[39;00m pl_module:\n\u001B[1;32m   1383\u001B[0m     \u001B[38;5;66;03m# restore current_fx when nested context\u001B[39;00m\n\u001B[1;32m   1384\u001B[0m     pl_module\u001B[38;5;241m.\u001B[39m_current_fx_name \u001B[38;5;241m=\u001B[39m prev_fx_name\n",
      "File \u001B[0;32m~/anaconda3/envs/energy/lib/python3.9/site-packages/pytorch_lightning/callbacks/lr_finder.py:122\u001B[0m, in \u001B[0;36mLearningRateFinder.on_fit_start\u001B[0;34m(self, trainer, pl_module)\u001B[0m\n\u001B[1;32m    121\u001B[0m \u001B[38;5;28;01mdef\u001B[39;00m \u001B[38;5;21mon_fit_start\u001B[39m(\u001B[38;5;28mself\u001B[39m, trainer: \u001B[38;5;124m\"\u001B[39m\u001B[38;5;124mpl.Trainer\u001B[39m\u001B[38;5;124m\"\u001B[39m, pl_module: \u001B[38;5;124m\"\u001B[39m\u001B[38;5;124mpl.LightningModule\u001B[39m\u001B[38;5;124m\"\u001B[39m) \u001B[38;5;241m-\u001B[39m\u001B[38;5;241m>\u001B[39m \u001B[38;5;28;01mNone\u001B[39;00m:\n\u001B[0;32m--> 122\u001B[0m     \u001B[38;5;28;43mself\u001B[39;49m\u001B[38;5;241;43m.\u001B[39;49m\u001B[43mlr_find\u001B[49m\u001B[43m(\u001B[49m\u001B[43mtrainer\u001B[49m\u001B[43m,\u001B[49m\u001B[43m \u001B[49m\u001B[43mpl_module\u001B[49m\u001B[43m)\u001B[49m\n",
      "File \u001B[0;32m~/anaconda3/envs/energy/lib/python3.9/site-packages/pytorch_lightning/callbacks/lr_finder.py:107\u001B[0m, in \u001B[0;36mLearningRateFinder.lr_find\u001B[0;34m(self, trainer, pl_module)\u001B[0m\n\u001B[1;32m    105\u001B[0m \u001B[38;5;28;01mdef\u001B[39;00m \u001B[38;5;21mlr_find\u001B[39m(\u001B[38;5;28mself\u001B[39m, trainer: \u001B[38;5;124m\"\u001B[39m\u001B[38;5;124mpl.Trainer\u001B[39m\u001B[38;5;124m\"\u001B[39m, pl_module: \u001B[38;5;124m\"\u001B[39m\u001B[38;5;124mpl.LightningModule\u001B[39m\u001B[38;5;124m\"\u001B[39m) \u001B[38;5;241m-\u001B[39m\u001B[38;5;241m>\u001B[39m \u001B[38;5;28;01mNone\u001B[39;00m:\n\u001B[1;32m    106\u001B[0m     \u001B[38;5;28;01mwith\u001B[39;00m isolate_rng():\n\u001B[0;32m--> 107\u001B[0m         \u001B[38;5;28mself\u001B[39m\u001B[38;5;241m.\u001B[39moptimal_lr \u001B[38;5;241m=\u001B[39m \u001B[43mlr_find\u001B[49m\u001B[43m(\u001B[49m\n\u001B[1;32m    108\u001B[0m \u001B[43m            \u001B[49m\u001B[43mtrainer\u001B[49m\u001B[43m,\u001B[49m\n\u001B[1;32m    109\u001B[0m \u001B[43m            \u001B[49m\u001B[43mpl_module\u001B[49m\u001B[43m,\u001B[49m\n\u001B[1;32m    110\u001B[0m \u001B[43m            \u001B[49m\u001B[43mmin_lr\u001B[49m\u001B[38;5;241;43m=\u001B[39;49m\u001B[38;5;28;43mself\u001B[39;49m\u001B[38;5;241;43m.\u001B[39;49m\u001B[43m_min_lr\u001B[49m\u001B[43m,\u001B[49m\n\u001B[1;32m    111\u001B[0m \u001B[43m            \u001B[49m\u001B[43mmax_lr\u001B[49m\u001B[38;5;241;43m=\u001B[39;49m\u001B[38;5;28;43mself\u001B[39;49m\u001B[38;5;241;43m.\u001B[39;49m\u001B[43m_max_lr\u001B[49m\u001B[43m,\u001B[49m\n\u001B[1;32m    112\u001B[0m \u001B[43m            \u001B[49m\u001B[43mnum_training\u001B[49m\u001B[38;5;241;43m=\u001B[39;49m\u001B[38;5;28;43mself\u001B[39;49m\u001B[38;5;241;43m.\u001B[39;49m\u001B[43m_num_training_steps\u001B[49m\u001B[43m,\u001B[49m\n\u001B[1;32m    113\u001B[0m \u001B[43m            \u001B[49m\u001B[43mmode\u001B[49m\u001B[38;5;241;43m=\u001B[39;49m\u001B[38;5;28;43mself\u001B[39;49m\u001B[38;5;241;43m.\u001B[39;49m\u001B[43m_mode\u001B[49m\u001B[43m,\u001B[49m\n\u001B[1;32m    114\u001B[0m \u001B[43m            \u001B[49m\u001B[43mearly_stop_threshold\u001B[49m\u001B[38;5;241;43m=\u001B[39;49m\u001B[38;5;28;43mself\u001B[39;49m\u001B[38;5;241;43m.\u001B[39;49m\u001B[43m_early_stop_threshold\u001B[49m\u001B[43m,\u001B[49m\n\u001B[1;32m    115\u001B[0m \u001B[43m            \u001B[49m\u001B[43mupdate_attr\u001B[49m\u001B[38;5;241;43m=\u001B[39;49m\u001B[38;5;28;43mself\u001B[39;49m\u001B[38;5;241;43m.\u001B[39;49m\u001B[43m_update_attr\u001B[49m\u001B[43m,\u001B[49m\n\u001B[1;32m    116\u001B[0m \u001B[43m        \u001B[49m\u001B[43m)\u001B[49m\n\u001B[1;32m    118\u001B[0m     \u001B[38;5;28;01mif\u001B[39;00m \u001B[38;5;28mself\u001B[39m\u001B[38;5;241m.\u001B[39m_early_exit:\n\u001B[1;32m    119\u001B[0m         \u001B[38;5;28;01mraise\u001B[39;00m _TunerExitException()\n",
      "File \u001B[0;32m~/anaconda3/envs/energy/lib/python3.9/site-packages/pytorch_lightning/tuner/lr_finder.py:266\u001B[0m, in \u001B[0;36mlr_find\u001B[0;34m(trainer, model, min_lr, max_lr, num_training, mode, early_stop_threshold, update_attr)\u001B[0m\n\u001B[1;32m    263\u001B[0m         log\u001B[38;5;241m.\u001B[39minfo(\u001B[38;5;124mf\u001B[39m\u001B[38;5;124m\"\u001B[39m\u001B[38;5;124mLearning rate set to \u001B[39m\u001B[38;5;132;01m{\u001B[39;00mlr\u001B[38;5;132;01m}\u001B[39;00m\u001B[38;5;124m\"\u001B[39m)\n\u001B[1;32m    265\u001B[0m \u001B[38;5;66;03m# Restore initial state of model\u001B[39;00m\n\u001B[0;32m--> 266\u001B[0m \u001B[43mtrainer\u001B[49m\u001B[38;5;241;43m.\u001B[39;49m\u001B[43m_checkpoint_connector\u001B[49m\u001B[38;5;241;43m.\u001B[39;49m\u001B[43mrestore\u001B[49m\u001B[43m(\u001B[49m\u001B[43mckpt_path\u001B[49m\u001B[43m)\u001B[49m\n\u001B[1;32m    267\u001B[0m trainer\u001B[38;5;241m.\u001B[39mstrategy\u001B[38;5;241m.\u001B[39mremove_checkpoint(ckpt_path)\n\u001B[1;32m    268\u001B[0m trainer\u001B[38;5;241m.\u001B[39mfit_loop\u001B[38;5;241m.\u001B[39mrestarting \u001B[38;5;241m=\u001B[39m \u001B[38;5;28;01mFalse\u001B[39;00m  \u001B[38;5;66;03m# reset restarting flag as checkpoint restoring sets it to True\u001B[39;00m\n",
      "File \u001B[0;32m~/anaconda3/envs/energy/lib/python3.9/site-packages/clearml/binding/frameworks/__init__.py:36\u001B[0m, in \u001B[0;36m_patched_call.<locals>._inner_patch\u001B[0;34m(*args, **kwargs)\u001B[0m\n\u001B[1;32m     34\u001B[0m     ret \u001B[38;5;241m=\u001B[39m patched_fn(original_fn, \u001B[38;5;241m*\u001B[39margs, \u001B[38;5;241m*\u001B[39m\u001B[38;5;241m*\u001B[39mkwargs)\n\u001B[1;32m     35\u001B[0m \u001B[38;5;28;01mexcept\u001B[39;00m \u001B[38;5;167;01mException\u001B[39;00m \u001B[38;5;28;01mas\u001B[39;00m ex:\n\u001B[0;32m---> 36\u001B[0m     \u001B[38;5;28;01mraise\u001B[39;00m ex\n\u001B[1;32m     37\u001B[0m \u001B[38;5;28;01mfinally\u001B[39;00m:\n\u001B[1;32m     38\u001B[0m     \u001B[38;5;28;01mtry\u001B[39;00m:\n",
      "File \u001B[0;32m~/anaconda3/envs/energy/lib/python3.9/site-packages/clearml/binding/frameworks/__init__.py:34\u001B[0m, in \u001B[0;36m_patched_call.<locals>._inner_patch\u001B[0;34m(*args, **kwargs)\u001B[0m\n\u001B[1;32m     32\u001B[0m ret \u001B[38;5;241m=\u001B[39m \u001B[38;5;28;01mNone\u001B[39;00m\n\u001B[1;32m     33\u001B[0m \u001B[38;5;28;01mtry\u001B[39;00m:\n\u001B[0;32m---> 34\u001B[0m     ret \u001B[38;5;241m=\u001B[39m \u001B[43mpatched_fn\u001B[49m\u001B[43m(\u001B[49m\u001B[43moriginal_fn\u001B[49m\u001B[43m,\u001B[49m\u001B[43m \u001B[49m\u001B[38;5;241;43m*\u001B[39;49m\u001B[43margs\u001B[49m\u001B[43m,\u001B[49m\u001B[43m \u001B[49m\u001B[38;5;241;43m*\u001B[39;49m\u001B[38;5;241;43m*\u001B[39;49m\u001B[43mkwargs\u001B[49m\u001B[43m)\u001B[49m\n\u001B[1;32m     35\u001B[0m \u001B[38;5;28;01mexcept\u001B[39;00m \u001B[38;5;167;01mException\u001B[39;00m \u001B[38;5;28;01mas\u001B[39;00m ex:\n\u001B[1;32m     36\u001B[0m     \u001B[38;5;28;01mraise\u001B[39;00m ex\n",
      "File \u001B[0;32m~/anaconda3/envs/energy/lib/python3.9/site-packages/clearml/binding/frameworks/pytorch_bind.py:273\u001B[0m, in \u001B[0;36mPatchPyTorchModelIO._load_from_obj\u001B[0;34m(original_fn, obj, f, *args, **kwargs)\u001B[0m\n\u001B[1;32m    270\u001B[0m     model \u001B[38;5;241m=\u001B[39m original_fn(obj, filename \u001B[38;5;129;01mor\u001B[39;00m f, \u001B[38;5;241m*\u001B[39margs, \u001B[38;5;241m*\u001B[39m\u001B[38;5;241m*\u001B[39mkwargs)\n\u001B[1;32m    271\u001B[0m \u001B[38;5;28;01melse\u001B[39;00m:\n\u001B[1;32m    272\u001B[0m     \u001B[38;5;66;03m# try to load model before registering, in case we fail\u001B[39;00m\n\u001B[0;32m--> 273\u001B[0m     model \u001B[38;5;241m=\u001B[39m \u001B[43moriginal_fn\u001B[49m\u001B[43m(\u001B[49m\u001B[43mobj\u001B[49m\u001B[43m,\u001B[49m\u001B[43m \u001B[49m\u001B[43mf\u001B[49m\u001B[43m,\u001B[49m\u001B[43m \u001B[49m\u001B[38;5;241;43m*\u001B[39;49m\u001B[43margs\u001B[49m\u001B[43m,\u001B[49m\u001B[43m \u001B[49m\u001B[38;5;241;43m*\u001B[39;49m\u001B[38;5;241;43m*\u001B[39;49m\u001B[43mkwargs\u001B[49m\u001B[43m)\u001B[49m\n\u001B[1;32m    274\u001B[0m     WeightsFileHandler\u001B[38;5;241m.\u001B[39mrestore_weights_file(\n\u001B[1;32m    275\u001B[0m         empty, filename, Framework\u001B[38;5;241m.\u001B[39mpytorch, PatchPyTorchModelIO\u001B[38;5;241m.\u001B[39m_current_task)\n\u001B[1;32m    277\u001B[0m \u001B[38;5;28;01mif\u001B[39;00m empty\u001B[38;5;241m.\u001B[39mtrains_in_model:\n\u001B[1;32m    278\u001B[0m     \u001B[38;5;66;03m# noinspection PyBroadException\u001B[39;00m\n",
      "File \u001B[0;32m~/anaconda3/envs/energy/lib/python3.9/site-packages/pytorch_lightning/trainer/connectors/checkpoint_connector.py:244\u001B[0m, in \u001B[0;36mCheckpointConnector.restore\u001B[0;34m(self, checkpoint_path)\u001B[0m\n\u001B[1;32m    241\u001B[0m \u001B[38;5;28mself\u001B[39m\u001B[38;5;241m.\u001B[39mrestore_callbacks()\n\u001B[1;32m    243\u001B[0m \u001B[38;5;66;03m# restore training state\u001B[39;00m\n\u001B[0;32m--> 244\u001B[0m \u001B[38;5;28;43mself\u001B[39;49m\u001B[38;5;241;43m.\u001B[39;49m\u001B[43mrestore_training_state\u001B[49m\u001B[43m(\u001B[49m\u001B[43m)\u001B[49m\n\u001B[1;32m    245\u001B[0m \u001B[38;5;28mself\u001B[39m\u001B[38;5;241m.\u001B[39mresume_end()\n",
      "File \u001B[0;32m~/anaconda3/envs/energy/lib/python3.9/site-packages/pytorch_lightning/trainer/connectors/checkpoint_connector.py:296\u001B[0m, in \u001B[0;36mCheckpointConnector.restore_training_state\u001B[0;34m(self)\u001B[0m\n\u001B[1;32m    293\u001B[0m \u001B[38;5;28;01massert\u001B[39;00m \u001B[38;5;28mself\u001B[39m\u001B[38;5;241m.\u001B[39mtrainer\u001B[38;5;241m.\u001B[39mstate\u001B[38;5;241m.\u001B[39mfn \u001B[38;5;129;01mis\u001B[39;00m \u001B[38;5;129;01mnot\u001B[39;00m \u001B[38;5;28;01mNone\u001B[39;00m\n\u001B[1;32m    294\u001B[0m \u001B[38;5;28;01mif\u001B[39;00m \u001B[38;5;28mself\u001B[39m\u001B[38;5;241m.\u001B[39mtrainer\u001B[38;5;241m.\u001B[39mstate\u001B[38;5;241m.\u001B[39mfn \u001B[38;5;241m==\u001B[39m TrainerFn\u001B[38;5;241m.\u001B[39mFITTING:\n\u001B[1;32m    295\u001B[0m     \u001B[38;5;66;03m# restore optimizers and schedulers state\u001B[39;00m\n\u001B[0;32m--> 296\u001B[0m     \u001B[38;5;28;43mself\u001B[39;49m\u001B[38;5;241;43m.\u001B[39;49m\u001B[43mrestore_optimizers_and_schedulers\u001B[49m\u001B[43m(\u001B[49m\u001B[43m)\u001B[49m\n",
      "File \u001B[0;32m~/anaconda3/envs/energy/lib/python3.9/site-packages/pytorch_lightning/trainer/connectors/checkpoint_connector.py:411\u001B[0m, in \u001B[0;36mCheckpointConnector.restore_optimizers_and_schedulers\u001B[0;34m(self)\u001B[0m\n\u001B[1;32m    406\u001B[0m     \u001B[38;5;28;01mif\u001B[39;00m \u001B[38;5;124m\"\u001B[39m\u001B[38;5;124moptimizer_states\u001B[39m\u001B[38;5;124m\"\u001B[39m \u001B[38;5;129;01mnot\u001B[39;00m \u001B[38;5;129;01min\u001B[39;00m \u001B[38;5;28mself\u001B[39m\u001B[38;5;241m.\u001B[39m_loaded_checkpoint:\n\u001B[1;32m    407\u001B[0m         \u001B[38;5;28;01mraise\u001B[39;00m \u001B[38;5;167;01mKeyError\u001B[39;00m(\n\u001B[1;32m    408\u001B[0m             \u001B[38;5;124m\"\u001B[39m\u001B[38;5;124mTrying to restore optimizer state but checkpoint contains only the model.\u001B[39m\u001B[38;5;124m\"\u001B[39m\n\u001B[1;32m    409\u001B[0m             \u001B[38;5;124m\"\u001B[39m\u001B[38;5;124m This is probably due to `ModelCheckpoint.save_weights_only` being set to `True`.\u001B[39m\u001B[38;5;124m\"\u001B[39m\n\u001B[1;32m    410\u001B[0m         )\n\u001B[0;32m--> 411\u001B[0m     \u001B[38;5;28;43mself\u001B[39;49m\u001B[38;5;241;43m.\u001B[39;49m\u001B[43mrestore_optimizers\u001B[49m\u001B[43m(\u001B[49m\u001B[43m)\u001B[49m\n\u001B[1;32m    413\u001B[0m \u001B[38;5;28;01mif\u001B[39;00m \u001B[38;5;124m\"\u001B[39m\u001B[38;5;124mlr_schedulers\u001B[39m\u001B[38;5;124m\"\u001B[39m \u001B[38;5;129;01mnot\u001B[39;00m \u001B[38;5;129;01min\u001B[39;00m \u001B[38;5;28mself\u001B[39m\u001B[38;5;241m.\u001B[39m_loaded_checkpoint:\n\u001B[1;32m    414\u001B[0m     \u001B[38;5;28;01mraise\u001B[39;00m \u001B[38;5;167;01mKeyError\u001B[39;00m(\n\u001B[1;32m    415\u001B[0m         \u001B[38;5;124m\"\u001B[39m\u001B[38;5;124mTrying to restore learning rate scheduler state but checkpoint contains only the model.\u001B[39m\u001B[38;5;124m\"\u001B[39m\n\u001B[1;32m    416\u001B[0m         \u001B[38;5;124m\"\u001B[39m\u001B[38;5;124m This is probably due to `ModelCheckpoint.save_weights_only` being set to `True`.\u001B[39m\u001B[38;5;124m\"\u001B[39m\n\u001B[1;32m    417\u001B[0m     )\n",
      "File \u001B[0;32m~/anaconda3/envs/energy/lib/python3.9/site-packages/pytorch_lightning/trainer/connectors/checkpoint_connector.py:426\u001B[0m, in \u001B[0;36mCheckpointConnector.restore_optimizers\u001B[0;34m(self)\u001B[0m\n\u001B[1;32m    423\u001B[0m     \u001B[38;5;28;01mreturn\u001B[39;00m\n\u001B[1;32m    425\u001B[0m \u001B[38;5;66;03m# restore the optimizers\u001B[39;00m\n\u001B[0;32m--> 426\u001B[0m \u001B[38;5;28;43mself\u001B[39;49m\u001B[38;5;241;43m.\u001B[39;49m\u001B[43mtrainer\u001B[49m\u001B[38;5;241;43m.\u001B[39;49m\u001B[43mstrategy\u001B[49m\u001B[38;5;241;43m.\u001B[39;49m\u001B[43mload_optimizer_state_dict\u001B[49m\u001B[43m(\u001B[49m\u001B[38;5;28;43mself\u001B[39;49m\u001B[38;5;241;43m.\u001B[39;49m\u001B[43m_loaded_checkpoint\u001B[49m\u001B[43m)\u001B[49m\n",
      "File \u001B[0;32m~/anaconda3/envs/energy/lib/python3.9/site-packages/pytorch_lightning/strategies/strategy.py:368\u001B[0m, in \u001B[0;36mStrategy.load_optimizer_state_dict\u001B[0;34m(self, checkpoint)\u001B[0m\n\u001B[1;32m    366\u001B[0m optimizer_states \u001B[38;5;241m=\u001B[39m checkpoint[\u001B[38;5;124m\"\u001B[39m\u001B[38;5;124moptimizer_states\u001B[39m\u001B[38;5;124m\"\u001B[39m]\n\u001B[1;32m    367\u001B[0m \u001B[38;5;28;01mfor\u001B[39;00m optimizer, opt_state \u001B[38;5;129;01min\u001B[39;00m \u001B[38;5;28mzip\u001B[39m(\u001B[38;5;28mself\u001B[39m\u001B[38;5;241m.\u001B[39moptimizers, optimizer_states):\n\u001B[0;32m--> 368\u001B[0m     \u001B[43moptimizer\u001B[49m\u001B[38;5;241;43m.\u001B[39;49m\u001B[43mload_state_dict\u001B[49m\u001B[43m(\u001B[49m\u001B[43mopt_state\u001B[49m\u001B[43m)\u001B[49m\n\u001B[1;32m    369\u001B[0m     _optimizer_to_device(optimizer, \u001B[38;5;28mself\u001B[39m\u001B[38;5;241m.\u001B[39mroot_device)\n",
      "File \u001B[0;32m~/anaconda3/envs/energy/lib/python3.9/site-packages/torch/optim/optimizer.py:244\u001B[0m, in \u001B[0;36mOptimizer.load_state_dict\u001B[0;34m(self, state_dict)\u001B[0m\n\u001B[1;32m    241\u001B[0m     \u001B[38;5;28;01mreturn\u001B[39;00m new_group\n\u001B[1;32m    242\u001B[0m param_groups \u001B[38;5;241m=\u001B[39m [\n\u001B[1;32m    243\u001B[0m     update_group(g, ng) \u001B[38;5;28;01mfor\u001B[39;00m g, ng \u001B[38;5;129;01min\u001B[39;00m \u001B[38;5;28mzip\u001B[39m(groups, saved_groups)]\n\u001B[0;32m--> 244\u001B[0m \u001B[38;5;28;43mself\u001B[39;49m\u001B[38;5;241;43m.\u001B[39;49m\u001B[43m__setstate__\u001B[49m\u001B[43m(\u001B[49m\u001B[43m{\u001B[49m\u001B[38;5;124;43m'\u001B[39;49m\u001B[38;5;124;43mstate\u001B[39;49m\u001B[38;5;124;43m'\u001B[39;49m\u001B[43m:\u001B[49m\u001B[43m \u001B[49m\u001B[43mstate\u001B[49m\u001B[43m,\u001B[49m\u001B[43m \u001B[49m\u001B[38;5;124;43m'\u001B[39;49m\u001B[38;5;124;43mparam_groups\u001B[39;49m\u001B[38;5;124;43m'\u001B[39;49m\u001B[43m:\u001B[49m\u001B[43m \u001B[49m\u001B[43mparam_groups\u001B[49m\u001B[43m}\u001B[49m\u001B[43m)\u001B[49m\n",
      "File \u001B[0;32m~/anaconda3/envs/energy/lib/python3.9/site-packages/pytorch_forecasting/optim.py:133\u001B[0m, in \u001B[0;36mRanger.__setstate__\u001B[0;34m(self, state)\u001B[0m\n\u001B[1;32m    131\u001B[0m \u001B[38;5;28;01mdef\u001B[39;00m \u001B[38;5;21m__setstate__\u001B[39m(\u001B[38;5;28mself\u001B[39m, state: \u001B[38;5;28mdict\u001B[39m) \u001B[38;5;241m-\u001B[39m\u001B[38;5;241m>\u001B[39m \u001B[38;5;28;01mNone\u001B[39;00m:\n\u001B[1;32m    132\u001B[0m     \u001B[38;5;28msuper\u001B[39m()\u001B[38;5;241m.\u001B[39m__setstate__(state)\n\u001B[0;32m--> 133\u001B[0m     \u001B[38;5;28mself\u001B[39m\u001B[38;5;241m.\u001B[39mradam_buffer \u001B[38;5;241m=\u001B[39m \u001B[43mstate\u001B[49m\u001B[43m[\u001B[49m\u001B[38;5;124;43m\"\u001B[39;49m\u001B[38;5;124;43mradam_buffer\u001B[39;49m\u001B[38;5;124;43m\"\u001B[39;49m\u001B[43m]\u001B[49m\n\u001B[1;32m    134\u001B[0m     \u001B[38;5;28mself\u001B[39m\u001B[38;5;241m.\u001B[39malpha \u001B[38;5;241m=\u001B[39m state[\u001B[38;5;124m\"\u001B[39m\u001B[38;5;124malpha\u001B[39m\u001B[38;5;124m\"\u001B[39m]\n\u001B[1;32m    135\u001B[0m     \u001B[38;5;28mself\u001B[39m\u001B[38;5;241m.\u001B[39mk \u001B[38;5;241m=\u001B[39m state[\u001B[38;5;124m\"\u001B[39m\u001B[38;5;124mk\u001B[39m\u001B[38;5;124m\"\u001B[39m]\n",
      "\u001B[0;31mKeyError\u001B[0m: 'radam_buffer'"
     ]
    }
   ],
   "source": [
    "res = trainer.tuner.lr_find(\n",
    "    tft,\n",
    "    train_dataloaders=train_dataloader,\n",
    "    val_dataloaders=val_dataloader,\n",
    "    max_lr=10.0,\n",
    "    min_lr=1e-6,\n",
    ")\n",
    "\n",
    "print(f\"suggested learning rate: {res.suggestion()}\")\n",
    "fig = res.plot(show=True, suggest=True)\n",
    "fig.show()"
   ],
   "metadata": {
    "collapsed": false,
    "pycharm": {
     "name": "#%%\n"
    }
   }
  },
  {
   "cell_type": "code",
   "execution_count": 16,
   "outputs": [
    {
     "name": "stderr",
     "output_type": "stream",
     "text": [
      "/home/kpavel/anaconda3/envs/energy/lib/python3.9/site-packages/pytorch_lightning/trainer/connectors/accelerator_connector.py:441: LightningDeprecationWarning:\n",
      "\n",
      "Setting `Trainer(gpus=1)` is deprecated in v1.7 and will be removed in v2.0. Please use `Trainer(accelerator='gpu', devices=1)` instead.\n",
      "\n",
      "GPU available: True (cuda), used: True\n",
      "TPU available: False, using: 0 TPU cores\n",
      "IPU available: False, using: 0 IPUs\n",
      "HPU available: False, using: 0 HPUs\n"
     ]
    },
    {
     "name": "stdout",
     "output_type": "stream",
     "text": [
      "Number of parameters in network: 15.8k\n"
     ]
    }
   ],
   "source": [
    "# configure network and trainer\n",
    "early_stop_callback = EarlyStopping(monitor=\"val_loss\", min_delta=1e-4, patience=10, verbose=False, mode=\"min\")\n",
    "lr_logger = LearningRateMonitor()  # log the learning rate\n",
    "logger = TensorBoardLogger(\"lightning_logs\")  # logging results to a tensorboard\n",
    "\n",
    "trainer = pl.Trainer(\n",
    "    max_epochs=30,\n",
    "    gpus=1,\n",
    "    enable_model_summary=True,\n",
    "    gradient_clip_val=0.1,\n",
    "    limit_train_batches=30,  # coment in for training, running valiation every 30 batches\n",
    "    # fast_dev_run=True,  # comment in to check that networkor dataset has no serious bugs\n",
    "    callbacks=[lr_logger, early_stop_callback],\n",
    "    logger=logger,\n",
    ")\n",
    "\n",
    "\n",
    "tft = TemporalFusionTransformer.from_dataset(\n",
    "    training,\n",
    "    learning_rate=0.03,\n",
    "    hidden_size=16,\n",
    "    attention_head_size=1,\n",
    "    dropout=0.1,\n",
    "    hidden_continuous_size=8,\n",
    "    output_size=7,  # 7 quantiles by default\n",
    "    loss=QuantileLoss(),\n",
    "    log_interval=10,  # uncomment for learning rate finder and otherwise, e.g. to 10 for logging every 10 batches\n",
    "    reduce_on_plateau_patience=4,\n",
    ")\n",
    "print(f\"Number of parameters in network: {tft.size()/1e3:.1f}k\")"
   ],
   "metadata": {
    "collapsed": false,
    "pycharm": {
     "name": "#%%\n"
    }
   }
  },
  {
   "cell_type": "code",
   "execution_count": 17,
   "outputs": [
    {
     "name": "stderr",
     "output_type": "stream",
     "text": [
      "LOCAL_RANK: 0 - CUDA_VISIBLE_DEVICES: [0]\n",
      "\n",
      "   | Name                               | Type                            | Params\n",
      "----------------------------------------------------------------------------------------\n",
      "0  | loss                               | QuantileLoss                    | 0     \n",
      "1  | logging_metrics                    | ModuleList                      | 0     \n",
      "2  | input_embeddings                   | MultiEmbedding                  | 0     \n",
      "3  | prescalers                         | ModuleDict                      | 32    \n",
      "4  | static_variable_selection          | VariableSelectionNetwork        | 528   \n",
      "5  | encoder_variable_selection         | VariableSelectionNetwork        | 528   \n",
      "6  | decoder_variable_selection         | VariableSelectionNetwork        | 528   \n",
      "7  | static_context_variable_selection  | GatedResidualNetwork            | 1.1 K \n",
      "8  | static_context_initial_hidden_lstm | GatedResidualNetwork            | 1.1 K \n",
      "9  | static_context_initial_cell_lstm   | GatedResidualNetwork            | 1.1 K \n",
      "10 | static_context_enrichment          | GatedResidualNetwork            | 1.1 K \n",
      "11 | lstm_encoder                       | LSTM                            | 2.2 K \n",
      "12 | lstm_decoder                       | LSTM                            | 2.2 K \n",
      "13 | post_lstm_gate_encoder             | GatedLinearUnit                 | 544   \n",
      "14 | post_lstm_add_norm_encoder         | AddNorm                         | 32    \n",
      "15 | static_enrichment                  | GatedResidualNetwork            | 1.4 K \n",
      "16 | multihead_attn                     | InterpretableMultiHeadAttention | 1.1 K \n",
      "17 | post_attn_gate_norm                | GateAddNorm                     | 576   \n",
      "18 | pos_wise_ff                        | GatedResidualNetwork            | 1.1 K \n",
      "19 | pre_output_gate_norm               | GateAddNorm                     | 576   \n",
      "20 | output_layer                       | Linear                          | 119   \n",
      "----------------------------------------------------------------------------------------\n",
      "15.8 K    Trainable params\n",
      "0         Non-trainable params\n",
      "15.8 K    Total params\n",
      "0.063     Total estimated model params size (MB)\n"
     ]
    },
    {
     "data": {
      "text/plain": "Sanity Checking: 0it [00:00, ?it/s]",
      "application/vnd.jupyter.widget-view+json": {
       "version_major": 2,
       "version_minor": 0,
       "model_id": "3d60e69b2d204304ba836d0dcc9cdcd4"
      }
     },
     "metadata": {},
     "output_type": "display_data"
    },
    {
     "data": {
      "text/plain": "Training: 0it [00:00, ?it/s]",
      "application/vnd.jupyter.widget-view+json": {
       "version_major": 2,
       "version_minor": 0,
       "model_id": "88c661339e98492099cae802ef8fdc84"
      }
     },
     "metadata": {},
     "output_type": "display_data"
    },
    {
     "data": {
      "text/plain": "Validation: 0it [00:00, ?it/s]",
      "application/vnd.jupyter.widget-view+json": {
       "version_major": 2,
       "version_minor": 0,
       "model_id": "4dd16cf0a09a4b5493c1cd4f7a6876dd"
      }
     },
     "metadata": {},
     "output_type": "display_data"
    },
    {
     "name": "stdout",
     "output_type": "stream",
     "text": [
      "2022-12-28 23:04:24,519 - clearml - WARNING - Failed decoding debug image [640, 480, 3]\n",
      "2022-12-28 23:04:24,521 - clearml - WARNING - Error: cannot reshape array of size 1 into shape (480,640,newaxis)\n",
      "2022-12-28 23:04:25,946 - clearml - WARNING - Failed decoding debug image [640, 480, 3]\n",
      "2022-12-28 23:04:25,949 - clearml - WARNING - Error: cannot reshape array of size 1 into shape (480,640,newaxis)\n",
      "2022-12-28 23:04:27,499 - clearml - WARNING - Failed decoding debug image [640, 480, 3]\n",
      "2022-12-28 23:04:27,501 - clearml - WARNING - Error: cannot reshape array of size 1 into shape (480,640,newaxis)\n",
      "2022-12-28 23:04:30,243 - clearml - WARNING - Failed decoding debug image [640, 480, 3]\n",
      "2022-12-28 23:04:30,245 - clearml - WARNING - Error: cannot reshape array of size 1 into shape (480,640,newaxis)\n",
      "2022-12-28 23:04:32,425 - clearml - WARNING - Failed decoding debug image [640, 480, 3]\n",
      "2022-12-28 23:04:32,428 - clearml - WARNING - Error: cannot reshape array of size 1 into shape (480,640,newaxis)\n",
      "2022-12-28 23:04:34,619 - clearml - WARNING - Failed decoding debug image [640, 480, 3]\n",
      "2022-12-28 23:04:34,621 - clearml - WARNING - Error: cannot reshape array of size 1 into shape (480,640,newaxis)\n",
      "2022-12-28 23:04:35,701 - clearml - WARNING - Failed decoding debug image [640, 480, 3]\n",
      "2022-12-28 23:04:35,703 - clearml - WARNING - Error: cannot reshape array of size 1 into shape (480,640,newaxis)\n",
      "2022-12-28 23:04:35,764 - clearml - WARNING - Failed decoding debug image [700, 225, 3]\n",
      "2022-12-28 23:04:35,765 - clearml - WARNING - Error: cannot reshape array of size 1 into shape (225,700,newaxis)\n",
      "2022-12-28 23:04:35,836 - clearml - WARNING - Failed decoding debug image [700, 225, 3]\n",
      "2022-12-28 23:04:35,839 - clearml - WARNING - Error: cannot reshape array of size 1 into shape (225,700,newaxis)\n",
      "2022-12-28 23:04:35,936 - clearml - WARNING - Failed decoding debug image [700, 225, 3]\n",
      "2022-12-28 23:04:35,937 - clearml - WARNING - Error: cannot reshape array of size 1 into shape (225,700,newaxis)\n",
      "2022-12-28 23:04:36,117 - clearml - WARNING - Failed decoding debug image [640, 480, 3]\n",
      "2022-12-28 23:04:36,119 - clearml - WARNING - Error: cannot reshape array of size 1 into shape (480,640,newaxis)\n",
      "2022-12-28 23:04:36,239 - clearml - WARNING - Failed decoding debug image [640, 480, 3]\n",
      "2022-12-28 23:04:36,241 - clearml - WARNING - Error: cannot reshape array of size 1 into shape (480,640,newaxis)\n"
     ]
    },
    {
     "data": {
      "text/plain": "Validation: 0it [00:00, ?it/s]",
      "application/vnd.jupyter.widget-view+json": {
       "version_major": 2,
       "version_minor": 0,
       "model_id": "53555ab941f647f0a42da288eb48f214"
      }
     },
     "metadata": {},
     "output_type": "display_data"
    },
    {
     "name": "stdout",
     "output_type": "stream",
     "text": [
      "2022-12-28 23:04:40,930 - clearml - WARNING - Failed decoding debug image [640, 480, 3]\n",
      "2022-12-28 23:04:40,931 - clearml - WARNING - Error: cannot reshape array of size 1 into shape (480,640,newaxis)\n",
      "2022-12-28 23:04:42,337 - clearml - WARNING - Failed decoding debug image [640, 480, 3]\n",
      "2022-12-28 23:04:42,338 - clearml - WARNING - Error: cannot reshape array of size 1 into shape (480,640,newaxis)\n",
      "2022-12-28 23:04:43,517 - clearml - WARNING - Failed decoding debug image [640, 480, 3]\n",
      "2022-12-28 23:04:43,518 - clearml - WARNING - Error: cannot reshape array of size 1 into shape (480,640,newaxis)\n",
      "2022-12-28 23:04:44,756 - clearml - WARNING - Failed decoding debug image [640, 480, 3]\n",
      "2022-12-28 23:04:44,757 - clearml - WARNING - Error: cannot reshape array of size 1 into shape (480,640,newaxis)\n",
      "2022-12-28 23:04:45,841 - clearml - WARNING - Failed decoding debug image [640, 480, 3]\n",
      "2022-12-28 23:04:45,843 - clearml - WARNING - Error: cannot reshape array of size 1 into shape (480,640,newaxis)\n",
      "2022-12-28 23:04:46,957 - clearml - WARNING - Failed decoding debug image [640, 480, 3]\n",
      "2022-12-28 23:04:46,959 - clearml - WARNING - Error: cannot reshape array of size 1 into shape (480,640,newaxis)\n",
      "2022-12-28 23:04:47,476 - clearml - WARNING - Failed decoding debug image [640, 480, 3]\n",
      "2022-12-28 23:04:47,478 - clearml - WARNING - Error: cannot reshape array of size 1 into shape (480,640,newaxis)\n",
      "2022-12-28 23:04:47,527 - clearml - WARNING - Failed decoding debug image [700, 225, 3]\n",
      "2022-12-28 23:04:47,529 - clearml - WARNING - Error: cannot reshape array of size 1 into shape (225,700,newaxis)\n",
      "2022-12-28 23:04:47,584 - clearml - WARNING - Failed decoding debug image [700, 225, 3]\n",
      "2022-12-28 23:04:47,585 - clearml - WARNING - Error: cannot reshape array of size 1 into shape (225,700,newaxis)\n",
      "2022-12-28 23:04:47,633 - clearml - WARNING - Failed decoding debug image [700, 225, 3]\n",
      "2022-12-28 23:04:47,634 - clearml - WARNING - Error: cannot reshape array of size 1 into shape (225,700,newaxis)\n",
      "2022-12-28 23:04:47,726 - clearml - WARNING - Failed decoding debug image [640, 480, 3]\n",
      "2022-12-28 23:04:47,727 - clearml - WARNING - Error: cannot reshape array of size 1 into shape (480,640,newaxis)\n",
      "2022-12-28 23:04:47,833 - clearml - WARNING - Failed decoding debug image [640, 480, 3]\n",
      "2022-12-28 23:04:47,834 - clearml - WARNING - Error: cannot reshape array of size 1 into shape (480,640,newaxis)\n"
     ]
    },
    {
     "data": {
      "text/plain": "Validation: 0it [00:00, ?it/s]",
      "application/vnd.jupyter.widget-view+json": {
       "version_major": 2,
       "version_minor": 0,
       "model_id": "5646f3583b96442db09b1de75256331b"
      }
     },
     "metadata": {},
     "output_type": "display_data"
    },
    {
     "name": "stdout",
     "output_type": "stream",
     "text": [
      "2022-12-28 23:04:52,710 - clearml - WARNING - Failed decoding debug image [640, 480, 3]\n",
      "2022-12-28 23:04:52,712 - clearml - WARNING - Error: cannot reshape array of size 1 into shape (480,640,newaxis)\n",
      "2022-12-28 23:04:54,121 - clearml - WARNING - Failed decoding debug image [640, 480, 3]\n",
      "2022-12-28 23:04:54,122 - clearml - WARNING - Error: cannot reshape array of size 1 into shape (480,640,newaxis)\n",
      "2022-12-28 23:04:55,972 - clearml - WARNING - Failed decoding debug image [640, 480, 3]\n",
      "2022-12-28 23:04:55,974 - clearml - WARNING - Error: cannot reshape array of size 1 into shape (480,640,newaxis)\n",
      "2022-12-28 23:04:57,778 - clearml - WARNING - Failed decoding debug image [640, 480, 3]\n",
      "2022-12-28 23:04:57,779 - clearml - WARNING - Error: cannot reshape array of size 1 into shape (480,640,newaxis)\n",
      "2022-12-28 23:04:59,652 - clearml - WARNING - Failed decoding debug image [640, 480, 3]\n",
      "2022-12-28 23:04:59,653 - clearml - WARNING - Error: cannot reshape array of size 1 into shape (480,640,newaxis)\n",
      "2022-12-28 23:05:01,468 - clearml - WARNING - Failed decoding debug image [640, 480, 3]\n",
      "2022-12-28 23:05:01,471 - clearml - WARNING - Error: cannot reshape array of size 1 into shape (480,640,newaxis)\n",
      "2022-12-28 23:05:02,479 - clearml - WARNING - Failed decoding debug image [640, 480, 3]\n",
      "2022-12-28 23:05:02,481 - clearml - WARNING - Error: cannot reshape array of size 1 into shape (480,640,newaxis)\n",
      "2022-12-28 23:05:02,566 - clearml - WARNING - Failed decoding debug image [700, 225, 3]\n",
      "2022-12-28 23:05:02,567 - clearml - WARNING - Error: cannot reshape array of size 1 into shape (225,700,newaxis)\n",
      "2022-12-28 23:05:02,653 - clearml - WARNING - Failed decoding debug image [700, 225, 3]\n",
      "2022-12-28 23:05:02,656 - clearml - WARNING - Error: cannot reshape array of size 1 into shape (225,700,newaxis)\n",
      "2022-12-28 23:05:02,736 - clearml - WARNING - Failed decoding debug image [700, 225, 3]\n",
      "2022-12-28 23:05:02,738 - clearml - WARNING - Error: cannot reshape array of size 1 into shape (225,700,newaxis)\n",
      "2022-12-28 23:05:02,936 - clearml - WARNING - Failed decoding debug image [640, 480, 3]\n",
      "2022-12-28 23:05:02,938 - clearml - WARNING - Error: cannot reshape array of size 1 into shape (480,640,newaxis)\n",
      "2022-12-28 23:05:03,134 - clearml - WARNING - Failed decoding debug image [640, 480, 3]\n",
      "2022-12-28 23:05:03,135 - clearml - WARNING - Error: cannot reshape array of size 1 into shape (480,640,newaxis)\n"
     ]
    },
    {
     "data": {
      "text/plain": "Validation: 0it [00:00, ?it/s]",
      "application/vnd.jupyter.widget-view+json": {
       "version_major": 2,
       "version_minor": 0,
       "model_id": "0e79926438514bc8904dc3b1ede4604a"
      }
     },
     "metadata": {},
     "output_type": "display_data"
    },
    {
     "name": "stdout",
     "output_type": "stream",
     "text": [
      "2022-12-28 23:05:07,406 - clearml - WARNING - Failed decoding debug image [640, 480, 3]\n",
      "2022-12-28 23:05:07,407 - clearml - WARNING - Error: cannot reshape array of size 1 into shape (480,640,newaxis)\n",
      "2022-12-28 23:05:09,184 - clearml - WARNING - Failed decoding debug image [640, 480, 3]\n",
      "2022-12-28 23:05:09,186 - clearml - WARNING - Error: cannot reshape array of size 1 into shape (480,640,newaxis)\n",
      "2022-12-28 23:05:11,064 - clearml - WARNING - Failed decoding debug image [640, 480, 3]\n",
      "2022-12-28 23:05:11,067 - clearml - WARNING - Error: cannot reshape array of size 1 into shape (480,640,newaxis)\n",
      "2022-12-28 23:05:12,900 - clearml - WARNING - Failed decoding debug image [640, 480, 3]\n",
      "2022-12-28 23:05:12,902 - clearml - WARNING - Error: cannot reshape array of size 1 into shape (480,640,newaxis)\n",
      "2022-12-28 23:05:14,521 - clearml - WARNING - Failed decoding debug image [640, 480, 3]\n",
      "2022-12-28 23:05:14,523 - clearml - WARNING - Error: cannot reshape array of size 1 into shape (480,640,newaxis)\n",
      "2022-12-28 23:05:15,792 - clearml - WARNING - Failed decoding debug image [640, 480, 3]\n",
      "2022-12-28 23:05:15,796 - clearml - WARNING - Error: cannot reshape array of size 1 into shape (480,640,newaxis)\n",
      "2022-12-28 23:05:16,340 - clearml - WARNING - Failed decoding debug image [640, 480, 3]\n",
      "2022-12-28 23:05:16,342 - clearml - WARNING - Error: cannot reshape array of size 1 into shape (480,640,newaxis)\n",
      "2022-12-28 23:05:16,429 - clearml - WARNING - Failed decoding debug image [700, 225, 3]\n",
      "2022-12-28 23:05:16,430 - clearml - WARNING - Error: cannot reshape array of size 1 into shape (225,700,newaxis)\n",
      "2022-12-28 23:05:16,479 - clearml - WARNING - Failed decoding debug image [700, 225, 3]\n",
      "2022-12-28 23:05:16,480 - clearml - WARNING - Error: cannot reshape array of size 1 into shape (225,700,newaxis)\n",
      "2022-12-28 23:05:16,537 - clearml - WARNING - Failed decoding debug image [700, 225, 3]\n",
      "2022-12-28 23:05:16,539 - clearml - WARNING - Error: cannot reshape array of size 1 into shape (225,700,newaxis)\n",
      "2022-12-28 23:05:16,685 - clearml - WARNING - Failed decoding debug image [640, 480, 3]\n",
      "2022-12-28 23:05:16,686 - clearml - WARNING - Error: cannot reshape array of size 1 into shape (480,640,newaxis)\n",
      "2022-12-28 23:05:16,856 - clearml - WARNING - Failed decoding debug image [640, 480, 3]\n",
      "2022-12-28 23:05:16,857 - clearml - WARNING - Error: cannot reshape array of size 1 into shape (480,640,newaxis)\n"
     ]
    },
    {
     "data": {
      "text/plain": "Validation: 0it [00:00, ?it/s]",
      "application/vnd.jupyter.widget-view+json": {
       "version_major": 2,
       "version_minor": 0,
       "model_id": "bbf02217e4934b208e04f5cccaf4b2b2"
      }
     },
     "metadata": {},
     "output_type": "display_data"
    },
    {
     "name": "stdout",
     "output_type": "stream",
     "text": [
      "2022-12-28 23:05:20,163 - clearml - WARNING - Failed decoding debug image [640, 480, 3]\n",
      "2022-12-28 23:05:20,167 - clearml - WARNING - Error: cannot reshape array of size 1 into shape (480,640,newaxis)\n",
      "2022-12-28 23:05:23,164 - clearml - WARNING - Failed decoding debug image [640, 480, 3]\n",
      "2022-12-28 23:05:23,168 - clearml - WARNING - Error: cannot reshape array of size 1 into shape (480,640,newaxis)\n",
      "2022-12-28 23:05:24,641 - clearml - WARNING - Failed decoding debug image [640, 480, 3]\n",
      "2022-12-28 23:05:24,643 - clearml - WARNING - Error: cannot reshape array of size 1 into shape (480,640,newaxis)\n",
      "2022-12-28 23:05:25,787 - clearml - WARNING - Failed decoding debug image [640, 480, 3]\n",
      "2022-12-28 23:05:25,788 - clearml - WARNING - Error: cannot reshape array of size 1 into shape (480,640,newaxis)\n",
      "2022-12-28 23:05:26,953 - clearml - WARNING - Failed decoding debug image [640, 480, 3]\n",
      "2022-12-28 23:05:26,955 - clearml - WARNING - Error: cannot reshape array of size 1 into shape (480,640,newaxis)\n",
      "2022-12-28 23:05:28,146 - clearml - WARNING - Failed decoding debug image [640, 480, 3]\n",
      "2022-12-28 23:05:28,148 - clearml - WARNING - Error: cannot reshape array of size 1 into shape (480,640,newaxis)\n",
      "2022-12-28 23:05:28,652 - clearml - WARNING - Failed decoding debug image [640, 480, 3]\n",
      "2022-12-28 23:05:28,653 - clearml - WARNING - Error: cannot reshape array of size 1 into shape (480,640,newaxis)\n",
      "2022-12-28 23:05:28,709 - clearml - WARNING - Failed decoding debug image [700, 225, 3]\n",
      "2022-12-28 23:05:28,711 - clearml - WARNING - Error: cannot reshape array of size 1 into shape (225,700,newaxis)\n",
      "2022-12-28 23:05:28,759 - clearml - WARNING - Failed decoding debug image [700, 225, 3]\n",
      "2022-12-28 23:05:28,761 - clearml - WARNING - Error: cannot reshape array of size 1 into shape (225,700,newaxis)\n",
      "2022-12-28 23:05:28,816 - clearml - WARNING - Failed decoding debug image [700, 225, 3]\n",
      "2022-12-28 23:05:28,818 - clearml - WARNING - Error: cannot reshape array of size 1 into shape (225,700,newaxis)\n",
      "2022-12-28 23:05:28,932 - clearml - WARNING - Failed decoding debug image [640, 480, 3]\n",
      "2022-12-28 23:05:28,934 - clearml - WARNING - Error: cannot reshape array of size 1 into shape (480,640,newaxis)\n",
      "2022-12-28 23:05:29,042 - clearml - WARNING - Failed decoding debug image [640, 480, 3]\n",
      "2022-12-28 23:05:29,044 - clearml - WARNING - Error: cannot reshape array of size 1 into shape (480,640,newaxis)\n"
     ]
    },
    {
     "data": {
      "text/plain": "Validation: 0it [00:00, ?it/s]",
      "application/vnd.jupyter.widget-view+json": {
       "version_major": 2,
       "version_minor": 0,
       "model_id": "a7db19f9d85242adbee221316d155480"
      }
     },
     "metadata": {},
     "output_type": "display_data"
    },
    {
     "name": "stdout",
     "output_type": "stream",
     "text": [
      "2022-12-28 23:05:33,049 - clearml - WARNING - Failed decoding debug image [640, 480, 3]\n",
      "2022-12-28 23:05:33,050 - clearml - WARNING - Error: cannot reshape array of size 1 into shape (480,640,newaxis)\n",
      "2022-12-28 23:05:34,266 - clearml - WARNING - Failed decoding debug image [640, 480, 3]\n",
      "2022-12-28 23:05:34,267 - clearml - WARNING - Error: cannot reshape array of size 1 into shape (480,640,newaxis)\n",
      "2022-12-28 23:05:35,464 - clearml - WARNING - Failed decoding debug image [640, 480, 3]\n",
      "2022-12-28 23:05:35,465 - clearml - WARNING - Error: cannot reshape array of size 1 into shape (480,640,newaxis)\n",
      "2022-12-28 23:05:36,604 - clearml - WARNING - Failed decoding debug image [640, 480, 3]\n",
      "2022-12-28 23:05:36,605 - clearml - WARNING - Error: cannot reshape array of size 1 into shape (480,640,newaxis)\n",
      "2022-12-28 23:05:37,732 - clearml - WARNING - Failed decoding debug image [640, 480, 3]\n",
      "2022-12-28 23:05:37,733 - clearml - WARNING - Error: cannot reshape array of size 1 into shape (480,640,newaxis)\n",
      "2022-12-28 23:05:38,985 - clearml - WARNING - Failed decoding debug image [640, 480, 3]\n",
      "2022-12-28 23:05:38,986 - clearml - WARNING - Error: cannot reshape array of size 1 into shape (480,640,newaxis)\n",
      "2022-12-28 23:05:39,614 - clearml - WARNING - Failed decoding debug image [640, 480, 3]\n",
      "2022-12-28 23:05:39,616 - clearml - WARNING - Error: cannot reshape array of size 1 into shape (480,640,newaxis)\n",
      "2022-12-28 23:05:39,671 - clearml - WARNING - Failed decoding debug image [700, 225, 3]\n",
      "2022-12-28 23:05:39,676 - clearml - WARNING - Error: cannot reshape array of size 1 into shape (225,700,newaxis)\n",
      "2022-12-28 23:05:39,730 - clearml - WARNING - Failed decoding debug image [700, 225, 3]\n",
      "2022-12-28 23:05:39,731 - clearml - WARNING - Error: cannot reshape array of size 1 into shape (225,700,newaxis)\n",
      "2022-12-28 23:05:39,794 - clearml - WARNING - Failed decoding debug image [700, 225, 3]\n",
      "2022-12-28 23:05:39,795 - clearml - WARNING - Error: cannot reshape array of size 1 into shape (225,700,newaxis)\n",
      "2022-12-28 23:05:39,935 - clearml - WARNING - Failed decoding debug image [640, 480, 3]\n",
      "2022-12-28 23:05:39,937 - clearml - WARNING - Error: cannot reshape array of size 1 into shape (480,640,newaxis)\n",
      "2022-12-28 23:05:40,068 - clearml - WARNING - Failed decoding debug image [640, 480, 3]\n",
      "2022-12-28 23:05:40,070 - clearml - WARNING - Error: cannot reshape array of size 1 into shape (480,640,newaxis)\n"
     ]
    },
    {
     "data": {
      "text/plain": "Validation: 0it [00:00, ?it/s]",
      "application/vnd.jupyter.widget-view+json": {
       "version_major": 2,
       "version_minor": 0,
       "model_id": "4a7ddb971bb8488b9112fedf01eeebbe"
      }
     },
     "metadata": {},
     "output_type": "display_data"
    },
    {
     "name": "stdout",
     "output_type": "stream",
     "text": [
      "2022-12-28 23:05:43,550 - clearml - WARNING - Failed decoding debug image [640, 480, 3]\n",
      "2022-12-28 23:05:43,552 - clearml - WARNING - Error: cannot reshape array of size 1 into shape (480,640,newaxis)\n",
      "2022-12-28 23:05:44,780 - clearml - WARNING - Failed decoding debug image [640, 480, 3]\n",
      "2022-12-28 23:05:44,782 - clearml - WARNING - Error: cannot reshape array of size 1 into shape (480,640,newaxis)\n",
      "2022-12-28 23:05:45,944 - clearml - WARNING - Failed decoding debug image [640, 480, 3]\n",
      "2022-12-28 23:05:45,946 - clearml - WARNING - Error: cannot reshape array of size 1 into shape (480,640,newaxis)\n",
      "2022-12-28 23:05:47,138 - clearml - WARNING - Failed decoding debug image [640, 480, 3]\n",
      "2022-12-28 23:05:47,141 - clearml - WARNING - Error: cannot reshape array of size 1 into shape (480,640,newaxis)\n",
      "2022-12-28 23:05:48,285 - clearml - WARNING - Failed decoding debug image [640, 480, 3]\n",
      "2022-12-28 23:05:48,286 - clearml - WARNING - Error: cannot reshape array of size 1 into shape (480,640,newaxis)\n",
      "2022-12-28 23:05:49,416 - clearml - WARNING - Failed decoding debug image [640, 480, 3]\n",
      "2022-12-28 23:05:49,418 - clearml - WARNING - Error: cannot reshape array of size 1 into shape (480,640,newaxis)\n",
      "2022-12-28 23:05:49,943 - clearml - WARNING - Failed decoding debug image [640, 480, 3]\n",
      "2022-12-28 23:05:49,946 - clearml - WARNING - Error: cannot reshape array of size 1 into shape (480,640,newaxis)\n",
      "2022-12-28 23:05:49,993 - clearml - WARNING - Failed decoding debug image [700, 225, 3]\n",
      "2022-12-28 23:05:49,995 - clearml - WARNING - Error: cannot reshape array of size 1 into shape (225,700,newaxis)\n",
      "2022-12-28 23:05:50,062 - clearml - WARNING - Failed decoding debug image [700, 225, 3]\n",
      "2022-12-28 23:05:50,063 - clearml - WARNING - Error: cannot reshape array of size 1 into shape (225,700,newaxis)\n",
      "2022-12-28 23:05:50,121 - clearml - WARNING - Failed decoding debug image [700, 225, 3]\n",
      "2022-12-28 23:05:50,122 - clearml - WARNING - Error: cannot reshape array of size 1 into shape (225,700,newaxis)\n",
      "2022-12-28 23:05:50,229 - clearml - WARNING - Failed decoding debug image [640, 480, 3]\n",
      "2022-12-28 23:05:50,231 - clearml - WARNING - Error: cannot reshape array of size 1 into shape (480,640,newaxis)\n",
      "2022-12-28 23:05:50,344 - clearml - WARNING - Failed decoding debug image [640, 480, 3]\n",
      "2022-12-28 23:05:50,346 - clearml - WARNING - Error: cannot reshape array of size 1 into shape (480,640,newaxis)\n"
     ]
    },
    {
     "data": {
      "text/plain": "Validation: 0it [00:00, ?it/s]",
      "application/vnd.jupyter.widget-view+json": {
       "version_major": 2,
       "version_minor": 0,
       "model_id": "d3dba3db843c47379f2a01b83a2b9f82"
      }
     },
     "metadata": {},
     "output_type": "display_data"
    },
    {
     "name": "stdout",
     "output_type": "stream",
     "text": [
      "2022-12-28 23:05:53,660 - clearml - WARNING - Failed decoding debug image [640, 480, 3]\n",
      "2022-12-28 23:05:53,662 - clearml - WARNING - Error: cannot reshape array of size 1 into shape (480,640,newaxis)\n",
      "2022-12-28 23:05:54,878 - clearml - WARNING - Failed decoding debug image [640, 480, 3]\n",
      "2022-12-28 23:05:54,879 - clearml - WARNING - Error: cannot reshape array of size 1 into shape (480,640,newaxis)\n",
      "2022-12-28 23:05:56,089 - clearml - WARNING - Failed decoding debug image [640, 480, 3]\n",
      "2022-12-28 23:05:56,090 - clearml - WARNING - Error: cannot reshape array of size 1 into shape (480,640,newaxis)\n",
      "2022-12-28 23:05:57,234 - clearml - WARNING - Failed decoding debug image [640, 480, 3]\n",
      "2022-12-28 23:05:57,235 - clearml - WARNING - Error: cannot reshape array of size 1 into shape (480,640,newaxis)\n",
      "2022-12-28 23:05:58,390 - clearml - WARNING - Failed decoding debug image [640, 480, 3]\n",
      "2022-12-28 23:05:58,393 - clearml - WARNING - Error: cannot reshape array of size 1 into shape (480,640,newaxis)\n",
      "2022-12-28 23:05:59,599 - clearml - WARNING - Failed decoding debug image [640, 480, 3]\n",
      "2022-12-28 23:05:59,600 - clearml - WARNING - Error: cannot reshape array of size 1 into shape (480,640,newaxis)\n",
      "2022-12-28 23:06:00,115 - clearml - WARNING - Failed decoding debug image [640, 480, 3]\n",
      "2022-12-28 23:06:00,117 - clearml - WARNING - Error: cannot reshape array of size 1 into shape (480,640,newaxis)\n",
      "2022-12-28 23:06:00,178 - clearml - WARNING - Failed decoding debug image [700, 225, 3]\n",
      "2022-12-28 23:06:00,182 - clearml - WARNING - Error: cannot reshape array of size 1 into shape (225,700,newaxis)\n",
      "2022-12-28 23:06:00,240 - clearml - WARNING - Failed decoding debug image [700, 225, 3]\n",
      "2022-12-28 23:06:00,241 - clearml - WARNING - Error: cannot reshape array of size 1 into shape (225,700,newaxis)\n",
      "2022-12-28 23:06:00,291 - clearml - WARNING - Failed decoding debug image [700, 225, 3]\n",
      "2022-12-28 23:06:00,293 - clearml - WARNING - Error: cannot reshape array of size 1 into shape (225,700,newaxis)\n",
      "2022-12-28 23:06:00,393 - clearml - WARNING - Failed decoding debug image [640, 480, 3]\n",
      "2022-12-28 23:06:00,395 - clearml - WARNING - Error: cannot reshape array of size 1 into shape (480,640,newaxis)\n",
      "2022-12-28 23:06:00,959 - clearml - WARNING - Failed decoding debug image [640, 480, 3]\n",
      "2022-12-28 23:06:00,961 - clearml - WARNING - Error: cannot reshape array of size 1 into shape (480,640,newaxis)\n"
     ]
    },
    {
     "data": {
      "text/plain": "Validation: 0it [00:00, ?it/s]",
      "application/vnd.jupyter.widget-view+json": {
       "version_major": 2,
       "version_minor": 0,
       "model_id": "87203a48421c418990500fb3941f1914"
      }
     },
     "metadata": {},
     "output_type": "display_data"
    },
    {
     "name": "stdout",
     "output_type": "stream",
     "text": [
      "2022-12-28 23:06:04,171 - clearml - WARNING - Failed decoding debug image [640, 480, 3]\n",
      "2022-12-28 23:06:04,174 - clearml - WARNING - Error: cannot reshape array of size 1 into shape (480,640,newaxis)\n",
      "2022-12-28 23:06:05,498 - clearml - WARNING - Failed decoding debug image [640, 480, 3]\n",
      "2022-12-28 23:06:05,499 - clearml - WARNING - Error: cannot reshape array of size 1 into shape (480,640,newaxis)\n",
      "2022-12-28 23:06:06,766 - clearml - WARNING - Failed decoding debug image [640, 480, 3]\n",
      "2022-12-28 23:06:06,768 - clearml - WARNING - Error: cannot reshape array of size 1 into shape (480,640,newaxis)\n",
      "2022-12-28 23:06:08,017 - clearml - WARNING - Failed decoding debug image [640, 480, 3]\n",
      "2022-12-28 23:06:08,018 - clearml - WARNING - Error: cannot reshape array of size 1 into shape (480,640,newaxis)\n",
      "2022-12-28 23:06:09,183 - clearml - WARNING - Failed decoding debug image [640, 480, 3]\n",
      "2022-12-28 23:06:09,185 - clearml - WARNING - Error: cannot reshape array of size 1 into shape (480,640,newaxis)\n",
      "2022-12-28 23:06:10,386 - clearml - WARNING - Failed decoding debug image [640, 480, 3]\n",
      "2022-12-28 23:06:10,388 - clearml - WARNING - Error: cannot reshape array of size 1 into shape (480,640,newaxis)\n",
      "2022-12-28 23:06:11,096 - clearml - WARNING - Failed decoding debug image [640, 480, 3]\n",
      "2022-12-28 23:06:11,097 - clearml - WARNING - Error: cannot reshape array of size 1 into shape (480,640,newaxis)\n",
      "2022-12-28 23:06:11,218 - clearml - WARNING - Failed decoding debug image [700, 225, 3]\n",
      "2022-12-28 23:06:11,220 - clearml - WARNING - Error: cannot reshape array of size 1 into shape (225,700,newaxis)\n",
      "2022-12-28 23:06:11,306 - clearml - WARNING - Failed decoding debug image [700, 225, 3]\n",
      "2022-12-28 23:06:11,309 - clearml - WARNING - Error: cannot reshape array of size 1 into shape (225,700,newaxis)\n",
      "2022-12-28 23:06:11,397 - clearml - WARNING - Failed decoding debug image [700, 225, 3]\n",
      "2022-12-28 23:06:11,399 - clearml - WARNING - Error: cannot reshape array of size 1 into shape (225,700,newaxis)\n",
      "2022-12-28 23:06:11,611 - clearml - WARNING - Failed decoding debug image [640, 480, 3]\n",
      "2022-12-28 23:06:11,613 - clearml - WARNING - Error: cannot reshape array of size 1 into shape (480,640,newaxis)\n",
      "2022-12-28 23:06:11,827 - clearml - WARNING - Failed decoding debug image [640, 480, 3]\n",
      "2022-12-28 23:06:11,829 - clearml - WARNING - Error: cannot reshape array of size 1 into shape (480,640,newaxis)\n"
     ]
    },
    {
     "data": {
      "text/plain": "Validation: 0it [00:00, ?it/s]",
      "application/vnd.jupyter.widget-view+json": {
       "version_major": 2,
       "version_minor": 0,
       "model_id": "4688e41765fa402792a35e13467237e6"
      }
     },
     "metadata": {},
     "output_type": "display_data"
    },
    {
     "name": "stdout",
     "output_type": "stream",
     "text": [
      "2022-12-28 23:06:15,076 - clearml - WARNING - Failed decoding debug image [640, 480, 3]\n",
      "2022-12-28 23:06:15,078 - clearml - WARNING - Error: cannot reshape array of size 1 into shape (480,640,newaxis)\n",
      "2022-12-28 23:06:16,347 - clearml - WARNING - Failed decoding debug image [640, 480, 3]\n",
      "2022-12-28 23:06:16,349 - clearml - WARNING - Error: cannot reshape array of size 1 into shape (480,640,newaxis)\n",
      "2022-12-28 23:06:17,568 - clearml - WARNING - Failed decoding debug image [640, 480, 3]\n",
      "2022-12-28 23:06:17,569 - clearml - WARNING - Error: cannot reshape array of size 1 into shape (480,640,newaxis)\n",
      "2022-12-28 23:06:18,705 - clearml - WARNING - Failed decoding debug image [640, 480, 3]\n",
      "2022-12-28 23:06:18,707 - clearml - WARNING - Error: cannot reshape array of size 1 into shape (480,640,newaxis)\n",
      "2022-12-28 23:06:19,836 - clearml - WARNING - Failed decoding debug image [640, 480, 3]\n",
      "2022-12-28 23:06:19,838 - clearml - WARNING - Error: cannot reshape array of size 1 into shape (480,640,newaxis)\n",
      "2022-12-28 23:06:21,121 - clearml - WARNING - Failed decoding debug image [640, 480, 3]\n",
      "2022-12-28 23:06:21,123 - clearml - WARNING - Error: cannot reshape array of size 1 into shape (480,640,newaxis)\n",
      "2022-12-28 23:06:21,814 - clearml - WARNING - Failed decoding debug image [640, 480, 3]\n",
      "2022-12-28 23:06:21,816 - clearml - WARNING - Error: cannot reshape array of size 1 into shape (480,640,newaxis)\n",
      "2022-12-28 23:06:21,916 - clearml - WARNING - Failed decoding debug image [700, 225, 3]\n",
      "2022-12-28 23:06:21,918 - clearml - WARNING - Error: cannot reshape array of size 1 into shape (225,700,newaxis)\n",
      "2022-12-28 23:06:22,005 - clearml - WARNING - Failed decoding debug image [700, 225, 3]\n",
      "2022-12-28 23:06:22,007 - clearml - WARNING - Error: cannot reshape array of size 1 into shape (225,700,newaxis)\n",
      "2022-12-28 23:06:22,090 - clearml - WARNING - Failed decoding debug image [700, 225, 3]\n",
      "2022-12-28 23:06:22,092 - clearml - WARNING - Error: cannot reshape array of size 1 into shape (225,700,newaxis)\n",
      "2022-12-28 23:06:22,305 - clearml - WARNING - Failed decoding debug image [640, 480, 3]\n",
      "2022-12-28 23:06:22,307 - clearml - WARNING - Error: cannot reshape array of size 1 into shape (480,640,newaxis)\n",
      "2022-12-28 23:06:22,440 - clearml - WARNING - Failed decoding debug image [640, 480, 3]\n",
      "2022-12-28 23:06:22,443 - clearml - WARNING - Error: cannot reshape array of size 1 into shape (480,640,newaxis)\n"
     ]
    },
    {
     "data": {
      "text/plain": "Validation: 0it [00:00, ?it/s]",
      "application/vnd.jupyter.widget-view+json": {
       "version_major": 2,
       "version_minor": 0,
       "model_id": "4ab5d0e7354945a1a4b7ffd6979353c8"
      }
     },
     "metadata": {},
     "output_type": "display_data"
    },
    {
     "name": "stdout",
     "output_type": "stream",
     "text": [
      "2022-12-28 23:06:26,289 - clearml - WARNING - Failed decoding debug image [640, 480, 3]\n",
      "2022-12-28 23:06:26,291 - clearml - WARNING - Error: cannot reshape array of size 1 into shape (480,640,newaxis)\n",
      "2022-12-28 23:06:27,654 - clearml - WARNING - Failed decoding debug image [640, 480, 3]\n",
      "2022-12-28 23:06:27,655 - clearml - WARNING - Error: cannot reshape array of size 1 into shape (480,640,newaxis)\n",
      "2022-12-28 23:06:28,825 - clearml - WARNING - Failed decoding debug image [640, 480, 3]\n",
      "2022-12-28 23:06:28,826 - clearml - WARNING - Error: cannot reshape array of size 1 into shape (480,640,newaxis)\n",
      "2022-12-28 23:06:30,002 - clearml - WARNING - Failed decoding debug image [640, 480, 3]\n",
      "2022-12-28 23:06:30,004 - clearml - WARNING - Error: cannot reshape array of size 1 into shape (480,640,newaxis)\n",
      "2022-12-28 23:06:31,518 - clearml - WARNING - Failed decoding debug image [640, 480, 3]\n",
      "2022-12-28 23:06:31,520 - clearml - WARNING - Error: cannot reshape array of size 1 into shape (480,640,newaxis)\n",
      "2022-12-28 23:06:32,889 - clearml - WARNING - Failed decoding debug image [640, 480, 3]\n",
      "2022-12-28 23:06:32,890 - clearml - WARNING - Error: cannot reshape array of size 1 into shape (480,640,newaxis)\n",
      "2022-12-28 23:06:33,432 - clearml - WARNING - Failed decoding debug image [640, 480, 3]\n",
      "2022-12-28 23:06:33,434 - clearml - WARNING - Error: cannot reshape array of size 1 into shape (480,640,newaxis)\n",
      "2022-12-28 23:06:33,502 - clearml - WARNING - Failed decoding debug image [700, 225, 3]\n",
      "2022-12-28 23:06:33,503 - clearml - WARNING - Error: cannot reshape array of size 1 into shape (225,700,newaxis)\n",
      "2022-12-28 23:06:33,569 - clearml - WARNING - Failed decoding debug image [700, 225, 3]\n",
      "2022-12-28 23:06:33,571 - clearml - WARNING - Error: cannot reshape array of size 1 into shape (225,700,newaxis)\n",
      "2022-12-28 23:06:33,634 - clearml - WARNING - Failed decoding debug image [700, 225, 3]\n",
      "2022-12-28 23:06:33,635 - clearml - WARNING - Error: cannot reshape array of size 1 into shape (225,700,newaxis)\n",
      "2022-12-28 23:06:33,755 - clearml - WARNING - Failed decoding debug image [640, 480, 3]\n",
      "2022-12-28 23:06:33,757 - clearml - WARNING - Error: cannot reshape array of size 1 into shape (480,640,newaxis)\n",
      "2022-12-28 23:06:33,874 - clearml - WARNING - Failed decoding debug image [640, 480, 3]\n",
      "2022-12-28 23:06:33,875 - clearml - WARNING - Error: cannot reshape array of size 1 into shape (480,640,newaxis)\n"
     ]
    },
    {
     "data": {
      "text/plain": "Validation: 0it [00:00, ?it/s]",
      "application/vnd.jupyter.widget-view+json": {
       "version_major": 2,
       "version_minor": 0,
       "model_id": "95e2adb5f79546158d20c870274f1d14"
      }
     },
     "metadata": {},
     "output_type": "display_data"
    },
    {
     "name": "stdout",
     "output_type": "stream",
     "text": [
      "2022-12-28 23:06:36,860 - clearml - WARNING - Failed decoding debug image [640, 480, 3]\n",
      "2022-12-28 23:06:36,862 - clearml - WARNING - Error: cannot reshape array of size 1 into shape (480,640,newaxis)\n",
      "2022-12-28 23:06:38,116 - clearml - WARNING - Failed decoding debug image [640, 480, 3]\n",
      "2022-12-28 23:06:38,117 - clearml - WARNING - Error: cannot reshape array of size 1 into shape (480,640,newaxis)\n",
      "2022-12-28 23:06:39,391 - clearml - WARNING - Failed decoding debug image [640, 480, 3]\n",
      "2022-12-28 23:06:39,392 - clearml - WARNING - Error: cannot reshape array of size 1 into shape (480,640,newaxis)\n",
      "2022-12-28 23:06:40,619 - clearml - WARNING - Failed decoding debug image [640, 480, 3]\n",
      "2022-12-28 23:06:40,621 - clearml - WARNING - Error: cannot reshape array of size 1 into shape (480,640,newaxis)\n",
      "2022-12-28 23:06:42,316 - clearml - WARNING - Failed decoding debug image [640, 480, 3]\n",
      "2022-12-28 23:06:42,318 - clearml - WARNING - Error: cannot reshape array of size 1 into shape (480,640,newaxis)\n",
      "2022-12-28 23:06:43,960 - clearml - WARNING - Failed decoding debug image [640, 480, 3]\n",
      "2022-12-28 23:06:43,962 - clearml - WARNING - Error: cannot reshape array of size 1 into shape (480,640,newaxis)\n",
      "2022-12-28 23:06:44,524 - clearml - WARNING - Failed decoding debug image [640, 480, 3]\n",
      "2022-12-28 23:06:44,527 - clearml - WARNING - Error: cannot reshape array of size 1 into shape (480,640,newaxis)\n",
      "2022-12-28 23:06:44,622 - clearml - WARNING - Failed decoding debug image [700, 225, 3]\n",
      "2022-12-28 23:06:44,623 - clearml - WARNING - Error: cannot reshape array of size 1 into shape (225,700,newaxis)\n",
      "2022-12-28 23:06:44,681 - clearml - WARNING - Failed decoding debug image [700, 225, 3]\n",
      "2022-12-28 23:06:44,684 - clearml - WARNING - Error: cannot reshape array of size 1 into shape (225,700,newaxis)\n",
      "2022-12-28 23:06:44,737 - clearml - WARNING - Failed decoding debug image [700, 225, 3]\n",
      "2022-12-28 23:06:44,738 - clearml - WARNING - Error: cannot reshape array of size 1 into shape (225,700,newaxis)\n",
      "2022-12-28 23:06:44,878 - clearml - WARNING - Failed decoding debug image [640, 480, 3]\n",
      "2022-12-28 23:06:44,879 - clearml - WARNING - Error: cannot reshape array of size 1 into shape (480,640,newaxis)\n",
      "2022-12-28 23:06:45,007 - clearml - WARNING - Failed decoding debug image [640, 480, 3]\n",
      "2022-12-28 23:06:45,009 - clearml - WARNING - Error: cannot reshape array of size 1 into shape (480,640,newaxis)\n"
     ]
    },
    {
     "data": {
      "text/plain": "Validation: 0it [00:00, ?it/s]",
      "application/vnd.jupyter.widget-view+json": {
       "version_major": 2,
       "version_minor": 0,
       "model_id": "d747b26038bb4f21b05a17bedfafb76c"
      }
     },
     "metadata": {},
     "output_type": "display_data"
    },
    {
     "name": "stdout",
     "output_type": "stream",
     "text": [
      "2022-12-28 23:06:47,976 - clearml - WARNING - Failed decoding debug image [640, 480, 3]\n",
      "2022-12-28 23:06:47,977 - clearml - WARNING - Error: cannot reshape array of size 1 into shape (480,640,newaxis)\n",
      "2022-12-28 23:06:49,232 - clearml - WARNING - Failed decoding debug image [640, 480, 3]\n",
      "2022-12-28 23:06:49,234 - clearml - WARNING - Error: cannot reshape array of size 1 into shape (480,640,newaxis)\n",
      "2022-12-28 23:06:50,444 - clearml - WARNING - Failed decoding debug image [640, 480, 3]\n",
      "2022-12-28 23:06:50,446 - clearml - WARNING - Error: cannot reshape array of size 1 into shape (480,640,newaxis)\n",
      "2022-12-28 23:06:52,262 - clearml - WARNING - Failed decoding debug image [640, 480, 3]\n",
      "2022-12-28 23:06:52,264 - clearml - WARNING - Error: cannot reshape array of size 1 into shape (480,640,newaxis)\n",
      "2022-12-28 23:06:53,555 - clearml - WARNING - Failed decoding debug image [640, 480, 3]\n",
      "2022-12-28 23:06:53,557 - clearml - WARNING - Error: cannot reshape array of size 1 into shape (480,640,newaxis)\n",
      "2022-12-28 23:06:54,768 - clearml - WARNING - Failed decoding debug image [640, 480, 3]\n",
      "2022-12-28 23:06:54,770 - clearml - WARNING - Error: cannot reshape array of size 1 into shape (480,640,newaxis)\n",
      "2022-12-28 23:06:55,315 - clearml - WARNING - Failed decoding debug image [640, 480, 3]\n",
      "2022-12-28 23:06:55,316 - clearml - WARNING - Error: cannot reshape array of size 1 into shape (480,640,newaxis)\n",
      "2022-12-28 23:06:55,385 - clearml - WARNING - Failed decoding debug image [700, 225, 3]\n",
      "2022-12-28 23:06:55,386 - clearml - WARNING - Error: cannot reshape array of size 1 into shape (225,700,newaxis)\n",
      "2022-12-28 23:06:55,443 - clearml - WARNING - Failed decoding debug image [700, 225, 3]\n",
      "2022-12-28 23:06:55,444 - clearml - WARNING - Error: cannot reshape array of size 1 into shape (225,700,newaxis)\n",
      "2022-12-28 23:06:55,520 - clearml - WARNING - Failed decoding debug image [700, 225, 3]\n",
      "2022-12-28 23:06:55,522 - clearml - WARNING - Error: cannot reshape array of size 1 into shape (225,700,newaxis)\n",
      "2022-12-28 23:06:55,625 - clearml - WARNING - Failed decoding debug image [640, 480, 3]\n",
      "2022-12-28 23:06:55,627 - clearml - WARNING - Error: cannot reshape array of size 1 into shape (480,640,newaxis)\n",
      "2022-12-28 23:06:55,764 - clearml - WARNING - Failed decoding debug image [640, 480, 3]\n",
      "2022-12-28 23:06:55,766 - clearml - WARNING - Error: cannot reshape array of size 1 into shape (480,640,newaxis)\n"
     ]
    },
    {
     "data": {
      "text/plain": "Validation: 0it [00:00, ?it/s]",
      "application/vnd.jupyter.widget-view+json": {
       "version_major": 2,
       "version_minor": 0,
       "model_id": "136b7876a1d04674a6d1579188d49d27"
      }
     },
     "metadata": {},
     "output_type": "display_data"
    },
    {
     "name": "stdout",
     "output_type": "stream",
     "text": [
      "2022-12-28 23:06:59,006 - clearml - WARNING - Failed decoding debug image [640, 480, 3]\n",
      "2022-12-28 23:06:59,010 - clearml - WARNING - Error: cannot reshape array of size 1 into shape (480,640,newaxis)\n",
      "2022-12-28 23:07:00,219 - clearml - WARNING - Failed decoding debug image [640, 480, 3]\n",
      "2022-12-28 23:07:00,220 - clearml - WARNING - Error: cannot reshape array of size 1 into shape (480,640,newaxis)\n",
      "2022-12-28 23:07:01,899 - clearml - WARNING - Failed decoding debug image [640, 480, 3]\n",
      "2022-12-28 23:07:01,900 - clearml - WARNING - Error: cannot reshape array of size 1 into shape (480,640,newaxis)\n",
      "2022-12-28 23:07:03,150 - clearml - WARNING - Failed decoding debug image [640, 480, 3]\n",
      "2022-12-28 23:07:03,152 - clearml - WARNING - Error: cannot reshape array of size 1 into shape (480,640,newaxis)\n",
      "2022-12-28 23:07:04,394 - clearml - WARNING - Failed decoding debug image [640, 480, 3]\n",
      "2022-12-28 23:07:04,396 - clearml - WARNING - Error: cannot reshape array of size 1 into shape (480,640,newaxis)\n",
      "2022-12-28 23:07:05,629 - clearml - WARNING - Failed decoding debug image [640, 480, 3]\n",
      "2022-12-28 23:07:05,631 - clearml - WARNING - Error: cannot reshape array of size 1 into shape (480,640,newaxis)\n",
      "2022-12-28 23:07:06,177 - clearml - WARNING - Failed decoding debug image [640, 480, 3]\n",
      "2022-12-28 23:07:06,180 - clearml - WARNING - Error: cannot reshape array of size 1 into shape (480,640,newaxis)\n",
      "2022-12-28 23:07:06,250 - clearml - WARNING - Failed decoding debug image [700, 225, 3]\n",
      "2022-12-28 23:07:06,252 - clearml - WARNING - Error: cannot reshape array of size 1 into shape (225,700,newaxis)\n",
      "2022-12-28 23:07:06,304 - clearml - WARNING - Failed decoding debug image [700, 225, 3]\n",
      "2022-12-28 23:07:06,305 - clearml - WARNING - Error: cannot reshape array of size 1 into shape (225,700,newaxis)\n",
      "2022-12-28 23:07:06,359 - clearml - WARNING - Failed decoding debug image [700, 225, 3]\n",
      "2022-12-28 23:07:06,360 - clearml - WARNING - Error: cannot reshape array of size 1 into shape (225,700,newaxis)\n",
      "2022-12-28 23:07:06,469 - clearml - WARNING - Failed decoding debug image [640, 480, 3]\n",
      "2022-12-28 23:07:06,470 - clearml - WARNING - Error: cannot reshape array of size 1 into shape (480,640,newaxis)\n",
      "2022-12-28 23:07:06,602 - clearml - WARNING - Failed decoding debug image [640, 480, 3]\n",
      "2022-12-28 23:07:06,603 - clearml - WARNING - Error: cannot reshape array of size 1 into shape (480,640,newaxis)\n"
     ]
    },
    {
     "data": {
      "text/plain": "Validation: 0it [00:00, ?it/s]",
      "application/vnd.jupyter.widget-view+json": {
       "version_major": 2,
       "version_minor": 0,
       "model_id": "b61d0ca0f85a4775a48531ff86895710"
      }
     },
     "metadata": {},
     "output_type": "display_data"
    },
    {
     "name": "stdout",
     "output_type": "stream",
     "text": [
      "2022-12-28 23:07:09,689 - clearml - WARNING - Failed decoding debug image [640, 480, 3]\n",
      "2022-12-28 23:07:09,690 - clearml - WARNING - Error: cannot reshape array of size 1 into shape (480,640,newaxis)\n",
      "2022-12-28 23:07:11,167 - clearml - WARNING - Failed decoding debug image [640, 480, 3]\n",
      "2022-12-28 23:07:11,170 - clearml - WARNING - Error: cannot reshape array of size 1 into shape (480,640,newaxis)\n",
      "2022-12-28 23:07:12,873 - clearml - WARNING - Failed decoding debug image [640, 480, 3]\n",
      "2022-12-28 23:07:12,874 - clearml - WARNING - Error: cannot reshape array of size 1 into shape (480,640,newaxis)\n",
      "2022-12-28 23:07:14,048 - clearml - WARNING - Failed decoding debug image [640, 480, 3]\n",
      "2022-12-28 23:07:14,049 - clearml - WARNING - Error: cannot reshape array of size 1 into shape (480,640,newaxis)\n",
      "2022-12-28 23:07:15,264 - clearml - WARNING - Failed decoding debug image [640, 480, 3]\n",
      "2022-12-28 23:07:15,265 - clearml - WARNING - Error: cannot reshape array of size 1 into shape (480,640,newaxis)\n",
      "2022-12-28 23:07:16,417 - clearml - WARNING - Failed decoding debug image [640, 480, 3]\n",
      "2022-12-28 23:07:16,418 - clearml - WARNING - Error: cannot reshape array of size 1 into shape (480,640,newaxis)\n",
      "2022-12-28 23:07:16,979 - clearml - WARNING - Failed decoding debug image [640, 480, 3]\n",
      "2022-12-28 23:07:16,980 - clearml - WARNING - Error: cannot reshape array of size 1 into shape (480,640,newaxis)\n",
      "2022-12-28 23:07:17,048 - clearml - WARNING - Failed decoding debug image [700, 225, 3]\n",
      "2022-12-28 23:07:17,049 - clearml - WARNING - Error: cannot reshape array of size 1 into shape (225,700,newaxis)\n",
      "2022-12-28 23:07:17,100 - clearml - WARNING - Failed decoding debug image [700, 225, 3]\n",
      "2022-12-28 23:07:17,101 - clearml - WARNING - Error: cannot reshape array of size 1 into shape (225,700,newaxis)\n",
      "2022-12-28 23:07:17,149 - clearml - WARNING - Failed decoding debug image [700, 225, 3]\n",
      "2022-12-28 23:07:17,150 - clearml - WARNING - Error: cannot reshape array of size 1 into shape (225,700,newaxis)\n",
      "2022-12-28 23:07:17,250 - clearml - WARNING - Failed decoding debug image [640, 480, 3]\n",
      "2022-12-28 23:07:17,252 - clearml - WARNING - Error: cannot reshape array of size 1 into shape (480,640,newaxis)\n",
      "2022-12-28 23:07:17,379 - clearml - WARNING - Failed decoding debug image [640, 480, 3]\n",
      "2022-12-28 23:07:17,380 - clearml - WARNING - Error: cannot reshape array of size 1 into shape (480,640,newaxis)\n"
     ]
    },
    {
     "data": {
      "text/plain": "Validation: 0it [00:00, ?it/s]",
      "application/vnd.jupyter.widget-view+json": {
       "version_major": 2,
       "version_minor": 0,
       "model_id": "d6728acf09d74934be3a369197e5c6b4"
      }
     },
     "metadata": {},
     "output_type": "display_data"
    },
    {
     "name": "stdout",
     "output_type": "stream",
     "text": [
      "2022-12-28 23:07:20,574 - clearml - WARNING - Failed decoding debug image [640, 480, 3]\n",
      "2022-12-28 23:07:20,577 - clearml - WARNING - Error: cannot reshape array of size 1 into shape (480,640,newaxis)\n",
      "2022-12-28 23:07:22,323 - clearml - WARNING - Failed decoding debug image [640, 480, 3]\n",
      "2022-12-28 23:07:22,324 - clearml - WARNING - Error: cannot reshape array of size 1 into shape (480,640,newaxis)\n",
      "2022-12-28 23:07:23,577 - clearml - WARNING - Failed decoding debug image [640, 480, 3]\n",
      "2022-12-28 23:07:23,579 - clearml - WARNING - Error: cannot reshape array of size 1 into shape (480,640,newaxis)\n",
      "2022-12-28 23:07:24,767 - clearml - WARNING - Failed decoding debug image [640, 480, 3]\n",
      "2022-12-28 23:07:24,769 - clearml - WARNING - Error: cannot reshape array of size 1 into shape (480,640,newaxis)\n",
      "2022-12-28 23:07:26,011 - clearml - WARNING - Failed decoding debug image [640, 480, 3]\n",
      "2022-12-28 23:07:26,013 - clearml - WARNING - Error: cannot reshape array of size 1 into shape (480,640,newaxis)\n",
      "2022-12-28 23:07:27,232 - clearml - WARNING - Failed decoding debug image [640, 480, 3]\n",
      "2022-12-28 23:07:27,234 - clearml - WARNING - Error: cannot reshape array of size 1 into shape (480,640,newaxis)\n",
      "2022-12-28 23:07:27,774 - clearml - WARNING - Failed decoding debug image [640, 480, 3]\n",
      "2022-12-28 23:07:27,775 - clearml - WARNING - Error: cannot reshape array of size 1 into shape (480,640,newaxis)\n",
      "2022-12-28 23:07:27,836 - clearml - WARNING - Failed decoding debug image [700, 225, 3]\n",
      "2022-12-28 23:07:27,837 - clearml - WARNING - Error: cannot reshape array of size 1 into shape (225,700,newaxis)\n",
      "2022-12-28 23:07:27,904 - clearml - WARNING - Failed decoding debug image [700, 225, 3]\n",
      "2022-12-28 23:07:27,906 - clearml - WARNING - Error: cannot reshape array of size 1 into shape (225,700,newaxis)\n",
      "2022-12-28 23:07:27,958 - clearml - WARNING - Failed decoding debug image [700, 225, 3]\n",
      "2022-12-28 23:07:27,959 - clearml - WARNING - Error: cannot reshape array of size 1 into shape (225,700,newaxis)\n",
      "2022-12-28 23:07:28,065 - clearml - WARNING - Failed decoding debug image [640, 480, 3]\n",
      "2022-12-28 23:07:28,066 - clearml - WARNING - Error: cannot reshape array of size 1 into shape (480,640,newaxis)\n",
      "2022-12-28 23:07:28,231 - clearml - WARNING - Failed decoding debug image [640, 480, 3]\n",
      "2022-12-28 23:07:28,234 - clearml - WARNING - Error: cannot reshape array of size 1 into shape (480,640,newaxis)\n"
     ]
    },
    {
     "data": {
      "text/plain": "Validation: 0it [00:00, ?it/s]",
      "application/vnd.jupyter.widget-view+json": {
       "version_major": 2,
       "version_minor": 0,
       "model_id": "0e6942e5fa334c7a82a38f48613efeb8"
      }
     },
     "metadata": {},
     "output_type": "display_data"
    },
    {
     "name": "stdout",
     "output_type": "stream",
     "text": [
      "2022-12-28 23:07:32,317 - clearml - WARNING - Failed decoding debug image [640, 480, 3]\n",
      "2022-12-28 23:07:32,318 - clearml - WARNING - Error: cannot reshape array of size 1 into shape (480,640,newaxis)\n",
      "2022-12-28 23:07:33,801 - clearml - WARNING - Failed decoding debug image [640, 480, 3]\n",
      "2022-12-28 23:07:33,803 - clearml - WARNING - Error: cannot reshape array of size 1 into shape (480,640,newaxis)\n",
      "2022-12-28 23:07:35,075 - clearml - WARNING - Failed decoding debug image [640, 480, 3]\n",
      "2022-12-28 23:07:35,076 - clearml - WARNING - Error: cannot reshape array of size 1 into shape (480,640,newaxis)\n",
      "2022-12-28 23:07:36,393 - clearml - WARNING - Failed decoding debug image [640, 480, 3]\n",
      "2022-12-28 23:07:36,394 - clearml - WARNING - Error: cannot reshape array of size 1 into shape (480,640,newaxis)\n",
      "2022-12-28 23:07:37,668 - clearml - WARNING - Failed decoding debug image [640, 480, 3]\n",
      "2022-12-28 23:07:37,670 - clearml - WARNING - Error: cannot reshape array of size 1 into shape (480,640,newaxis)\n",
      "2022-12-28 23:07:38,837 - clearml - WARNING - Failed decoding debug image [640, 480, 3]\n",
      "2022-12-28 23:07:38,839 - clearml - WARNING - Error: cannot reshape array of size 1 into shape (480,640,newaxis)\n",
      "2022-12-28 23:07:39,426 - clearml - WARNING - Failed decoding debug image [640, 480, 3]\n",
      "2022-12-28 23:07:39,427 - clearml - WARNING - Error: cannot reshape array of size 1 into shape (480,640,newaxis)\n",
      "2022-12-28 23:07:39,510 - clearml - WARNING - Failed decoding debug image [700, 225, 3]\n",
      "2022-12-28 23:07:39,512 - clearml - WARNING - Error: cannot reshape array of size 1 into shape (225,700,newaxis)\n",
      "2022-12-28 23:07:39,572 - clearml - WARNING - Failed decoding debug image [700, 225, 3]\n",
      "2022-12-28 23:07:39,573 - clearml - WARNING - Error: cannot reshape array of size 1 into shape (225,700,newaxis)\n",
      "2022-12-28 23:07:39,622 - clearml - WARNING - Failed decoding debug image [700, 225, 3]\n",
      "2022-12-28 23:07:39,623 - clearml - WARNING - Error: cannot reshape array of size 1 into shape (225,700,newaxis)\n",
      "2022-12-28 23:07:39,719 - clearml - WARNING - Failed decoding debug image [640, 480, 3]\n",
      "2022-12-28 23:07:39,720 - clearml - WARNING - Error: cannot reshape array of size 1 into shape (480,640,newaxis)\n",
      "2022-12-28 23:07:39,879 - clearml - WARNING - Failed decoding debug image [640, 480, 3]\n",
      "2022-12-28 23:07:39,881 - clearml - WARNING - Error: cannot reshape array of size 1 into shape (480,640,newaxis)\n"
     ]
    },
    {
     "data": {
      "text/plain": "Validation: 0it [00:00, ?it/s]",
      "application/vnd.jupyter.widget-view+json": {
       "version_major": 2,
       "version_minor": 0,
       "model_id": "f45e125e98e943f5bb391dde15a604ac"
      }
     },
     "metadata": {},
     "output_type": "display_data"
    },
    {
     "name": "stdout",
     "output_type": "stream",
     "text": [
      "2022-12-28 23:07:43,623 - clearml - WARNING - Failed decoding debug image [640, 480, 3]\n",
      "2022-12-28 23:07:43,625 - clearml - WARNING - Error: cannot reshape array of size 1 into shape (480,640,newaxis)\n",
      "2022-12-28 23:07:44,877 - clearml - WARNING - Failed decoding debug image [640, 480, 3]\n",
      "2022-12-28 23:07:44,878 - clearml - WARNING - Error: cannot reshape array of size 1 into shape (480,640,newaxis)\n",
      "2022-12-28 23:07:46,115 - clearml - WARNING - Failed decoding debug image [640, 480, 3]\n",
      "2022-12-28 23:07:46,117 - clearml - WARNING - Error: cannot reshape array of size 1 into shape (480,640,newaxis)\n",
      "2022-12-28 23:07:47,319 - clearml - WARNING - Failed decoding debug image [640, 480, 3]\n",
      "2022-12-28 23:07:47,321 - clearml - WARNING - Error: cannot reshape array of size 1 into shape (480,640,newaxis)\n",
      "2022-12-28 23:07:48,593 - clearml - WARNING - Failed decoding debug image [640, 480, 3]\n",
      "2022-12-28 23:07:48,594 - clearml - WARNING - Error: cannot reshape array of size 1 into shape (480,640,newaxis)\n",
      "2022-12-28 23:07:49,836 - clearml - WARNING - Failed decoding debug image [640, 480, 3]\n",
      "2022-12-28 23:07:49,838 - clearml - WARNING - Error: cannot reshape array of size 1 into shape (480,640,newaxis)\n",
      "2022-12-28 23:07:50,427 - clearml - WARNING - Failed decoding debug image [640, 480, 3]\n",
      "2022-12-28 23:07:50,428 - clearml - WARNING - Error: cannot reshape array of size 1 into shape (480,640,newaxis)\n",
      "2022-12-28 23:07:50,497 - clearml - WARNING - Failed decoding debug image [700, 225, 3]\n",
      "2022-12-28 23:07:50,499 - clearml - WARNING - Error: cannot reshape array of size 1 into shape (225,700,newaxis)\n",
      "2022-12-28 23:07:50,584 - clearml - WARNING - Failed decoding debug image [700, 225, 3]\n",
      "2022-12-28 23:07:50,586 - clearml - WARNING - Error: cannot reshape array of size 1 into shape (225,700,newaxis)\n",
      "2022-12-28 23:07:50,649 - clearml - WARNING - Failed decoding debug image [700, 225, 3]\n",
      "2022-12-28 23:07:50,651 - clearml - WARNING - Error: cannot reshape array of size 1 into shape (225,700,newaxis)\n",
      "2022-12-28 23:07:50,813 - clearml - WARNING - Failed decoding debug image [640, 480, 3]\n",
      "2022-12-28 23:07:50,815 - clearml - WARNING - Error: cannot reshape array of size 1 into shape (480,640,newaxis)\n",
      "2022-12-28 23:07:50,954 - clearml - WARNING - Failed decoding debug image [640, 480, 3]\n",
      "2022-12-28 23:07:50,956 - clearml - WARNING - Error: cannot reshape array of size 1 into shape (480,640,newaxis)\n"
     ]
    },
    {
     "data": {
      "text/plain": "Validation: 0it [00:00, ?it/s]",
      "application/vnd.jupyter.widget-view+json": {
       "version_major": 2,
       "version_minor": 0,
       "model_id": "5c847c11b3034507b086d0bc926d2c24"
      }
     },
     "metadata": {},
     "output_type": "display_data"
    },
    {
     "name": "stdout",
     "output_type": "stream",
     "text": [
      "2022-12-28 23:07:54,316 - clearml - WARNING - Failed decoding debug image [640, 480, 3]\n",
      "2022-12-28 23:07:54,317 - clearml - WARNING - Error: cannot reshape array of size 1 into shape (480,640,newaxis)\n",
      "2022-12-28 23:07:55,523 - clearml - WARNING - Failed decoding debug image [640, 480, 3]\n",
      "2022-12-28 23:07:55,525 - clearml - WARNING - Error: cannot reshape array of size 1 into shape (480,640,newaxis)\n",
      "2022-12-28 23:07:56,725 - clearml - WARNING - Failed decoding debug image [640, 480, 3]\n",
      "2022-12-28 23:07:56,726 - clearml - WARNING - Error: cannot reshape array of size 1 into shape (480,640,newaxis)\n",
      "2022-12-28 23:07:57,961 - clearml - WARNING - Failed decoding debug image [640, 480, 3]\n",
      "2022-12-28 23:07:57,963 - clearml - WARNING - Error: cannot reshape array of size 1 into shape (480,640,newaxis)\n",
      "2022-12-28 23:07:59,183 - clearml - WARNING - Failed decoding debug image [640, 480, 3]\n",
      "2022-12-28 23:07:59,185 - clearml - WARNING - Error: cannot reshape array of size 1 into shape (480,640,newaxis)\n",
      "2022-12-28 23:08:00,420 - clearml - WARNING - Failed decoding debug image [640, 480, 3]\n",
      "2022-12-28 23:08:00,422 - clearml - WARNING - Error: cannot reshape array of size 1 into shape (480,640,newaxis)\n",
      "2022-12-28 23:08:01,129 - clearml - WARNING - Failed decoding debug image [640, 480, 3]\n",
      "2022-12-28 23:08:01,131 - clearml - WARNING - Error: cannot reshape array of size 1 into shape (480,640,newaxis)\n",
      "2022-12-28 23:08:01,228 - clearml - WARNING - Failed decoding debug image [700, 225, 3]\n",
      "2022-12-28 23:08:01,230 - clearml - WARNING - Error: cannot reshape array of size 1 into shape (225,700,newaxis)\n",
      "2022-12-28 23:08:01,315 - clearml - WARNING - Failed decoding debug image [700, 225, 3]\n",
      "2022-12-28 23:08:01,316 - clearml - WARNING - Error: cannot reshape array of size 1 into shape (225,700,newaxis)\n",
      "2022-12-28 23:08:01,408 - clearml - WARNING - Failed decoding debug image [700, 225, 3]\n",
      "2022-12-28 23:08:01,409 - clearml - WARNING - Error: cannot reshape array of size 1 into shape (225,700,newaxis)\n",
      "2022-12-28 23:08:01,547 - clearml - WARNING - Failed decoding debug image [640, 480, 3]\n",
      "2022-12-28 23:08:01,548 - clearml - WARNING - Error: cannot reshape array of size 1 into shape (480,640,newaxis)\n",
      "2022-12-28 23:08:01,682 - clearml - WARNING - Failed decoding debug image [640, 480, 3]\n",
      "2022-12-28 23:08:01,685 - clearml - WARNING - Error: cannot reshape array of size 1 into shape (480,640,newaxis)\n"
     ]
    },
    {
     "data": {
      "text/plain": "Validation: 0it [00:00, ?it/s]",
      "application/vnd.jupyter.widget-view+json": {
       "version_major": 2,
       "version_minor": 0,
       "model_id": "128bd42eab9947db9004a861a7741c7c"
      }
     },
     "metadata": {},
     "output_type": "display_data"
    },
    {
     "name": "stdout",
     "output_type": "stream",
     "text": [
      "2022-12-28 23:08:04,940 - clearml - WARNING - Failed decoding debug image [640, 480, 3]\n",
      "2022-12-28 23:08:04,941 - clearml - WARNING - Error: cannot reshape array of size 1 into shape (480,640,newaxis)\n",
      "2022-12-28 23:08:06,306 - clearml - WARNING - Failed decoding debug image [640, 480, 3]\n",
      "2022-12-28 23:08:06,309 - clearml - WARNING - Error: cannot reshape array of size 1 into shape (480,640,newaxis)\n",
      "2022-12-28 23:08:07,542 - clearml - WARNING - Failed decoding debug image [640, 480, 3]\n",
      "2022-12-28 23:08:07,544 - clearml - WARNING - Error: cannot reshape array of size 1 into shape (480,640,newaxis)\n",
      "2022-12-28 23:08:08,832 - clearml - WARNING - Failed decoding debug image [640, 480, 3]\n",
      "2022-12-28 23:08:08,834 - clearml - WARNING - Error: cannot reshape array of size 1 into shape (480,640,newaxis)\n",
      "2022-12-28 23:08:10,081 - clearml - WARNING - Failed decoding debug image [640, 480, 3]\n",
      "2022-12-28 23:08:10,083 - clearml - WARNING - Error: cannot reshape array of size 1 into shape (480,640,newaxis)\n",
      "2022-12-28 23:08:11,735 - clearml - WARNING - Failed decoding debug image [640, 480, 3]\n",
      "2022-12-28 23:08:11,737 - clearml - WARNING - Error: cannot reshape array of size 1 into shape (480,640,newaxis)\n",
      "2022-12-28 23:08:12,421 - clearml - WARNING - Failed decoding debug image [640, 480, 3]\n",
      "2022-12-28 23:08:12,422 - clearml - WARNING - Error: cannot reshape array of size 1 into shape (480,640,newaxis)\n",
      "2022-12-28 23:08:12,522 - clearml - WARNING - Failed decoding debug image [700, 225, 3]\n",
      "2022-12-28 23:08:12,525 - clearml - WARNING - Error: cannot reshape array of size 1 into shape (225,700,newaxis)\n",
      "2022-12-28 23:08:12,600 - clearml - WARNING - Failed decoding debug image [700, 225, 3]\n",
      "2022-12-28 23:08:12,601 - clearml - WARNING - Error: cannot reshape array of size 1 into shape (225,700,newaxis)\n",
      "2022-12-28 23:08:12,657 - clearml - WARNING - Failed decoding debug image [700, 225, 3]\n",
      "2022-12-28 23:08:12,659 - clearml - WARNING - Error: cannot reshape array of size 1 into shape (225,700,newaxis)\n",
      "2022-12-28 23:08:12,777 - clearml - WARNING - Failed decoding debug image [640, 480, 3]\n",
      "2022-12-28 23:08:12,778 - clearml - WARNING - Error: cannot reshape array of size 1 into shape (480,640,newaxis)\n",
      "2022-12-28 23:08:12,899 - clearml - WARNING - Failed decoding debug image [640, 480, 3]\n",
      "2022-12-28 23:08:12,902 - clearml - WARNING - Error: cannot reshape array of size 1 into shape (480,640,newaxis)\n"
     ]
    },
    {
     "data": {
      "text/plain": "Validation: 0it [00:00, ?it/s]",
      "application/vnd.jupyter.widget-view+json": {
       "version_major": 2,
       "version_minor": 0,
       "model_id": "fa8221df99004f37a462c2c3ddb2c8ac"
      }
     },
     "metadata": {},
     "output_type": "display_data"
    },
    {
     "name": "stdout",
     "output_type": "stream",
     "text": [
      "2022-12-28 23:08:16,267 - clearml - WARNING - Failed decoding debug image [640, 480, 3]\n",
      "2022-12-28 23:08:16,269 - clearml - WARNING - Error: cannot reshape array of size 1 into shape (480,640,newaxis)\n",
      "2022-12-28 23:08:17,536 - clearml - WARNING - Failed decoding debug image [640, 480, 3]\n",
      "2022-12-28 23:08:17,537 - clearml - WARNING - Error: cannot reshape array of size 1 into shape (480,640,newaxis)\n",
      "2022-12-28 23:08:18,761 - clearml - WARNING - Failed decoding debug image [640, 480, 3]\n",
      "2022-12-28 23:08:18,762 - clearml - WARNING - Error: cannot reshape array of size 1 into shape (480,640,newaxis)\n",
      "2022-12-28 23:08:20,086 - clearml - WARNING - Failed decoding debug image [640, 480, 3]\n",
      "2022-12-28 23:08:20,088 - clearml - WARNING - Error: cannot reshape array of size 1 into shape (480,640,newaxis)\n",
      "2022-12-28 23:08:21,689 - clearml - WARNING - Failed decoding debug image [640, 480, 3]\n",
      "2022-12-28 23:08:21,690 - clearml - WARNING - Error: cannot reshape array of size 1 into shape (480,640,newaxis)\n",
      "2022-12-28 23:08:23,147 - clearml - WARNING - Failed decoding debug image [640, 480, 3]\n",
      "2022-12-28 23:08:23,149 - clearml - WARNING - Error: cannot reshape array of size 1 into shape (480,640,newaxis)\n",
      "2022-12-28 23:08:23,745 - clearml - WARNING - Failed decoding debug image [640, 480, 3]\n",
      "2022-12-28 23:08:23,747 - clearml - WARNING - Error: cannot reshape array of size 1 into shape (480,640,newaxis)\n",
      "2022-12-28 23:08:23,826 - clearml - WARNING - Failed decoding debug image [700, 225, 3]\n",
      "2022-12-28 23:08:23,827 - clearml - WARNING - Error: cannot reshape array of size 1 into shape (225,700,newaxis)\n",
      "2022-12-28 23:08:23,887 - clearml - WARNING - Failed decoding debug image [700, 225, 3]\n",
      "2022-12-28 23:08:23,888 - clearml - WARNING - Error: cannot reshape array of size 1 into shape (225,700,newaxis)\n",
      "2022-12-28 23:08:23,941 - clearml - WARNING - Failed decoding debug image [700, 225, 3]\n",
      "2022-12-28 23:08:23,942 - clearml - WARNING - Error: cannot reshape array of size 1 into shape (225,700,newaxis)\n",
      "2022-12-28 23:08:24,057 - clearml - WARNING - Failed decoding debug image [640, 480, 3]\n",
      "2022-12-28 23:08:24,059 - clearml - WARNING - Error: cannot reshape array of size 1 into shape (480,640,newaxis)\n",
      "2022-12-28 23:08:24,190 - clearml - WARNING - Failed decoding debug image [640, 480, 3]\n",
      "2022-12-28 23:08:24,192 - clearml - WARNING - Error: cannot reshape array of size 1 into shape (480,640,newaxis)\n"
     ]
    },
    {
     "data": {
      "text/plain": "Validation: 0it [00:00, ?it/s]",
      "application/vnd.jupyter.widget-view+json": {
       "version_major": 2,
       "version_minor": 0,
       "model_id": "8a6e51d8d67f4753aab7665cac6116ef"
      }
     },
     "metadata": {},
     "output_type": "display_data"
    },
    {
     "name": "stdout",
     "output_type": "stream",
     "text": [
      "2022-12-28 23:08:27,515 - clearml - WARNING - Failed decoding debug image [640, 480, 3]\n",
      "2022-12-28 23:08:27,516 - clearml - WARNING - Error: cannot reshape array of size 1 into shape (480,640,newaxis)\n",
      "2022-12-28 23:08:28,850 - clearml - WARNING - Failed decoding debug image [640, 480, 3]\n",
      "2022-12-28 23:08:28,852 - clearml - WARNING - Error: cannot reshape array of size 1 into shape (480,640,newaxis)\n",
      "2022-12-28 23:08:30,101 - clearml - WARNING - Failed decoding debug image [640, 480, 3]\n",
      "2022-12-28 23:08:30,103 - clearml - WARNING - Error: cannot reshape array of size 1 into shape (480,640,newaxis)\n",
      "2022-12-28 23:08:31,781 - clearml - WARNING - Failed decoding debug image [640, 480, 3]\n",
      "2022-12-28 23:08:31,785 - clearml - WARNING - Error: cannot reshape array of size 1 into shape (480,640,newaxis)\n",
      "2022-12-28 23:08:33,774 - clearml - WARNING - Failed decoding debug image [640, 480, 3]\n",
      "2022-12-28 23:08:33,776 - clearml - WARNING - Error: cannot reshape array of size 1 into shape (480,640,newaxis)\n",
      "2022-12-28 23:08:35,031 - clearml - WARNING - Failed decoding debug image [640, 480, 3]\n",
      "2022-12-28 23:08:35,033 - clearml - WARNING - Error: cannot reshape array of size 1 into shape (480,640,newaxis)\n",
      "2022-12-28 23:08:35,598 - clearml - WARNING - Failed decoding debug image [640, 480, 3]\n",
      "2022-12-28 23:08:35,600 - clearml - WARNING - Error: cannot reshape array of size 1 into shape (480,640,newaxis)\n",
      "2022-12-28 23:08:35,659 - clearml - WARNING - Failed decoding debug image [700, 225, 3]\n",
      "2022-12-28 23:08:35,661 - clearml - WARNING - Error: cannot reshape array of size 1 into shape (225,700,newaxis)\n",
      "2022-12-28 23:08:35,717 - clearml - WARNING - Failed decoding debug image [700, 225, 3]\n",
      "2022-12-28 23:08:35,718 - clearml - WARNING - Error: cannot reshape array of size 1 into shape (225,700,newaxis)\n",
      "2022-12-28 23:08:35,770 - clearml - WARNING - Failed decoding debug image [700, 225, 3]\n",
      "2022-12-28 23:08:35,772 - clearml - WARNING - Error: cannot reshape array of size 1 into shape (225,700,newaxis)\n",
      "2022-12-28 23:08:35,876 - clearml - WARNING - Failed decoding debug image [640, 480, 3]\n",
      "2022-12-28 23:08:35,878 - clearml - WARNING - Error: cannot reshape array of size 1 into shape (480,640,newaxis)\n",
      "2022-12-28 23:08:35,982 - clearml - WARNING - Failed decoding debug image [640, 480, 3]\n",
      "2022-12-28 23:08:35,984 - clearml - WARNING - Error: cannot reshape array of size 1 into shape (480,640,newaxis)\n"
     ]
    },
    {
     "data": {
      "text/plain": "Validation: 0it [00:00, ?it/s]",
      "application/vnd.jupyter.widget-view+json": {
       "version_major": 2,
       "version_minor": 0,
       "model_id": "de6db0de6dee4aa48333c3a4572054e7"
      }
     },
     "metadata": {},
     "output_type": "display_data"
    },
    {
     "name": "stdout",
     "output_type": "stream",
     "text": [
      "2022-12-28 23:08:39,071 - clearml - WARNING - Failed decoding debug image [640, 480, 3]\n",
      "2022-12-28 23:08:39,073 - clearml - WARNING - Error: cannot reshape array of size 1 into shape (480,640,newaxis)\n",
      "2022-12-28 23:08:40,570 - clearml - WARNING - Failed decoding debug image [640, 480, 3]\n",
      "2022-12-28 23:08:40,572 - clearml - WARNING - Error: cannot reshape array of size 1 into shape (480,640,newaxis)\n",
      "2022-12-28 23:08:42,382 - clearml - WARNING - Failed decoding debug image [640, 480, 3]\n",
      "2022-12-28 23:08:42,385 - clearml - WARNING - Error: cannot reshape array of size 1 into shape (480,640,newaxis)\n",
      "2022-12-28 23:08:43,668 - clearml - WARNING - Failed decoding debug image [640, 480, 3]\n",
      "2022-12-28 23:08:43,669 - clearml - WARNING - Error: cannot reshape array of size 1 into shape (480,640,newaxis)\n",
      "2022-12-28 23:08:44,908 - clearml - WARNING - Failed decoding debug image [640, 480, 3]\n",
      "2022-12-28 23:08:44,910 - clearml - WARNING - Error: cannot reshape array of size 1 into shape (480,640,newaxis)\n",
      "2022-12-28 23:08:46,163 - clearml - WARNING - Failed decoding debug image [640, 480, 3]\n",
      "2022-12-28 23:08:46,164 - clearml - WARNING - Error: cannot reshape array of size 1 into shape (480,640,newaxis)\n",
      "2022-12-28 23:08:46,731 - clearml - WARNING - Failed decoding debug image [640, 480, 3]\n",
      "2022-12-28 23:08:46,732 - clearml - WARNING - Error: cannot reshape array of size 1 into shape (480,640,newaxis)\n",
      "2022-12-28 23:08:46,800 - clearml - WARNING - Failed decoding debug image [700, 225, 3]\n",
      "2022-12-28 23:08:46,801 - clearml - WARNING - Error: cannot reshape array of size 1 into shape (225,700,newaxis)\n",
      "2022-12-28 23:08:46,862 - clearml - WARNING - Failed decoding debug image [700, 225, 3]\n",
      "2022-12-28 23:08:46,864 - clearml - WARNING - Error: cannot reshape array of size 1 into shape (225,700,newaxis)\n",
      "2022-12-28 23:08:46,921 - clearml - WARNING - Failed decoding debug image [700, 225, 3]\n",
      "2022-12-28 23:08:46,922 - clearml - WARNING - Error: cannot reshape array of size 1 into shape (225,700,newaxis)\n",
      "2022-12-28 23:08:47,047 - clearml - WARNING - Failed decoding debug image [640, 480, 3]\n",
      "2022-12-28 23:08:47,049 - clearml - WARNING - Error: cannot reshape array of size 1 into shape (480,640,newaxis)\n",
      "2022-12-28 23:08:47,166 - clearml - WARNING - Failed decoding debug image [640, 480, 3]\n",
      "2022-12-28 23:08:47,168 - clearml - WARNING - Error: cannot reshape array of size 1 into shape (480,640,newaxis)\n"
     ]
    },
    {
     "data": {
      "text/plain": "Validation: 0it [00:00, ?it/s]",
      "application/vnd.jupyter.widget-view+json": {
       "version_major": 2,
       "version_minor": 0,
       "model_id": "5e78fe15978e4c80a55f54528628ccb3"
      }
     },
     "metadata": {},
     "output_type": "display_data"
    },
    {
     "name": "stdout",
     "output_type": "stream",
     "text": [
      "2022-12-28 23:08:50,393 - clearml - WARNING - Failed decoding debug image [640, 480, 3]\n",
      "2022-12-28 23:08:50,395 - clearml - WARNING - Error: cannot reshape array of size 1 into shape (480,640,newaxis)\n",
      "2022-12-28 23:08:52,284 - clearml - WARNING - Failed decoding debug image [640, 480, 3]\n",
      "2022-12-28 23:08:52,285 - clearml - WARNING - Error: cannot reshape array of size 1 into shape (480,640,newaxis)\n",
      "2022-12-28 23:08:53,555 - clearml - WARNING - Failed decoding debug image [640, 480, 3]\n",
      "2022-12-28 23:08:53,558 - clearml - WARNING - Error: cannot reshape array of size 1 into shape (480,640,newaxis)\n",
      "2022-12-28 23:08:54,821 - clearml - WARNING - Failed decoding debug image [640, 480, 3]\n",
      "2022-12-28 23:08:54,823 - clearml - WARNING - Error: cannot reshape array of size 1 into shape (480,640,newaxis)\n",
      "2022-12-28 23:08:56,069 - clearml - WARNING - Failed decoding debug image [640, 480, 3]\n",
      "2022-12-28 23:08:56,070 - clearml - WARNING - Error: cannot reshape array of size 1 into shape (480,640,newaxis)\n",
      "2022-12-28 23:08:57,300 - clearml - WARNING - Failed decoding debug image [640, 480, 3]\n",
      "2022-12-28 23:08:57,302 - clearml - WARNING - Error: cannot reshape array of size 1 into shape (480,640,newaxis)\n",
      "2022-12-28 23:08:57,857 - clearml - WARNING - Failed decoding debug image [640, 480, 3]\n",
      "2022-12-28 23:08:57,859 - clearml - WARNING - Error: cannot reshape array of size 1 into shape (480,640,newaxis)\n",
      "2022-12-28 23:08:57,919 - clearml - WARNING - Failed decoding debug image [700, 225, 3]\n",
      "2022-12-28 23:08:57,921 - clearml - WARNING - Error: cannot reshape array of size 1 into shape (225,700,newaxis)\n",
      "2022-12-28 23:08:57,973 - clearml - WARNING - Failed decoding debug image [700, 225, 3]\n",
      "2022-12-28 23:08:57,974 - clearml - WARNING - Error: cannot reshape array of size 1 into shape (225,700,newaxis)\n",
      "2022-12-28 23:08:58,032 - clearml - WARNING - Failed decoding debug image [700, 225, 3]\n",
      "2022-12-28 23:08:58,034 - clearml - WARNING - Error: cannot reshape array of size 1 into shape (225,700,newaxis)\n",
      "2022-12-28 23:08:58,134 - clearml - WARNING - Failed decoding debug image [640, 480, 3]\n",
      "2022-12-28 23:08:58,137 - clearml - WARNING - Error: cannot reshape array of size 1 into shape (480,640,newaxis)\n",
      "2022-12-28 23:08:58,267 - clearml - WARNING - Failed decoding debug image [640, 480, 3]\n",
      "2022-12-28 23:08:58,269 - clearml - WARNING - Error: cannot reshape array of size 1 into shape (480,640,newaxis)\n"
     ]
    },
    {
     "data": {
      "text/plain": "Validation: 0it [00:00, ?it/s]",
      "application/vnd.jupyter.widget-view+json": {
       "version_major": 2,
       "version_minor": 0,
       "model_id": "24701b4c0bb64103adab33c87c2595c2"
      }
     },
     "metadata": {},
     "output_type": "display_data"
    },
    {
     "name": "stdout",
     "output_type": "stream",
     "text": [
      "2022-12-28 23:09:01,994 - clearml - WARNING - Failed decoding debug image [640, 480, 3]\n",
      "2022-12-28 23:09:01,995 - clearml - WARNING - Error: cannot reshape array of size 1 into shape (480,640,newaxis)\n",
      "2022-12-28 23:09:03,590 - clearml - WARNING - Failed decoding debug image [640, 480, 3]\n",
      "2022-12-28 23:09:03,591 - clearml - WARNING - Error: cannot reshape array of size 1 into shape (480,640,newaxis)\n",
      "2022-12-28 23:09:05,396 - clearml - WARNING - Failed decoding debug image [640, 480, 3]\n",
      "2022-12-28 23:09:05,398 - clearml - WARNING - Error: cannot reshape array of size 1 into shape (480,640,newaxis)\n",
      "2022-12-28 23:09:06,748 - clearml - WARNING - Failed decoding debug image [640, 480, 3]\n",
      "2022-12-28 23:09:06,751 - clearml - WARNING - Error: cannot reshape array of size 1 into shape (480,640,newaxis)\n",
      "2022-12-28 23:09:08,094 - clearml - WARNING - Failed decoding debug image [640, 480, 3]\n",
      "2022-12-28 23:09:08,095 - clearml - WARNING - Error: cannot reshape array of size 1 into shape (480,640,newaxis)\n",
      "2022-12-28 23:09:09,390 - clearml - WARNING - Failed decoding debug image [640, 480, 3]\n",
      "2022-12-28 23:09:09,391 - clearml - WARNING - Error: cannot reshape array of size 1 into shape (480,640,newaxis)\n",
      "2022-12-28 23:09:09,934 - clearml - WARNING - Failed decoding debug image [640, 480, 3]\n",
      "2022-12-28 23:09:09,937 - clearml - WARNING - Error: cannot reshape array of size 1 into shape (480,640,newaxis)\n",
      "2022-12-28 23:09:10,009 - clearml - WARNING - Failed decoding debug image [700, 225, 3]\n",
      "2022-12-28 23:09:10,011 - clearml - WARNING - Error: cannot reshape array of size 1 into shape (225,700,newaxis)\n",
      "2022-12-28 23:09:10,077 - clearml - WARNING - Failed decoding debug image [700, 225, 3]\n",
      "2022-12-28 23:09:10,079 - clearml - WARNING - Error: cannot reshape array of size 1 into shape (225,700,newaxis)\n",
      "2022-12-28 23:09:10,137 - clearml - WARNING - Failed decoding debug image [700, 225, 3]\n",
      "2022-12-28 23:09:10,138 - clearml - WARNING - Error: cannot reshape array of size 1 into shape (225,700,newaxis)\n",
      "2022-12-28 23:09:10,257 - clearml - WARNING - Failed decoding debug image [640, 480, 3]\n",
      "2022-12-28 23:09:10,259 - clearml - WARNING - Error: cannot reshape array of size 1 into shape (480,640,newaxis)\n",
      "2022-12-28 23:09:10,398 - clearml - WARNING - Failed decoding debug image [640, 480, 3]\n",
      "2022-12-28 23:09:10,400 - clearml - WARNING - Error: cannot reshape array of size 1 into shape (480,640,newaxis)\n"
     ]
    }
   ],
   "source": [
    "\n",
    "# fit the model on the data - redefine the model with the correct learning rate if necessary\n",
    "trainer.fit(\n",
    "    tft, train_dataloaders=train_dataloader, val_dataloaders=val_dataloader,\n",
    ")"
   ],
   "metadata": {
    "collapsed": false,
    "pycharm": {
     "name": "#%%\n"
    }
   }
  },
  {
   "cell_type": "code",
   "execution_count": 18,
   "outputs": [],
   "source": [
    "trainer.save_checkpoint(\"TFT_model_solar_station_1\")"
   ],
   "metadata": {
    "collapsed": false,
    "pycharm": {
     "name": "#%%\n"
    }
   }
  },
  {
   "cell_type": "code",
   "execution_count": 21,
   "outputs": [],
   "source": [
    "import torch\n",
    "torch.save(tft.state_dict(), \"TFT_model_solar_station_1_weights.pt\")"
   ],
   "metadata": {
    "collapsed": false,
    "pycharm": {
     "name": "#%%\n"
    }
   }
  },
  {
   "cell_type": "code",
   "execution_count": 22,
   "outputs": [
    {
     "data": {
      "text/plain": "True"
     },
     "execution_count": 22,
     "metadata": {},
     "output_type": "execute_result"
    }
   ],
   "source": [
    "task.upload_artifact('trainer_checkpoint', artifact_object='TFT_model_solar_station_1')\n",
    "task.upload_artifact('model_weights', artifact_object='TFT_model_solar_station_1_weights.pt')"
   ],
   "metadata": {
    "collapsed": false,
    "pycharm": {
     "name": "#%%\n"
    }
   }
  },
  {
   "cell_type": "code",
   "execution_count": 23,
   "outputs": [],
   "source": [
    "task.close()"
   ],
   "metadata": {
    "collapsed": false,
    "pycharm": {
     "name": "#%%\n"
    }
   }
  },
  {
   "cell_type": "code",
   "execution_count": null,
   "outputs": [],
   "source": [],
   "metadata": {
    "collapsed": false,
    "pycharm": {
     "name": "#%%\n"
    }
   }
  },
  {
   "cell_type": "markdown",
   "source": [
    "# Darts"
   ],
   "metadata": {
    "collapsed": false,
    "pycharm": {
     "name": "#%% md\n"
    }
   }
  },
  {
   "cell_type": "code",
   "execution_count": 5,
   "outputs": [],
   "source": [
    "import pandas as pd\n",
    "from darts import TimeSeries\n",
    "\n",
    "# Read a pandas DataFrame\n",
    "# df = pd.read_csv(\"AirPassengers.csv\", delimiter=\",\")"
   ],
   "metadata": {
    "collapsed": false,
    "pycharm": {
     "name": "#%%\n"
    }
   }
  },
  {
   "cell_type": "code",
   "execution_count": 6,
   "outputs": [],
   "source": [
    "cols = [c for c in df.columns if c not in ['dt','gtpp', 'id','load_time', 'predict']]"
   ],
   "metadata": {
    "collapsed": false,
    "pycharm": {
     "name": "#%%\n"
    }
   }
  },
  {
   "cell_type": "code",
   "execution_count": 7,
   "outputs": [],
   "source": [
    "# cols"
   ],
   "metadata": {
    "collapsed": false,
    "pycharm": {
     "name": "#%%\n"
    }
   }
  },
  {
   "cell_type": "code",
   "execution_count": 8,
   "outputs": [],
   "source": [
    "df = df.drop_duplicates(['dt'], keep='last')"
   ],
   "metadata": {
    "collapsed": false,
    "pycharm": {
     "name": "#%%\n"
    }
   }
  },
  {
   "cell_type": "code",
   "execution_count": 9,
   "outputs": [],
   "source": [
    "df = df.reset_index(drop=True)"
   ],
   "metadata": {
    "collapsed": false,
    "pycharm": {
     "name": "#%%\n"
    }
   }
  },
  {
   "cell_type": "code",
   "execution_count": 10,
   "outputs": [
    {
     "data": {
      "text/plain": "            id      gtpp                   dt            load_time  predict  \\\n0         2835  PROZ0001  2021-02-09 00:00:00  2021-02-09 15:39:45        0   \n1         2836  PROZ0001  2021-02-09 01:00:00  2021-02-09 15:39:45       60   \n2         2837  PROZ0001  2021-02-09 02:00:00  2021-02-09 15:39:45      120   \n3         2838  PROZ0001  2021-02-09 03:00:00  2021-02-09 15:39:45      180   \n4         2839  PROZ0001  2021-02-09 04:00:00  2021-02-09 15:39:45      240   \n...        ...       ...                  ...                  ...      ...   \n11653  6523892  PROZ0001  2022-08-01 06:00:00  2022-08-01 10:51:03      360   \n11654  6523893  PROZ0001  2022-08-01 07:00:00  2022-08-01 10:51:03      420   \n11655  6523894  PROZ0001  2022-08-01 08:00:00  2022-08-01 10:51:03      480   \n11656  6523895  PROZ0001  2022-08-01 09:00:00  2022-08-01 10:51:03      540   \n11657  6523896  PROZ0001  2022-08-01 10:00:00  2022-08-01 10:51:03      600   \n\n       10_metre_V_wind_component  Snow_density  Snowfall    Visibility  \\\n0                          -0.81      192.1333       0.0  1.115134e+04   \n1                          -0.78      192.1216       0.0  1.038648e+04   \n2                          -0.55      192.1035       0.0  8.074824e+03   \n3                          -0.29      192.0900       0.0  7.603944e+03   \n4                          -0.02      192.0899       0.0  7.627873e+03   \n...                          ...           ...       ...           ...   \n11653                      -1.58        0.0000       0.0  2.412450e+07   \n11654                      -2.05        0.0000       0.0  2.228528e+07   \n11655                      -2.66        0.0000       0.0  2.413507e+07   \n11656                      -2.79        0.0000       0.0  2.413519e+07   \n11657                      -2.60        0.0000       0.0  2.413492e+07   \n\n       Surface_pressure  ...  Low_cloud_cover  Snow_depth  High_cloud_cover  \\\n0               94916.3  ...             0.84      0.0983              0.00   \n1               95000.2  ...             0.87      0.0983              0.00   \n2               95084.4  ...             0.94      0.0984              0.00   \n3               95160.7  ...             0.96      0.0984              0.00   \n4               95273.9  ...             0.98      0.0984              0.00   \n...                 ...  ...              ...         ...               ...   \n11653           95059.7  ...            38.08      0.0000             48.84   \n11654           95057.5  ...             1.76      0.0000             98.31   \n11655           95053.5  ...            39.60      0.0000             53.74   \n11656           95040.7  ...            72.03      0.0000             42.14   \n11657           95044.2  ...            39.28      0.0000             61.40   \n\n       Evaporation  Wind_Direction  2_metre_dewpoint_temperature  \\\n0         0.000000           280.0                         -31.4   \n1        -0.000004           280.0                         -31.7   \n2        -0.000008           277.0                         -31.7   \n3        -0.000010           274.0                         -31.9   \n4        -0.000013           270.0                         -32.0   \n...            ...             ...                           ...   \n11653     0.000000            22.4                          12.3   \n11654     0.000000            23.6                          11.9   \n11655     0.000000            24.7                          10.6   \n11656     0.000000            24.8                          10.2   \n11657     0.000000            22.5                          11.1   \n\n       Total_precipitation  2_metre_relative_humidity  \\\n0                   0.0000                       65.0   \n1                   0.0000                       65.0   \n2                   0.0000                       67.0   \n3                   0.0000                       69.0   \n4                   0.0000                       70.0   \n...                    ...                        ...   \n11653               0.0000                       56.0   \n11654               0.0625                       51.0   \n11655               0.0000                       44.0   \n11656               0.0000                       42.0   \n11657               0.0000                       49.0   \n\n       Clear_sky_direct_solar_radiation_at_surface  Snow_height  \n0                                             0.00     511.4249  \n1                                             0.00     511.4542  \n2                                             0.00     511.8842  \n3                                             0.00     511.9207  \n4                                          1866.71     511.9210  \n...                                            ...          ...  \n11653                                   3342182.40       0.0000  \n11654                                   7911388.80       0.0000  \n11655                                  10427572.80       0.0000  \n11656                                  12576268.80       0.0000  \n11657                                  12831796.80       0.0000  \n\n[11658 rows x 33 columns]",
      "text/html": "<div>\n<style scoped>\n    .dataframe tbody tr th:only-of-type {\n        vertical-align: middle;\n    }\n\n    .dataframe tbody tr th {\n        vertical-align: top;\n    }\n\n    .dataframe thead th {\n        text-align: right;\n    }\n</style>\n<table border=\"1\" class=\"dataframe\">\n  <thead>\n    <tr style=\"text-align: right;\">\n      <th></th>\n      <th>id</th>\n      <th>gtpp</th>\n      <th>dt</th>\n      <th>load_time</th>\n      <th>predict</th>\n      <th>10_metre_V_wind_component</th>\n      <th>Snow_density</th>\n      <th>Snowfall</th>\n      <th>Visibility</th>\n      <th>Surface_pressure</th>\n      <th>...</th>\n      <th>Low_cloud_cover</th>\n      <th>Snow_depth</th>\n      <th>High_cloud_cover</th>\n      <th>Evaporation</th>\n      <th>Wind_Direction</th>\n      <th>2_metre_dewpoint_temperature</th>\n      <th>Total_precipitation</th>\n      <th>2_metre_relative_humidity</th>\n      <th>Clear_sky_direct_solar_radiation_at_surface</th>\n      <th>Snow_height</th>\n    </tr>\n  </thead>\n  <tbody>\n    <tr>\n      <th>0</th>\n      <td>2835</td>\n      <td>PROZ0001</td>\n      <td>2021-02-09 00:00:00</td>\n      <td>2021-02-09 15:39:45</td>\n      <td>0</td>\n      <td>-0.81</td>\n      <td>192.1333</td>\n      <td>0.0</td>\n      <td>1.115134e+04</td>\n      <td>94916.3</td>\n      <td>...</td>\n      <td>0.84</td>\n      <td>0.0983</td>\n      <td>0.00</td>\n      <td>0.000000</td>\n      <td>280.0</td>\n      <td>-31.4</td>\n      <td>0.0000</td>\n      <td>65.0</td>\n      <td>0.00</td>\n      <td>511.4249</td>\n    </tr>\n    <tr>\n      <th>1</th>\n      <td>2836</td>\n      <td>PROZ0001</td>\n      <td>2021-02-09 01:00:00</td>\n      <td>2021-02-09 15:39:45</td>\n      <td>60</td>\n      <td>-0.78</td>\n      <td>192.1216</td>\n      <td>0.0</td>\n      <td>1.038648e+04</td>\n      <td>95000.2</td>\n      <td>...</td>\n      <td>0.87</td>\n      <td>0.0983</td>\n      <td>0.00</td>\n      <td>-0.000004</td>\n      <td>280.0</td>\n      <td>-31.7</td>\n      <td>0.0000</td>\n      <td>65.0</td>\n      <td>0.00</td>\n      <td>511.4542</td>\n    </tr>\n    <tr>\n      <th>2</th>\n      <td>2837</td>\n      <td>PROZ0001</td>\n      <td>2021-02-09 02:00:00</td>\n      <td>2021-02-09 15:39:45</td>\n      <td>120</td>\n      <td>-0.55</td>\n      <td>192.1035</td>\n      <td>0.0</td>\n      <td>8.074824e+03</td>\n      <td>95084.4</td>\n      <td>...</td>\n      <td>0.94</td>\n      <td>0.0984</td>\n      <td>0.00</td>\n      <td>-0.000008</td>\n      <td>277.0</td>\n      <td>-31.7</td>\n      <td>0.0000</td>\n      <td>67.0</td>\n      <td>0.00</td>\n      <td>511.8842</td>\n    </tr>\n    <tr>\n      <th>3</th>\n      <td>2838</td>\n      <td>PROZ0001</td>\n      <td>2021-02-09 03:00:00</td>\n      <td>2021-02-09 15:39:45</td>\n      <td>180</td>\n      <td>-0.29</td>\n      <td>192.0900</td>\n      <td>0.0</td>\n      <td>7.603944e+03</td>\n      <td>95160.7</td>\n      <td>...</td>\n      <td>0.96</td>\n      <td>0.0984</td>\n      <td>0.00</td>\n      <td>-0.000010</td>\n      <td>274.0</td>\n      <td>-31.9</td>\n      <td>0.0000</td>\n      <td>69.0</td>\n      <td>0.00</td>\n      <td>511.9207</td>\n    </tr>\n    <tr>\n      <th>4</th>\n      <td>2839</td>\n      <td>PROZ0001</td>\n      <td>2021-02-09 04:00:00</td>\n      <td>2021-02-09 15:39:45</td>\n      <td>240</td>\n      <td>-0.02</td>\n      <td>192.0899</td>\n      <td>0.0</td>\n      <td>7.627873e+03</td>\n      <td>95273.9</td>\n      <td>...</td>\n      <td>0.98</td>\n      <td>0.0984</td>\n      <td>0.00</td>\n      <td>-0.000013</td>\n      <td>270.0</td>\n      <td>-32.0</td>\n      <td>0.0000</td>\n      <td>70.0</td>\n      <td>1866.71</td>\n      <td>511.9210</td>\n    </tr>\n    <tr>\n      <th>...</th>\n      <td>...</td>\n      <td>...</td>\n      <td>...</td>\n      <td>...</td>\n      <td>...</td>\n      <td>...</td>\n      <td>...</td>\n      <td>...</td>\n      <td>...</td>\n      <td>...</td>\n      <td>...</td>\n      <td>...</td>\n      <td>...</td>\n      <td>...</td>\n      <td>...</td>\n      <td>...</td>\n      <td>...</td>\n      <td>...</td>\n      <td>...</td>\n      <td>...</td>\n      <td>...</td>\n    </tr>\n    <tr>\n      <th>11653</th>\n      <td>6523892</td>\n      <td>PROZ0001</td>\n      <td>2022-08-01 06:00:00</td>\n      <td>2022-08-01 10:51:03</td>\n      <td>360</td>\n      <td>-1.58</td>\n      <td>0.0000</td>\n      <td>0.0</td>\n      <td>2.412450e+07</td>\n      <td>95059.7</td>\n      <td>...</td>\n      <td>38.08</td>\n      <td>0.0000</td>\n      <td>48.84</td>\n      <td>0.000000</td>\n      <td>22.4</td>\n      <td>12.3</td>\n      <td>0.0000</td>\n      <td>56.0</td>\n      <td>3342182.40</td>\n      <td>0.0000</td>\n    </tr>\n    <tr>\n      <th>11654</th>\n      <td>6523893</td>\n      <td>PROZ0001</td>\n      <td>2022-08-01 07:00:00</td>\n      <td>2022-08-01 10:51:03</td>\n      <td>420</td>\n      <td>-2.05</td>\n      <td>0.0000</td>\n      <td>0.0</td>\n      <td>2.228528e+07</td>\n      <td>95057.5</td>\n      <td>...</td>\n      <td>1.76</td>\n      <td>0.0000</td>\n      <td>98.31</td>\n      <td>0.000000</td>\n      <td>23.6</td>\n      <td>11.9</td>\n      <td>0.0625</td>\n      <td>51.0</td>\n      <td>7911388.80</td>\n      <td>0.0000</td>\n    </tr>\n    <tr>\n      <th>11655</th>\n      <td>6523894</td>\n      <td>PROZ0001</td>\n      <td>2022-08-01 08:00:00</td>\n      <td>2022-08-01 10:51:03</td>\n      <td>480</td>\n      <td>-2.66</td>\n      <td>0.0000</td>\n      <td>0.0</td>\n      <td>2.413507e+07</td>\n      <td>95053.5</td>\n      <td>...</td>\n      <td>39.60</td>\n      <td>0.0000</td>\n      <td>53.74</td>\n      <td>0.000000</td>\n      <td>24.7</td>\n      <td>10.6</td>\n      <td>0.0000</td>\n      <td>44.0</td>\n      <td>10427572.80</td>\n      <td>0.0000</td>\n    </tr>\n    <tr>\n      <th>11656</th>\n      <td>6523895</td>\n      <td>PROZ0001</td>\n      <td>2022-08-01 09:00:00</td>\n      <td>2022-08-01 10:51:03</td>\n      <td>540</td>\n      <td>-2.79</td>\n      <td>0.0000</td>\n      <td>0.0</td>\n      <td>2.413519e+07</td>\n      <td>95040.7</td>\n      <td>...</td>\n      <td>72.03</td>\n      <td>0.0000</td>\n      <td>42.14</td>\n      <td>0.000000</td>\n      <td>24.8</td>\n      <td>10.2</td>\n      <td>0.0000</td>\n      <td>42.0</td>\n      <td>12576268.80</td>\n      <td>0.0000</td>\n    </tr>\n    <tr>\n      <th>11657</th>\n      <td>6523896</td>\n      <td>PROZ0001</td>\n      <td>2022-08-01 10:00:00</td>\n      <td>2022-08-01 10:51:03</td>\n      <td>600</td>\n      <td>-2.60</td>\n      <td>0.0000</td>\n      <td>0.0</td>\n      <td>2.413492e+07</td>\n      <td>95044.2</td>\n      <td>...</td>\n      <td>39.28</td>\n      <td>0.0000</td>\n      <td>61.40</td>\n      <td>0.000000</td>\n      <td>22.5</td>\n      <td>11.1</td>\n      <td>0.0000</td>\n      <td>49.0</td>\n      <td>12831796.80</td>\n      <td>0.0000</td>\n    </tr>\n  </tbody>\n</table>\n<p>11658 rows × 33 columns</p>\n</div>"
     },
     "execution_count": 10,
     "metadata": {},
     "output_type": "execute_result"
    }
   ],
   "source": [
    "df"
   ],
   "metadata": {
    "collapsed": false,
    "pycharm": {
     "name": "#%%\n"
    }
   }
  },
  {
   "cell_type": "code",
   "execution_count": 11,
   "outputs": [],
   "source": [
    "%matplotlib inline\n",
    "import numpy as np\n",
    "import pandas as pd\n",
    "import matplotlib.pyplot as plt\n",
    "import seaborn as sns\n",
    "import os\n",
    "import sys\n",
    "import missingno as mno\n",
    "import warnings\n",
    "warnings.filterwarnings(\"ignore\")\n",
    "import logging\n",
    "logging.disable(logging.CRITICAL)\n",
    "from darts import TimeSeries, concatenate\n",
    "from darts.dataprocessing.transformers import Scaler\n",
    "from darts.models import TFTModel\n",
    "from darts.metrics import mape, rmse\n",
    "from darts.utils.timeseries_generation import datetime_attribute_timeseries\n",
    "from darts.utils.likelihood_models import QuantileRegression\n",
    "pd.set_option(\"display.precision\",2)\n",
    "np.set_printoptions(precision=2, suppress=True)\n",
    "pd.options.display.float_format = '{:,.2f}'.format"
   ],
   "metadata": {
    "collapsed": false,
    "pycharm": {
     "name": "#%%\n"
    }
   }
  },
  {
   "cell_type": "code",
   "execution_count": 12,
   "outputs": [],
   "source": [
    "LOAD = False         # True = load previously saved model from disk?  False = (re)train the model\n",
    "SAVE = \"/exp1/_TFT_model_02.pth.tar\"   # file name to save the model under\n",
    "\n",
    "EPOCHS = 200\n",
    "INLEN = 32          # input size\n",
    "HIDDEN = 64         # hidden layers\n",
    "LSTMLAYERS = 2      # recurrent layers\n",
    "ATTH = 4            # attention heads\n",
    "BATCH = 32          # batch size\n",
    "LEARN = 1e-3        # learning rate\n",
    "DROPOUT = 0.1       # dropout rate\n",
    "VALWAIT = 1         # epochs to wait before evaluating the loss on the test/validation set\n",
    "N_FC = 1            # output size\n",
    "\n",
    "RAND = 42           # random seed\n",
    "N_SAMPLES = 100     # number of times a prediction is sampled from a probabilistic model\n",
    "N_JOBS = 3          # parallel processors to use;  -1 = all processors\n",
    "\n",
    "# default quantiles for QuantileRegression\n",
    "QUANTILES = [0.01, 0.1, 0.2, 0.5, 0.8, 0.9, 0.99]\n",
    "\n",
    "SPLIT = 0.9         # train/test %\n",
    "\n",
    "FIGSIZE = (9, 6)\n",
    "\n",
    "qL1, qL2 = 0.01, 0.10        # percentiles of predictions: lower bounds\n",
    "qU1, qU2 = 1-qL1, 1-qL2,     # upper bounds derived from lower bounds\n",
    "label_q1 = f'{int(qU1 * 100)} / {int(qL1 * 100)} percentile band'\n",
    "label_q2 = f'{int(qU2 * 100)} / {int(qL2 * 100)} percentile band'\n",
    "\n",
    "mpath = os.path.abspath(os.getcwd()) + SAVE"
   ],
   "metadata": {
    "collapsed": false,
    "pycharm": {
     "name": "#%%\n"
    }
   }
  },
  {
   "cell_type": "code",
   "execution_count": 91,
   "outputs": [
    {
     "data": {
      "text/plain": "'/home/kpavel/PycharmProjects/ITMO_Hack_2022/experiments/exp1/_TFT_model_02.pth.tar'"
     },
     "execution_count": 91,
     "metadata": {},
     "output_type": "execute_result"
    }
   ],
   "source": [
    "mpath"
   ],
   "metadata": {
    "collapsed": false,
    "pycharm": {
     "name": "#%%\n"
    }
   }
  },
  {
   "cell_type": "code",
   "execution_count": 92,
   "outputs": [],
   "source": [
    "# load\n",
    "# df0 = pd.read_csv(\"energy_dataset.csv\", header=0, parse_dates=[\"time\"])\n",
    "# dfw0 = pd.read_csv(\"weather_features.csv\", header=0, parse_dates=[\"dt_iso\"])"
   ],
   "metadata": {
    "collapsed": false,
    "pycharm": {
     "name": "#%%\n"
    }
   }
  },
  {
   "cell_type": "code",
   "execution_count": 13,
   "outputs": [],
   "source": [
    "# Create a TimeSeries, specifying the time and value columns\n",
    "series = TimeSeries.from_dataframe(df, time_col=\"dt\", value_cols=cols, fill_missing_dates=True, freq='H')\n",
    "# Set aside the last 36 months as a validation series\n",
    "# train, val = series[:-36], series[-36:]"
   ],
   "metadata": {
    "collapsed": false,
    "pycharm": {
     "name": "#%%\n"
    }
   }
  },
  {
   "cell_type": "code",
   "execution_count": 14,
   "outputs": [
    {
     "name": "stdout",
     "output_type": "stream",
     "text": [
      "components: Index(['predict'], dtype='object', name='component')\n",
      "duration: 11657\n",
      "frequency: 1\n",
      "frequency: None\n",
      "has date time index? (or else, it must have an integer index): False\n",
      "deterministic: True\n",
      "univariate: True\n"
     ]
    }
   ],
   "source": [
    "# create time series object for target variable\n",
    "ts_P = TimeSeries.from_series(df[\"predict\"])\n",
    "\n",
    "# check attributes of the time series\n",
    "print(\"components:\", ts_P.components)\n",
    "print(\"duration:\",ts_P.duration)\n",
    "print(\"frequency:\",ts_P.freq)\n",
    "print(\"frequency:\",ts_P.freq_str)\n",
    "print(\"has date time index? (or else, it must have an integer index):\",ts_P.has_datetime_index)\n",
    "print(\"deterministic:\",ts_P.is_deterministic)\n",
    "print(\"univariate:\",ts_P.is_univariate)"
   ],
   "metadata": {
    "collapsed": false,
    "pycharm": {
     "name": "#%%\n"
    }
   }
  },
  {
   "cell_type": "code",
   "execution_count": 15,
   "outputs": [
    {
     "name": "stdout",
     "output_type": "stream",
     "text": [
      "components (columns) of feature time series: Index(['10_metre_V_wind_component', 'Snow_density', 'Snowfall', 'Visibility',\n",
      "       'Surface_pressure', 'Convective_precipitation', 'Visual_cloud_cover',\n",
      "       'Total_cloud_cover', 'Precipitation_type',\n",
      "       'Instantaneous_10_metre_wind_gust', 'Medium_cloud_cover',\n",
      "       'Total_precipitation_rate', 'Convective_available_potential_energy',\n",
      "       '10_metre_U_wind_component', 'Skin_temperature', '2_metre_temperature',\n",
      "       'Surface_solar_radiation_downwards', 'Wind_speed', 'Low_cloud_cover',\n",
      "       'Snow_depth', 'High_cloud_cover', 'Evaporation', 'Wind_Direction',\n",
      "       '2_metre_dewpoint_temperature', 'Total_precipitation',\n",
      "       '2_metre_relative_humidity',\n",
      "       'Clear_sky_direct_solar_radiation_at_surface', 'Snow_height'],\n",
      "      dtype='object', name='component')\n",
      "duration: 11657\n",
      "frequency: 1\n",
      "frequency: None\n",
      "has date time index? (or else, it must have an integer index): False\n",
      "deterministic: True\n",
      "univariate: False\n"
     ]
    }
   ],
   "source": [
    "# create time series object for the feature columns\n",
    "df_covF = df.loc[:, cols]\n",
    "ts_covF = TimeSeries.from_dataframe(df_covF)\n",
    "\n",
    "# check attributes of the time series\n",
    "print(\"components (columns) of feature time series:\", ts_covF.components)\n",
    "print(\"duration:\",ts_covF.duration)\n",
    "print(\"frequency:\",ts_covF.freq)\n",
    "print(\"frequency:\",ts_covF.freq_str)\n",
    "print(\"has date time index? (or else, it must have an integer index):\",ts_covF.has_datetime_index)\n",
    "print(\"deterministic:\",ts_covF.is_deterministic)\n",
    "print(\"univariate:\",ts_covF.is_univariate)"
   ],
   "metadata": {
    "collapsed": false,
    "pycharm": {
     "name": "#%%\n"
    }
   }
  },
  {
   "cell_type": "code",
   "execution_count": 16,
   "outputs": [
    {
     "name": "stdout",
     "output_type": "stream",
     "text": [
      "training start: 0\n",
      "training end: 10491\n",
      "training duration: 10491\n",
      "test start: 10492\n",
      "test end: 11657\n",
      "test duration: 1165\n",
      "first and last row of scaled price time series:\n"
     ]
    },
    {
     "data": {
      "text/plain": "component  predict\ntime              \n0             0.00\n11657         0.43",
      "text/html": "<div>\n<style scoped>\n    .dataframe tbody tr th:only-of-type {\n        vertical-align: middle;\n    }\n\n    .dataframe tbody tr th {\n        vertical-align: top;\n    }\n\n    .dataframe thead th {\n        text-align: right;\n    }\n</style>\n<table border=\"1\" class=\"dataframe\">\n  <thead>\n    <tr style=\"text-align: right;\">\n      <th>component</th>\n      <th>predict</th>\n    </tr>\n    <tr>\n      <th>time</th>\n      <th></th>\n    </tr>\n  </thead>\n  <tbody>\n    <tr>\n      <th>0</th>\n      <td>0.00</td>\n    </tr>\n    <tr>\n      <th>11657</th>\n      <td>0.43</td>\n    </tr>\n  </tbody>\n</table>\n</div>"
     },
     "execution_count": 16,
     "metadata": {},
     "output_type": "execute_result"
    }
   ],
   "source": [
    "# train/test split and scaling of target variable\n",
    "ts_train, ts_test = ts_P.split_after(SPLIT)\n",
    "print(\"training start:\", ts_train.start_time())\n",
    "print(\"training end:\", ts_train.end_time())\n",
    "print(\"training duration:\",ts_train.duration)\n",
    "print(\"test start:\", ts_test.start_time())\n",
    "print(\"test end:\", ts_test.end_time())\n",
    "print(\"test duration:\", ts_test.duration)\n",
    "\n",
    "\n",
    "scalerP = Scaler()\n",
    "scalerP.fit_transform(ts_train)\n",
    "ts_ttrain = scalerP.transform(ts_train)\n",
    "ts_ttest = scalerP.transform(ts_test)\n",
    "ts_t = scalerP.transform(ts_P)\n",
    "\n",
    "# make sure data are of type float\n",
    "ts_t = ts_t.astype(np.float32)\n",
    "ts_ttrain = ts_ttrain.astype(np.float32)\n",
    "ts_ttest = ts_ttest.astype(np.float32)\n",
    "\n",
    "print(\"first and last row of scaled price time series:\")\n",
    "pd.options.display.float_format = '{:,.2f}'.format\n",
    "ts_t.pd_dataframe().iloc[[0,-1]]"
   ],
   "metadata": {
    "collapsed": false,
    "pycharm": {
     "name": "#%%\n"
    }
   }
  },
  {
   "cell_type": "code",
   "execution_count": 17,
   "outputs": [
    {
     "name": "stdout",
     "output_type": "stream",
     "text": [
      "first and last row of scaled feature covariates:\n"
     ]
    },
    {
     "data": {
      "text/plain": "component  10_metre_V_wind_component  Snow_density  Snowfall  Visibility  \\\ntime                                                                       \n0                               0.44          0.50      0.00        0.00   \n11657                           0.31          0.03      0.00        0.47   \n\ncomponent  Surface_pressure  Convective_precipitation  Visual_cloud_cover  \\\ntime                                                                        \n0                      0.48                      0.00                0.01   \n11657                  0.50                      0.01                0.57   \n\ncomponent  Total_cloud_cover  Precipitation_type  \\\ntime                                               \n0                       0.01                0.07   \n11657                   0.78                1.00   \n\ncomponent  Instantaneous_10_metre_wind_gust  ...  Low_cloud_cover  Snow_depth  \\\ntime                                         ...                                \n0                                      0.48  ...             0.01        0.00   \n11657                                  0.00  ...             0.39        0.00   \n\ncomponent  High_cloud_cover  Evaporation  Wind_Direction  \\\ntime                                                       \n0                      0.00         0.12            0.79   \n11657                  0.61         0.12            0.09   \n\ncomponent  2_metre_dewpoint_temperature  Total_precipitation  \\\ntime                                                           \n0                                  0.03                 0.00   \n11657                              0.84                 0.00   \n\ncomponent  2_metre_relative_humidity  \\\ntime                                   \n0                               0.61   \n11657                           0.43   \n\ncomponent  Clear_sky_direct_solar_radiation_at_surface  Snow_height  \ntime                                                                 \n0                                                 0.00         0.00  \n11657                                             0.54         0.00  \n\n[2 rows x 28 columns]",
      "text/html": "<div>\n<style scoped>\n    .dataframe tbody tr th:only-of-type {\n        vertical-align: middle;\n    }\n\n    .dataframe tbody tr th {\n        vertical-align: top;\n    }\n\n    .dataframe thead th {\n        text-align: right;\n    }\n</style>\n<table border=\"1\" class=\"dataframe\">\n  <thead>\n    <tr style=\"text-align: right;\">\n      <th>component</th>\n      <th>10_metre_V_wind_component</th>\n      <th>Snow_density</th>\n      <th>Snowfall</th>\n      <th>Visibility</th>\n      <th>Surface_pressure</th>\n      <th>Convective_precipitation</th>\n      <th>Visual_cloud_cover</th>\n      <th>Total_cloud_cover</th>\n      <th>Precipitation_type</th>\n      <th>Instantaneous_10_metre_wind_gust</th>\n      <th>...</th>\n      <th>Low_cloud_cover</th>\n      <th>Snow_depth</th>\n      <th>High_cloud_cover</th>\n      <th>Evaporation</th>\n      <th>Wind_Direction</th>\n      <th>2_metre_dewpoint_temperature</th>\n      <th>Total_precipitation</th>\n      <th>2_metre_relative_humidity</th>\n      <th>Clear_sky_direct_solar_radiation_at_surface</th>\n      <th>Snow_height</th>\n    </tr>\n    <tr>\n      <th>time</th>\n      <th></th>\n      <th></th>\n      <th></th>\n      <th></th>\n      <th></th>\n      <th></th>\n      <th></th>\n      <th></th>\n      <th></th>\n      <th></th>\n      <th></th>\n      <th></th>\n      <th></th>\n      <th></th>\n      <th></th>\n      <th></th>\n      <th></th>\n      <th></th>\n      <th></th>\n      <th></th>\n      <th></th>\n    </tr>\n  </thead>\n  <tbody>\n    <tr>\n      <th>0</th>\n      <td>0.44</td>\n      <td>0.50</td>\n      <td>0.00</td>\n      <td>0.00</td>\n      <td>0.48</td>\n      <td>0.00</td>\n      <td>0.01</td>\n      <td>0.01</td>\n      <td>0.07</td>\n      <td>0.48</td>\n      <td>...</td>\n      <td>0.01</td>\n      <td>0.00</td>\n      <td>0.00</td>\n      <td>0.12</td>\n      <td>0.79</td>\n      <td>0.03</td>\n      <td>0.00</td>\n      <td>0.61</td>\n      <td>0.00</td>\n      <td>0.00</td>\n    </tr>\n    <tr>\n      <th>11657</th>\n      <td>0.31</td>\n      <td>0.03</td>\n      <td>0.00</td>\n      <td>0.47</td>\n      <td>0.50</td>\n      <td>0.01</td>\n      <td>0.57</td>\n      <td>0.78</td>\n      <td>1.00</td>\n      <td>0.00</td>\n      <td>...</td>\n      <td>0.39</td>\n      <td>0.00</td>\n      <td>0.61</td>\n      <td>0.12</td>\n      <td>0.09</td>\n      <td>0.84</td>\n      <td>0.00</td>\n      <td>0.43</td>\n      <td>0.54</td>\n      <td>0.00</td>\n    </tr>\n  </tbody>\n</table>\n<p>2 rows × 28 columns</p>\n</div>"
     },
     "execution_count": 17,
     "metadata": {},
     "output_type": "execute_result"
    }
   ],
   "source": [
    "# train/test split and scaling of feature covariates\n",
    "covF_train, covF_test = ts_covF.split_after(SPLIT)\n",
    "\n",
    "scalerF = Scaler()\n",
    "scalerF.fit_transform(covF_train)\n",
    "covF_ttrain = scalerF.transform(covF_train)\n",
    "covF_ttest = scalerF.transform(covF_test)\n",
    "covF_t = scalerF.transform(ts_covF)\n",
    "\n",
    "# make sure data are of type float\n",
    "covF_ttrain = covF_ttrain.astype(np.float32)\n",
    "covF_ttest = covF_ttest.astype(np.float32)\n",
    "\n",
    "pd.options.display.float_format = '{:.2f}'.format\n",
    "print(\"first and last row of scaled feature covariates:\")\n",
    "covF_t.pd_dataframe().iloc[[0,-1]]"
   ],
   "metadata": {
    "collapsed": false,
    "pycharm": {
     "name": "#%%\n"
    }
   }
  },
  {
   "cell_type": "code",
   "execution_count": 18,
   "outputs": [
    {
     "ename": "AttributeError",
     "evalue": "'RangeIndex' object has no attribute 'freq'",
     "output_type": "error",
     "traceback": [
      "\u001B[0;31m---------------------------------------------------------------------------\u001B[0m",
      "\u001B[0;31mAttributeError\u001B[0m                            Traceback (most recent call last)",
      "Cell \u001B[0;32mIn [18], line 2\u001B[0m\n\u001B[1;32m      1\u001B[0m \u001B[38;5;66;03m# feature engineering - create time covariates: hour, weekday, month, year, country-specific holidays\u001B[39;00m\n\u001B[0;32m----> 2\u001B[0m covT \u001B[38;5;241m=\u001B[39m \u001B[43mdatetime_attribute_timeseries\u001B[49m\u001B[43m(\u001B[49m\u001B[43m \u001B[49m\u001B[43mts_P\u001B[49m\u001B[38;5;241;43m.\u001B[39;49m\u001B[43mtime_index\u001B[49m\u001B[43m,\u001B[49m\u001B[43m \u001B[49m\u001B[43mattribute\u001B[49m\u001B[38;5;241;43m=\u001B[39;49m\u001B[38;5;124;43m\"\u001B[39;49m\u001B[38;5;124;43mhour\u001B[39;49m\u001B[38;5;124;43m\"\u001B[39;49m\u001B[43m,\u001B[49m\u001B[43m \u001B[49m\u001B[43madd_length\u001B[49m\u001B[38;5;241;43m=\u001B[39;49m\u001B[38;5;241;43m48\u001B[39;49m\u001B[43m \u001B[49m\u001B[43m)\u001B[49m   \u001B[38;5;66;03m# 48 hours beyond end of test set to prepare for out-of-sample forecasting\u001B[39;00m\n\u001B[1;32m      3\u001B[0m covT \u001B[38;5;241m=\u001B[39m covT\u001B[38;5;241m.\u001B[39mstack(  datetime_attribute_timeseries(covT\u001B[38;5;241m.\u001B[39mtime_index, attribute\u001B[38;5;241m=\u001B[39m\u001B[38;5;124m\"\u001B[39m\u001B[38;5;124mday_of_week\u001B[39m\u001B[38;5;124m\"\u001B[39m)  )\n\u001B[1;32m      4\u001B[0m covT \u001B[38;5;241m=\u001B[39m covT\u001B[38;5;241m.\u001B[39mstack(  datetime_attribute_timeseries(covT\u001B[38;5;241m.\u001B[39mtime_index, attribute\u001B[38;5;241m=\u001B[39m\u001B[38;5;124m\"\u001B[39m\u001B[38;5;124mmonth\u001B[39m\u001B[38;5;124m\"\u001B[39m)  )\n",
      "File \u001B[0;32m~/anaconda3/envs/energy/lib/python3.10/site-packages/darts/utils/timeseries_generation.py:639\u001B[0m, in \u001B[0;36mdatetime_attribute_timeseries\u001B[0;34m(time_index, attribute, one_hot, cyclic, until, add_length, dtype, with_columns)\u001B[0m\n\u001B[1;32m    636\u001B[0m \u001B[38;5;28;01mif\u001B[39;00m \u001B[38;5;28misinstance\u001B[39m(time_index, TimeSeries):\n\u001B[1;32m    637\u001B[0m     time_index \u001B[38;5;241m=\u001B[39m time_index\u001B[38;5;241m.\u001B[39mtime_index\n\u001B[0;32m--> 639\u001B[0m time_index \u001B[38;5;241m=\u001B[39m \u001B[43m_extend_time_index_until\u001B[49m\u001B[43m(\u001B[49m\u001B[43mtime_index\u001B[49m\u001B[43m,\u001B[49m\u001B[43m \u001B[49m\u001B[43muntil\u001B[49m\u001B[43m,\u001B[49m\u001B[43m \u001B[49m\u001B[43madd_length\u001B[49m\u001B[43m)\u001B[49m\n\u001B[1;32m    641\u001B[0m raise_if_not(\n\u001B[1;32m    642\u001B[0m     \u001B[38;5;28mhasattr\u001B[39m(pd\u001B[38;5;241m.\u001B[39mDatetimeIndex, attribute)\n\u001B[1;32m    643\u001B[0m     \u001B[38;5;129;01mor\u001B[39;00m (attribute \u001B[38;5;129;01min\u001B[39;00m [\u001B[38;5;124m\"\u001B[39m\u001B[38;5;124mweek\u001B[39m\u001B[38;5;124m\"\u001B[39m, \u001B[38;5;124m\"\u001B[39m\u001B[38;5;124mweekofyear\u001B[39m\u001B[38;5;124m\"\u001B[39m, \u001B[38;5;124m\"\u001B[39m\u001B[38;5;124mweek_of_year\u001B[39m\u001B[38;5;124m\"\u001B[39m]),\n\u001B[0;32m   (...)\u001B[0m\n\u001B[1;32m    647\u001B[0m     logger,\n\u001B[1;32m    648\u001B[0m )\n\u001B[1;32m    650\u001B[0m raise_if(one_hot \u001B[38;5;129;01mand\u001B[39;00m cyclic, \u001B[38;5;124m\"\u001B[39m\u001B[38;5;124mset only one of one_hot or cyclic to true\u001B[39m\u001B[38;5;124m\"\u001B[39m, logger)\n",
      "File \u001B[0;32m~/anaconda3/envs/energy/lib/python3.10/site-packages/darts/utils/timeseries_generation.py:471\u001B[0m, in \u001B[0;36m_extend_time_index_until\u001B[0;34m(time_index, until, add_length)\u001B[0m\n\u001B[1;32m    468\u001B[0m raise_if(\u001B[38;5;28mbool\u001B[39m(add_length) \u001B[38;5;129;01mand\u001B[39;00m \u001B[38;5;28mbool\u001B[39m(until), \u001B[38;5;124m\"\u001B[39m\u001B[38;5;124mset only one of add_length and until\u001B[39m\u001B[38;5;124m\"\u001B[39m)\n\u001B[1;32m    470\u001B[0m end \u001B[38;5;241m=\u001B[39m time_index[\u001B[38;5;241m-\u001B[39m\u001B[38;5;241m1\u001B[39m]\n\u001B[0;32m--> 471\u001B[0m freq \u001B[38;5;241m=\u001B[39m \u001B[43mtime_index\u001B[49m\u001B[38;5;241;43m.\u001B[39;49m\u001B[43mfreq\u001B[49m\n\u001B[1;32m    473\u001B[0m \u001B[38;5;28;01mif\u001B[39;00m add_length:\n\u001B[1;32m    474\u001B[0m     raise_if_not(\n\u001B[1;32m    475\u001B[0m         add_length \u001B[38;5;241m>\u001B[39m\u001B[38;5;241m=\u001B[39m \u001B[38;5;241m0\u001B[39m,\n\u001B[1;32m    476\u001B[0m         \u001B[38;5;124mf\u001B[39m\u001B[38;5;124m\"\u001B[39m\u001B[38;5;124mExpected add_length, by which to extend the time series by, \u001B[39m\u001B[38;5;124m\"\u001B[39m\n\u001B[1;32m    477\u001B[0m         \u001B[38;5;124mf\u001B[39m\u001B[38;5;124m\"\u001B[39m\u001B[38;5;124mto be positive, got \u001B[39m\u001B[38;5;132;01m{\u001B[39;00madd_length\u001B[38;5;132;01m}\u001B[39;00m\u001B[38;5;124m\"\u001B[39m,\n\u001B[1;32m    478\u001B[0m     )\n",
      "\u001B[0;31mAttributeError\u001B[0m: 'RangeIndex' object has no attribute 'freq'"
     ]
    }
   ],
   "source": [
    "# feature engineering - create time covariates: hour, weekday, month, year, country-specific holidays\n",
    "covT = datetime_attribute_timeseries( ts_P.time_index, attribute=\"hour\", add_length=48 )   # 48 hours beyond end of test set to prepare for out-of-sample forecasting\n",
    "covT = covT.stack(  datetime_attribute_timeseries(covT.time_index, attribute=\"day_of_week\")  )\n",
    "covT = covT.stack(  datetime_attribute_timeseries(covT.time_index, attribute=\"month\")  )\n",
    "covT = covT.stack(  datetime_attribute_timeseries(covT.time_index, attribute=\"year\")  )\n",
    "\n",
    "covT = covT.add_holidays(country_code=\"RU\")\n",
    "covT = covT.astype(np.float32)\n",
    "\n",
    "# train/test split\n",
    "covT_train, covT_test = covT.split_after(ts_train.end_time())\n",
    "\n",
    "\n",
    "# rescale the covariates: fitting on the training set\n",
    "scalerT = Scaler()\n",
    "scalerT.fit(covT_train)\n",
    "covT_ttrain = scalerT.transform(covT_train)\n",
    "covT_ttest = scalerT.transform(covT_test)\n",
    "covT_t = scalerT.transform(covT)\n",
    "\n",
    "covT_t = covT_t.astype(np.float32)\n",
    "\n",
    "pd.options.display.float_format = '{:.0f}'.format\n",
    "print(\"first and last row of unscaled time covariates:\")\n",
    "covT.pd_dataframe().iloc[[0,-1]]"
   ],
   "metadata": {
    "collapsed": false,
    "pycharm": {
     "name": "#%%\n"
    }
   }
  },
  {
   "cell_type": "code",
   "execution_count": 19,
   "outputs": [],
   "source": [
    "# dfX[\"ysin\"] = np.sin( 2 * np.pi * dfX[\"week\"] / (365.25/7) )\n",
    "# dfX[\"ycos\"] = np.cos( 2 * np.pi * dfX[\"week\"] / (365.25/7) )"
   ],
   "metadata": {
    "collapsed": false,
    "pycharm": {
     "name": "#%%\n"
    }
   }
  },
  {
   "cell_type": "code",
   "execution_count": 20,
   "outputs": [
    {
     "ename": "NameError",
     "evalue": "name 'covT' is not defined",
     "output_type": "error",
     "traceback": [
      "\u001B[0;31m---------------------------------------------------------------------------\u001B[0m",
      "\u001B[0;31mNameError\u001B[0m                                 Traceback (most recent call last)",
      "Cell \u001B[0;32mIn [20], line 2\u001B[0m\n\u001B[1;32m      1\u001B[0m \u001B[38;5;66;03m# combine feature and time covariates along component dimension: axis=1\u001B[39;00m\n\u001B[0;32m----> 2\u001B[0m ts_cov \u001B[38;5;241m=\u001B[39m ts_covF\u001B[38;5;241m.\u001B[39mconcatenate( \u001B[43mcovT\u001B[49m\u001B[38;5;241m.\u001B[39mslice_intersect(ts_covF), axis\u001B[38;5;241m=\u001B[39m\u001B[38;5;241m1\u001B[39m )                      \u001B[38;5;66;03m# unscaled F+T\u001B[39;00m\n\u001B[1;32m      3\u001B[0m cov_t \u001B[38;5;241m=\u001B[39m covF_t\u001B[38;5;241m.\u001B[39mconcatenate( covT_t\u001B[38;5;241m.\u001B[39mslice_intersect(covF_t), axis\u001B[38;5;241m=\u001B[39m\u001B[38;5;241m1\u001B[39m )                       \u001B[38;5;66;03m# scaled F+T\u001B[39;00m\n\u001B[1;32m      4\u001B[0m cov_ttrain \u001B[38;5;241m=\u001B[39m covF_ttrain\u001B[38;5;241m.\u001B[39mconcatenate( covT_ttrain\u001B[38;5;241m.\u001B[39mslice_intersect(covF_ttrain), axis\u001B[38;5;241m=\u001B[39m\u001B[38;5;241m1\u001B[39m )   \u001B[38;5;66;03m# scaled F+T training set\u001B[39;00m\n",
      "\u001B[0;31mNameError\u001B[0m: name 'covT' is not defined"
     ]
    }
   ],
   "source": [
    "# combine feature and time covariates along component dimension: axis=1\n",
    "ts_cov = ts_covF.concatenate( covT.slice_intersect(ts_covF), axis=1 )                      # unscaled F+T\n",
    "cov_t = covF_t.concatenate( covT_t.slice_intersect(covF_t), axis=1 )                       # scaled F+T\n",
    "cov_ttrain = covF_ttrain.concatenate( covT_ttrain.slice_intersect(covF_ttrain), axis=1 )   # scaled F+T training set\n",
    "cov_ttest = covF_ttest.concatenate( covT_ttest.slice_intersect(covF_ttest), axis=1 )       # scaled F+T test set\n",
    "\n",
    "pd.options.display.float_format = '{:.2f}'.format\n",
    "print(\"first and last row of unscaled covariates:\")\n",
    "ts_cov.pd_dataframe().iloc[[0,-1]]"
   ],
   "metadata": {
    "collapsed": false,
    "pycharm": {
     "name": "#%%\n"
    }
   }
  },
  {
   "cell_type": "code",
   "execution_count": 21,
   "outputs": [
    {
     "name": "stdout",
     "output_type": "stream",
     "text": [
      "first and last row of unscaled covariates:\n"
     ]
    },
    {
     "data": {
      "text/plain": "component  10_metre_V_wind_component  Snow_density  Snowfall  Visibility  \\\ntime                                                                       \n0                              -0.81        192.13      0.00    11151.34   \n11657                          -2.60          0.00      0.00 24134921.98   \n\ncomponent  Surface_pressure  Convective_precipitation  Visual_cloud_cover  \\\ntime                                                                        \n0                  94916.30                      0.00                0.84   \n11657              95044.20                      0.12               57.43   \n\ncomponent  Total_cloud_cover  Precipitation_type  \\\ntime                                               \n0                       0.84                5.00   \n11657                  78.33              255.00   \n\ncomponent  Instantaneous_10_metre_wind_gust  ...  Low_cloud_cover  Snow_depth  \\\ntime                                         ...                                \n0                                     10.20  ...             0.84        0.10   \n11657                                  0.00  ...            39.28        0.00   \n\ncomponent  High_cloud_cover  Evaporation  Wind_Direction  \\\ntime                                                       \n0                      0.00         0.00          280.00   \n11657                 61.40         0.00           22.50   \n\ncomponent  2_metre_dewpoint_temperature  Total_precipitation  \\\ntime                                                           \n0                                -31.40                 0.00   \n11657                             11.10                 0.00   \n\ncomponent  2_metre_relative_humidity  \\\ntime                                   \n0                              65.00   \n11657                          49.00   \n\ncomponent  Clear_sky_direct_solar_radiation_at_surface  Snow_height  \ntime                                                                 \n0                                                 0.00       511.42  \n11657                                      12831796.80         0.00  \n\n[2 rows x 28 columns]",
      "text/html": "<div>\n<style scoped>\n    .dataframe tbody tr th:only-of-type {\n        vertical-align: middle;\n    }\n\n    .dataframe tbody tr th {\n        vertical-align: top;\n    }\n\n    .dataframe thead th {\n        text-align: right;\n    }\n</style>\n<table border=\"1\" class=\"dataframe\">\n  <thead>\n    <tr style=\"text-align: right;\">\n      <th>component</th>\n      <th>10_metre_V_wind_component</th>\n      <th>Snow_density</th>\n      <th>Snowfall</th>\n      <th>Visibility</th>\n      <th>Surface_pressure</th>\n      <th>Convective_precipitation</th>\n      <th>Visual_cloud_cover</th>\n      <th>Total_cloud_cover</th>\n      <th>Precipitation_type</th>\n      <th>Instantaneous_10_metre_wind_gust</th>\n      <th>...</th>\n      <th>Low_cloud_cover</th>\n      <th>Snow_depth</th>\n      <th>High_cloud_cover</th>\n      <th>Evaporation</th>\n      <th>Wind_Direction</th>\n      <th>2_metre_dewpoint_temperature</th>\n      <th>Total_precipitation</th>\n      <th>2_metre_relative_humidity</th>\n      <th>Clear_sky_direct_solar_radiation_at_surface</th>\n      <th>Snow_height</th>\n    </tr>\n    <tr>\n      <th>time</th>\n      <th></th>\n      <th></th>\n      <th></th>\n      <th></th>\n      <th></th>\n      <th></th>\n      <th></th>\n      <th></th>\n      <th></th>\n      <th></th>\n      <th></th>\n      <th></th>\n      <th></th>\n      <th></th>\n      <th></th>\n      <th></th>\n      <th></th>\n      <th></th>\n      <th></th>\n      <th></th>\n      <th></th>\n    </tr>\n  </thead>\n  <tbody>\n    <tr>\n      <th>0</th>\n      <td>-0.81</td>\n      <td>192.13</td>\n      <td>0.00</td>\n      <td>11151.34</td>\n      <td>94916.30</td>\n      <td>0.00</td>\n      <td>0.84</td>\n      <td>0.84</td>\n      <td>5.00</td>\n      <td>10.20</td>\n      <td>...</td>\n      <td>0.84</td>\n      <td>0.10</td>\n      <td>0.00</td>\n      <td>0.00</td>\n      <td>280.00</td>\n      <td>-31.40</td>\n      <td>0.00</td>\n      <td>65.00</td>\n      <td>0.00</td>\n      <td>511.42</td>\n    </tr>\n    <tr>\n      <th>11657</th>\n      <td>-2.60</td>\n      <td>0.00</td>\n      <td>0.00</td>\n      <td>24134921.98</td>\n      <td>95044.20</td>\n      <td>0.12</td>\n      <td>57.43</td>\n      <td>78.33</td>\n      <td>255.00</td>\n      <td>0.00</td>\n      <td>...</td>\n      <td>39.28</td>\n      <td>0.00</td>\n      <td>61.40</td>\n      <td>0.00</td>\n      <td>22.50</td>\n      <td>11.10</td>\n      <td>0.00</td>\n      <td>49.00</td>\n      <td>12831796.80</td>\n      <td>0.00</td>\n    </tr>\n  </tbody>\n</table>\n<p>2 rows × 28 columns</p>\n</div>"
     },
     "execution_count": 21,
     "metadata": {},
     "output_type": "execute_result"
    }
   ],
   "source": [
    "ts_cov = ts_covF                     # unscaled F+T\n",
    "cov_t = covF_t                      # scaled F+T\n",
    "cov_ttrain = covF_ttrain   # scaled F+T training set\n",
    "cov_ttest = covF_ttest      # scaled F+T test set\n",
    "\n",
    "pd.options.display.float_format = '{:.2f}'.format\n",
    "print(\"first and last row of unscaled covariates:\")\n",
    "ts_cov.pd_dataframe().iloc[[0,-1]]"
   ],
   "metadata": {
    "collapsed": false,
    "pycharm": {
     "name": "#%%\n"
    }
   }
  },
  {
   "cell_type": "code",
   "execution_count": 21,
   "outputs": [],
   "source": [],
   "metadata": {
    "collapsed": false,
    "pycharm": {
     "name": "#%%\n"
    }
   }
  },
  {
   "cell_type": "code",
   "execution_count": 41,
   "outputs": [],
   "source": [
    "\n",
    "model = TFTModel(   input_chunk_length=INLEN,\n",
    "                    output_chunk_length=N_FC,\n",
    "                    hidden_size=HIDDEN,\n",
    "                    lstm_layers=LSTMLAYERS,\n",
    "                    num_attention_heads=ATTH,\n",
    "                    dropout=DROPOUT,\n",
    "                    batch_size=BATCH,\n",
    "                    n_epochs=1,#EPOCHS,\n",
    "                    nr_epochs_val_period=VALWAIT,\n",
    "                    likelihood=QuantileRegression(QUANTILES),\n",
    "                    optimizer_kwargs={\"lr\": LEARN},\n",
    "                    model_name=\"TFT_EnergyES\",\n",
    "                    log_tensorboard=True,\n",
    "                    random_state=RAND,\n",
    "                    force_reset=True,\n",
    "                    save_checkpoints=True\n",
    "                )"
   ],
   "metadata": {
    "collapsed": false,
    "pycharm": {
     "name": "#%%\n"
    }
   }
  },
  {
   "cell_type": "code",
   "execution_count": 42,
   "outputs": [],
   "source": [
    "cov_t = cov_t.astype('float32')"
   ],
   "metadata": {
    "collapsed": false,
    "pycharm": {
     "name": "#%%\n"
    }
   }
  },
  {
   "cell_type": "code",
   "execution_count": 43,
   "outputs": [
    {
     "data": {
      "text/plain": "Sanity Checking: 0it [00:00, ?it/s]",
      "application/vnd.jupyter.widget-view+json": {
       "version_major": 2,
       "version_minor": 0,
       "model_id": "89e2358fdaa74bef87ded833312891fd"
      }
     },
     "metadata": {},
     "output_type": "display_data"
    },
    {
     "data": {
      "text/plain": "Training: 0it [00:00, ?it/s]",
      "application/vnd.jupyter.widget-view+json": {
       "version_major": 2,
       "version_minor": 0,
       "model_id": "ed27b96157574ec4b11eb5c7d1f80a45"
      }
     },
     "metadata": {},
     "output_type": "display_data"
    },
    {
     "data": {
      "text/plain": "Validation: 0it [00:00, ?it/s]",
      "application/vnd.jupyter.widget-view+json": {
       "version_major": 2,
       "version_minor": 0,
       "model_id": "90b398825cdb450c9a3507c5133c241a"
      }
     },
     "metadata": {},
     "output_type": "display_data"
    },
    {
     "name": "stdout",
     "output_type": "stream",
     "text": [
      "have saved the model after training: /home/kpavel/PycharmProjects/ITMO_Hack_2022/experiments/exp1/_TFT_model_02.pth.tar\n"
     ]
    }
   ],
   "source": [
    "# training: load a saved model or (re)train\n",
    "if LOAD:\n",
    "    print(\"have loaded a previously saved model from disk:\" + mpath)\n",
    "    model = TFTModel.load_model(mpath)                            # load previously model from disk\n",
    "else:\n",
    "    model.fit(series=ts_ttrain,\n",
    "              future_covariates=cov_t,\n",
    "              val_series=ts_ttest,\n",
    "              val_future_covariates=cov_t,\n",
    "              verbose=True)\n",
    "    print(\"have saved the model after training:\", mpath)\n",
    "    model.save_model('TFT_model_02.pth.tar')"
   ],
   "metadata": {
    "collapsed": false,
    "pycharm": {
     "name": "#%%\n"
    }
   }
  },
  {
   "cell_type": "code",
   "execution_count": 105,
   "outputs": [],
   "source": [
    "model.save_model('TFT_model_02.pth.tar')"
   ],
   "metadata": {
    "collapsed": false,
    "pycharm": {
     "name": "#%%\n"
    }
   }
  },
  {
   "cell_type": "code",
   "execution_count": 33,
   "outputs": [
    {
     "data": {
      "text/plain": "<darts.models.forecasting.tft_model.TFTModel at 0x7f7269385900>"
     },
     "execution_count": 33,
     "metadata": {},
     "output_type": "execute_result"
    }
   ],
   "source": [
    "model.load_model('TFT_model_02.pth.tar')"
   ],
   "metadata": {
    "collapsed": false,
    "pycharm": {
     "name": "#%%\n"
    }
   }
  },
  {
   "cell_type": "code",
   "execution_count": 60,
   "outputs": [
    {
     "data": {
      "text/plain": "Predicting: 327it [00:00, ?it/s]",
      "application/vnd.jupyter.widget-view+json": {
       "version_major": 2,
       "version_minor": 0,
       "model_id": "6daa145a4eec4ac398ffda210824bd0c"
      }
     },
     "metadata": {},
     "output_type": "display_data"
    }
   ],
   "source": [
    "ts_tpred = model.predict(#series=ts_ttest,\n",
    "                         n=len(ts_ttest),\n",
    "                         num_samples=N_SAMPLES,\n",
    "                         n_jobs=N_JOBS,\n",
    "                         verbose=True)"
   ],
   "metadata": {
    "collapsed": false,
    "pycharm": {
     "name": "#%%\n"
    }
   }
  },
  {
   "cell_type": "code",
   "execution_count": null,
   "outputs": [],
   "source": [],
   "metadata": {
    "collapsed": false,
    "pycharm": {
     "name": "#%%\n"
    }
   }
  },
  {
   "cell_type": "code",
   "execution_count": null,
   "outputs": [],
   "source": [],
   "metadata": {
    "collapsed": false,
    "pycharm": {
     "name": "#%%\n"
    }
   }
  },
  {
   "cell_type": "code",
   "execution_count": null,
   "outputs": [],
   "source": [],
   "metadata": {
    "collapsed": false,
    "pycharm": {
     "name": "#%%\n"
    }
   }
  },
  {
   "cell_type": "code",
   "execution_count": null,
   "outputs": [],
   "source": [],
   "metadata": {
    "collapsed": false,
    "pycharm": {
     "name": "#%%\n"
    }
   }
  },
  {
   "cell_type": "code",
   "execution_count": null,
   "outputs": [],
   "source": [],
   "metadata": {
    "collapsed": false,
    "pycharm": {
     "name": "#%%\n"
    }
   }
  }
 ],
 "metadata": {
  "kernelspec": {
   "display_name": "Python 3",
   "language": "python",
   "name": "python3"
  },
  "language_info": {
   "codemirror_mode": {
    "name": "ipython",
    "version": 2
   },
   "file_extension": ".py",
   "mimetype": "text/x-python",
   "name": "python",
   "nbconvert_exporter": "python",
   "pygments_lexer": "ipython2",
   "version": "2.7.6"
  }
 },
 "nbformat": 4,
 "nbformat_minor": 0
}