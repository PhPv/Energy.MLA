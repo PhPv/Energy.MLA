{
 "cells": [
  {
   "cell_type": "code",
   "execution_count": 1,
   "outputs": [],
   "source": [
    "import warnings\n",
    "warnings.filterwarnings(\"ignore\")  # avoid printing out absolute paths\n"
   ],
   "metadata": {
    "collapsed": false,
    "pycharm": {
     "name": "#%%\n"
    }
   }
  },
  {
   "cell_type": "code",
   "execution_count": 2,
   "metadata": {
    "collapsed": true,
    "pycharm": {
     "name": "#%%\n"
    }
   },
   "outputs": [],
   "source": [
    "# imports for training\n",
    "import pandas as pd\n",
    "import numpy as np\n",
    "import pytorch_lightning as pl\n",
    "from pytorch_lightning.loggers import TensorBoardLogger\n",
    "from pytorch_lightning.callbacks import EarlyStopping, LearningRateMonitor\n",
    "# import dataset, network to train and metric to optimize\n",
    "from pytorch_forecasting import TimeSeriesDataSet, TemporalFusionTransformer, QuantileLoss"
   ]
  },
  {
   "cell_type": "code",
   "execution_count": 3,
   "outputs": [
    {
     "name": "stdout",
     "output_type": "stream",
     "text": [
      "env: CLEARML_WEB_HOST=http://148.253.62.107:8080\n",
      "env: CLEARML_API_HOST=http://148.253.62.107:8008\n",
      "env: CLEARML_FILES_HOST=http://148.253.62.107:8081\n",
      "env: CLEARML_API_ACCESS_KEY=OL9OG6XAEEURZXY317LA\n",
      "env: CLEARML_API_SECRET_KEY=O5xABmDwofVJoXRQcAODx3IQWFksGGtUf2S6JCBSDRCm4hsfqx\n"
     ]
    }
   ],
   "source": [
    "%env CLEARML_WEB_HOST=http://148.253.62.107:8080\n",
    "%env CLEARML_API_HOST=http://148.253.62.107:8008\n",
    "%env CLEARML_FILES_HOST=http://148.253.62.107:8081\n",
    "%env CLEARML_API_ACCESS_KEY=OL9OG6XAEEURZXY317LA\n",
    "%env CLEARML_API_SECRET_KEY=O5xABmDwofVJoXRQcAODx3IQWFksGGtUf2S6JCBSDRCm4hsfqx"
   ],
   "metadata": {
    "collapsed": false,
    "pycharm": {
     "name": "#%%\n"
    }
   }
  },
  {
   "cell_type": "code",
   "execution_count": 4,
   "outputs": [
    {
     "name": "stdout",
     "output_type": "stream",
     "text": [
      "ClearML Task: created new task id=9203b4ec0d1c40d0ac1b43bcf9fc7fcd\n",
      "ClearML results page: http://148.253.62.107:8080/projects/43606053e6db48478ba1120f9ba5322b/experiments/9203b4ec0d1c40d0ac1b43bcf9fc7fcd/output/log\n"
     ]
    }
   ],
   "source": [
    "from clearml import Task\n",
    "task = Task.init(project_name='TemporalFusionTransformer', task_name='Experiment Wind')"
   ],
   "metadata": {
    "collapsed": false,
    "pycharm": {
     "name": "#%%\n"
    }
   }
  },
  {
   "cell_type": "code",
   "execution_count": 5,
   "outputs": [],
   "source": [
    "df = pd.read_csv('/home/kpavel/PycharmProjects/energy/data/wind/data_preprocessed.csv', sep=',')"
   ],
   "metadata": {
    "collapsed": false,
    "pycharm": {
     "name": "#%%\n"
    }
   }
  },
  {
   "cell_type": "code",
   "execution_count": 6,
   "outputs": [],
   "source": [
    "df['time_idx_column'] = df.index"
   ],
   "metadata": {
    "collapsed": false,
    "pycharm": {
     "name": "#%%\n"
    }
   }
  },
  {
   "cell_type": "code",
   "execution_count": 7,
   "outputs": [],
   "source": [
    "df['id'] = 0"
   ],
   "metadata": {
    "collapsed": false,
    "pycharm": {
     "name": "#%%\n"
    }
   }
  },
  {
   "cell_type": "code",
   "execution_count": 8,
   "outputs": [
    {
     "data": {
      "text/plain": "(6514, 9)"
     },
     "execution_count": 8,
     "metadata": {},
     "output_type": "execute_result"
    }
   ],
   "source": [
    "df.shape"
   ],
   "metadata": {
    "collapsed": false,
    "pycharm": {
     "name": "#%%\n"
    }
   }
  },
  {
   "cell_type": "code",
   "execution_count": 9,
   "outputs": [],
   "source": [
    "df = df.dropna(subset=['dt'], axis=0)"
   ],
   "metadata": {
    "collapsed": false,
    "pycharm": {
     "name": "#%%\n"
    }
   }
  },
  {
   "cell_type": "code",
   "execution_count": 10,
   "outputs": [
    {
     "name": "stdout",
     "output_type": "stream",
     "text": [
      "2022-12-30 16:08:00,854 - clearml.Task - INFO - Storing jupyter notebook directly as code\n"
     ]
    }
   ],
   "source": [
    "df = df.dropna(axis=0)\n"
   ],
   "metadata": {
    "collapsed": false,
    "pycharm": {
     "name": "#%%\n"
    }
   }
  },
  {
   "cell_type": "code",
   "execution_count": 11,
   "outputs": [
    {
     "data": {
      "text/plain": "(3634, 9)"
     },
     "execution_count": 11,
     "metadata": {},
     "output_type": "execute_result"
    }
   ],
   "source": [
    "df[120 * 24:].shape"
   ],
   "metadata": {
    "collapsed": false,
    "pycharm": {
     "name": "#%%\n"
    }
   }
  },
  {
   "cell_type": "code",
   "execution_count": 12,
   "outputs": [],
   "source": [
    "#df['dt'] = df['dt'].astype(np.datetime64).astype(int)"
   ],
   "metadata": {
    "collapsed": false,
    "pycharm": {
     "name": "#%%\n"
    }
   }
  },
  {
   "cell_type": "code",
   "execution_count": 13,
   "outputs": [],
   "source": [
    "\n",
    "# load data: this is pandas dataframe with at least a column for\n",
    "# * the target (what you want to predict)\n",
    "# * the timeseries ID (which should be a unique string to identify each timeseries)\n",
    "# * the time of the observation (which should be a monotonically increasing integer)\n",
    "# data = df\n",
    "\n",
    "# define the dataset, i.e. add metadata to pandas dataframe for the model to understand it\n",
    "max_prediction_length = 14\n",
    "max_encoder_length = 2 * max_prediction_length\n",
    "# training_cutoff = \"2022-07-25 04:00:00\"  # day for cutoff"
   ],
   "metadata": {
    "collapsed": false,
    "pycharm": {
     "name": "#%%\n"
    }
   }
  },
  {
   "cell_type": "code",
   "execution_count": 23,
   "outputs": [],
   "source": [
    "from pytorch_forecasting import NaNLabelEncoder\n",
    "training_cutoff = df[\"time_idx_column\"].max() - max_prediction_length\n",
    "\n",
    "training = TimeSeriesDataSet(\n",
    "    df[lambda x: x.time_idx_column <= training_cutoff],\n",
    "    time_idx= 'time_idx_column',  # column name of time of observation\n",
    "    target= 'AP',  # column name of target to predict\n",
    "    group_ids=[ 'id' ],  # column name(s) for timeseries IDs\n",
    "    # allow_missing_timesteps=True,\n",
    "    min_encoder_length=max_encoder_length // 2,  # keep encoder length long (as it is in the validation set)\n",
    "    max_encoder_length=max_encoder_length,  # how much history to use\n",
    "    min_prediction_length=1,\n",
    "    max_prediction_length=max_prediction_length,  # how far to predict into future\n",
    "   # categorical_encoders={data.columns[3]: NaNLabelEncoder(add_nan=True)}\n",
    "    add_relative_time_idx=True,\n",
    ")"
   ],
   "metadata": {
    "collapsed": false,
    "pycharm": {
     "name": "#%%\n"
    }
   }
  },
  {
   "cell_type": "code",
   "execution_count": 24,
   "outputs": [],
   "source": [
    "\n",
    "# create validation set (predict=True) which means to predict the last max_prediction_length points in time\n",
    "# for each series\n",
    "validation = TimeSeriesDataSet.from_dataset(training, df,\n",
    "                                            predict=False,\n",
    "                                            stop_randomization=True\n",
    "                                            )\n",
    "\n",
    "# create dataloaders for model\n",
    "batch_size = 64  # set this between 32 to 128\n",
    "train_dataloader = training.to_dataloader(train=True, batch_size=batch_size, num_workers=0)\n",
    "val_dataloader = validation.to_dataloader(train=False, batch_size=batch_size, num_workers=0)"
   ],
   "metadata": {
    "collapsed": false,
    "pycharm": {
     "name": "#%%\n"
    }
   }
  },
  {
   "cell_type": "code",
   "execution_count": 22,
   "outputs": [
    {
     "name": "stdout",
     "output_type": "stream",
     "text": [
      "102\n"
     ]
    }
   ],
   "source": [
    "# iss = []\n",
    "# for i, el in enumerate(train_dataloader):\n",
    "#     iss.append(i)\n",
    "#\n",
    "# print(len(iss))\n",
    "# iss = []\n",
    "# for i, el in enumerate(val_dataloader):\n",
    "#     iss.append(i)\n",
    "#\n",
    "# print(len(iss))"
   ],
   "metadata": {
    "collapsed": false,
    "pycharm": {
     "name": "#%%\n"
    }
   }
  },
  {
   "cell_type": "code",
   "execution_count": 20,
   "outputs": [],
   "source": [],
   "metadata": {
    "collapsed": false,
    "pycharm": {
     "name": "#%%\n"
    }
   }
  },
  {
   "cell_type": "code",
   "execution_count": 17,
   "outputs": [
    {
     "name": "stderr",
     "output_type": "stream",
     "text": [
      "/home/kpavel/anaconda3/envs/energy/lib/python3.9/site-packages/pytorch_lightning/trainer/connectors/accelerator_connector.py:441: LightningDeprecationWarning:\n",
      "\n",
      "Setting `Trainer(gpus=1)` is deprecated in v1.7 and will be removed in v2.0. Please use `Trainer(accelerator='gpu', devices=1)` instead.\n",
      "\n",
      "GPU available: True (cuda), used: True\n",
      "TPU available: False, using: 0 TPU cores\n",
      "IPU available: False, using: 0 IPUs\n",
      "HPU available: False, using: 0 HPUs\n"
     ]
    }
   ],
   "source": [
    "\n",
    "# create PyTorch Lighning Trainer with early stopping\n",
    "early_stop_callback = EarlyStopping(monitor=\"val_loss\", min_delta=1e-4, patience=1, verbose=False, mode=\"min\")\n",
    "lr_logger = LearningRateMonitor()\n",
    "trainer = pl.Trainer(\n",
    "    max_epochs=100,\n",
    "    gpus=1,  # run on CPU, if on multiple GPUs, use accelerator=\"ddp\"\n",
    "    gradient_clip_val=0.1,\n",
    "    limit_train_batches=30,  # 30 batches per epoch\n",
    "    callbacks=[lr_logger, early_stop_callback],\n",
    "    logger=TensorBoardLogger(\"lightning_logs\")\n",
    ")"
   ],
   "metadata": {
    "collapsed": false,
    "pycharm": {
     "name": "#%%\n"
    }
   }
  },
  {
   "cell_type": "code",
   "execution_count": 18,
   "outputs": [
    {
     "name": "stderr",
     "output_type": "stream",
     "text": [
      "Global seed set to 42\n",
      "/home/kpavel/anaconda3/envs/energy/lib/python3.9/site-packages/pytorch_lightning/trainer/connectors/accelerator_connector.py:441: LightningDeprecationWarning:\n",
      "\n",
      "Setting `Trainer(gpus=1)` is deprecated in v1.7 and will be removed in v2.0. Please use `Trainer(accelerator='gpu', devices=1)` instead.\n",
      "\n",
      "GPU available: True (cuda), used: True\n",
      "TPU available: False, using: 0 TPU cores\n",
      "IPU available: False, using: 0 IPUs\n",
      "HPU available: False, using: 0 HPUs\n"
     ]
    },
    {
     "name": "stdout",
     "output_type": "stream",
     "text": [
      "Number of parameters in network: 15.8k\n"
     ]
    }
   ],
   "source": [
    "# configure network and trainer\n",
    "pl.seed_everything(42)\n",
    "trainer = pl.Trainer(\n",
    "    gpus=1,\n",
    "    # clipping gradients is a hyperparameter and important to prevent divergance\n",
    "    # of the gradient for recurrent neural networks\n",
    "    gradient_clip_val=0.1,\n",
    ")\n",
    "\n",
    "\n",
    "tft = TemporalFusionTransformer.from_dataset(\n",
    "    training,\n",
    "    # not meaningful for finding the learning rate but otherwise very important\n",
    "    learning_rate=0.03,\n",
    "    hidden_size=16,  # most important hyperparameter apart from learning rate\n",
    "    # number of attention heads. Set to up to 4 for large datasets\n",
    "    attention_head_size=1,\n",
    "    dropout=0.1,  # between 0.1 and 0.3 are good values\n",
    "    hidden_continuous_size=8,  # set to <= hidden_size\n",
    "    output_size=3,  # 7 quantiles by default\n",
    "    loss=QuantileLoss(),\n",
    "    # reduce learning rate if no improvement in validation loss after x epochs\n",
    "    reduce_on_plateau_patience=4,\n",
    ")\n",
    "print(f\"Number of parameters in network: {tft.size()/1e3:.1f}k\")"
   ],
   "metadata": {
    "collapsed": false,
    "pycharm": {
     "name": "#%%\n"
    }
   }
  },
  {
   "cell_type": "code",
   "execution_count": 19,
   "outputs": [
    {
     "name": "stderr",
     "output_type": "stream",
     "text": [
      "Missing logger folder: /home/kpavel/PycharmProjects/energy/experiments/wind/lightning_logs\n",
      "LOCAL_RANK: 0 - CUDA_VISIBLE_DEVICES: [0]\n"
     ]
    },
    {
     "data": {
      "text/plain": "Finding best initial lr:   0%|          | 0/100 [00:00<?, ?it/s]",
      "application/vnd.jupyter.widget-view+json": {
       "version_major": 2,
       "version_minor": 0,
       "model_id": "78e25c4c67af44ccaa22e8cd34975c75"
      }
     },
     "metadata": {},
     "output_type": "display_data"
    },
    {
     "name": "stderr",
     "output_type": "stream",
     "text": [
      "`Trainer.fit` stopped: `max_steps=100` reached.\n",
      "Restoring states from the checkpoint path at /home/kpavel/PycharmProjects/energy/experiments/wind/.lr_find_a211548f-0bed-429c-b20b-0fa051aa60aa.ckpt\n"
     ]
    },
    {
     "ename": "KeyError",
     "evalue": "'radam_buffer'",
     "output_type": "error",
     "traceback": [
      "\u001B[0;31m---------------------------------------------------------------------------\u001B[0m",
      "\u001B[0;31mKeyError\u001B[0m                                  Traceback (most recent call last)",
      "Cell \u001B[0;32mIn[19], line 1\u001B[0m\n\u001B[0;32m----> 1\u001B[0m res \u001B[38;5;241m=\u001B[39m \u001B[43mtrainer\u001B[49m\u001B[38;5;241;43m.\u001B[39;49m\u001B[43mtuner\u001B[49m\u001B[38;5;241;43m.\u001B[39;49m\u001B[43mlr_find\u001B[49m\u001B[43m(\u001B[49m\n\u001B[1;32m      2\u001B[0m \u001B[43m    \u001B[49m\u001B[43mtft\u001B[49m\u001B[43m,\u001B[49m\n\u001B[1;32m      3\u001B[0m \u001B[43m    \u001B[49m\u001B[43mtrain_dataloaders\u001B[49m\u001B[38;5;241;43m=\u001B[39;49m\u001B[43mtrain_dataloader\u001B[49m\u001B[43m,\u001B[49m\n\u001B[1;32m      4\u001B[0m \u001B[43m    \u001B[49m\u001B[43mval_dataloaders\u001B[49m\u001B[38;5;241;43m=\u001B[39;49m\u001B[43mval_dataloader\u001B[49m\u001B[43m,\u001B[49m\n\u001B[1;32m      5\u001B[0m \u001B[43m    \u001B[49m\u001B[43mmax_lr\u001B[49m\u001B[38;5;241;43m=\u001B[39;49m\u001B[38;5;241;43m10.0\u001B[39;49m\u001B[43m,\u001B[49m\n\u001B[1;32m      6\u001B[0m \u001B[43m    \u001B[49m\u001B[43mmin_lr\u001B[49m\u001B[38;5;241;43m=\u001B[39;49m\u001B[38;5;241;43m1e-6\u001B[39;49m\u001B[43m,\u001B[49m\n\u001B[1;32m      7\u001B[0m \u001B[43m)\u001B[49m\n\u001B[1;32m      9\u001B[0m \u001B[38;5;28mprint\u001B[39m(\u001B[38;5;124mf\u001B[39m\u001B[38;5;124m\"\u001B[39m\u001B[38;5;124msuggested learning rate: \u001B[39m\u001B[38;5;132;01m{\u001B[39;00mres\u001B[38;5;241m.\u001B[39msuggestion()\u001B[38;5;132;01m}\u001B[39;00m\u001B[38;5;124m\"\u001B[39m)\n\u001B[1;32m     10\u001B[0m fig \u001B[38;5;241m=\u001B[39m res\u001B[38;5;241m.\u001B[39mplot(show\u001B[38;5;241m=\u001B[39m\u001B[38;5;28;01mTrue\u001B[39;00m, suggest\u001B[38;5;241m=\u001B[39m\u001B[38;5;28;01mTrue\u001B[39;00m)\n",
      "File \u001B[0;32m~/anaconda3/envs/energy/lib/python3.9/site-packages/pytorch_lightning/tuner/tuning.py:267\u001B[0m, in \u001B[0;36mTuner.lr_find\u001B[0;34m(self, model, train_dataloaders, val_dataloaders, dataloaders, datamodule, method, min_lr, max_lr, num_training, mode, early_stop_threshold, update_attr)\u001B[0m\n\u001B[1;32m    264\u001B[0m lr_finder_callback\u001B[38;5;241m.\u001B[39m_early_exit \u001B[38;5;241m=\u001B[39m \u001B[38;5;28;01mTrue\u001B[39;00m\n\u001B[1;32m    265\u001B[0m \u001B[38;5;28mself\u001B[39m\u001B[38;5;241m.\u001B[39mtrainer\u001B[38;5;241m.\u001B[39mcallbacks \u001B[38;5;241m=\u001B[39m [lr_finder_callback] \u001B[38;5;241m+\u001B[39m \u001B[38;5;28mself\u001B[39m\u001B[38;5;241m.\u001B[39mtrainer\u001B[38;5;241m.\u001B[39mcallbacks\n\u001B[0;32m--> 267\u001B[0m \u001B[38;5;28;43mself\u001B[39;49m\u001B[38;5;241;43m.\u001B[39;49m\u001B[43mtrainer\u001B[49m\u001B[38;5;241;43m.\u001B[39;49m\u001B[43mfit\u001B[49m\u001B[43m(\u001B[49m\u001B[43mmodel\u001B[49m\u001B[43m,\u001B[49m\u001B[43m \u001B[49m\u001B[43mtrain_dataloaders\u001B[49m\u001B[43m,\u001B[49m\u001B[43m \u001B[49m\u001B[43mval_dataloaders\u001B[49m\u001B[43m,\u001B[49m\u001B[43m \u001B[49m\u001B[43mdatamodule\u001B[49m\u001B[43m)\u001B[49m\n\u001B[1;32m    269\u001B[0m \u001B[38;5;28mself\u001B[39m\u001B[38;5;241m.\u001B[39mtrainer\u001B[38;5;241m.\u001B[39mcallbacks \u001B[38;5;241m=\u001B[39m [cb \u001B[38;5;28;01mfor\u001B[39;00m cb \u001B[38;5;129;01min\u001B[39;00m \u001B[38;5;28mself\u001B[39m\u001B[38;5;241m.\u001B[39mtrainer\u001B[38;5;241m.\u001B[39mcallbacks \u001B[38;5;28;01mif\u001B[39;00m cb \u001B[38;5;129;01mis\u001B[39;00m \u001B[38;5;129;01mnot\u001B[39;00m lr_finder_callback]\n\u001B[1;32m    271\u001B[0m \u001B[38;5;28mself\u001B[39m\u001B[38;5;241m.\u001B[39mtrainer\u001B[38;5;241m.\u001B[39mauto_lr_find \u001B[38;5;241m=\u001B[39m \u001B[38;5;28;01mFalse\u001B[39;00m\n",
      "File \u001B[0;32m~/anaconda3/envs/energy/lib/python3.9/site-packages/pytorch_lightning/trainer/trainer.py:603\u001B[0m, in \u001B[0;36mTrainer.fit\u001B[0;34m(self, model, train_dataloaders, val_dataloaders, datamodule, ckpt_path)\u001B[0m\n\u001B[1;32m    601\u001B[0m     \u001B[38;5;28;01mraise\u001B[39;00m \u001B[38;5;167;01mTypeError\u001B[39;00m(\u001B[38;5;124mf\u001B[39m\u001B[38;5;124m\"\u001B[39m\u001B[38;5;124m`Trainer.fit()` requires a `LightningModule`, got: \u001B[39m\u001B[38;5;132;01m{\u001B[39;00mmodel\u001B[38;5;241m.\u001B[39m\u001B[38;5;18m__class__\u001B[39m\u001B[38;5;241m.\u001B[39m\u001B[38;5;18m__qualname__\u001B[39m\u001B[38;5;132;01m}\u001B[39;00m\u001B[38;5;124m\"\u001B[39m)\n\u001B[1;32m    602\u001B[0m \u001B[38;5;28mself\u001B[39m\u001B[38;5;241m.\u001B[39mstrategy\u001B[38;5;241m.\u001B[39m_lightning_module \u001B[38;5;241m=\u001B[39m model\n\u001B[0;32m--> 603\u001B[0m \u001B[43mcall\u001B[49m\u001B[38;5;241;43m.\u001B[39;49m\u001B[43m_call_and_handle_interrupt\u001B[49m\u001B[43m(\u001B[49m\n\u001B[1;32m    604\u001B[0m \u001B[43m    \u001B[49m\u001B[38;5;28;43mself\u001B[39;49m\u001B[43m,\u001B[49m\u001B[43m \u001B[49m\u001B[38;5;28;43mself\u001B[39;49m\u001B[38;5;241;43m.\u001B[39;49m\u001B[43m_fit_impl\u001B[49m\u001B[43m,\u001B[49m\u001B[43m \u001B[49m\u001B[43mmodel\u001B[49m\u001B[43m,\u001B[49m\u001B[43m \u001B[49m\u001B[43mtrain_dataloaders\u001B[49m\u001B[43m,\u001B[49m\u001B[43m \u001B[49m\u001B[43mval_dataloaders\u001B[49m\u001B[43m,\u001B[49m\u001B[43m \u001B[49m\u001B[43mdatamodule\u001B[49m\u001B[43m,\u001B[49m\u001B[43m \u001B[49m\u001B[43mckpt_path\u001B[49m\n\u001B[1;32m    605\u001B[0m \u001B[43m\u001B[49m\u001B[43m)\u001B[49m\n",
      "File \u001B[0;32m~/anaconda3/envs/energy/lib/python3.9/site-packages/pytorch_lightning/trainer/call.py:38\u001B[0m, in \u001B[0;36m_call_and_handle_interrupt\u001B[0;34m(trainer, trainer_fn, *args, **kwargs)\u001B[0m\n\u001B[1;32m     36\u001B[0m         \u001B[38;5;28;01mreturn\u001B[39;00m trainer\u001B[38;5;241m.\u001B[39mstrategy\u001B[38;5;241m.\u001B[39mlauncher\u001B[38;5;241m.\u001B[39mlaunch(trainer_fn, \u001B[38;5;241m*\u001B[39margs, trainer\u001B[38;5;241m=\u001B[39mtrainer, \u001B[38;5;241m*\u001B[39m\u001B[38;5;241m*\u001B[39mkwargs)\n\u001B[1;32m     37\u001B[0m     \u001B[38;5;28;01melse\u001B[39;00m:\n\u001B[0;32m---> 38\u001B[0m         \u001B[38;5;28;01mreturn\u001B[39;00m \u001B[43mtrainer_fn\u001B[49m\u001B[43m(\u001B[49m\u001B[38;5;241;43m*\u001B[39;49m\u001B[43margs\u001B[49m\u001B[43m,\u001B[49m\u001B[43m \u001B[49m\u001B[38;5;241;43m*\u001B[39;49m\u001B[38;5;241;43m*\u001B[39;49m\u001B[43mkwargs\u001B[49m\u001B[43m)\u001B[49m\n\u001B[1;32m     40\u001B[0m \u001B[38;5;28;01mexcept\u001B[39;00m _TunerExitException:\n\u001B[1;32m     41\u001B[0m     trainer\u001B[38;5;241m.\u001B[39m_call_teardown_hook()\n",
      "File \u001B[0;32m~/anaconda3/envs/energy/lib/python3.9/site-packages/pytorch_lightning/trainer/trainer.py:645\u001B[0m, in \u001B[0;36mTrainer._fit_impl\u001B[0;34m(self, model, train_dataloaders, val_dataloaders, datamodule, ckpt_path)\u001B[0m\n\u001B[1;32m    638\u001B[0m ckpt_path \u001B[38;5;241m=\u001B[39m ckpt_path \u001B[38;5;129;01mor\u001B[39;00m \u001B[38;5;28mself\u001B[39m\u001B[38;5;241m.\u001B[39mresume_from_checkpoint\n\u001B[1;32m    639\u001B[0m \u001B[38;5;28mself\u001B[39m\u001B[38;5;241m.\u001B[39m_ckpt_path \u001B[38;5;241m=\u001B[39m \u001B[38;5;28mself\u001B[39m\u001B[38;5;241m.\u001B[39m_checkpoint_connector\u001B[38;5;241m.\u001B[39m_set_ckpt_path(\n\u001B[1;32m    640\u001B[0m     \u001B[38;5;28mself\u001B[39m\u001B[38;5;241m.\u001B[39mstate\u001B[38;5;241m.\u001B[39mfn,\n\u001B[1;32m    641\u001B[0m     ckpt_path,  \u001B[38;5;66;03m# type: ignore[arg-type]\u001B[39;00m\n\u001B[1;32m    642\u001B[0m     model_provided\u001B[38;5;241m=\u001B[39m\u001B[38;5;28;01mTrue\u001B[39;00m,\n\u001B[1;32m    643\u001B[0m     model_connected\u001B[38;5;241m=\u001B[39m\u001B[38;5;28mself\u001B[39m\u001B[38;5;241m.\u001B[39mlightning_module \u001B[38;5;129;01mis\u001B[39;00m \u001B[38;5;129;01mnot\u001B[39;00m \u001B[38;5;28;01mNone\u001B[39;00m,\n\u001B[1;32m    644\u001B[0m )\n\u001B[0;32m--> 645\u001B[0m \u001B[38;5;28;43mself\u001B[39;49m\u001B[38;5;241;43m.\u001B[39;49m\u001B[43m_run\u001B[49m\u001B[43m(\u001B[49m\u001B[43mmodel\u001B[49m\u001B[43m,\u001B[49m\u001B[43m \u001B[49m\u001B[43mckpt_path\u001B[49m\u001B[38;5;241;43m=\u001B[39;49m\u001B[38;5;28;43mself\u001B[39;49m\u001B[38;5;241;43m.\u001B[39;49m\u001B[43mckpt_path\u001B[49m\u001B[43m)\u001B[49m\n\u001B[1;32m    647\u001B[0m \u001B[38;5;28;01massert\u001B[39;00m \u001B[38;5;28mself\u001B[39m\u001B[38;5;241m.\u001B[39mstate\u001B[38;5;241m.\u001B[39mstopped\n\u001B[1;32m    648\u001B[0m \u001B[38;5;28mself\u001B[39m\u001B[38;5;241m.\u001B[39mtraining \u001B[38;5;241m=\u001B[39m \u001B[38;5;28;01mFalse\u001B[39;00m\n",
      "File \u001B[0;32m~/anaconda3/envs/energy/lib/python3.9/site-packages/pytorch_lightning/trainer/trainer.py:1083\u001B[0m, in \u001B[0;36mTrainer._run\u001B[0;34m(self, model, ckpt_path)\u001B[0m\n\u001B[1;32m   1081\u001B[0m \u001B[38;5;66;03m# hook\u001B[39;00m\n\u001B[1;32m   1082\u001B[0m \u001B[38;5;28;01mif\u001B[39;00m \u001B[38;5;28mself\u001B[39m\u001B[38;5;241m.\u001B[39mstate\u001B[38;5;241m.\u001B[39mfn \u001B[38;5;241m==\u001B[39m TrainerFn\u001B[38;5;241m.\u001B[39mFITTING:\n\u001B[0;32m-> 1083\u001B[0m     \u001B[38;5;28;43mself\u001B[39;49m\u001B[38;5;241;43m.\u001B[39;49m\u001B[43m_call_callback_hooks\u001B[49m\u001B[43m(\u001B[49m\u001B[38;5;124;43m\"\u001B[39;49m\u001B[38;5;124;43mon_fit_start\u001B[39;49m\u001B[38;5;124;43m\"\u001B[39;49m\u001B[43m)\u001B[49m\n\u001B[1;32m   1084\u001B[0m     \u001B[38;5;28mself\u001B[39m\u001B[38;5;241m.\u001B[39m_call_lightning_module_hook(\u001B[38;5;124m\"\u001B[39m\u001B[38;5;124mon_fit_start\u001B[39m\u001B[38;5;124m\"\u001B[39m)\n\u001B[1;32m   1086\u001B[0m \u001B[38;5;28mself\u001B[39m\u001B[38;5;241m.\u001B[39m_log_hyperparams()\n",
      "File \u001B[0;32m~/anaconda3/envs/energy/lib/python3.9/site-packages/pytorch_lightning/trainer/trainer.py:1380\u001B[0m, in \u001B[0;36mTrainer._call_callback_hooks\u001B[0;34m(self, hook_name, *args, **kwargs)\u001B[0m\n\u001B[1;32m   1378\u001B[0m     \u001B[38;5;28;01mif\u001B[39;00m callable(fn):\n\u001B[1;32m   1379\u001B[0m         \u001B[38;5;28;01mwith\u001B[39;00m \u001B[38;5;28mself\u001B[39m\u001B[38;5;241m.\u001B[39mprofiler\u001B[38;5;241m.\u001B[39mprofile(\u001B[38;5;124mf\u001B[39m\u001B[38;5;124m\"\u001B[39m\u001B[38;5;124m[Callback]\u001B[39m\u001B[38;5;132;01m{\u001B[39;00mcallback\u001B[38;5;241m.\u001B[39mstate_key\u001B[38;5;132;01m}\u001B[39;00m\u001B[38;5;124m.\u001B[39m\u001B[38;5;132;01m{\u001B[39;00mhook_name\u001B[38;5;132;01m}\u001B[39;00m\u001B[38;5;124m\"\u001B[39m):\n\u001B[0;32m-> 1380\u001B[0m             \u001B[43mfn\u001B[49m\u001B[43m(\u001B[49m\u001B[38;5;28;43mself\u001B[39;49m\u001B[43m,\u001B[49m\u001B[43m \u001B[49m\u001B[38;5;28;43mself\u001B[39;49m\u001B[38;5;241;43m.\u001B[39;49m\u001B[43mlightning_module\u001B[49m\u001B[43m,\u001B[49m\u001B[43m \u001B[49m\u001B[38;5;241;43m*\u001B[39;49m\u001B[43margs\u001B[49m\u001B[43m,\u001B[49m\u001B[43m \u001B[49m\u001B[38;5;241;43m*\u001B[39;49m\u001B[38;5;241;43m*\u001B[39;49m\u001B[43mkwargs\u001B[49m\u001B[43m)\u001B[49m\n\u001B[1;32m   1382\u001B[0m \u001B[38;5;28;01mif\u001B[39;00m pl_module:\n\u001B[1;32m   1383\u001B[0m     \u001B[38;5;66;03m# restore current_fx when nested context\u001B[39;00m\n\u001B[1;32m   1384\u001B[0m     pl_module\u001B[38;5;241m.\u001B[39m_current_fx_name \u001B[38;5;241m=\u001B[39m prev_fx_name\n",
      "File \u001B[0;32m~/anaconda3/envs/energy/lib/python3.9/site-packages/pytorch_lightning/callbacks/lr_finder.py:122\u001B[0m, in \u001B[0;36mLearningRateFinder.on_fit_start\u001B[0;34m(self, trainer, pl_module)\u001B[0m\n\u001B[1;32m    121\u001B[0m \u001B[38;5;28;01mdef\u001B[39;00m \u001B[38;5;21mon_fit_start\u001B[39m(\u001B[38;5;28mself\u001B[39m, trainer: \u001B[38;5;124m\"\u001B[39m\u001B[38;5;124mpl.Trainer\u001B[39m\u001B[38;5;124m\"\u001B[39m, pl_module: \u001B[38;5;124m\"\u001B[39m\u001B[38;5;124mpl.LightningModule\u001B[39m\u001B[38;5;124m\"\u001B[39m) \u001B[38;5;241m-\u001B[39m\u001B[38;5;241m>\u001B[39m \u001B[38;5;28;01mNone\u001B[39;00m:\n\u001B[0;32m--> 122\u001B[0m     \u001B[38;5;28;43mself\u001B[39;49m\u001B[38;5;241;43m.\u001B[39;49m\u001B[43mlr_find\u001B[49m\u001B[43m(\u001B[49m\u001B[43mtrainer\u001B[49m\u001B[43m,\u001B[49m\u001B[43m \u001B[49m\u001B[43mpl_module\u001B[49m\u001B[43m)\u001B[49m\n",
      "File \u001B[0;32m~/anaconda3/envs/energy/lib/python3.9/site-packages/pytorch_lightning/callbacks/lr_finder.py:107\u001B[0m, in \u001B[0;36mLearningRateFinder.lr_find\u001B[0;34m(self, trainer, pl_module)\u001B[0m\n\u001B[1;32m    105\u001B[0m \u001B[38;5;28;01mdef\u001B[39;00m \u001B[38;5;21mlr_find\u001B[39m(\u001B[38;5;28mself\u001B[39m, trainer: \u001B[38;5;124m\"\u001B[39m\u001B[38;5;124mpl.Trainer\u001B[39m\u001B[38;5;124m\"\u001B[39m, pl_module: \u001B[38;5;124m\"\u001B[39m\u001B[38;5;124mpl.LightningModule\u001B[39m\u001B[38;5;124m\"\u001B[39m) \u001B[38;5;241m-\u001B[39m\u001B[38;5;241m>\u001B[39m \u001B[38;5;28;01mNone\u001B[39;00m:\n\u001B[1;32m    106\u001B[0m     \u001B[38;5;28;01mwith\u001B[39;00m isolate_rng():\n\u001B[0;32m--> 107\u001B[0m         \u001B[38;5;28mself\u001B[39m\u001B[38;5;241m.\u001B[39moptimal_lr \u001B[38;5;241m=\u001B[39m \u001B[43mlr_find\u001B[49m\u001B[43m(\u001B[49m\n\u001B[1;32m    108\u001B[0m \u001B[43m            \u001B[49m\u001B[43mtrainer\u001B[49m\u001B[43m,\u001B[49m\n\u001B[1;32m    109\u001B[0m \u001B[43m            \u001B[49m\u001B[43mpl_module\u001B[49m\u001B[43m,\u001B[49m\n\u001B[1;32m    110\u001B[0m \u001B[43m            \u001B[49m\u001B[43mmin_lr\u001B[49m\u001B[38;5;241;43m=\u001B[39;49m\u001B[38;5;28;43mself\u001B[39;49m\u001B[38;5;241;43m.\u001B[39;49m\u001B[43m_min_lr\u001B[49m\u001B[43m,\u001B[49m\n\u001B[1;32m    111\u001B[0m \u001B[43m            \u001B[49m\u001B[43mmax_lr\u001B[49m\u001B[38;5;241;43m=\u001B[39;49m\u001B[38;5;28;43mself\u001B[39;49m\u001B[38;5;241;43m.\u001B[39;49m\u001B[43m_max_lr\u001B[49m\u001B[43m,\u001B[49m\n\u001B[1;32m    112\u001B[0m \u001B[43m            \u001B[49m\u001B[43mnum_training\u001B[49m\u001B[38;5;241;43m=\u001B[39;49m\u001B[38;5;28;43mself\u001B[39;49m\u001B[38;5;241;43m.\u001B[39;49m\u001B[43m_num_training_steps\u001B[49m\u001B[43m,\u001B[49m\n\u001B[1;32m    113\u001B[0m \u001B[43m            \u001B[49m\u001B[43mmode\u001B[49m\u001B[38;5;241;43m=\u001B[39;49m\u001B[38;5;28;43mself\u001B[39;49m\u001B[38;5;241;43m.\u001B[39;49m\u001B[43m_mode\u001B[49m\u001B[43m,\u001B[49m\n\u001B[1;32m    114\u001B[0m \u001B[43m            \u001B[49m\u001B[43mearly_stop_threshold\u001B[49m\u001B[38;5;241;43m=\u001B[39;49m\u001B[38;5;28;43mself\u001B[39;49m\u001B[38;5;241;43m.\u001B[39;49m\u001B[43m_early_stop_threshold\u001B[49m\u001B[43m,\u001B[49m\n\u001B[1;32m    115\u001B[0m \u001B[43m            \u001B[49m\u001B[43mupdate_attr\u001B[49m\u001B[38;5;241;43m=\u001B[39;49m\u001B[38;5;28;43mself\u001B[39;49m\u001B[38;5;241;43m.\u001B[39;49m\u001B[43m_update_attr\u001B[49m\u001B[43m,\u001B[49m\n\u001B[1;32m    116\u001B[0m \u001B[43m        \u001B[49m\u001B[43m)\u001B[49m\n\u001B[1;32m    118\u001B[0m     \u001B[38;5;28;01mif\u001B[39;00m \u001B[38;5;28mself\u001B[39m\u001B[38;5;241m.\u001B[39m_early_exit:\n\u001B[1;32m    119\u001B[0m         \u001B[38;5;28;01mraise\u001B[39;00m _TunerExitException()\n",
      "File \u001B[0;32m~/anaconda3/envs/energy/lib/python3.9/site-packages/pytorch_lightning/tuner/lr_finder.py:266\u001B[0m, in \u001B[0;36mlr_find\u001B[0;34m(trainer, model, min_lr, max_lr, num_training, mode, early_stop_threshold, update_attr)\u001B[0m\n\u001B[1;32m    263\u001B[0m         log\u001B[38;5;241m.\u001B[39minfo(\u001B[38;5;124mf\u001B[39m\u001B[38;5;124m\"\u001B[39m\u001B[38;5;124mLearning rate set to \u001B[39m\u001B[38;5;132;01m{\u001B[39;00mlr\u001B[38;5;132;01m}\u001B[39;00m\u001B[38;5;124m\"\u001B[39m)\n\u001B[1;32m    265\u001B[0m \u001B[38;5;66;03m# Restore initial state of model\u001B[39;00m\n\u001B[0;32m--> 266\u001B[0m \u001B[43mtrainer\u001B[49m\u001B[38;5;241;43m.\u001B[39;49m\u001B[43m_checkpoint_connector\u001B[49m\u001B[38;5;241;43m.\u001B[39;49m\u001B[43mrestore\u001B[49m\u001B[43m(\u001B[49m\u001B[43mckpt_path\u001B[49m\u001B[43m)\u001B[49m\n\u001B[1;32m    267\u001B[0m trainer\u001B[38;5;241m.\u001B[39mstrategy\u001B[38;5;241m.\u001B[39mremove_checkpoint(ckpt_path)\n\u001B[1;32m    268\u001B[0m trainer\u001B[38;5;241m.\u001B[39mfit_loop\u001B[38;5;241m.\u001B[39mrestarting \u001B[38;5;241m=\u001B[39m \u001B[38;5;28;01mFalse\u001B[39;00m  \u001B[38;5;66;03m# reset restarting flag as checkpoint restoring sets it to True\u001B[39;00m\n",
      "File \u001B[0;32m~/anaconda3/envs/energy/lib/python3.9/site-packages/clearml/binding/frameworks/__init__.py:36\u001B[0m, in \u001B[0;36m_patched_call.<locals>._inner_patch\u001B[0;34m(*args, **kwargs)\u001B[0m\n\u001B[1;32m     34\u001B[0m     ret \u001B[38;5;241m=\u001B[39m patched_fn(original_fn, \u001B[38;5;241m*\u001B[39margs, \u001B[38;5;241m*\u001B[39m\u001B[38;5;241m*\u001B[39mkwargs)\n\u001B[1;32m     35\u001B[0m \u001B[38;5;28;01mexcept\u001B[39;00m \u001B[38;5;167;01mException\u001B[39;00m \u001B[38;5;28;01mas\u001B[39;00m ex:\n\u001B[0;32m---> 36\u001B[0m     \u001B[38;5;28;01mraise\u001B[39;00m ex\n\u001B[1;32m     37\u001B[0m \u001B[38;5;28;01mfinally\u001B[39;00m:\n\u001B[1;32m     38\u001B[0m     \u001B[38;5;28;01mtry\u001B[39;00m:\n",
      "File \u001B[0;32m~/anaconda3/envs/energy/lib/python3.9/site-packages/clearml/binding/frameworks/__init__.py:34\u001B[0m, in \u001B[0;36m_patched_call.<locals>._inner_patch\u001B[0;34m(*args, **kwargs)\u001B[0m\n\u001B[1;32m     32\u001B[0m ret \u001B[38;5;241m=\u001B[39m \u001B[38;5;28;01mNone\u001B[39;00m\n\u001B[1;32m     33\u001B[0m \u001B[38;5;28;01mtry\u001B[39;00m:\n\u001B[0;32m---> 34\u001B[0m     ret \u001B[38;5;241m=\u001B[39m \u001B[43mpatched_fn\u001B[49m\u001B[43m(\u001B[49m\u001B[43moriginal_fn\u001B[49m\u001B[43m,\u001B[49m\u001B[43m \u001B[49m\u001B[38;5;241;43m*\u001B[39;49m\u001B[43margs\u001B[49m\u001B[43m,\u001B[49m\u001B[43m \u001B[49m\u001B[38;5;241;43m*\u001B[39;49m\u001B[38;5;241;43m*\u001B[39;49m\u001B[43mkwargs\u001B[49m\u001B[43m)\u001B[49m\n\u001B[1;32m     35\u001B[0m \u001B[38;5;28;01mexcept\u001B[39;00m \u001B[38;5;167;01mException\u001B[39;00m \u001B[38;5;28;01mas\u001B[39;00m ex:\n\u001B[1;32m     36\u001B[0m     \u001B[38;5;28;01mraise\u001B[39;00m ex\n",
      "File \u001B[0;32m~/anaconda3/envs/energy/lib/python3.9/site-packages/clearml/binding/frameworks/pytorch_bind.py:273\u001B[0m, in \u001B[0;36mPatchPyTorchModelIO._load_from_obj\u001B[0;34m(original_fn, obj, f, *args, **kwargs)\u001B[0m\n\u001B[1;32m    270\u001B[0m     model \u001B[38;5;241m=\u001B[39m original_fn(obj, filename \u001B[38;5;129;01mor\u001B[39;00m f, \u001B[38;5;241m*\u001B[39margs, \u001B[38;5;241m*\u001B[39m\u001B[38;5;241m*\u001B[39mkwargs)\n\u001B[1;32m    271\u001B[0m \u001B[38;5;28;01melse\u001B[39;00m:\n\u001B[1;32m    272\u001B[0m     \u001B[38;5;66;03m# try to load model before registering, in case we fail\u001B[39;00m\n\u001B[0;32m--> 273\u001B[0m     model \u001B[38;5;241m=\u001B[39m \u001B[43moriginal_fn\u001B[49m\u001B[43m(\u001B[49m\u001B[43mobj\u001B[49m\u001B[43m,\u001B[49m\u001B[43m \u001B[49m\u001B[43mf\u001B[49m\u001B[43m,\u001B[49m\u001B[43m \u001B[49m\u001B[38;5;241;43m*\u001B[39;49m\u001B[43margs\u001B[49m\u001B[43m,\u001B[49m\u001B[43m \u001B[49m\u001B[38;5;241;43m*\u001B[39;49m\u001B[38;5;241;43m*\u001B[39;49m\u001B[43mkwargs\u001B[49m\u001B[43m)\u001B[49m\n\u001B[1;32m    274\u001B[0m     WeightsFileHandler\u001B[38;5;241m.\u001B[39mrestore_weights_file(\n\u001B[1;32m    275\u001B[0m         empty, filename, Framework\u001B[38;5;241m.\u001B[39mpytorch, PatchPyTorchModelIO\u001B[38;5;241m.\u001B[39m_current_task)\n\u001B[1;32m    277\u001B[0m \u001B[38;5;28;01mif\u001B[39;00m empty\u001B[38;5;241m.\u001B[39mtrains_in_model:\n\u001B[1;32m    278\u001B[0m     \u001B[38;5;66;03m# noinspection PyBroadException\u001B[39;00m\n",
      "File \u001B[0;32m~/anaconda3/envs/energy/lib/python3.9/site-packages/pytorch_lightning/trainer/connectors/checkpoint_connector.py:244\u001B[0m, in \u001B[0;36mCheckpointConnector.restore\u001B[0;34m(self, checkpoint_path)\u001B[0m\n\u001B[1;32m    241\u001B[0m \u001B[38;5;28mself\u001B[39m\u001B[38;5;241m.\u001B[39mrestore_callbacks()\n\u001B[1;32m    243\u001B[0m \u001B[38;5;66;03m# restore training state\u001B[39;00m\n\u001B[0;32m--> 244\u001B[0m \u001B[38;5;28;43mself\u001B[39;49m\u001B[38;5;241;43m.\u001B[39;49m\u001B[43mrestore_training_state\u001B[49m\u001B[43m(\u001B[49m\u001B[43m)\u001B[49m\n\u001B[1;32m    245\u001B[0m \u001B[38;5;28mself\u001B[39m\u001B[38;5;241m.\u001B[39mresume_end()\n",
      "File \u001B[0;32m~/anaconda3/envs/energy/lib/python3.9/site-packages/pytorch_lightning/trainer/connectors/checkpoint_connector.py:296\u001B[0m, in \u001B[0;36mCheckpointConnector.restore_training_state\u001B[0;34m(self)\u001B[0m\n\u001B[1;32m    293\u001B[0m \u001B[38;5;28;01massert\u001B[39;00m \u001B[38;5;28mself\u001B[39m\u001B[38;5;241m.\u001B[39mtrainer\u001B[38;5;241m.\u001B[39mstate\u001B[38;5;241m.\u001B[39mfn \u001B[38;5;129;01mis\u001B[39;00m \u001B[38;5;129;01mnot\u001B[39;00m \u001B[38;5;28;01mNone\u001B[39;00m\n\u001B[1;32m    294\u001B[0m \u001B[38;5;28;01mif\u001B[39;00m \u001B[38;5;28mself\u001B[39m\u001B[38;5;241m.\u001B[39mtrainer\u001B[38;5;241m.\u001B[39mstate\u001B[38;5;241m.\u001B[39mfn \u001B[38;5;241m==\u001B[39m TrainerFn\u001B[38;5;241m.\u001B[39mFITTING:\n\u001B[1;32m    295\u001B[0m     \u001B[38;5;66;03m# restore optimizers and schedulers state\u001B[39;00m\n\u001B[0;32m--> 296\u001B[0m     \u001B[38;5;28;43mself\u001B[39;49m\u001B[38;5;241;43m.\u001B[39;49m\u001B[43mrestore_optimizers_and_schedulers\u001B[49m\u001B[43m(\u001B[49m\u001B[43m)\u001B[49m\n",
      "File \u001B[0;32m~/anaconda3/envs/energy/lib/python3.9/site-packages/pytorch_lightning/trainer/connectors/checkpoint_connector.py:411\u001B[0m, in \u001B[0;36mCheckpointConnector.restore_optimizers_and_schedulers\u001B[0;34m(self)\u001B[0m\n\u001B[1;32m    406\u001B[0m     \u001B[38;5;28;01mif\u001B[39;00m \u001B[38;5;124m\"\u001B[39m\u001B[38;5;124moptimizer_states\u001B[39m\u001B[38;5;124m\"\u001B[39m \u001B[38;5;129;01mnot\u001B[39;00m \u001B[38;5;129;01min\u001B[39;00m \u001B[38;5;28mself\u001B[39m\u001B[38;5;241m.\u001B[39m_loaded_checkpoint:\n\u001B[1;32m    407\u001B[0m         \u001B[38;5;28;01mraise\u001B[39;00m \u001B[38;5;167;01mKeyError\u001B[39;00m(\n\u001B[1;32m    408\u001B[0m             \u001B[38;5;124m\"\u001B[39m\u001B[38;5;124mTrying to restore optimizer state but checkpoint contains only the model.\u001B[39m\u001B[38;5;124m\"\u001B[39m\n\u001B[1;32m    409\u001B[0m             \u001B[38;5;124m\"\u001B[39m\u001B[38;5;124m This is probably due to `ModelCheckpoint.save_weights_only` being set to `True`.\u001B[39m\u001B[38;5;124m\"\u001B[39m\n\u001B[1;32m    410\u001B[0m         )\n\u001B[0;32m--> 411\u001B[0m     \u001B[38;5;28;43mself\u001B[39;49m\u001B[38;5;241;43m.\u001B[39;49m\u001B[43mrestore_optimizers\u001B[49m\u001B[43m(\u001B[49m\u001B[43m)\u001B[49m\n\u001B[1;32m    413\u001B[0m \u001B[38;5;28;01mif\u001B[39;00m \u001B[38;5;124m\"\u001B[39m\u001B[38;5;124mlr_schedulers\u001B[39m\u001B[38;5;124m\"\u001B[39m \u001B[38;5;129;01mnot\u001B[39;00m \u001B[38;5;129;01min\u001B[39;00m \u001B[38;5;28mself\u001B[39m\u001B[38;5;241m.\u001B[39m_loaded_checkpoint:\n\u001B[1;32m    414\u001B[0m     \u001B[38;5;28;01mraise\u001B[39;00m \u001B[38;5;167;01mKeyError\u001B[39;00m(\n\u001B[1;32m    415\u001B[0m         \u001B[38;5;124m\"\u001B[39m\u001B[38;5;124mTrying to restore learning rate scheduler state but checkpoint contains only the model.\u001B[39m\u001B[38;5;124m\"\u001B[39m\n\u001B[1;32m    416\u001B[0m         \u001B[38;5;124m\"\u001B[39m\u001B[38;5;124m This is probably due to `ModelCheckpoint.save_weights_only` being set to `True`.\u001B[39m\u001B[38;5;124m\"\u001B[39m\n\u001B[1;32m    417\u001B[0m     )\n",
      "File \u001B[0;32m~/anaconda3/envs/energy/lib/python3.9/site-packages/pytorch_lightning/trainer/connectors/checkpoint_connector.py:426\u001B[0m, in \u001B[0;36mCheckpointConnector.restore_optimizers\u001B[0;34m(self)\u001B[0m\n\u001B[1;32m    423\u001B[0m     \u001B[38;5;28;01mreturn\u001B[39;00m\n\u001B[1;32m    425\u001B[0m \u001B[38;5;66;03m# restore the optimizers\u001B[39;00m\n\u001B[0;32m--> 426\u001B[0m \u001B[38;5;28;43mself\u001B[39;49m\u001B[38;5;241;43m.\u001B[39;49m\u001B[43mtrainer\u001B[49m\u001B[38;5;241;43m.\u001B[39;49m\u001B[43mstrategy\u001B[49m\u001B[38;5;241;43m.\u001B[39;49m\u001B[43mload_optimizer_state_dict\u001B[49m\u001B[43m(\u001B[49m\u001B[38;5;28;43mself\u001B[39;49m\u001B[38;5;241;43m.\u001B[39;49m\u001B[43m_loaded_checkpoint\u001B[49m\u001B[43m)\u001B[49m\n",
      "File \u001B[0;32m~/anaconda3/envs/energy/lib/python3.9/site-packages/pytorch_lightning/strategies/strategy.py:368\u001B[0m, in \u001B[0;36mStrategy.load_optimizer_state_dict\u001B[0;34m(self, checkpoint)\u001B[0m\n\u001B[1;32m    366\u001B[0m optimizer_states \u001B[38;5;241m=\u001B[39m checkpoint[\u001B[38;5;124m\"\u001B[39m\u001B[38;5;124moptimizer_states\u001B[39m\u001B[38;5;124m\"\u001B[39m]\n\u001B[1;32m    367\u001B[0m \u001B[38;5;28;01mfor\u001B[39;00m optimizer, opt_state \u001B[38;5;129;01min\u001B[39;00m \u001B[38;5;28mzip\u001B[39m(\u001B[38;5;28mself\u001B[39m\u001B[38;5;241m.\u001B[39moptimizers, optimizer_states):\n\u001B[0;32m--> 368\u001B[0m     \u001B[43moptimizer\u001B[49m\u001B[38;5;241;43m.\u001B[39;49m\u001B[43mload_state_dict\u001B[49m\u001B[43m(\u001B[49m\u001B[43mopt_state\u001B[49m\u001B[43m)\u001B[49m\n\u001B[1;32m    369\u001B[0m     _optimizer_to_device(optimizer, \u001B[38;5;28mself\u001B[39m\u001B[38;5;241m.\u001B[39mroot_device)\n",
      "File \u001B[0;32m~/anaconda3/envs/energy/lib/python3.9/site-packages/torch/optim/optimizer.py:244\u001B[0m, in \u001B[0;36mOptimizer.load_state_dict\u001B[0;34m(self, state_dict)\u001B[0m\n\u001B[1;32m    241\u001B[0m     \u001B[38;5;28;01mreturn\u001B[39;00m new_group\n\u001B[1;32m    242\u001B[0m param_groups \u001B[38;5;241m=\u001B[39m [\n\u001B[1;32m    243\u001B[0m     update_group(g, ng) \u001B[38;5;28;01mfor\u001B[39;00m g, ng \u001B[38;5;129;01min\u001B[39;00m \u001B[38;5;28mzip\u001B[39m(groups, saved_groups)]\n\u001B[0;32m--> 244\u001B[0m \u001B[38;5;28;43mself\u001B[39;49m\u001B[38;5;241;43m.\u001B[39;49m\u001B[43m__setstate__\u001B[49m\u001B[43m(\u001B[49m\u001B[43m{\u001B[49m\u001B[38;5;124;43m'\u001B[39;49m\u001B[38;5;124;43mstate\u001B[39;49m\u001B[38;5;124;43m'\u001B[39;49m\u001B[43m:\u001B[49m\u001B[43m \u001B[49m\u001B[43mstate\u001B[49m\u001B[43m,\u001B[49m\u001B[43m \u001B[49m\u001B[38;5;124;43m'\u001B[39;49m\u001B[38;5;124;43mparam_groups\u001B[39;49m\u001B[38;5;124;43m'\u001B[39;49m\u001B[43m:\u001B[49m\u001B[43m \u001B[49m\u001B[43mparam_groups\u001B[49m\u001B[43m}\u001B[49m\u001B[43m)\u001B[49m\n",
      "File \u001B[0;32m~/anaconda3/envs/energy/lib/python3.9/site-packages/pytorch_forecasting/optim.py:133\u001B[0m, in \u001B[0;36mRanger.__setstate__\u001B[0;34m(self, state)\u001B[0m\n\u001B[1;32m    131\u001B[0m \u001B[38;5;28;01mdef\u001B[39;00m \u001B[38;5;21m__setstate__\u001B[39m(\u001B[38;5;28mself\u001B[39m, state: \u001B[38;5;28mdict\u001B[39m) \u001B[38;5;241m-\u001B[39m\u001B[38;5;241m>\u001B[39m \u001B[38;5;28;01mNone\u001B[39;00m:\n\u001B[1;32m    132\u001B[0m     \u001B[38;5;28msuper\u001B[39m()\u001B[38;5;241m.\u001B[39m__setstate__(state)\n\u001B[0;32m--> 133\u001B[0m     \u001B[38;5;28mself\u001B[39m\u001B[38;5;241m.\u001B[39mradam_buffer \u001B[38;5;241m=\u001B[39m \u001B[43mstate\u001B[49m\u001B[43m[\u001B[49m\u001B[38;5;124;43m\"\u001B[39;49m\u001B[38;5;124;43mradam_buffer\u001B[39;49m\u001B[38;5;124;43m\"\u001B[39;49m\u001B[43m]\u001B[49m\n\u001B[1;32m    134\u001B[0m     \u001B[38;5;28mself\u001B[39m\u001B[38;5;241m.\u001B[39malpha \u001B[38;5;241m=\u001B[39m state[\u001B[38;5;124m\"\u001B[39m\u001B[38;5;124malpha\u001B[39m\u001B[38;5;124m\"\u001B[39m]\n\u001B[1;32m    135\u001B[0m     \u001B[38;5;28mself\u001B[39m\u001B[38;5;241m.\u001B[39mk \u001B[38;5;241m=\u001B[39m state[\u001B[38;5;124m\"\u001B[39m\u001B[38;5;124mk\u001B[39m\u001B[38;5;124m\"\u001B[39m]\n",
      "\u001B[0;31mKeyError\u001B[0m: 'radam_buffer'"
     ]
    }
   ],
   "source": [
    "res = trainer.tuner.lr_find(\n",
    "    tft,\n",
    "    train_dataloaders=train_dataloader,\n",
    "    val_dataloaders=val_dataloader,\n",
    "    max_lr=10.0,\n",
    "    min_lr=1e-6,\n",
    ")\n",
    "\n",
    "print(f\"suggested learning rate: {res.suggestion()}\")\n",
    "fig = res.plot(show=True, suggest=True)\n",
    "fig.show()"
   ],
   "metadata": {
    "collapsed": false,
    "pycharm": {
     "name": "#%%\n"
    }
   }
  },
  {
   "cell_type": "code",
   "execution_count": 29,
   "outputs": [
    {
     "name": "stderr",
     "output_type": "stream",
     "text": [
      "/home/kpavel/anaconda3/envs/energy/lib/python3.9/site-packages/pytorch_lightning/trainer/connectors/accelerator_connector.py:441: LightningDeprecationWarning:\n",
      "\n",
      "Setting `Trainer(gpus=1)` is deprecated in v1.7 and will be removed in v2.0. Please use `Trainer(accelerator='gpu', devices=1)` instead.\n",
      "\n",
      "GPU available: True (cuda), used: True\n",
      "TPU available: False, using: 0 TPU cores\n",
      "IPU available: False, using: 0 IPUs\n",
      "HPU available: False, using: 0 HPUs\n"
     ]
    },
    {
     "name": "stdout",
     "output_type": "stream",
     "text": [
      "Number of parameters in network: 55.7k\n"
     ]
    }
   ],
   "source": [
    "# configure network and trainer\n",
    "early_stop_callback = EarlyStopping(monitor=\"val_loss\", min_delta=1e-4, patience=10, verbose=False, mode=\"min\")\n",
    "lr_logger = LearningRateMonitor()  # log the learning rate\n",
    "logger = TensorBoardLogger(\"lightning_logs\")  # logging results to a tensorboard\n",
    "\n",
    "trainer = pl.Trainer(\n",
    "    max_epochs=100,\n",
    "    gpus=1,\n",
    "    enable_model_summary=True,\n",
    "    gradient_clip_val=0.1,\n",
    "    limit_train_batches=5,  # coment in for training, running valiation every 30 batches\n",
    "    # fast_dev_run=True,  # comment in to check that networkor dataset has no serious bugs\n",
    "    callbacks=[lr_logger, early_stop_callback],\n",
    "    logger=logger,\n",
    ")\n",
    "\n",
    "\n",
    "tft = TemporalFusionTransformer.from_dataset(\n",
    "    training,\n",
    "    learning_rate=0.03,\n",
    "    hidden_size=16 * 2,\n",
    "    attention_head_size=4,\n",
    "    dropout=0.2,\n",
    "    hidden_continuous_size=8 * 1,\n",
    "    output_size=7,  # 7 quantiles by default\n",
    "    loss=QuantileLoss(),\n",
    "    log_interval=10,  # uncomment for learning rate finder and otherwise, e.g. to 10 for logging every 10 batches\n",
    "    reduce_on_plateau_patience=3,\n",
    ")\n",
    "print(f\"Number of parameters in network: {tft.size()/1e3:.1f}k\")"
   ],
   "metadata": {
    "collapsed": false,
    "pycharm": {
     "name": "#%%\n"
    }
   }
  },
  {
   "cell_type": "code",
   "execution_count": 30,
   "outputs": [
    {
     "name": "stderr",
     "output_type": "stream",
     "text": [
      "LOCAL_RANK: 0 - CUDA_VISIBLE_DEVICES: [0]\n",
      "\n",
      "   | Name                               | Type                            | Params\n",
      "----------------------------------------------------------------------------------------\n",
      "0  | loss                               | QuantileLoss                    | 0     \n",
      "1  | logging_metrics                    | ModuleList                      | 0     \n",
      "2  | input_embeddings                   | MultiEmbedding                  | 0     \n",
      "3  | prescalers                         | ModuleDict                      | 32    \n",
      "4  | static_variable_selection          | VariableSelectionNetwork        | 896   \n",
      "5  | encoder_variable_selection         | VariableSelectionNetwork        | 896   \n",
      "6  | decoder_variable_selection         | VariableSelectionNetwork        | 896   \n",
      "7  | static_context_variable_selection  | GatedResidualNetwork            | 4.3 K \n",
      "8  | static_context_initial_hidden_lstm | GatedResidualNetwork            | 4.3 K \n",
      "9  | static_context_initial_cell_lstm   | GatedResidualNetwork            | 4.3 K \n",
      "10 | static_context_enrichment          | GatedResidualNetwork            | 4.3 K \n",
      "11 | lstm_encoder                       | LSTM                            | 8.4 K \n",
      "12 | lstm_decoder                       | LSTM                            | 8.4 K \n",
      "13 | post_lstm_gate_encoder             | GatedLinearUnit                 | 2.1 K \n",
      "14 | post_lstm_add_norm_encoder         | AddNorm                         | 64    \n",
      "15 | static_enrichment                  | GatedResidualNetwork            | 5.3 K \n",
      "16 | multihead_attn                     | InterpretableMultiHeadAttention | 2.6 K \n",
      "17 | post_attn_gate_norm                | GateAddNorm                     | 2.2 K \n",
      "18 | pos_wise_ff                        | GatedResidualNetwork            | 4.3 K \n",
      "19 | pre_output_gate_norm               | GateAddNorm                     | 2.2 K \n",
      "20 | output_layer                       | Linear                          | 231   \n",
      "----------------------------------------------------------------------------------------\n",
      "55.7 K    Trainable params\n",
      "0         Non-trainable params\n",
      "55.7 K    Total params\n",
      "0.223     Total estimated model params size (MB)\n"
     ]
    },
    {
     "data": {
      "text/plain": "Sanity Checking: 0it [00:00, ?it/s]",
      "application/vnd.jupyter.widget-view+json": {
       "version_major": 2,
       "version_minor": 0,
       "model_id": "023c10872a454842a5c8f34770c338e9"
      }
     },
     "metadata": {},
     "output_type": "display_data"
    },
    {
     "data": {
      "text/plain": "Training: 0it [00:00, ?it/s]",
      "application/vnd.jupyter.widget-view+json": {
       "version_major": 2,
       "version_minor": 0,
       "model_id": "7f550a77b43d4fdca4eb0d98f0924b22"
      }
     },
     "metadata": {},
     "output_type": "display_data"
    },
    {
     "data": {
      "text/plain": "Validation: 0it [00:00, ?it/s]",
      "application/vnd.jupyter.widget-view+json": {
       "version_major": 2,
       "version_minor": 0,
       "model_id": "0aabe7fb13064c61b97b1f1df96285d7"
      }
     },
     "metadata": {},
     "output_type": "display_data"
    },
    {
     "name": "stdout",
     "output_type": "stream",
     "text": [
      "2022-12-30 16:14:02,853 - clearml - WARNING - Failed decoding debug image [640, 480, 3]\n",
      "2022-12-30 16:14:02,855 - clearml - WARNING - Error: cannot reshape array of size 1 into shape (480,640,newaxis)\n",
      "2022-12-30 16:14:03,842 - clearml - WARNING - Failed decoding debug image [640, 480, 3]\n",
      "2022-12-30 16:14:03,844 - clearml - WARNING - Error: cannot reshape array of size 1 into shape (480,640,newaxis)\n",
      "2022-12-30 16:14:04,807 - clearml - WARNING - Failed decoding debug image [640, 480, 3]\n",
      "2022-12-30 16:14:04,809 - clearml - WARNING - Error: cannot reshape array of size 1 into shape (480,640,newaxis)\n",
      "2022-12-30 16:14:06,937 - clearml - WARNING - Failed decoding debug image [640, 480, 3]\n",
      "2022-12-30 16:14:06,939 - clearml - WARNING - Error: cannot reshape array of size 1 into shape (480,640,newaxis)\n",
      "2022-12-30 16:14:08,632 - clearml - WARNING - Failed decoding debug image [640, 480, 3]\n",
      "2022-12-30 16:14:08,634 - clearml - WARNING - Error: cannot reshape array of size 1 into shape (480,640,newaxis)\n",
      "2022-12-30 16:14:10,371 - clearml - WARNING - Failed decoding debug image [640, 480, 3]\n",
      "2022-12-30 16:14:10,373 - clearml - WARNING - Error: cannot reshape array of size 1 into shape (480,640,newaxis)\n",
      "2022-12-30 16:14:11,472 - clearml - WARNING - Failed decoding debug image [640, 480, 3]\n",
      "2022-12-30 16:14:11,474 - clearml - WARNING - Error: cannot reshape array of size 1 into shape (480,640,newaxis)\n",
      "2022-12-30 16:14:12,664 - clearml - WARNING - Failed decoding debug image [640, 480, 3]\n",
      "2022-12-30 16:14:12,665 - clearml - WARNING - Error: cannot reshape array of size 1 into shape (480,640,newaxis)\n",
      "2022-12-30 16:14:13,820 - clearml - WARNING - Failed decoding debug image [640, 480, 3]\n",
      "2022-12-30 16:14:13,823 - clearml - WARNING - Error: cannot reshape array of size 1 into shape (480,640,newaxis)\n",
      "2022-12-30 16:14:15,051 - clearml - WARNING - Failed decoding debug image [640, 480, 3]\n",
      "2022-12-30 16:14:15,053 - clearml - WARNING - Error: cannot reshape array of size 1 into shape (480,640,newaxis)\n",
      "2022-12-30 16:14:16,264 - clearml - WARNING - Failed decoding debug image [640, 480, 3]\n",
      "2022-12-30 16:14:16,265 - clearml - WARNING - Error: cannot reshape array of size 1 into shape (480,640,newaxis)\n",
      "2022-12-30 16:14:16,739 - clearml - WARNING - Failed decoding debug image [640, 480, 3]\n",
      "2022-12-30 16:14:16,740 - clearml - WARNING - Error: cannot reshape array of size 1 into shape (480,640,newaxis)\n",
      "2022-12-30 16:14:16,816 - clearml - WARNING - Failed decoding debug image [700, 225, 3]\n",
      "2022-12-30 16:14:16,818 - clearml - WARNING - Error: cannot reshape array of size 1 into shape (225,700,newaxis)\n",
      "2022-12-30 16:14:16,882 - clearml - WARNING - Failed decoding debug image [700, 225, 3]\n",
      "2022-12-30 16:14:16,884 - clearml - WARNING - Error: cannot reshape array of size 1 into shape (225,700,newaxis)\n",
      "2022-12-30 16:14:16,941 - clearml - WARNING - Failed decoding debug image [700, 225, 3]\n",
      "2022-12-30 16:14:16,943 - clearml - WARNING - Error: cannot reshape array of size 1 into shape (225,700,newaxis)\n",
      "2022-12-30 16:14:17,139 - clearml - WARNING - Failed decoding debug image [640, 480, 3]\n",
      "2022-12-30 16:14:17,141 - clearml - WARNING - Error: cannot reshape array of size 1 into shape (480,640,newaxis)\n",
      "2022-12-30 16:14:17,265 - clearml - WARNING - Failed decoding debug image [640, 480, 3]\n",
      "2022-12-30 16:14:17,267 - clearml - WARNING - Error: cannot reshape array of size 1 into shape (480,640,newaxis)\n"
     ]
    },
    {
     "data": {
      "text/plain": "Validation: 0it [00:00, ?it/s]",
      "application/vnd.jupyter.widget-view+json": {
       "version_major": 2,
       "version_minor": 0,
       "model_id": "7d1f1c22eae94127b4938f8844342667"
      }
     },
     "metadata": {},
     "output_type": "display_data"
    },
    {
     "name": "stdout",
     "output_type": "stream",
     "text": [
      "2022-12-30 16:14:18,840 - clearml - WARNING - Failed decoding debug image [640, 480, 3]\n",
      "2022-12-30 16:14:18,842 - clearml - WARNING - Error: cannot reshape array of size 1 into shape (480,640,newaxis)\n",
      "2022-12-30 16:14:20,142 - clearml - WARNING - Failed decoding debug image [640, 480, 3]\n",
      "2022-12-30 16:14:20,143 - clearml - WARNING - Error: cannot reshape array of size 1 into shape (480,640,newaxis)\n",
      "2022-12-30 16:14:21,088 - clearml - WARNING - Failed decoding debug image [640, 480, 3]\n",
      "2022-12-30 16:14:21,089 - clearml - WARNING - Error: cannot reshape array of size 1 into shape (480,640,newaxis)\n",
      "2022-12-30 16:14:22,046 - clearml - WARNING - Failed decoding debug image [640, 480, 3]\n",
      "2022-12-30 16:14:22,048 - clearml - WARNING - Error: cannot reshape array of size 1 into shape (480,640,newaxis)\n",
      "2022-12-30 16:14:23,038 - clearml - WARNING - Failed decoding debug image [640, 480, 3]\n",
      "2022-12-30 16:14:23,040 - clearml - WARNING - Error: cannot reshape array of size 1 into shape (480,640,newaxis)\n",
      "2022-12-30 16:14:24,609 - clearml - WARNING - Failed decoding debug image [640, 480, 3]\n",
      "2022-12-30 16:14:24,614 - clearml - WARNING - Error: cannot reshape array of size 1 into shape (480,640,newaxis)\n",
      "2022-12-30 16:14:26,084 - clearml - WARNING - Failed decoding debug image [640, 480, 3]\n",
      "2022-12-30 16:14:26,085 - clearml - WARNING - Error: cannot reshape array of size 1 into shape (480,640,newaxis)\n",
      "2022-12-30 16:14:27,186 - clearml - WARNING - Failed decoding debug image [640, 480, 3]\n",
      "2022-12-30 16:14:27,188 - clearml - WARNING - Error: cannot reshape array of size 1 into shape (480,640,newaxis)\n",
      "2022-12-30 16:14:28,242 - clearml - WARNING - Failed decoding debug image [640, 480, 3]\n",
      "2022-12-30 16:14:28,244 - clearml - WARNING - Error: cannot reshape array of size 1 into shape (480,640,newaxis)\n",
      "2022-12-30 16:14:29,368 - clearml - WARNING - Failed decoding debug image [640, 480, 3]\n",
      "2022-12-30 16:14:29,369 - clearml - WARNING - Error: cannot reshape array of size 1 into shape (480,640,newaxis)\n",
      "2022-12-30 16:14:30,461 - clearml - WARNING - Failed decoding debug image [640, 480, 3]\n",
      "2022-12-30 16:14:30,462 - clearml - WARNING - Error: cannot reshape array of size 1 into shape (480,640,newaxis)\n",
      "2022-12-30 16:14:30,881 - clearml - WARNING - Failed decoding debug image [640, 480, 3]\n",
      "2022-12-30 16:14:30,883 - clearml - WARNING - Error: cannot reshape array of size 1 into shape (480,640,newaxis)\n",
      "2022-12-30 16:14:30,956 - clearml - WARNING - Failed decoding debug image [700, 225, 3]\n",
      "2022-12-30 16:14:30,957 - clearml - WARNING - Error: cannot reshape array of size 1 into shape (225,700,newaxis)\n",
      "2022-12-30 16:14:31,014 - clearml - WARNING - Failed decoding debug image [700, 225, 3]\n",
      "2022-12-30 16:14:31,015 - clearml - WARNING - Error: cannot reshape array of size 1 into shape (225,700,newaxis)\n",
      "2022-12-30 16:14:31,063 - clearml - WARNING - Failed decoding debug image [700, 225, 3]\n",
      "2022-12-30 16:14:31,064 - clearml - WARNING - Error: cannot reshape array of size 1 into shape (225,700,newaxis)\n",
      "2022-12-30 16:14:31,207 - clearml - WARNING - Failed decoding debug image [640, 480, 3]\n",
      "2022-12-30 16:14:31,211 - clearml - WARNING - Error: cannot reshape array of size 1 into shape (480,640,newaxis)\n",
      "2022-12-30 16:14:31,379 - clearml - WARNING - Failed decoding debug image [640, 480, 3]\n",
      "2022-12-30 16:14:31,381 - clearml - WARNING - Error: cannot reshape array of size 1 into shape (480,640,newaxis)\n"
     ]
    },
    {
     "data": {
      "text/plain": "Validation: 0it [00:00, ?it/s]",
      "application/vnd.jupyter.widget-view+json": {
       "version_major": 2,
       "version_minor": 0,
       "model_id": "5ff529dbab034f64967e5e2fda716272"
      }
     },
     "metadata": {},
     "output_type": "display_data"
    },
    {
     "name": "stdout",
     "output_type": "stream",
     "text": [
      "2022-12-30 16:14:33,275 - clearml - WARNING - Failed decoding debug image [640, 480, 3]\n",
      "2022-12-30 16:14:33,278 - clearml - WARNING - Error: cannot reshape array of size 1 into shape (480,640,newaxis)\n",
      "2022-12-30 16:14:34,851 - clearml - WARNING - Failed decoding debug image [640, 480, 3]\n",
      "2022-12-30 16:14:34,853 - clearml - WARNING - Error: cannot reshape array of size 1 into shape (480,640,newaxis)\n",
      "2022-12-30 16:14:35,997 - clearml - WARNING - Failed decoding debug image [640, 480, 3]\n",
      "2022-12-30 16:14:35,999 - clearml - WARNING - Error: cannot reshape array of size 1 into shape (480,640,newaxis)\n",
      "2022-12-30 16:14:37,118 - clearml - WARNING - Failed decoding debug image [640, 480, 3]\n",
      "2022-12-30 16:14:37,120 - clearml - WARNING - Error: cannot reshape array of size 1 into shape (480,640,newaxis)\n",
      "2022-12-30 16:14:38,815 - clearml - WARNING - Failed decoding debug image [640, 480, 3]\n",
      "2022-12-30 16:14:38,820 - clearml - WARNING - Error: cannot reshape array of size 1 into shape (480,640,newaxis)\n",
      "2022-12-30 16:14:40,105 - clearml - WARNING - Failed decoding debug image [640, 480, 3]\n",
      "2022-12-30 16:14:40,107 - clearml - WARNING - Error: cannot reshape array of size 1 into shape (480,640,newaxis)\n",
      "2022-12-30 16:14:41,182 - clearml - WARNING - Failed decoding debug image [640, 480, 3]\n",
      "2022-12-30 16:14:41,184 - clearml - WARNING - Error: cannot reshape array of size 1 into shape (480,640,newaxis)\n",
      "2022-12-30 16:14:42,201 - clearml - WARNING - Failed decoding debug image [640, 480, 3]\n",
      "2022-12-30 16:14:42,207 - clearml - WARNING - Error: cannot reshape array of size 1 into shape (480,640,newaxis)\n",
      "2022-12-30 16:14:43,330 - clearml - WARNING - Failed decoding debug image [640, 480, 3]\n",
      "2022-12-30 16:14:43,332 - clearml - WARNING - Error: cannot reshape array of size 1 into shape (480,640,newaxis)\n",
      "2022-12-30 16:14:44,964 - clearml - WARNING - Failed decoding debug image [640, 480, 3]\n",
      "2022-12-30 16:14:44,966 - clearml - WARNING - Error: cannot reshape array of size 1 into shape (480,640,newaxis)\n",
      "2022-12-30 16:14:46,686 - clearml - WARNING - Failed decoding debug image [640, 480, 3]\n",
      "2022-12-30 16:14:46,687 - clearml - WARNING - Error: cannot reshape array of size 1 into shape (480,640,newaxis)\n",
      "2022-12-30 16:14:47,264 - clearml - WARNING - Failed decoding debug image [640, 480, 3]\n",
      "2022-12-30 16:14:47,266 - clearml - WARNING - Error: cannot reshape array of size 1 into shape (480,640,newaxis)\n",
      "2022-12-30 16:14:47,331 - clearml - WARNING - Failed decoding debug image [700, 225, 3]\n",
      "2022-12-30 16:14:47,333 - clearml - WARNING - Error: cannot reshape array of size 1 into shape (225,700,newaxis)\n",
      "2022-12-30 16:14:47,401 - clearml - WARNING - Failed decoding debug image [700, 225, 3]\n",
      "2022-12-30 16:14:47,403 - clearml - WARNING - Error: cannot reshape array of size 1 into shape (225,700,newaxis)\n",
      "2022-12-30 16:14:47,464 - clearml - WARNING - Failed decoding debug image [700, 225, 3]\n",
      "2022-12-30 16:14:47,465 - clearml - WARNING - Error: cannot reshape array of size 1 into shape (225,700,newaxis)\n",
      "2022-12-30 16:14:47,618 - clearml - WARNING - Failed decoding debug image [640, 480, 3]\n",
      "2022-12-30 16:14:47,619 - clearml - WARNING - Error: cannot reshape array of size 1 into shape (480,640,newaxis)\n",
      "2022-12-30 16:14:47,742 - clearml - WARNING - Failed decoding debug image [640, 480, 3]\n",
      "2022-12-30 16:14:47,744 - clearml - WARNING - Error: cannot reshape array of size 1 into shape (480,640,newaxis)\n"
     ]
    },
    {
     "data": {
      "text/plain": "Validation: 0it [00:00, ?it/s]",
      "application/vnd.jupyter.widget-view+json": {
       "version_major": 2,
       "version_minor": 0,
       "model_id": "7bf85e69c25840cfa3ebabaf26ef13f0"
      }
     },
     "metadata": {},
     "output_type": "display_data"
    },
    {
     "name": "stdout",
     "output_type": "stream",
     "text": [
      "2022-12-30 16:14:50,216 - clearml - WARNING - Failed decoding debug image [640, 480, 3]\n",
      "2022-12-30 16:14:50,217 - clearml - WARNING - Error: cannot reshape array of size 1 into shape (480,640,newaxis)\n",
      "2022-12-30 16:14:51,251 - clearml - WARNING - Failed decoding debug image [640, 480, 3]\n",
      "2022-12-30 16:14:51,252 - clearml - WARNING - Error: cannot reshape array of size 1 into shape (480,640,newaxis)\n",
      "2022-12-30 16:14:52,258 - clearml - WARNING - Failed decoding debug image [640, 480, 3]\n",
      "2022-12-30 16:14:52,260 - clearml - WARNING - Error: cannot reshape array of size 1 into shape (480,640,newaxis)\n",
      "2022-12-30 16:14:53,359 - clearml - WARNING - Failed decoding debug image [640, 480, 3]\n",
      "2022-12-30 16:14:53,362 - clearml - WARNING - Error: cannot reshape array of size 1 into shape (480,640,newaxis)\n",
      "2022-12-30 16:14:54,523 - clearml - WARNING - Failed decoding debug image [640, 480, 3]\n",
      "2022-12-30 16:14:54,524 - clearml - WARNING - Error: cannot reshape array of size 1 into shape (480,640,newaxis)\n",
      "2022-12-30 16:14:55,567 - clearml - WARNING - Failed decoding debug image [640, 480, 3]\n",
      "2022-12-30 16:14:55,570 - clearml - WARNING - Error: cannot reshape array of size 1 into shape (480,640,newaxis)\n",
      "2022-12-30 16:14:56,653 - clearml - WARNING - Failed decoding debug image [640, 480, 3]\n",
      "2022-12-30 16:14:56,655 - clearml - WARNING - Error: cannot reshape array of size 1 into shape (480,640,newaxis)\n",
      "2022-12-30 16:14:57,646 - clearml - WARNING - Failed decoding debug image [640, 480, 3]\n",
      "2022-12-30 16:14:57,648 - clearml - WARNING - Error: cannot reshape array of size 1 into shape (480,640,newaxis)\n",
      "2022-12-30 16:14:58,764 - clearml - WARNING - Failed decoding debug image [640, 480, 3]\n",
      "2022-12-30 16:14:58,766 - clearml - WARNING - Error: cannot reshape array of size 1 into shape (480,640,newaxis)\n",
      "2022-12-30 16:14:59,836 - clearml - WARNING - Failed decoding debug image [640, 480, 3]\n",
      "2022-12-30 16:14:59,838 - clearml - WARNING - Error: cannot reshape array of size 1 into shape (480,640,newaxis)\n",
      "2022-12-30 16:15:00,888 - clearml - WARNING - Failed decoding debug image [640, 480, 3]\n",
      "2022-12-30 16:15:00,889 - clearml - WARNING - Error: cannot reshape array of size 1 into shape (480,640,newaxis)\n",
      "2022-12-30 16:15:01,317 - clearml - WARNING - Failed decoding debug image [640, 480, 3]\n",
      "2022-12-30 16:15:01,319 - clearml - WARNING - Error: cannot reshape array of size 1 into shape (480,640,newaxis)\n",
      "2022-12-30 16:15:01,378 - clearml - WARNING - Failed decoding debug image [700, 225, 3]\n",
      "2022-12-30 16:15:01,380 - clearml - WARNING - Error: cannot reshape array of size 1 into shape (225,700,newaxis)\n",
      "2022-12-30 16:15:01,444 - clearml - WARNING - Failed decoding debug image [700, 225, 3]\n",
      "2022-12-30 16:15:01,445 - clearml - WARNING - Error: cannot reshape array of size 1 into shape (225,700,newaxis)\n",
      "2022-12-30 16:15:01,496 - clearml - WARNING - Failed decoding debug image [700, 225, 3]\n",
      "2022-12-30 16:15:01,497 - clearml - WARNING - Error: cannot reshape array of size 1 into shape (225,700,newaxis)\n",
      "2022-12-30 16:15:01,607 - clearml - WARNING - Failed decoding debug image [640, 480, 3]\n",
      "2022-12-30 16:15:01,609 - clearml - WARNING - Error: cannot reshape array of size 1 into shape (480,640,newaxis)\n",
      "2022-12-30 16:15:01,749 - clearml - WARNING - Failed decoding debug image [640, 480, 3]\n",
      "2022-12-30 16:15:01,750 - clearml - WARNING - Error: cannot reshape array of size 1 into shape (480,640,newaxis)\n"
     ]
    },
    {
     "data": {
      "text/plain": "Validation: 0it [00:00, ?it/s]",
      "application/vnd.jupyter.widget-view+json": {
       "version_major": 2,
       "version_minor": 0,
       "model_id": "ad08ad235f0846d69bc4ea6ed86e0f0e"
      }
     },
     "metadata": {},
     "output_type": "display_data"
    },
    {
     "name": "stdout",
     "output_type": "stream",
     "text": [
      "2022-12-30 16:15:03,393 - clearml - WARNING - Failed decoding debug image [640, 480, 3]\n",
      "2022-12-30 16:15:03,395 - clearml - WARNING - Error: cannot reshape array of size 1 into shape (480,640,newaxis)\n",
      "2022-12-30 16:15:04,788 - clearml - WARNING - Failed decoding debug image [640, 480, 3]\n",
      "2022-12-30 16:15:04,790 - clearml - WARNING - Error: cannot reshape array of size 1 into shape (480,640,newaxis)\n",
      "2022-12-30 16:15:05,838 - clearml - WARNING - Failed decoding debug image [640, 480, 3]\n",
      "2022-12-30 16:15:05,840 - clearml - WARNING - Error: cannot reshape array of size 1 into shape (480,640,newaxis)\n",
      "2022-12-30 16:15:06,859 - clearml - WARNING - Failed decoding debug image [640, 480, 3]\n",
      "2022-12-30 16:15:06,861 - clearml - WARNING - Error: cannot reshape array of size 1 into shape (480,640,newaxis)\n",
      "2022-12-30 16:15:07,924 - clearml - WARNING - Failed decoding debug image [640, 480, 3]\n",
      "2022-12-30 16:15:07,925 - clearml - WARNING - Error: cannot reshape array of size 1 into shape (480,640,newaxis)\n",
      "2022-12-30 16:15:08,995 - clearml - WARNING - Failed decoding debug image [640, 480, 3]\n",
      "2022-12-30 16:15:08,996 - clearml - WARNING - Error: cannot reshape array of size 1 into shape (480,640,newaxis)\n",
      "2022-12-30 16:15:09,995 - clearml - WARNING - Failed decoding debug image [640, 480, 3]\n",
      "2022-12-30 16:15:09,996 - clearml - WARNING - Error: cannot reshape array of size 1 into shape (480,640,newaxis)\n",
      "2022-12-30 16:15:11,076 - clearml - WARNING - Failed decoding debug image [640, 480, 3]\n",
      "2022-12-30 16:15:11,078 - clearml - WARNING - Error: cannot reshape array of size 1 into shape (480,640,newaxis)\n",
      "2022-12-30 16:15:12,084 - clearml - WARNING - Failed decoding debug image [640, 480, 3]\n",
      "2022-12-30 16:15:12,085 - clearml - WARNING - Error: cannot reshape array of size 1 into shape (480,640,newaxis)\n",
      "2022-12-30 16:15:13,411 - clearml - WARNING - Failed decoding debug image [640, 480, 3]\n",
      "2022-12-30 16:15:13,413 - clearml - WARNING - Error: cannot reshape array of size 1 into shape (480,640,newaxis)\n",
      "2022-12-30 16:15:14,604 - clearml - WARNING - Failed decoding debug image [640, 480, 3]\n",
      "2022-12-30 16:15:14,606 - clearml - WARNING - Error: cannot reshape array of size 1 into shape (480,640,newaxis)\n",
      "2022-12-30 16:15:14,975 - clearml - WARNING - Failed decoding debug image [640, 480, 3]\n",
      "2022-12-30 16:15:14,977 - clearml - WARNING - Error: cannot reshape array of size 1 into shape (480,640,newaxis)\n",
      "2022-12-30 16:15:15,035 - clearml - WARNING - Failed decoding debug image [700, 225, 3]\n",
      "2022-12-30 16:15:15,037 - clearml - WARNING - Error: cannot reshape array of size 1 into shape (225,700,newaxis)\n",
      "2022-12-30 16:15:15,098 - clearml - WARNING - Failed decoding debug image [700, 225, 3]\n",
      "2022-12-30 16:15:15,100 - clearml - WARNING - Error: cannot reshape array of size 1 into shape (225,700,newaxis)\n",
      "2022-12-30 16:15:15,154 - clearml - WARNING - Failed decoding debug image [700, 225, 3]\n",
      "2022-12-30 16:15:15,155 - clearml - WARNING - Error: cannot reshape array of size 1 into shape (225,700,newaxis)\n",
      "2022-12-30 16:15:15,265 - clearml - WARNING - Failed decoding debug image [640, 480, 3]\n",
      "2022-12-30 16:15:15,268 - clearml - WARNING - Error: cannot reshape array of size 1 into shape (480,640,newaxis)\n",
      "2022-12-30 16:15:15,483 - clearml - WARNING - Failed decoding debug image [640, 480, 3]\n",
      "2022-12-30 16:15:15,484 - clearml - WARNING - Error: cannot reshape array of size 1 into shape (480,640,newaxis)\n"
     ]
    },
    {
     "data": {
      "text/plain": "Validation: 0it [00:00, ?it/s]",
      "application/vnd.jupyter.widget-view+json": {
       "version_major": 2,
       "version_minor": 0,
       "model_id": "a0bfaa4ee98a4634932bee019a4999ec"
      }
     },
     "metadata": {},
     "output_type": "display_data"
    },
    {
     "name": "stdout",
     "output_type": "stream",
     "text": [
      "2022-12-30 16:15:17,042 - clearml - WARNING - Failed decoding debug image [640, 480, 3]\n",
      "2022-12-30 16:15:17,044 - clearml - WARNING - Error: cannot reshape array of size 1 into shape (480,640,newaxis)\n",
      "2022-12-30 16:15:18,102 - clearml - WARNING - Failed decoding debug image [640, 480, 3]\n",
      "2022-12-30 16:15:18,104 - clearml - WARNING - Error: cannot reshape array of size 1 into shape (480,640,newaxis)\n",
      "2022-12-30 16:15:19,211 - clearml - WARNING - Failed decoding debug image [640, 480, 3]\n",
      "2022-12-30 16:15:19,213 - clearml - WARNING - Error: cannot reshape array of size 1 into shape (480,640,newaxis)\n",
      "2022-12-30 16:15:20,209 - clearml - WARNING - Failed decoding debug image [640, 480, 3]\n",
      "2022-12-30 16:15:20,211 - clearml - WARNING - Error: cannot reshape array of size 1 into shape (480,640,newaxis)\n",
      "2022-12-30 16:15:21,227 - clearml - WARNING - Failed decoding debug image [640, 480, 3]\n",
      "2022-12-30 16:15:21,229 - clearml - WARNING - Error: cannot reshape array of size 1 into shape (480,640,newaxis)\n",
      "2022-12-30 16:15:22,226 - clearml - WARNING - Failed decoding debug image [640, 480, 3]\n",
      "2022-12-30 16:15:22,228 - clearml - WARNING - Error: cannot reshape array of size 1 into shape (480,640,newaxis)\n",
      "2022-12-30 16:15:23,270 - clearml - WARNING - Failed decoding debug image [640, 480, 3]\n",
      "2022-12-30 16:15:23,272 - clearml - WARNING - Error: cannot reshape array of size 1 into shape (480,640,newaxis)\n",
      "2022-12-30 16:15:24,553 - clearml - WARNING - Failed decoding debug image [640, 480, 3]\n",
      "2022-12-30 16:15:24,554 - clearml - WARNING - Error: cannot reshape array of size 1 into shape (480,640,newaxis)\n",
      "2022-12-30 16:15:25,532 - clearml - WARNING - Failed decoding debug image [640, 480, 3]\n",
      "2022-12-30 16:15:25,534 - clearml - WARNING - Error: cannot reshape array of size 1 into shape (480,640,newaxis)\n",
      "2022-12-30 16:15:26,653 - clearml - WARNING - Failed decoding debug image [640, 480, 3]\n",
      "2022-12-30 16:15:26,655 - clearml - WARNING - Error: cannot reshape array of size 1 into shape (480,640,newaxis)\n",
      "2022-12-30 16:15:27,812 - clearml - WARNING - Failed decoding debug image [640, 480, 3]\n",
      "2022-12-30 16:15:27,814 - clearml - WARNING - Error: cannot reshape array of size 1 into shape (480,640,newaxis)\n",
      "2022-12-30 16:15:28,573 - clearml - WARNING - Failed decoding debug image [640, 480, 3]\n",
      "2022-12-30 16:15:28,583 - clearml - WARNING - Error: cannot reshape array of size 1 into shape (480,640,newaxis)\n",
      "2022-12-30 16:15:28,685 - clearml - WARNING - Failed decoding debug image [700, 225, 3]\n",
      "2022-12-30 16:15:28,687 - clearml - WARNING - Error: cannot reshape array of size 1 into shape (225,700,newaxis)\n",
      "2022-12-30 16:15:28,774 - clearml - WARNING - Failed decoding debug image [700, 225, 3]\n",
      "2022-12-30 16:15:28,777 - clearml - WARNING - Error: cannot reshape array of size 1 into shape (225,700,newaxis)\n",
      "2022-12-30 16:15:28,865 - clearml - WARNING - Failed decoding debug image [700, 225, 3]\n",
      "2022-12-30 16:15:28,867 - clearml - WARNING - Error: cannot reshape array of size 1 into shape (225,700,newaxis)\n",
      "2022-12-30 16:15:29,116 - clearml - WARNING - Failed decoding debug image [640, 480, 3]\n",
      "2022-12-30 16:15:29,118 - clearml - WARNING - Error: cannot reshape array of size 1 into shape (480,640,newaxis)\n",
      "2022-12-30 16:15:29,348 - clearml - WARNING - Failed decoding debug image [640, 480, 3]\n",
      "2022-12-30 16:15:29,350 - clearml - WARNING - Error: cannot reshape array of size 1 into shape (480,640,newaxis)\n"
     ]
    },
    {
     "data": {
      "text/plain": "Validation: 0it [00:00, ?it/s]",
      "application/vnd.jupyter.widget-view+json": {
       "version_major": 2,
       "version_minor": 0,
       "model_id": "e74ea0dbc04c436daa7a99156252af6e"
      }
     },
     "metadata": {},
     "output_type": "display_data"
    },
    {
     "name": "stdout",
     "output_type": "stream",
     "text": [
      "2022-12-30 16:15:31,419 - clearml - WARNING - Failed decoding debug image [640, 480, 3]\n",
      "2022-12-30 16:15:31,420 - clearml - WARNING - Error: cannot reshape array of size 1 into shape (480,640,newaxis)\n",
      "2022-12-30 16:15:32,727 - clearml - WARNING - Failed decoding debug image [640, 480, 3]\n",
      "2022-12-30 16:15:32,728 - clearml - WARNING - Error: cannot reshape array of size 1 into shape (480,640,newaxis)\n",
      "2022-12-30 16:15:33,903 - clearml - WARNING - Failed decoding debug image [640, 480, 3]\n",
      "2022-12-30 16:15:33,904 - clearml - WARNING - Error: cannot reshape array of size 1 into shape (480,640,newaxis)\n",
      "2022-12-30 16:15:35,091 - clearml - WARNING - Failed decoding debug image [640, 480, 3]\n",
      "2022-12-30 16:15:35,094 - clearml - WARNING - Error: cannot reshape array of size 1 into shape (480,640,newaxis)\n",
      "2022-12-30 16:15:36,258 - clearml - WARNING - Failed decoding debug image [640, 480, 3]\n",
      "2022-12-30 16:15:36,261 - clearml - WARNING - Error: cannot reshape array of size 1 into shape (480,640,newaxis)\n",
      "2022-12-30 16:15:37,397 - clearml - WARNING - Failed decoding debug image [640, 480, 3]\n",
      "2022-12-30 16:15:37,401 - clearml - WARNING - Error: cannot reshape array of size 1 into shape (480,640,newaxis)\n",
      "2022-12-30 16:15:38,573 - clearml - WARNING - Failed decoding debug image [640, 480, 3]\n",
      "2022-12-30 16:15:38,575 - clearml - WARNING - Error: cannot reshape array of size 1 into shape (480,640,newaxis)\n",
      "2022-12-30 16:15:39,897 - clearml - WARNING - Failed decoding debug image [640, 480, 3]\n",
      "2022-12-30 16:15:39,900 - clearml - WARNING - Error: cannot reshape array of size 1 into shape (480,640,newaxis)\n",
      "2022-12-30 16:15:41,050 - clearml - WARNING - Failed decoding debug image [640, 480, 3]\n",
      "2022-12-30 16:15:41,051 - clearml - WARNING - Error: cannot reshape array of size 1 into shape (480,640,newaxis)\n",
      "2022-12-30 16:15:42,249 - clearml - WARNING - Failed decoding debug image [640, 480, 3]\n",
      "2022-12-30 16:15:42,251 - clearml - WARNING - Error: cannot reshape array of size 1 into shape (480,640,newaxis)\n",
      "2022-12-30 16:15:43,407 - clearml - WARNING - Failed decoding debug image [640, 480, 3]\n",
      "2022-12-30 16:15:43,409 - clearml - WARNING - Error: cannot reshape array of size 1 into shape (480,640,newaxis)\n",
      "2022-12-30 16:15:44,127 - clearml - WARNING - Failed decoding debug image [640, 480, 3]\n",
      "2022-12-30 16:15:44,129 - clearml - WARNING - Error: cannot reshape array of size 1 into shape (480,640,newaxis)\n",
      "2022-12-30 16:15:44,208 - clearml - WARNING - Failed decoding debug image [700, 225, 3]\n",
      "2022-12-30 16:15:44,209 - clearml - WARNING - Error: cannot reshape array of size 1 into shape (225,700,newaxis)\n",
      "2022-12-30 16:15:44,276 - clearml - WARNING - Failed decoding debug image [700, 225, 3]\n",
      "2022-12-30 16:15:44,278 - clearml - WARNING - Error: cannot reshape array of size 1 into shape (225,700,newaxis)\n",
      "2022-12-30 16:15:44,343 - clearml - WARNING - Failed decoding debug image [700, 225, 3]\n",
      "2022-12-30 16:15:44,344 - clearml - WARNING - Error: cannot reshape array of size 1 into shape (225,700,newaxis)\n",
      "2022-12-30 16:15:44,442 - clearml - WARNING - Failed decoding debug image [640, 480, 3]\n",
      "2022-12-30 16:15:44,444 - clearml - WARNING - Error: cannot reshape array of size 1 into shape (480,640,newaxis)\n",
      "2022-12-30 16:15:44,607 - clearml - WARNING - Failed decoding debug image [640, 480, 3]\n",
      "2022-12-30 16:15:44,609 - clearml - WARNING - Error: cannot reshape array of size 1 into shape (480,640,newaxis)\n"
     ]
    },
    {
     "data": {
      "text/plain": "Validation: 0it [00:00, ?it/s]",
      "application/vnd.jupyter.widget-view+json": {
       "version_major": 2,
       "version_minor": 0,
       "model_id": "4927c1f6d0e74866bc7d22b2fe9844b2"
      }
     },
     "metadata": {},
     "output_type": "display_data"
    },
    {
     "name": "stdout",
     "output_type": "stream",
     "text": [
      "2022-12-30 16:15:46,150 - clearml - WARNING - Failed decoding debug image [640, 480, 3]\n",
      "2022-12-30 16:15:46,152 - clearml - WARNING - Error: cannot reshape array of size 1 into shape (480,640,newaxis)\n",
      "2022-12-30 16:15:47,409 - clearml - WARNING - Failed decoding debug image [640, 480, 3]\n",
      "2022-12-30 16:15:47,411 - clearml - WARNING - Error: cannot reshape array of size 1 into shape (480,640,newaxis)\n",
      "2022-12-30 16:15:48,885 - clearml - WARNING - Failed decoding debug image [640, 480, 3]\n",
      "2022-12-30 16:15:48,887 - clearml - WARNING - Error: cannot reshape array of size 1 into shape (480,640,newaxis)\n",
      "2022-12-30 16:15:49,943 - clearml - WARNING - Failed decoding debug image [640, 480, 3]\n",
      "2022-12-30 16:15:49,944 - clearml - WARNING - Error: cannot reshape array of size 1 into shape (480,640,newaxis)\n",
      "2022-12-30 16:15:51,545 - clearml - WARNING - Failed decoding debug image [640, 480, 3]\n",
      "2022-12-30 16:15:51,547 - clearml - WARNING - Error: cannot reshape array of size 1 into shape (480,640,newaxis)\n",
      "2022-12-30 16:15:52,522 - clearml - WARNING - Failed decoding debug image [640, 480, 3]\n",
      "2022-12-30 16:15:52,524 - clearml - WARNING - Error: cannot reshape array of size 1 into shape (480,640,newaxis)\n",
      "2022-12-30 16:15:53,619 - clearml - WARNING - Failed decoding debug image [640, 480, 3]\n",
      "2022-12-30 16:15:53,622 - clearml - WARNING - Error: cannot reshape array of size 1 into shape (480,640,newaxis)\n",
      "2022-12-30 16:15:54,817 - clearml - WARNING - Failed decoding debug image [640, 480, 3]\n",
      "2022-12-30 16:15:54,819 - clearml - WARNING - Error: cannot reshape array of size 1 into shape (480,640,newaxis)\n",
      "2022-12-30 16:15:55,826 - clearml - WARNING - Failed decoding debug image [640, 480, 3]\n",
      "2022-12-30 16:15:55,827 - clearml - WARNING - Error: cannot reshape array of size 1 into shape (480,640,newaxis)\n",
      "2022-12-30 16:15:56,748 - clearml - WARNING - Failed decoding debug image [640, 480, 3]\n",
      "2022-12-30 16:15:56,750 - clearml - WARNING - Error: cannot reshape array of size 1 into shape (480,640,newaxis)\n",
      "2022-12-30 16:15:57,815 - clearml - WARNING - Failed decoding debug image [640, 480, 3]\n",
      "2022-12-30 16:15:57,817 - clearml - WARNING - Error: cannot reshape array of size 1 into shape (480,640,newaxis)\n",
      "2022-12-30 16:15:58,179 - clearml - WARNING - Failed decoding debug image [640, 480, 3]\n",
      "2022-12-30 16:15:58,180 - clearml - WARNING - Error: cannot reshape array of size 1 into shape (480,640,newaxis)\n",
      "2022-12-30 16:15:58,250 - clearml - WARNING - Failed decoding debug image [700, 225, 3]\n",
      "2022-12-30 16:15:58,251 - clearml - WARNING - Error: cannot reshape array of size 1 into shape (225,700,newaxis)\n",
      "2022-12-30 16:15:58,304 - clearml - WARNING - Failed decoding debug image [700, 225, 3]\n",
      "2022-12-30 16:15:58,306 - clearml - WARNING - Error: cannot reshape array of size 1 into shape (225,700,newaxis)\n",
      "2022-12-30 16:15:58,357 - clearml - WARNING - Failed decoding debug image [700, 225, 3]\n",
      "2022-12-30 16:15:58,358 - clearml - WARNING - Error: cannot reshape array of size 1 into shape (225,700,newaxis)\n",
      "2022-12-30 16:15:58,480 - clearml - WARNING - Failed decoding debug image [640, 480, 3]\n",
      "2022-12-30 16:15:58,482 - clearml - WARNING - Error: cannot reshape array of size 1 into shape (480,640,newaxis)\n",
      "2022-12-30 16:15:58,618 - clearml - WARNING - Failed decoding debug image [640, 480, 3]\n",
      "2022-12-30 16:15:58,619 - clearml - WARNING - Error: cannot reshape array of size 1 into shape (480,640,newaxis)\n"
     ]
    },
    {
     "data": {
      "text/plain": "Validation: 0it [00:00, ?it/s]",
      "application/vnd.jupyter.widget-view+json": {
       "version_major": 2,
       "version_minor": 0,
       "model_id": "efc57207c4334112846665dc8e7945e8"
      }
     },
     "metadata": {},
     "output_type": "display_data"
    },
    {
     "name": "stdout",
     "output_type": "stream",
     "text": [
      "2022-12-30 16:16:00,194 - clearml - WARNING - Failed decoding debug image [640, 480, 3]\n",
      "2022-12-30 16:16:00,196 - clearml - WARNING - Error: cannot reshape array of size 1 into shape (480,640,newaxis)\n",
      "2022-12-30 16:16:01,315 - clearml - WARNING - Failed decoding debug image [640, 480, 3]\n",
      "2022-12-30 16:16:01,318 - clearml - WARNING - Error: cannot reshape array of size 1 into shape (480,640,newaxis)\n",
      "2022-12-30 16:16:02,520 - clearml - WARNING - Failed decoding debug image [640, 480, 3]\n",
      "2022-12-30 16:16:02,521 - clearml - WARNING - Error: cannot reshape array of size 1 into shape (480,640,newaxis)\n",
      "2022-12-30 16:16:03,804 - clearml - WARNING - Failed decoding debug image [640, 480, 3]\n",
      "2022-12-30 16:16:03,806 - clearml - WARNING - Error: cannot reshape array of size 1 into shape (480,640,newaxis)\n",
      "2022-12-30 16:16:05,277 - clearml - WARNING - Failed decoding debug image [640, 480, 3]\n",
      "2022-12-30 16:16:05,279 - clearml - WARNING - Error: cannot reshape array of size 1 into shape (480,640,newaxis)\n",
      "2022-12-30 16:16:06,433 - clearml - WARNING - Failed decoding debug image [640, 480, 3]\n",
      "2022-12-30 16:16:06,435 - clearml - WARNING - Error: cannot reshape array of size 1 into shape (480,640,newaxis)\n",
      "2022-12-30 16:16:07,608 - clearml - WARNING - Failed decoding debug image [640, 480, 3]\n",
      "2022-12-30 16:16:07,610 - clearml - WARNING - Error: cannot reshape array of size 1 into shape (480,640,newaxis)\n",
      "2022-12-30 16:16:08,725 - clearml - WARNING - Failed decoding debug image [640, 480, 3]\n",
      "2022-12-30 16:16:08,727 - clearml - WARNING - Error: cannot reshape array of size 1 into shape (480,640,newaxis)\n",
      "2022-12-30 16:16:09,807 - clearml - WARNING - Failed decoding debug image [640, 480, 3]\n",
      "2022-12-30 16:16:09,809 - clearml - WARNING - Error: cannot reshape array of size 1 into shape (480,640,newaxis)\n",
      "2022-12-30 16:16:10,839 - clearml - WARNING - Failed decoding debug image [640, 480, 3]\n",
      "2022-12-30 16:16:10,841 - clearml - WARNING - Error: cannot reshape array of size 1 into shape (480,640,newaxis)\n",
      "2022-12-30 16:16:11,893 - clearml - WARNING - Failed decoding debug image [640, 480, 3]\n",
      "2022-12-30 16:16:11,895 - clearml - WARNING - Error: cannot reshape array of size 1 into shape (480,640,newaxis)\n",
      "2022-12-30 16:16:12,394 - clearml - WARNING - Failed decoding debug image [640, 480, 3]\n",
      "2022-12-30 16:16:12,396 - clearml - WARNING - Error: cannot reshape array of size 1 into shape (480,640,newaxis)\n",
      "2022-12-30 16:16:12,472 - clearml - WARNING - Failed decoding debug image [700, 225, 3]\n",
      "2022-12-30 16:16:12,473 - clearml - WARNING - Error: cannot reshape array of size 1 into shape (225,700,newaxis)\n",
      "2022-12-30 16:16:12,525 - clearml - WARNING - Failed decoding debug image [700, 225, 3]\n",
      "2022-12-30 16:16:12,526 - clearml - WARNING - Error: cannot reshape array of size 1 into shape (225,700,newaxis)\n",
      "2022-12-30 16:16:12,577 - clearml - WARNING - Failed decoding debug image [700, 225, 3]\n",
      "2022-12-30 16:16:12,578 - clearml - WARNING - Error: cannot reshape array of size 1 into shape (225,700,newaxis)\n",
      "2022-12-30 16:16:12,726 - clearml - WARNING - Failed decoding debug image [640, 480, 3]\n",
      "2022-12-30 16:16:12,728 - clearml - WARNING - Error: cannot reshape array of size 1 into shape (480,640,newaxis)\n",
      "2022-12-30 16:16:12,863 - clearml - WARNING - Failed decoding debug image [640, 480, 3]\n",
      "2022-12-30 16:16:12,865 - clearml - WARNING - Error: cannot reshape array of size 1 into shape (480,640,newaxis)\n"
     ]
    },
    {
     "data": {
      "text/plain": "Validation: 0it [00:00, ?it/s]",
      "application/vnd.jupyter.widget-view+json": {
       "version_major": 2,
       "version_minor": 0,
       "model_id": "73a653067f294959a5f6fa24c4c72ab2"
      }
     },
     "metadata": {},
     "output_type": "display_data"
    },
    {
     "name": "stdout",
     "output_type": "stream",
     "text": [
      "2022-12-30 16:16:14,831 - clearml - WARNING - Failed decoding debug image [640, 480, 3]\n",
      "2022-12-30 16:16:14,833 - clearml - WARNING - Error: cannot reshape array of size 1 into shape (480,640,newaxis)\n",
      "2022-12-30 16:16:15,928 - clearml - WARNING - Failed decoding debug image [640, 480, 3]\n",
      "2022-12-30 16:16:15,930 - clearml - WARNING - Error: cannot reshape array of size 1 into shape (480,640,newaxis)\n",
      "2022-12-30 16:16:17,109 - clearml - WARNING - Failed decoding debug image [640, 480, 3]\n",
      "2022-12-30 16:16:17,112 - clearml - WARNING - Error: cannot reshape array of size 1 into shape (480,640,newaxis)\n",
      "2022-12-30 16:16:18,288 - clearml - WARNING - Failed decoding debug image [640, 480, 3]\n",
      "2022-12-30 16:16:18,290 - clearml - WARNING - Error: cannot reshape array of size 1 into shape (480,640,newaxis)\n",
      "2022-12-30 16:16:19,398 - clearml - WARNING - Failed decoding debug image [640, 480, 3]\n",
      "2022-12-30 16:16:19,400 - clearml - WARNING - Error: cannot reshape array of size 1 into shape (480,640,newaxis)\n",
      "2022-12-30 16:16:20,518 - clearml - WARNING - Failed decoding debug image [640, 480, 3]\n",
      "2022-12-30 16:16:20,520 - clearml - WARNING - Error: cannot reshape array of size 1 into shape (480,640,newaxis)\n",
      "2022-12-30 16:16:21,869 - clearml - WARNING - Failed decoding debug image [640, 480, 3]\n",
      "2022-12-30 16:16:21,871 - clearml - WARNING - Error: cannot reshape array of size 1 into shape (480,640,newaxis)\n",
      "2022-12-30 16:16:23,711 - clearml - WARNING - Failed decoding debug image [640, 480, 3]\n",
      "2022-12-30 16:16:23,714 - clearml - WARNING - Error: cannot reshape array of size 1 into shape (480,640,newaxis)\n",
      "2022-12-30 16:16:25,439 - clearml - WARNING - Failed decoding debug image [640, 480, 3]\n",
      "2022-12-30 16:16:25,441 - clearml - WARNING - Error: cannot reshape array of size 1 into shape (480,640,newaxis)\n",
      "2022-12-30 16:16:26,530 - clearml - WARNING - Failed decoding debug image [640, 480, 3]\n",
      "2022-12-30 16:16:26,532 - clearml - WARNING - Error: cannot reshape array of size 1 into shape (480,640,newaxis)\n",
      "2022-12-30 16:16:27,758 - clearml - WARNING - Failed decoding debug image [640, 480, 3]\n",
      "2022-12-30 16:16:27,761 - clearml - WARNING - Error: cannot reshape array of size 1 into shape (480,640,newaxis)\n",
      "2022-12-30 16:16:28,154 - clearml - WARNING - Failed decoding debug image [640, 480, 3]\n",
      "2022-12-30 16:16:28,156 - clearml - WARNING - Error: cannot reshape array of size 1 into shape (480,640,newaxis)\n",
      "2022-12-30 16:16:28,213 - clearml - WARNING - Failed decoding debug image [700, 225, 3]\n",
      "2022-12-30 16:16:28,215 - clearml - WARNING - Error: cannot reshape array of size 1 into shape (225,700,newaxis)\n",
      "2022-12-30 16:16:28,269 - clearml - WARNING - Failed decoding debug image [700, 225, 3]\n",
      "2022-12-30 16:16:28,270 - clearml - WARNING - Error: cannot reshape array of size 1 into shape (225,700,newaxis)\n",
      "2022-12-30 16:16:28,325 - clearml - WARNING - Failed decoding debug image [700, 225, 3]\n",
      "2022-12-30 16:16:28,327 - clearml - WARNING - Error: cannot reshape array of size 1 into shape (225,700,newaxis)\n",
      "2022-12-30 16:16:28,452 - clearml - WARNING - Failed decoding debug image [640, 480, 3]\n",
      "2022-12-30 16:16:28,457 - clearml - WARNING - Error: cannot reshape array of size 1 into shape (480,640,newaxis)\n",
      "2022-12-30 16:16:28,593 - clearml - WARNING - Failed decoding debug image [640, 480, 3]\n",
      "2022-12-30 16:16:28,595 - clearml - WARNING - Error: cannot reshape array of size 1 into shape (480,640,newaxis)\n"
     ]
    },
    {
     "data": {
      "text/plain": "Validation: 0it [00:00, ?it/s]",
      "application/vnd.jupyter.widget-view+json": {
       "version_major": 2,
       "version_minor": 0,
       "model_id": "622c25b90dd64ab19e74305b6e545e7d"
      }
     },
     "metadata": {},
     "output_type": "display_data"
    },
    {
     "name": "stdout",
     "output_type": "stream",
     "text": [
      "2022-12-30 16:16:30,270 - clearml - WARNING - Failed decoding debug image [640, 480, 3]\n",
      "2022-12-30 16:16:30,271 - clearml - WARNING - Error: cannot reshape array of size 1 into shape (480,640,newaxis)\n",
      "2022-12-30 16:16:31,504 - clearml - WARNING - Failed decoding debug image [640, 480, 3]\n",
      "2022-12-30 16:16:31,506 - clearml - WARNING - Error: cannot reshape array of size 1 into shape (480,640,newaxis)\n",
      "2022-12-30 16:16:32,690 - clearml - WARNING - Failed decoding debug image [640, 480, 3]\n",
      "2022-12-30 16:16:32,691 - clearml - WARNING - Error: cannot reshape array of size 1 into shape (480,640,newaxis)\n",
      "2022-12-30 16:16:33,816 - clearml - WARNING - Failed decoding debug image [640, 480, 3]\n",
      "2022-12-30 16:16:33,818 - clearml - WARNING - Error: cannot reshape array of size 1 into shape (480,640,newaxis)\n",
      "2022-12-30 16:16:35,758 - clearml - WARNING - Failed decoding debug image [640, 480, 3]\n",
      "2022-12-30 16:16:35,760 - clearml - WARNING - Error: cannot reshape array of size 1 into shape (480,640,newaxis)\n",
      "2022-12-30 16:16:37,031 - clearml - WARNING - Failed decoding debug image [640, 480, 3]\n",
      "2022-12-30 16:16:37,034 - clearml - WARNING - Error: cannot reshape array of size 1 into shape (480,640,newaxis)\n",
      "2022-12-30 16:16:38,229 - clearml - WARNING - Failed decoding debug image [640, 480, 3]\n",
      "2022-12-30 16:16:38,231 - clearml - WARNING - Error: cannot reshape array of size 1 into shape (480,640,newaxis)\n",
      "2022-12-30 16:16:39,344 - clearml - WARNING - Failed decoding debug image [640, 480, 3]\n",
      "2022-12-30 16:16:39,346 - clearml - WARNING - Error: cannot reshape array of size 1 into shape (480,640,newaxis)\n",
      "2022-12-30 16:16:40,621 - clearml - WARNING - Failed decoding debug image [640, 480, 3]\n",
      "2022-12-30 16:16:40,623 - clearml - WARNING - Error: cannot reshape array of size 1 into shape (480,640,newaxis)\n",
      "2022-12-30 16:16:41,939 - clearml - WARNING - Failed decoding debug image [640, 480, 3]\n",
      "2022-12-30 16:16:41,941 - clearml - WARNING - Error: cannot reshape array of size 1 into shape (480,640,newaxis)\n",
      "2022-12-30 16:16:43,244 - clearml - WARNING - Failed decoding debug image [640, 480, 3]\n",
      "2022-12-30 16:16:43,246 - clearml - WARNING - Error: cannot reshape array of size 1 into shape (480,640,newaxis)\n",
      "2022-12-30 16:16:43,979 - clearml - WARNING - Failed decoding debug image [640, 480, 3]\n",
      "2022-12-30 16:16:43,982 - clearml - WARNING - Error: cannot reshape array of size 1 into shape (480,640,newaxis)\n",
      "2022-12-30 16:16:44,076 - clearml - WARNING - Failed decoding debug image [700, 225, 3]\n",
      "2022-12-30 16:16:44,080 - clearml - WARNING - Error: cannot reshape array of size 1 into shape (225,700,newaxis)\n",
      "2022-12-30 16:16:44,172 - clearml - WARNING - Failed decoding debug image [700, 225, 3]\n",
      "2022-12-30 16:16:44,174 - clearml - WARNING - Error: cannot reshape array of size 1 into shape (225,700,newaxis)\n",
      "2022-12-30 16:16:44,262 - clearml - WARNING - Failed decoding debug image [700, 225, 3]\n",
      "2022-12-30 16:16:44,265 - clearml - WARNING - Error: cannot reshape array of size 1 into shape (225,700,newaxis)\n",
      "2022-12-30 16:16:44,441 - clearml - WARNING - Failed decoding debug image [640, 480, 3]\n",
      "2022-12-30 16:16:44,443 - clearml - WARNING - Error: cannot reshape array of size 1 into shape (480,640,newaxis)\n",
      "2022-12-30 16:16:44,585 - clearml - WARNING - Failed decoding debug image [640, 480, 3]\n",
      "2022-12-30 16:16:44,587 - clearml - WARNING - Error: cannot reshape array of size 1 into shape (480,640,newaxis)\n"
     ]
    },
    {
     "data": {
      "text/plain": "Validation: 0it [00:00, ?it/s]",
      "application/vnd.jupyter.widget-view+json": {
       "version_major": 2,
       "version_minor": 0,
       "model_id": "56b7ffbc59d242888f7e2b6e70741d52"
      }
     },
     "metadata": {},
     "output_type": "display_data"
    },
    {
     "name": "stdout",
     "output_type": "stream",
     "text": [
      "2022-12-30 16:16:46,343 - clearml - WARNING - Failed decoding debug image [640, 480, 3]\n",
      "2022-12-30 16:16:46,345 - clearml - WARNING - Error: cannot reshape array of size 1 into shape (480,640,newaxis)\n",
      "2022-12-30 16:16:47,574 - clearml - WARNING - Failed decoding debug image [640, 480, 3]\n",
      "2022-12-30 16:16:47,576 - clearml - WARNING - Error: cannot reshape array of size 1 into shape (480,640,newaxis)\n",
      "2022-12-30 16:16:48,912 - clearml - WARNING - Failed decoding debug image [640, 480, 3]\n",
      "2022-12-30 16:16:48,914 - clearml - WARNING - Error: cannot reshape array of size 1 into shape (480,640,newaxis)\n",
      "2022-12-30 16:16:50,312 - clearml - WARNING - Failed decoding debug image [640, 480, 3]\n",
      "2022-12-30 16:16:50,314 - clearml - WARNING - Error: cannot reshape array of size 1 into shape (480,640,newaxis)\n",
      "2022-12-30 16:16:51,562 - clearml - WARNING - Failed decoding debug image [640, 480, 3]\n",
      "2022-12-30 16:16:51,564 - clearml - WARNING - Error: cannot reshape array of size 1 into shape (480,640,newaxis)\n",
      "2022-12-30 16:16:53,092 - clearml - WARNING - Failed decoding debug image [640, 480, 3]\n",
      "2022-12-30 16:16:53,096 - clearml - WARNING - Error: cannot reshape array of size 1 into shape (480,640,newaxis)\n",
      "2022-12-30 16:16:55,283 - clearml - WARNING - Failed decoding debug image [640, 480, 3]\n",
      "2022-12-30 16:16:55,285 - clearml - WARNING - Error: cannot reshape array of size 1 into shape (480,640,newaxis)\n",
      "2022-12-30 16:16:56,440 - clearml - WARNING - Failed decoding debug image [640, 480, 3]\n",
      "2022-12-30 16:16:56,443 - clearml - WARNING - Error: cannot reshape array of size 1 into shape (480,640,newaxis)\n",
      "2022-12-30 16:16:57,542 - clearml - WARNING - Failed decoding debug image [640, 480, 3]\n",
      "2022-12-30 16:16:57,543 - clearml - WARNING - Error: cannot reshape array of size 1 into shape (480,640,newaxis)\n",
      "2022-12-30 16:16:58,714 - clearml - WARNING - Failed decoding debug image [640, 480, 3]\n",
      "2022-12-30 16:16:58,716 - clearml - WARNING - Error: cannot reshape array of size 1 into shape (480,640,newaxis)\n",
      "2022-12-30 16:16:59,871 - clearml - WARNING - Failed decoding debug image [640, 480, 3]\n",
      "2022-12-30 16:16:59,872 - clearml - WARNING - Error: cannot reshape array of size 1 into shape (480,640,newaxis)\n",
      "2022-12-30 16:17:00,253 - clearml - WARNING - Failed decoding debug image [640, 480, 3]\n",
      "2022-12-30 16:17:00,254 - clearml - WARNING - Error: cannot reshape array of size 1 into shape (480,640,newaxis)\n",
      "2022-12-30 16:17:00,320 - clearml - WARNING - Failed decoding debug image [700, 225, 3]\n",
      "2022-12-30 16:17:00,322 - clearml - WARNING - Error: cannot reshape array of size 1 into shape (225,700,newaxis)\n",
      "2022-12-30 16:17:00,380 - clearml - WARNING - Failed decoding debug image [700, 225, 3]\n",
      "2022-12-30 16:17:00,381 - clearml - WARNING - Error: cannot reshape array of size 1 into shape (225,700,newaxis)\n",
      "2022-12-30 16:17:00,451 - clearml - WARNING - Failed decoding debug image [700, 225, 3]\n",
      "2022-12-30 16:17:00,452 - clearml - WARNING - Error: cannot reshape array of size 1 into shape (225,700,newaxis)\n",
      "2022-12-30 16:17:00,558 - clearml - WARNING - Failed decoding debug image [640, 480, 3]\n",
      "2022-12-30 16:17:00,559 - clearml - WARNING - Error: cannot reshape array of size 1 into shape (480,640,newaxis)\n",
      "2022-12-30 16:17:00,706 - clearml - WARNING - Failed decoding debug image [640, 480, 3]\n",
      "2022-12-30 16:17:00,708 - clearml - WARNING - Error: cannot reshape array of size 1 into shape (480,640,newaxis)\n"
     ]
    },
    {
     "data": {
      "text/plain": "Validation: 0it [00:00, ?it/s]",
      "application/vnd.jupyter.widget-view+json": {
       "version_major": 2,
       "version_minor": 0,
       "model_id": "abc147e04d3f412581dd41977ad7d606"
      }
     },
     "metadata": {},
     "output_type": "display_data"
    },
    {
     "name": "stdout",
     "output_type": "stream",
     "text": [
      "2022-12-30 16:17:02,653 - clearml - WARNING - Failed decoding debug image [640, 480, 3]\n",
      "2022-12-30 16:17:02,655 - clearml - WARNING - Error: cannot reshape array of size 1 into shape (480,640,newaxis)\n",
      "2022-12-30 16:17:04,068 - clearml - WARNING - Failed decoding debug image [640, 480, 3]\n",
      "2022-12-30 16:17:04,070 - clearml - WARNING - Error: cannot reshape array of size 1 into shape (480,640,newaxis)\n",
      "2022-12-30 16:17:05,205 - clearml - WARNING - Failed decoding debug image [640, 480, 3]\n",
      "2022-12-30 16:17:05,207 - clearml - WARNING - Error: cannot reshape array of size 1 into shape (480,640,newaxis)\n",
      "2022-12-30 16:17:06,312 - clearml - WARNING - Failed decoding debug image [640, 480, 3]\n",
      "2022-12-30 16:17:06,314 - clearml - WARNING - Error: cannot reshape array of size 1 into shape (480,640,newaxis)\n",
      "2022-12-30 16:17:07,578 - clearml - WARNING - Failed decoding debug image [640, 480, 3]\n",
      "2022-12-30 16:17:07,580 - clearml - WARNING - Error: cannot reshape array of size 1 into shape (480,640,newaxis)\n",
      "2022-12-30 16:17:08,860 - clearml - WARNING - Failed decoding debug image [640, 480, 3]\n",
      "2022-12-30 16:17:08,863 - clearml - WARNING - Error: cannot reshape array of size 1 into shape (480,640,newaxis)\n",
      "2022-12-30 16:17:10,003 - clearml - WARNING - Failed decoding debug image [640, 480, 3]\n",
      "2022-12-30 16:17:10,005 - clearml - WARNING - Error: cannot reshape array of size 1 into shape (480,640,newaxis)\n",
      "2022-12-30 16:17:11,284 - clearml - WARNING - Failed decoding debug image [640, 480, 3]\n",
      "2022-12-30 16:17:11,286 - clearml - WARNING - Error: cannot reshape array of size 1 into shape (480,640,newaxis)\n",
      "2022-12-30 16:17:12,481 - clearml - WARNING - Failed decoding debug image [640, 480, 3]\n",
      "2022-12-30 16:17:12,483 - clearml - WARNING - Error: cannot reshape array of size 1 into shape (480,640,newaxis)\n",
      "2022-12-30 16:17:13,770 - clearml - WARNING - Failed decoding debug image [640, 480, 3]\n",
      "2022-12-30 16:17:13,771 - clearml - WARNING - Error: cannot reshape array of size 1 into shape (480,640,newaxis)\n",
      "2022-12-30 16:17:15,360 - clearml - WARNING - Failed decoding debug image [640, 480, 3]\n",
      "2022-12-30 16:17:15,362 - clearml - WARNING - Error: cannot reshape array of size 1 into shape (480,640,newaxis)\n",
      "2022-12-30 16:17:15,904 - clearml - WARNING - Failed decoding debug image [640, 480, 3]\n",
      "2022-12-30 16:17:15,907 - clearml - WARNING - Error: cannot reshape array of size 1 into shape (480,640,newaxis)\n",
      "2022-12-30 16:17:16,026 - clearml - WARNING - Failed decoding debug image [700, 225, 3]\n",
      "2022-12-30 16:17:16,031 - clearml - WARNING - Error: cannot reshape array of size 1 into shape (225,700,newaxis)\n",
      "2022-12-30 16:17:16,124 - clearml - WARNING - Failed decoding debug image [700, 225, 3]\n",
      "2022-12-30 16:17:16,127 - clearml - WARNING - Error: cannot reshape array of size 1 into shape (225,700,newaxis)\n",
      "2022-12-30 16:17:16,214 - clearml - WARNING - Failed decoding debug image [700, 225, 3]\n",
      "2022-12-30 16:17:16,216 - clearml - WARNING - Error: cannot reshape array of size 1 into shape (225,700,newaxis)\n",
      "2022-12-30 16:17:16,400 - clearml - WARNING - Failed decoding debug image [640, 480, 3]\n",
      "2022-12-30 16:17:16,406 - clearml - WARNING - Error: cannot reshape array of size 1 into shape (480,640,newaxis)\n",
      "2022-12-30 16:17:16,565 - clearml - WARNING - Failed decoding debug image [640, 480, 3]\n",
      "2022-12-30 16:17:16,567 - clearml - WARNING - Error: cannot reshape array of size 1 into shape (480,640,newaxis)\n"
     ]
    },
    {
     "data": {
      "text/plain": "Validation: 0it [00:00, ?it/s]",
      "application/vnd.jupyter.widget-view+json": {
       "version_major": 2,
       "version_minor": 0,
       "model_id": "4337796b3fbf4c36ae0056db1465d63c"
      }
     },
     "metadata": {},
     "output_type": "display_data"
    },
    {
     "name": "stdout",
     "output_type": "stream",
     "text": [
      "2022-12-30 16:17:18,486 - clearml - WARNING - Failed decoding debug image [640, 480, 3]\n",
      "2022-12-30 16:17:18,488 - clearml - WARNING - Error: cannot reshape array of size 1 into shape (480,640,newaxis)\n",
      "2022-12-30 16:17:20,226 - clearml - WARNING - Failed decoding debug image [640, 480, 3]\n",
      "2022-12-30 16:17:20,228 - clearml - WARNING - Error: cannot reshape array of size 1 into shape (480,640,newaxis)\n",
      "2022-12-30 16:17:22,317 - clearml - WARNING - Failed decoding debug image [640, 480, 3]\n",
      "2022-12-30 16:17:22,318 - clearml - WARNING - Error: cannot reshape array of size 1 into shape (480,640,newaxis)\n",
      "2022-12-30 16:17:23,819 - clearml - WARNING - Failed decoding debug image [640, 480, 3]\n",
      "2022-12-30 16:17:23,820 - clearml - WARNING - Error: cannot reshape array of size 1 into shape (480,640,newaxis)\n",
      "2022-12-30 16:17:25,289 - clearml - WARNING - Failed decoding debug image [640, 480, 3]\n",
      "2022-12-30 16:17:25,291 - clearml - WARNING - Error: cannot reshape array of size 1 into shape (480,640,newaxis)\n",
      "2022-12-30 16:17:26,724 - clearml - WARNING - Failed decoding debug image [640, 480, 3]\n",
      "2022-12-30 16:17:26,728 - clearml - WARNING - Error: cannot reshape array of size 1 into shape (480,640,newaxis)\n",
      "2022-12-30 16:17:28,382 - clearml - WARNING - Failed decoding debug image [640, 480, 3]\n",
      "2022-12-30 16:17:28,386 - clearml - WARNING - Error: cannot reshape array of size 1 into shape (480,640,newaxis)\n",
      "2022-12-30 16:17:29,623 - clearml - WARNING - Failed decoding debug image [640, 480, 3]\n",
      "2022-12-30 16:17:29,625 - clearml - WARNING - Error: cannot reshape array of size 1 into shape (480,640,newaxis)\n",
      "2022-12-30 16:17:30,779 - clearml - WARNING - Failed decoding debug image [640, 480, 3]\n",
      "2022-12-30 16:17:30,781 - clearml - WARNING - Error: cannot reshape array of size 1 into shape (480,640,newaxis)\n",
      "2022-12-30 16:17:31,827 - clearml - WARNING - Failed decoding debug image [640, 480, 3]\n",
      "2022-12-30 16:17:31,828 - clearml - WARNING - Error: cannot reshape array of size 1 into shape (480,640,newaxis)\n",
      "2022-12-30 16:17:33,022 - clearml - WARNING - Failed decoding debug image [640, 480, 3]\n",
      "2022-12-30 16:17:33,025 - clearml - WARNING - Error: cannot reshape array of size 1 into shape (480,640,newaxis)\n",
      "2022-12-30 16:17:33,485 - clearml - WARNING - Failed decoding debug image [640, 480, 3]\n",
      "2022-12-30 16:17:33,488 - clearml - WARNING - Error: cannot reshape array of size 1 into shape (480,640,newaxis)\n",
      "2022-12-30 16:17:33,569 - clearml - WARNING - Failed decoding debug image [700, 225, 3]\n",
      "2022-12-30 16:17:33,571 - clearml - WARNING - Error: cannot reshape array of size 1 into shape (225,700,newaxis)\n",
      "2022-12-30 16:17:33,647 - clearml - WARNING - Failed decoding debug image [700, 225, 3]\n",
      "2022-12-30 16:17:33,649 - clearml - WARNING - Error: cannot reshape array of size 1 into shape (225,700,newaxis)\n",
      "2022-12-30 16:17:33,742 - clearml - WARNING - Failed decoding debug image [700, 225, 3]\n",
      "2022-12-30 16:17:33,744 - clearml - WARNING - Error: cannot reshape array of size 1 into shape (225,700,newaxis)\n",
      "2022-12-30 16:17:33,900 - clearml - WARNING - Failed decoding debug image [640, 480, 3]\n",
      "2022-12-30 16:17:33,902 - clearml - WARNING - Error: cannot reshape array of size 1 into shape (480,640,newaxis)\n",
      "2022-12-30 16:17:34,067 - clearml - WARNING - Failed decoding debug image [640, 480, 3]\n",
      "2022-12-30 16:17:34,070 - clearml - WARNING - Error: cannot reshape array of size 1 into shape (480,640,newaxis)\n"
     ]
    },
    {
     "data": {
      "text/plain": "Validation: 0it [00:00, ?it/s]",
      "application/vnd.jupyter.widget-view+json": {
       "version_major": 2,
       "version_minor": 0,
       "model_id": "45c203fdb70846bda84f9f80b1af3326"
      }
     },
     "metadata": {},
     "output_type": "display_data"
    },
    {
     "name": "stdout",
     "output_type": "stream",
     "text": [
      "2022-12-30 16:17:35,879 - clearml - WARNING - Failed decoding debug image [640, 480, 3]\n",
      "2022-12-30 16:17:35,882 - clearml - WARNING - Error: cannot reshape array of size 1 into shape (480,640,newaxis)\n",
      "2022-12-30 16:17:38,001 - clearml - WARNING - Failed decoding debug image [640, 480, 3]\n",
      "2022-12-30 16:17:38,003 - clearml - WARNING - Error: cannot reshape array of size 1 into shape (480,640,newaxis)\n",
      "2022-12-30 16:17:39,161 - clearml - WARNING - Failed decoding debug image [640, 480, 3]\n",
      "2022-12-30 16:17:39,163 - clearml - WARNING - Error: cannot reshape array of size 1 into shape (480,640,newaxis)\n",
      "2022-12-30 16:17:40,509 - clearml - WARNING - Failed decoding debug image [640, 480, 3]\n",
      "2022-12-30 16:17:40,510 - clearml - WARNING - Error: cannot reshape array of size 1 into shape (480,640,newaxis)\n",
      "2022-12-30 16:17:41,735 - clearml - WARNING - Failed decoding debug image [640, 480, 3]\n",
      "2022-12-30 16:17:41,738 - clearml - WARNING - Error: cannot reshape array of size 1 into shape (480,640,newaxis)\n",
      "2022-12-30 16:17:42,967 - clearml - WARNING - Failed decoding debug image [640, 480, 3]\n",
      "2022-12-30 16:17:42,969 - clearml - WARNING - Error: cannot reshape array of size 1 into shape (480,640,newaxis)\n",
      "2022-12-30 16:17:44,478 - clearml - WARNING - Failed decoding debug image [640, 480, 3]\n",
      "2022-12-30 16:17:44,480 - clearml - WARNING - Error: cannot reshape array of size 1 into shape (480,640,newaxis)\n",
      "2022-12-30 16:17:46,423 - clearml - WARNING - Failed decoding debug image [640, 480, 3]\n",
      "2022-12-30 16:17:46,425 - clearml - WARNING - Error: cannot reshape array of size 1 into shape (480,640,newaxis)\n",
      "2022-12-30 16:17:48,100 - clearml - WARNING - Failed decoding debug image [640, 480, 3]\n",
      "2022-12-30 16:17:48,102 - clearml - WARNING - Error: cannot reshape array of size 1 into shape (480,640,newaxis)\n",
      "2022-12-30 16:17:49,175 - clearml - WARNING - Failed decoding debug image [640, 480, 3]\n",
      "2022-12-30 16:17:49,177 - clearml - WARNING - Error: cannot reshape array of size 1 into shape (480,640,newaxis)\n",
      "2022-12-30 16:17:50,282 - clearml - WARNING - Failed decoding debug image [640, 480, 3]\n",
      "2022-12-30 16:17:50,284 - clearml - WARNING - Error: cannot reshape array of size 1 into shape (480,640,newaxis)\n",
      "2022-12-30 16:17:50,726 - clearml - WARNING - Failed decoding debug image [640, 480, 3]\n",
      "2022-12-30 16:17:50,729 - clearml - WARNING - Error: cannot reshape array of size 1 into shape (480,640,newaxis)\n",
      "2022-12-30 16:17:50,801 - clearml - WARNING - Failed decoding debug image [700, 225, 3]\n",
      "2022-12-30 16:17:50,803 - clearml - WARNING - Error: cannot reshape array of size 1 into shape (225,700,newaxis)\n",
      "2022-12-30 16:17:50,860 - clearml - WARNING - Failed decoding debug image [700, 225, 3]\n",
      "2022-12-30 16:17:50,862 - clearml - WARNING - Error: cannot reshape array of size 1 into shape (225,700,newaxis)\n",
      "2022-12-30 16:17:50,909 - clearml - WARNING - Failed decoding debug image [700, 225, 3]\n",
      "2022-12-30 16:17:50,910 - clearml - WARNING - Error: cannot reshape array of size 1 into shape (225,700,newaxis)\n",
      "2022-12-30 16:17:51,045 - clearml - WARNING - Failed decoding debug image [640, 480, 3]\n",
      "2022-12-30 16:17:51,047 - clearml - WARNING - Error: cannot reshape array of size 1 into shape (480,640,newaxis)\n",
      "2022-12-30 16:17:51,188 - clearml - WARNING - Failed decoding debug image [640, 480, 3]\n",
      "2022-12-30 16:17:51,190 - clearml - WARNING - Error: cannot reshape array of size 1 into shape (480,640,newaxis)\n"
     ]
    },
    {
     "data": {
      "text/plain": "Validation: 0it [00:00, ?it/s]",
      "application/vnd.jupyter.widget-view+json": {
       "version_major": 2,
       "version_minor": 0,
       "model_id": "b4cbfdce628f4b00a54e442595b2ee14"
      }
     },
     "metadata": {},
     "output_type": "display_data"
    },
    {
     "name": "stdout",
     "output_type": "stream",
     "text": [
      "2022-12-30 16:17:53,138 - clearml - WARNING - Failed decoding debug image [640, 480, 3]\n",
      "2022-12-30 16:17:53,140 - clearml - WARNING - Error: cannot reshape array of size 1 into shape (480,640,newaxis)\n",
      "2022-12-30 16:17:54,958 - clearml - WARNING - Failed decoding debug image [640, 480, 3]\n",
      "2022-12-30 16:17:54,960 - clearml - WARNING - Error: cannot reshape array of size 1 into shape (480,640,newaxis)\n",
      "2022-12-30 16:17:56,050 - clearml - WARNING - Failed decoding debug image [640, 480, 3]\n",
      "2022-12-30 16:17:56,052 - clearml - WARNING - Error: cannot reshape array of size 1 into shape (480,640,newaxis)\n",
      "2022-12-30 16:17:57,124 - clearml - WARNING - Failed decoding debug image [640, 480, 3]\n",
      "2022-12-30 16:17:57,125 - clearml - WARNING - Error: cannot reshape array of size 1 into shape (480,640,newaxis)\n",
      "2022-12-30 16:17:58,253 - clearml - WARNING - Failed decoding debug image [640, 480, 3]\n",
      "2022-12-30 16:17:58,255 - clearml - WARNING - Error: cannot reshape array of size 1 into shape (480,640,newaxis)\n",
      "2022-12-30 16:17:59,348 - clearml - WARNING - Failed decoding debug image [640, 480, 3]\n",
      "2022-12-30 16:17:59,350 - clearml - WARNING - Error: cannot reshape array of size 1 into shape (480,640,newaxis)\n",
      "2022-12-30 16:18:00,487 - clearml - WARNING - Failed decoding debug image [640, 480, 3]\n",
      "2022-12-30 16:18:00,489 - clearml - WARNING - Error: cannot reshape array of size 1 into shape (480,640,newaxis)\n",
      "2022-12-30 16:18:01,632 - clearml - WARNING - Failed decoding debug image [640, 480, 3]\n",
      "2022-12-30 16:18:01,633 - clearml - WARNING - Error: cannot reshape array of size 1 into shape (480,640,newaxis)\n",
      "2022-12-30 16:18:02,829 - clearml - WARNING - Failed decoding debug image [640, 480, 3]\n",
      "2022-12-30 16:18:02,831 - clearml - WARNING - Error: cannot reshape array of size 1 into shape (480,640,newaxis)\n",
      "2022-12-30 16:18:03,934 - clearml - WARNING - Failed decoding debug image [640, 480, 3]\n",
      "2022-12-30 16:18:03,936 - clearml - WARNING - Error: cannot reshape array of size 1 into shape (480,640,newaxis)\n",
      "2022-12-30 16:18:05,100 - clearml - WARNING - Failed decoding debug image [640, 480, 3]\n",
      "2022-12-30 16:18:05,102 - clearml - WARNING - Error: cannot reshape array of size 1 into shape (480,640,newaxis)\n",
      "2022-12-30 16:18:05,579 - clearml - WARNING - Failed decoding debug image [640, 480, 3]\n",
      "2022-12-30 16:18:05,581 - clearml - WARNING - Error: cannot reshape array of size 1 into shape (480,640,newaxis)\n",
      "2022-12-30 16:18:05,648 - clearml - WARNING - Failed decoding debug image [700, 225, 3]\n",
      "2022-12-30 16:18:05,649 - clearml - WARNING - Error: cannot reshape array of size 1 into shape (225,700,newaxis)\n",
      "2022-12-30 16:18:05,700 - clearml - WARNING - Failed decoding debug image [700, 225, 3]\n",
      "2022-12-30 16:18:05,702 - clearml - WARNING - Error: cannot reshape array of size 1 into shape (225,700,newaxis)\n",
      "2022-12-30 16:18:05,757 - clearml - WARNING - Failed decoding debug image [700, 225, 3]\n",
      "2022-12-30 16:18:05,759 - clearml - WARNING - Error: cannot reshape array of size 1 into shape (225,700,newaxis)\n",
      "2022-12-30 16:18:05,875 - clearml - WARNING - Failed decoding debug image [640, 480, 3]\n",
      "2022-12-30 16:18:05,877 - clearml - WARNING - Error: cannot reshape array of size 1 into shape (480,640,newaxis)\n",
      "2022-12-30 16:18:06,019 - clearml - WARNING - Failed decoding debug image [640, 480, 3]\n",
      "2022-12-30 16:18:06,021 - clearml - WARNING - Error: cannot reshape array of size 1 into shape (480,640,newaxis)\n"
     ]
    },
    {
     "data": {
      "text/plain": "Validation: 0it [00:00, ?it/s]",
      "application/vnd.jupyter.widget-view+json": {
       "version_major": 2,
       "version_minor": 0,
       "model_id": "ba17afc636524897ae8778cefcfcca08"
      }
     },
     "metadata": {},
     "output_type": "display_data"
    },
    {
     "name": "stdout",
     "output_type": "stream",
     "text": [
      "2022-12-30 16:18:07,699 - clearml - WARNING - Failed decoding debug image [640, 480, 3]\n",
      "2022-12-30 16:18:07,700 - clearml - WARNING - Error: cannot reshape array of size 1 into shape (480,640,newaxis)\n",
      "2022-12-30 16:18:08,788 - clearml - WARNING - Failed decoding debug image [640, 480, 3]\n",
      "2022-12-30 16:18:08,790 - clearml - WARNING - Error: cannot reshape array of size 1 into shape (480,640,newaxis)\n",
      "2022-12-30 16:18:09,845 - clearml - WARNING - Failed decoding debug image [640, 480, 3]\n",
      "2022-12-30 16:18:09,847 - clearml - WARNING - Error: cannot reshape array of size 1 into shape (480,640,newaxis)\n",
      "2022-12-30 16:18:10,968 - clearml - WARNING - Failed decoding debug image [640, 480, 3]\n",
      "2022-12-30 16:18:10,969 - clearml - WARNING - Error: cannot reshape array of size 1 into shape (480,640,newaxis)\n",
      "2022-12-30 16:18:11,996 - clearml - WARNING - Failed decoding debug image [640, 480, 3]\n",
      "2022-12-30 16:18:11,998 - clearml - WARNING - Error: cannot reshape array of size 1 into shape (480,640,newaxis)\n",
      "2022-12-30 16:18:13,205 - clearml - WARNING - Failed decoding debug image [640, 480, 3]\n",
      "2022-12-30 16:18:13,207 - clearml - WARNING - Error: cannot reshape array of size 1 into shape (480,640,newaxis)\n",
      "2022-12-30 16:18:14,257 - clearml - WARNING - Failed decoding debug image [640, 480, 3]\n",
      "2022-12-30 16:18:14,259 - clearml - WARNING - Error: cannot reshape array of size 1 into shape (480,640,newaxis)\n",
      "2022-12-30 16:18:15,405 - clearml - WARNING - Failed decoding debug image [640, 480, 3]\n",
      "2022-12-30 16:18:15,407 - clearml - WARNING - Error: cannot reshape array of size 1 into shape (480,640,newaxis)\n",
      "2022-12-30 16:18:16,528 - clearml - WARNING - Failed decoding debug image [640, 480, 3]\n",
      "2022-12-30 16:18:16,530 - clearml - WARNING - Error: cannot reshape array of size 1 into shape (480,640,newaxis)\n",
      "2022-12-30 16:18:17,565 - clearml - WARNING - Failed decoding debug image [640, 480, 3]\n",
      "2022-12-30 16:18:17,567 - clearml - WARNING - Error: cannot reshape array of size 1 into shape (480,640,newaxis)\n",
      "2022-12-30 16:18:18,764 - clearml - WARNING - Failed decoding debug image [640, 480, 3]\n",
      "2022-12-30 16:18:18,766 - clearml - WARNING - Error: cannot reshape array of size 1 into shape (480,640,newaxis)\n",
      "2022-12-30 16:18:19,147 - clearml - WARNING - Failed decoding debug image [640, 480, 3]\n",
      "2022-12-30 16:18:19,149 - clearml - WARNING - Error: cannot reshape array of size 1 into shape (480,640,newaxis)\n",
      "2022-12-30 16:18:19,218 - clearml - WARNING - Failed decoding debug image [700, 225, 3]\n",
      "2022-12-30 16:18:19,220 - clearml - WARNING - Error: cannot reshape array of size 1 into shape (225,700,newaxis)\n",
      "2022-12-30 16:18:19,290 - clearml - WARNING - Failed decoding debug image [700, 225, 3]\n",
      "2022-12-30 16:18:19,292 - clearml - WARNING - Error: cannot reshape array of size 1 into shape (225,700,newaxis)\n",
      "2022-12-30 16:18:19,344 - clearml - WARNING - Failed decoding debug image [700, 225, 3]\n",
      "2022-12-30 16:18:19,346 - clearml - WARNING - Error: cannot reshape array of size 1 into shape (225,700,newaxis)\n",
      "2022-12-30 16:18:19,447 - clearml - WARNING - Failed decoding debug image [640, 480, 3]\n",
      "2022-12-30 16:18:19,449 - clearml - WARNING - Error: cannot reshape array of size 1 into shape (480,640,newaxis)\n",
      "2022-12-30 16:18:19,599 - clearml - WARNING - Failed decoding debug image [640, 480, 3]\n",
      "2022-12-30 16:18:19,601 - clearml - WARNING - Error: cannot reshape array of size 1 into shape (480,640,newaxis)\n"
     ]
    },
    {
     "data": {
      "text/plain": "Validation: 0it [00:00, ?it/s]",
      "application/vnd.jupyter.widget-view+json": {
       "version_major": 2,
       "version_minor": 0,
       "model_id": "bccf07e8191046e0a8a5b4968a25bccd"
      }
     },
     "metadata": {},
     "output_type": "display_data"
    },
    {
     "name": "stdout",
     "output_type": "stream",
     "text": [
      "2022-12-30 16:18:21,317 - clearml - WARNING - Failed decoding debug image [640, 480, 3]\n",
      "2022-12-30 16:18:21,319 - clearml - WARNING - Error: cannot reshape array of size 1 into shape (480,640,newaxis)\n",
      "2022-12-30 16:18:22,621 - clearml - WARNING - Failed decoding debug image [640, 480, 3]\n",
      "2022-12-30 16:18:22,623 - clearml - WARNING - Error: cannot reshape array of size 1 into shape (480,640,newaxis)\n",
      "2022-12-30 16:18:24,345 - clearml - WARNING - Failed decoding debug image [640, 480, 3]\n",
      "2022-12-30 16:18:24,347 - clearml - WARNING - Error: cannot reshape array of size 1 into shape (480,640,newaxis)\n",
      "2022-12-30 16:18:26,087 - clearml - WARNING - Failed decoding debug image [640, 480, 3]\n",
      "2022-12-30 16:18:26,089 - clearml - WARNING - Error: cannot reshape array of size 1 into shape (480,640,newaxis)\n",
      "2022-12-30 16:18:27,349 - clearml - WARNING - Failed decoding debug image [640, 480, 3]\n",
      "2022-12-30 16:18:27,350 - clearml - WARNING - Error: cannot reshape array of size 1 into shape (480,640,newaxis)\n",
      "2022-12-30 16:18:28,441 - clearml - WARNING - Failed decoding debug image [640, 480, 3]\n",
      "2022-12-30 16:18:28,443 - clearml - WARNING - Error: cannot reshape array of size 1 into shape (480,640,newaxis)\n",
      "2022-12-30 16:18:29,618 - clearml - WARNING - Failed decoding debug image [640, 480, 3]\n",
      "2022-12-30 16:18:29,620 - clearml - WARNING - Error: cannot reshape array of size 1 into shape (480,640,newaxis)\n",
      "2022-12-30 16:18:30,819 - clearml - WARNING - Failed decoding debug image [640, 480, 3]\n",
      "2022-12-30 16:18:30,821 - clearml - WARNING - Error: cannot reshape array of size 1 into shape (480,640,newaxis)\n",
      "2022-12-30 16:18:32,087 - clearml - WARNING - Failed decoding debug image [640, 480, 3]\n",
      "2022-12-30 16:18:32,089 - clearml - WARNING - Error: cannot reshape array of size 1 into shape (480,640,newaxis)\n",
      "2022-12-30 16:18:34,109 - clearml - WARNING - Failed decoding debug image [640, 480, 3]\n",
      "2022-12-30 16:18:34,110 - clearml - WARNING - Error: cannot reshape array of size 1 into shape (480,640,newaxis)\n",
      "2022-12-30 16:18:35,268 - clearml - WARNING - Failed decoding debug image [640, 480, 3]\n",
      "2022-12-30 16:18:35,270 - clearml - WARNING - Error: cannot reshape array of size 1 into shape (480,640,newaxis)\n",
      "2022-12-30 16:18:35,692 - clearml - WARNING - Failed decoding debug image [640, 480, 3]\n",
      "2022-12-30 16:18:35,694 - clearml - WARNING - Error: cannot reshape array of size 1 into shape (480,640,newaxis)\n",
      "2022-12-30 16:18:35,780 - clearml - WARNING - Failed decoding debug image [700, 225, 3]\n",
      "2022-12-30 16:18:35,781 - clearml - WARNING - Error: cannot reshape array of size 1 into shape (225,700,newaxis)\n",
      "2022-12-30 16:18:35,840 - clearml - WARNING - Failed decoding debug image [700, 225, 3]\n",
      "2022-12-30 16:18:35,841 - clearml - WARNING - Error: cannot reshape array of size 1 into shape (225,700,newaxis)\n",
      "2022-12-30 16:18:35,894 - clearml - WARNING - Failed decoding debug image [700, 225, 3]\n",
      "2022-12-30 16:18:35,896 - clearml - WARNING - Error: cannot reshape array of size 1 into shape (225,700,newaxis)\n",
      "2022-12-30 16:18:36,081 - clearml - WARNING - Failed decoding debug image [640, 480, 3]\n",
      "2022-12-30 16:18:36,083 - clearml - WARNING - Error: cannot reshape array of size 1 into shape (480,640,newaxis)\n",
      "2022-12-30 16:18:36,306 - clearml - WARNING - Failed decoding debug image [640, 480, 3]\n",
      "2022-12-30 16:18:36,308 - clearml - WARNING - Error: cannot reshape array of size 1 into shape (480,640,newaxis)\n"
     ]
    },
    {
     "data": {
      "text/plain": "Validation: 0it [00:00, ?it/s]",
      "application/vnd.jupyter.widget-view+json": {
       "version_major": 2,
       "version_minor": 0,
       "model_id": "c7720d98c78c4483a50cecb616dddb9d"
      }
     },
     "metadata": {},
     "output_type": "display_data"
    },
    {
     "name": "stdout",
     "output_type": "stream",
     "text": [
      "2022-12-30 16:18:38,819 - clearml - WARNING - Failed decoding debug image [640, 480, 3]\n",
      "2022-12-30 16:18:38,821 - clearml - WARNING - Error: cannot reshape array of size 1 into shape (480,640,newaxis)\n",
      "2022-12-30 16:18:40,374 - clearml - WARNING - Failed decoding debug image [640, 480, 3]\n",
      "2022-12-30 16:18:40,376 - clearml - WARNING - Error: cannot reshape array of size 1 into shape (480,640,newaxis)\n",
      "2022-12-30 16:18:41,983 - clearml - WARNING - Failed decoding debug image [640, 480, 3]\n",
      "2022-12-30 16:18:41,985 - clearml - WARNING - Error: cannot reshape array of size 1 into shape (480,640,newaxis)\n",
      "2022-12-30 16:18:43,125 - clearml - WARNING - Failed decoding debug image [640, 480, 3]\n",
      "2022-12-30 16:18:43,127 - clearml - WARNING - Error: cannot reshape array of size 1 into shape (480,640,newaxis)\n",
      "2022-12-30 16:18:44,329 - clearml - WARNING - Failed decoding debug image [640, 480, 3]\n",
      "2022-12-30 16:18:44,331 - clearml - WARNING - Error: cannot reshape array of size 1 into shape (480,640,newaxis)\n",
      "2022-12-30 16:18:45,393 - clearml - WARNING - Failed decoding debug image [640, 480, 3]\n",
      "2022-12-30 16:18:45,395 - clearml - WARNING - Error: cannot reshape array of size 1 into shape (480,640,newaxis)\n",
      "2022-12-30 16:18:46,460 - clearml - WARNING - Failed decoding debug image [640, 480, 3]\n",
      "2022-12-30 16:18:46,463 - clearml - WARNING - Error: cannot reshape array of size 1 into shape (480,640,newaxis)\n",
      "2022-12-30 16:18:47,601 - clearml - WARNING - Failed decoding debug image [640, 480, 3]\n",
      "2022-12-30 16:18:47,603 - clearml - WARNING - Error: cannot reshape array of size 1 into shape (480,640,newaxis)\n",
      "2022-12-30 16:18:48,767 - clearml - WARNING - Failed decoding debug image [640, 480, 3]\n",
      "2022-12-30 16:18:48,768 - clearml - WARNING - Error: cannot reshape array of size 1 into shape (480,640,newaxis)\n",
      "2022-12-30 16:18:50,780 - clearml - WARNING - Failed decoding debug image [640, 480, 3]\n",
      "2022-12-30 16:18:50,782 - clearml - WARNING - Error: cannot reshape array of size 1 into shape (480,640,newaxis)\n",
      "2022-12-30 16:18:51,837 - clearml - WARNING - Failed decoding debug image [640, 480, 3]\n",
      "2022-12-30 16:18:51,839 - clearml - WARNING - Error: cannot reshape array of size 1 into shape (480,640,newaxis)\n",
      "2022-12-30 16:18:52,245 - clearml - WARNING - Failed decoding debug image [640, 480, 3]\n",
      "2022-12-30 16:18:52,247 - clearml - WARNING - Error: cannot reshape array of size 1 into shape (480,640,newaxis)\n",
      "2022-12-30 16:18:52,331 - clearml - WARNING - Failed decoding debug image [700, 225, 3]\n",
      "2022-12-30 16:18:52,332 - clearml - WARNING - Error: cannot reshape array of size 1 into shape (225,700,newaxis)\n",
      "2022-12-30 16:18:52,377 - clearml - WARNING - Failed decoding debug image [700, 225, 3]\n",
      "2022-12-30 16:18:52,379 - clearml - WARNING - Error: cannot reshape array of size 1 into shape (225,700,newaxis)\n",
      "2022-12-30 16:18:52,427 - clearml - WARNING - Failed decoding debug image [700, 225, 3]\n",
      "2022-12-30 16:18:52,428 - clearml - WARNING - Error: cannot reshape array of size 1 into shape (225,700,newaxis)\n",
      "2022-12-30 16:18:52,542 - clearml - WARNING - Failed decoding debug image [640, 480, 3]\n",
      "2022-12-30 16:18:52,543 - clearml - WARNING - Error: cannot reshape array of size 1 into shape (480,640,newaxis)\n",
      "2022-12-30 16:18:52,679 - clearml - WARNING - Failed decoding debug image [640, 480, 3]\n",
      "2022-12-30 16:18:52,681 - clearml - WARNING - Error: cannot reshape array of size 1 into shape (480,640,newaxis)\n"
     ]
    },
    {
     "data": {
      "text/plain": "Validation: 0it [00:00, ?it/s]",
      "application/vnd.jupyter.widget-view+json": {
       "version_major": 2,
       "version_minor": 0,
       "model_id": "2595d23c3b1d4864a003c7c35638e01a"
      }
     },
     "metadata": {},
     "output_type": "display_data"
    },
    {
     "name": "stdout",
     "output_type": "stream",
     "text": [
      "2022-12-30 16:18:54,548 - clearml - WARNING - Failed decoding debug image [640, 480, 3]\n",
      "2022-12-30 16:18:54,551 - clearml - WARNING - Error: cannot reshape array of size 1 into shape (480,640,newaxis)\n",
      "2022-12-30 16:18:55,916 - clearml - WARNING - Failed decoding debug image [640, 480, 3]\n",
      "2022-12-30 16:18:55,918 - clearml - WARNING - Error: cannot reshape array of size 1 into shape (480,640,newaxis)\n",
      "2022-12-30 16:18:57,197 - clearml - WARNING - Failed decoding debug image [640, 480, 3]\n",
      "2022-12-30 16:18:57,199 - clearml - WARNING - Error: cannot reshape array of size 1 into shape (480,640,newaxis)\n",
      "2022-12-30 16:18:58,371 - clearml - WARNING - Failed decoding debug image [640, 480, 3]\n",
      "2022-12-30 16:18:58,374 - clearml - WARNING - Error: cannot reshape array of size 1 into shape (480,640,newaxis)\n",
      "2022-12-30 16:18:59,595 - clearml - WARNING - Failed decoding debug image [640, 480, 3]\n",
      "2022-12-30 16:18:59,597 - clearml - WARNING - Error: cannot reshape array of size 1 into shape (480,640,newaxis)\n",
      "2022-12-30 16:19:00,731 - clearml - WARNING - Failed decoding debug image [640, 480, 3]\n",
      "2022-12-30 16:19:00,733 - clearml - WARNING - Error: cannot reshape array of size 1 into shape (480,640,newaxis)\n",
      "2022-12-30 16:19:02,073 - clearml - WARNING - Failed decoding debug image [640, 480, 3]\n",
      "2022-12-30 16:19:02,075 - clearml - WARNING - Error: cannot reshape array of size 1 into shape (480,640,newaxis)\n",
      "2022-12-30 16:19:03,335 - clearml - WARNING - Failed decoding debug image [640, 480, 3]\n",
      "2022-12-30 16:19:03,337 - clearml - WARNING - Error: cannot reshape array of size 1 into shape (480,640,newaxis)\n",
      "2022-12-30 16:19:04,996 - clearml - WARNING - Failed decoding debug image [640, 480, 3]\n",
      "2022-12-30 16:19:04,998 - clearml - WARNING - Error: cannot reshape array of size 1 into shape (480,640,newaxis)\n",
      "2022-12-30 16:19:06,352 - clearml - WARNING - Failed decoding debug image [640, 480, 3]\n",
      "2022-12-30 16:19:06,354 - clearml - WARNING - Error: cannot reshape array of size 1 into shape (480,640,newaxis)\n",
      "2022-12-30 16:19:07,724 - clearml - WARNING - Failed decoding debug image [640, 480, 3]\n",
      "2022-12-30 16:19:07,726 - clearml - WARNING - Error: cannot reshape array of size 1 into shape (480,640,newaxis)\n",
      "2022-12-30 16:19:08,380 - clearml - WARNING - Failed decoding debug image [640, 480, 3]\n",
      "2022-12-30 16:19:08,383 - clearml - WARNING - Error: cannot reshape array of size 1 into shape (480,640,newaxis)\n",
      "2022-12-30 16:19:08,484 - clearml - WARNING - Failed decoding debug image [700, 225, 3]\n",
      "2022-12-30 16:19:08,486 - clearml - WARNING - Error: cannot reshape array of size 1 into shape (225,700,newaxis)\n",
      "2022-12-30 16:19:08,596 - clearml - WARNING - Failed decoding debug image [700, 225, 3]\n",
      "2022-12-30 16:19:08,602 - clearml - WARNING - Error: cannot reshape array of size 1 into shape (225,700,newaxis)\n",
      "2022-12-30 16:19:08,709 - clearml - WARNING - Failed decoding debug image [700, 225, 3]\n",
      "2022-12-30 16:19:08,711 - clearml - WARNING - Error: cannot reshape array of size 1 into shape (225,700,newaxis)\n",
      "2022-12-30 16:19:08,930 - clearml - WARNING - Failed decoding debug image [640, 480, 3]\n",
      "2022-12-30 16:19:08,936 - clearml - WARNING - Error: cannot reshape array of size 1 into shape (480,640,newaxis)\n",
      "2022-12-30 16:19:09,107 - clearml - WARNING - Failed decoding debug image [640, 480, 3]\n",
      "2022-12-30 16:19:09,109 - clearml - WARNING - Error: cannot reshape array of size 1 into shape (480,640,newaxis)\n"
     ]
    },
    {
     "data": {
      "text/plain": "Validation: 0it [00:00, ?it/s]",
      "application/vnd.jupyter.widget-view+json": {
       "version_major": 2,
       "version_minor": 0,
       "model_id": "252c85843b2d4a66baf4e57cec07413b"
      }
     },
     "metadata": {},
     "output_type": "display_data"
    },
    {
     "name": "stdout",
     "output_type": "stream",
     "text": [
      "2022-12-30 16:19:11,474 - clearml - WARNING - Failed decoding debug image [640, 480, 3]\n",
      "2022-12-30 16:19:11,476 - clearml - WARNING - Error: cannot reshape array of size 1 into shape (480,640,newaxis)\n",
      "2022-12-30 16:19:12,944 - clearml - WARNING - Failed decoding debug image [640, 480, 3]\n",
      "2022-12-30 16:19:12,946 - clearml - WARNING - Error: cannot reshape array of size 1 into shape (480,640,newaxis)\n",
      "2022-12-30 16:19:14,204 - clearml - WARNING - Failed decoding debug image [640, 480, 3]\n",
      "2022-12-30 16:19:14,207 - clearml - WARNING - Error: cannot reshape array of size 1 into shape (480,640,newaxis)\n",
      "2022-12-30 16:19:16,262 - clearml - WARNING - Failed decoding debug image [640, 480, 3]\n",
      "2022-12-30 16:19:16,264 - clearml - WARNING - Error: cannot reshape array of size 1 into shape (480,640,newaxis)\n",
      "2022-12-30 16:19:17,454 - clearml - WARNING - Failed decoding debug image [640, 480, 3]\n",
      "2022-12-30 16:19:17,456 - clearml - WARNING - Error: cannot reshape array of size 1 into shape (480,640,newaxis)\n",
      "2022-12-30 16:19:18,607 - clearml - WARNING - Failed decoding debug image [640, 480, 3]\n",
      "2022-12-30 16:19:18,608 - clearml - WARNING - Error: cannot reshape array of size 1 into shape (480,640,newaxis)\n",
      "2022-12-30 16:19:19,699 - clearml - WARNING - Failed decoding debug image [640, 480, 3]\n",
      "2022-12-30 16:19:19,701 - clearml - WARNING - Error: cannot reshape array of size 1 into shape (480,640,newaxis)\n",
      "2022-12-30 16:19:20,856 - clearml - WARNING - Failed decoding debug image [640, 480, 3]\n",
      "2022-12-30 16:19:20,858 - clearml - WARNING - Error: cannot reshape array of size 1 into shape (480,640,newaxis)\n",
      "2022-12-30 16:19:22,602 - clearml - WARNING - Failed decoding debug image [640, 480, 3]\n",
      "2022-12-30 16:19:22,624 - clearml - WARNING - Error: cannot reshape array of size 1 into shape (480,640,newaxis)\n",
      "2022-12-30 16:19:24,571 - clearml - WARNING - Failed decoding debug image [640, 480, 3]\n",
      "2022-12-30 16:19:24,572 - clearml - WARNING - Error: cannot reshape array of size 1 into shape (480,640,newaxis)\n",
      "2022-12-30 16:19:25,734 - clearml - WARNING - Failed decoding debug image [640, 480, 3]\n",
      "2022-12-30 16:19:25,735 - clearml - WARNING - Error: cannot reshape array of size 1 into shape (480,640,newaxis)\n",
      "2022-12-30 16:19:26,177 - clearml - WARNING - Failed decoding debug image [640, 480, 3]\n",
      "2022-12-30 16:19:26,179 - clearml - WARNING - Error: cannot reshape array of size 1 into shape (480,640,newaxis)\n",
      "2022-12-30 16:19:26,253 - clearml - WARNING - Failed decoding debug image [700, 225, 3]\n",
      "2022-12-30 16:19:26,254 - clearml - WARNING - Error: cannot reshape array of size 1 into shape (225,700,newaxis)\n",
      "2022-12-30 16:19:26,317 - clearml - WARNING - Failed decoding debug image [700, 225, 3]\n",
      "2022-12-30 16:19:26,319 - clearml - WARNING - Error: cannot reshape array of size 1 into shape (225,700,newaxis)\n",
      "2022-12-30 16:19:26,389 - clearml - WARNING - Failed decoding debug image [700, 225, 3]\n",
      "2022-12-30 16:19:26,391 - clearml - WARNING - Error: cannot reshape array of size 1 into shape (225,700,newaxis)\n",
      "2022-12-30 16:19:26,513 - clearml - WARNING - Failed decoding debug image [640, 480, 3]\n",
      "2022-12-30 16:19:26,515 - clearml - WARNING - Error: cannot reshape array of size 1 into shape (480,640,newaxis)\n",
      "2022-12-30 16:19:26,669 - clearml - WARNING - Failed decoding debug image [640, 480, 3]\n",
      "2022-12-30 16:19:26,672 - clearml - WARNING - Error: cannot reshape array of size 1 into shape (480,640,newaxis)\n"
     ]
    },
    {
     "data": {
      "text/plain": "Validation: 0it [00:00, ?it/s]",
      "application/vnd.jupyter.widget-view+json": {
       "version_major": 2,
       "version_minor": 0,
       "model_id": "c74f7faaace2407cac937c7ceb376da3"
      }
     },
     "metadata": {},
     "output_type": "display_data"
    },
    {
     "name": "stdout",
     "output_type": "stream",
     "text": [
      "2022-12-30 16:19:28,507 - clearml - WARNING - Failed decoding debug image [640, 480, 3]\n",
      "2022-12-30 16:19:28,509 - clearml - WARNING - Error: cannot reshape array of size 1 into shape (480,640,newaxis)\n",
      "2022-12-30 16:19:29,761 - clearml - WARNING - Failed decoding debug image [640, 480, 3]\n",
      "2022-12-30 16:19:29,763 - clearml - WARNING - Error: cannot reshape array of size 1 into shape (480,640,newaxis)\n",
      "2022-12-30 16:19:30,907 - clearml - WARNING - Failed decoding debug image [640, 480, 3]\n",
      "2022-12-30 16:19:30,909 - clearml - WARNING - Error: cannot reshape array of size 1 into shape (480,640,newaxis)\n",
      "2022-12-30 16:19:32,353 - clearml - WARNING - Failed decoding debug image [640, 480, 3]\n",
      "2022-12-30 16:19:32,355 - clearml - WARNING - Error: cannot reshape array of size 1 into shape (480,640,newaxis)\n",
      "2022-12-30 16:19:33,568 - clearml - WARNING - Failed decoding debug image [640, 480, 3]\n",
      "2022-12-30 16:19:33,570 - clearml - WARNING - Error: cannot reshape array of size 1 into shape (480,640,newaxis)\n",
      "2022-12-30 16:19:34,783 - clearml - WARNING - Failed decoding debug image [640, 480, 3]\n",
      "2022-12-30 16:19:34,785 - clearml - WARNING - Error: cannot reshape array of size 1 into shape (480,640,newaxis)\n",
      "2022-12-30 16:19:35,954 - clearml - WARNING - Failed decoding debug image [640, 480, 3]\n",
      "2022-12-30 16:19:35,955 - clearml - WARNING - Error: cannot reshape array of size 1 into shape (480,640,newaxis)\n",
      "2022-12-30 16:19:37,066 - clearml - WARNING - Failed decoding debug image [640, 480, 3]\n",
      "2022-12-30 16:19:37,067 - clearml - WARNING - Error: cannot reshape array of size 1 into shape (480,640,newaxis)\n",
      "2022-12-30 16:19:38,174 - clearml - WARNING - Failed decoding debug image [640, 480, 3]\n",
      "2022-12-30 16:19:38,177 - clearml - WARNING - Error: cannot reshape array of size 1 into shape (480,640,newaxis)\n",
      "2022-12-30 16:19:39,376 - clearml - WARNING - Failed decoding debug image [640, 480, 3]\n",
      "2022-12-30 16:19:39,378 - clearml - WARNING - Error: cannot reshape array of size 1 into shape (480,640,newaxis)\n",
      "2022-12-30 16:19:40,560 - clearml - WARNING - Failed decoding debug image [640, 480, 3]\n",
      "2022-12-30 16:19:40,562 - clearml - WARNING - Error: cannot reshape array of size 1 into shape (480,640,newaxis)\n",
      "2022-12-30 16:19:41,329 - clearml - WARNING - Failed decoding debug image [640, 480, 3]\n",
      "2022-12-30 16:19:41,330 - clearml - WARNING - Error: cannot reshape array of size 1 into shape (480,640,newaxis)\n",
      "2022-12-30 16:19:41,406 - clearml - WARNING - Failed decoding debug image [700, 225, 3]\n",
      "2022-12-30 16:19:41,408 - clearml - WARNING - Error: cannot reshape array of size 1 into shape (225,700,newaxis)\n",
      "2022-12-30 16:19:41,470 - clearml - WARNING - Failed decoding debug image [700, 225, 3]\n",
      "2022-12-30 16:19:41,472 - clearml - WARNING - Error: cannot reshape array of size 1 into shape (225,700,newaxis)\n",
      "2022-12-30 16:19:41,553 - clearml - WARNING - Failed decoding debug image [700, 225, 3]\n",
      "2022-12-30 16:19:41,555 - clearml - WARNING - Error: cannot reshape array of size 1 into shape (225,700,newaxis)\n",
      "2022-12-30 16:19:41,686 - clearml - WARNING - Failed decoding debug image [640, 480, 3]\n",
      "2022-12-30 16:19:41,689 - clearml - WARNING - Error: cannot reshape array of size 1 into shape (480,640,newaxis)\n",
      "2022-12-30 16:19:41,947 - clearml - WARNING - Failed decoding debug image [640, 480, 3]\n",
      "2022-12-30 16:19:41,949 - clearml - WARNING - Error: cannot reshape array of size 1 into shape (480,640,newaxis)\n"
     ]
    },
    {
     "data": {
      "text/plain": "Validation: 0it [00:00, ?it/s]",
      "application/vnd.jupyter.widget-view+json": {
       "version_major": 2,
       "version_minor": 0,
       "model_id": "50110a7d2cb4452c951ae03e70089cb3"
      }
     },
     "metadata": {},
     "output_type": "display_data"
    },
    {
     "name": "stdout",
     "output_type": "stream",
     "text": [
      "2022-12-30 16:19:43,844 - clearml - WARNING - Failed decoding debug image [640, 480, 3]\n",
      "2022-12-30 16:19:43,846 - clearml - WARNING - Error: cannot reshape array of size 1 into shape (480,640,newaxis)\n",
      "2022-12-30 16:19:45,099 - clearml - WARNING - Failed decoding debug image [640, 480, 3]\n",
      "2022-12-30 16:19:45,101 - clearml - WARNING - Error: cannot reshape array of size 1 into shape (480,640,newaxis)\n",
      "2022-12-30 16:19:46,227 - clearml - WARNING - Failed decoding debug image [640, 480, 3]\n",
      "2022-12-30 16:19:46,229 - clearml - WARNING - Error: cannot reshape array of size 1 into shape (480,640,newaxis)\n",
      "2022-12-30 16:19:47,356 - clearml - WARNING - Failed decoding debug image [640, 480, 3]\n",
      "2022-12-30 16:19:47,358 - clearml - WARNING - Error: cannot reshape array of size 1 into shape (480,640,newaxis)\n",
      "2022-12-30 16:19:48,548 - clearml - WARNING - Failed decoding debug image [640, 480, 3]\n",
      "2022-12-30 16:19:48,550 - clearml - WARNING - Error: cannot reshape array of size 1 into shape (480,640,newaxis)\n",
      "2022-12-30 16:19:49,694 - clearml - WARNING - Failed decoding debug image [640, 480, 3]\n",
      "2022-12-30 16:19:49,695 - clearml - WARNING - Error: cannot reshape array of size 1 into shape (480,640,newaxis)\n",
      "2022-12-30 16:19:50,842 - clearml - WARNING - Failed decoding debug image [640, 480, 3]\n",
      "2022-12-30 16:19:50,844 - clearml - WARNING - Error: cannot reshape array of size 1 into shape (480,640,newaxis)\n",
      "2022-12-30 16:19:52,210 - clearml - WARNING - Failed decoding debug image [640, 480, 3]\n",
      "2022-12-30 16:19:52,213 - clearml - WARNING - Error: cannot reshape array of size 1 into shape (480,640,newaxis)\n",
      "2022-12-30 16:19:53,291 - clearml - WARNING - Failed decoding debug image [640, 480, 3]\n",
      "2022-12-30 16:19:53,292 - clearml - WARNING - Error: cannot reshape array of size 1 into shape (480,640,newaxis)\n",
      "2022-12-30 16:19:54,673 - clearml - WARNING - Failed decoding debug image [640, 480, 3]\n",
      "2022-12-30 16:19:54,675 - clearml - WARNING - Error: cannot reshape array of size 1 into shape (480,640,newaxis)\n",
      "2022-12-30 16:19:55,802 - clearml - WARNING - Failed decoding debug image [640, 480, 3]\n",
      "2022-12-30 16:19:55,803 - clearml - WARNING - Error: cannot reshape array of size 1 into shape (480,640,newaxis)\n",
      "2022-12-30 16:19:56,174 - clearml - WARNING - Failed decoding debug image [640, 480, 3]\n",
      "2022-12-30 16:19:56,177 - clearml - WARNING - Error: cannot reshape array of size 1 into shape (480,640,newaxis)\n",
      "2022-12-30 16:19:56,270 - clearml - WARNING - Failed decoding debug image [700, 225, 3]\n",
      "2022-12-30 16:19:56,272 - clearml - WARNING - Error: cannot reshape array of size 1 into shape (225,700,newaxis)\n",
      "2022-12-30 16:19:56,346 - clearml - WARNING - Failed decoding debug image [700, 225, 3]\n",
      "2022-12-30 16:19:56,348 - clearml - WARNING - Error: cannot reshape array of size 1 into shape (225,700,newaxis)\n",
      "2022-12-30 16:19:56,412 - clearml - WARNING - Failed decoding debug image [700, 225, 3]\n",
      "2022-12-30 16:19:56,414 - clearml - WARNING - Error: cannot reshape array of size 1 into shape (225,700,newaxis)\n",
      "2022-12-30 16:19:56,546 - clearml - WARNING - Failed decoding debug image [640, 480, 3]\n",
      "2022-12-30 16:19:56,548 - clearml - WARNING - Error: cannot reshape array of size 1 into shape (480,640,newaxis)\n",
      "2022-12-30 16:19:56,696 - clearml - WARNING - Failed decoding debug image [640, 480, 3]\n",
      "2022-12-30 16:19:56,698 - clearml - WARNING - Error: cannot reshape array of size 1 into shape (480,640,newaxis)\n"
     ]
    },
    {
     "data": {
      "text/plain": "Validation: 0it [00:00, ?it/s]",
      "application/vnd.jupyter.widget-view+json": {
       "version_major": 2,
       "version_minor": 0,
       "model_id": "1d42d251660d4422b77dc524ce4f3865"
      }
     },
     "metadata": {},
     "output_type": "display_data"
    },
    {
     "name": "stdout",
     "output_type": "stream",
     "text": [
      "2022-12-30 16:19:58,538 - clearml - WARNING - Failed decoding debug image [640, 480, 3]\n",
      "2022-12-30 16:19:58,539 - clearml - WARNING - Error: cannot reshape array of size 1 into shape (480,640,newaxis)\n",
      "2022-12-30 16:19:59,882 - clearml - WARNING - Failed decoding debug image [640, 480, 3]\n",
      "2022-12-30 16:19:59,884 - clearml - WARNING - Error: cannot reshape array of size 1 into shape (480,640,newaxis)\n",
      "2022-12-30 16:20:01,148 - clearml - WARNING - Failed decoding debug image [640, 480, 3]\n",
      "2022-12-30 16:20:01,149 - clearml - WARNING - Error: cannot reshape array of size 1 into shape (480,640,newaxis)\n",
      "2022-12-30 16:20:02,810 - clearml - WARNING - Failed decoding debug image [640, 480, 3]\n",
      "2022-12-30 16:20:02,812 - clearml - WARNING - Error: cannot reshape array of size 1 into shape (480,640,newaxis)\n",
      "2022-12-30 16:20:04,320 - clearml - WARNING - Failed decoding debug image [640, 480, 3]\n",
      "2022-12-30 16:20:04,321 - clearml - WARNING - Error: cannot reshape array of size 1 into shape (480,640,newaxis)\n",
      "2022-12-30 16:20:05,926 - clearml - WARNING - Failed decoding debug image [640, 480, 3]\n",
      "2022-12-30 16:20:05,929 - clearml - WARNING - Error: cannot reshape array of size 1 into shape (480,640,newaxis)\n",
      "2022-12-30 16:20:07,960 - clearml - WARNING - Failed decoding debug image [640, 480, 3]\n",
      "2022-12-30 16:20:07,962 - clearml - WARNING - Error: cannot reshape array of size 1 into shape (480,640,newaxis)\n",
      "2022-12-30 16:20:09,071 - clearml - WARNING - Failed decoding debug image [640, 480, 3]\n",
      "2022-12-30 16:20:09,073 - clearml - WARNING - Error: cannot reshape array of size 1 into shape (480,640,newaxis)\n",
      "2022-12-30 16:20:10,220 - clearml - WARNING - Failed decoding debug image [640, 480, 3]\n",
      "2022-12-30 16:20:10,222 - clearml - WARNING - Error: cannot reshape array of size 1 into shape (480,640,newaxis)\n",
      "2022-12-30 16:20:11,586 - clearml - WARNING - Failed decoding debug image [640, 480, 3]\n",
      "2022-12-30 16:20:11,588 - clearml - WARNING - Error: cannot reshape array of size 1 into shape (480,640,newaxis)\n",
      "2022-12-30 16:20:12,912 - clearml - WARNING - Failed decoding debug image [640, 480, 3]\n",
      "2022-12-30 16:20:12,914 - clearml - WARNING - Error: cannot reshape array of size 1 into shape (480,640,newaxis)\n",
      "2022-12-30 16:20:13,488 - clearml - WARNING - Failed decoding debug image [640, 480, 3]\n",
      "2022-12-30 16:20:13,491 - clearml - WARNING - Error: cannot reshape array of size 1 into shape (480,640,newaxis)\n",
      "2022-12-30 16:20:13,561 - clearml - WARNING - Failed decoding debug image [700, 225, 3]\n",
      "2022-12-30 16:20:13,562 - clearml - WARNING - Error: cannot reshape array of size 1 into shape (225,700,newaxis)\n",
      "2022-12-30 16:20:13,620 - clearml - WARNING - Failed decoding debug image [700, 225, 3]\n",
      "2022-12-30 16:20:13,621 - clearml - WARNING - Error: cannot reshape array of size 1 into shape (225,700,newaxis)\n",
      "2022-12-30 16:20:13,681 - clearml - WARNING - Failed decoding debug image [700, 225, 3]\n",
      "2022-12-30 16:20:13,683 - clearml - WARNING - Error: cannot reshape array of size 1 into shape (225,700,newaxis)\n",
      "2022-12-30 16:20:13,815 - clearml - WARNING - Failed decoding debug image [640, 480, 3]\n",
      "2022-12-30 16:20:13,817 - clearml - WARNING - Error: cannot reshape array of size 1 into shape (480,640,newaxis)\n",
      "2022-12-30 16:20:13,976 - clearml - WARNING - Failed decoding debug image [640, 480, 3]\n",
      "2022-12-30 16:20:13,978 - clearml - WARNING - Error: cannot reshape array of size 1 into shape (480,640,newaxis)\n"
     ]
    },
    {
     "data": {
      "text/plain": "Validation: 0it [00:00, ?it/s]",
      "application/vnd.jupyter.widget-view+json": {
       "version_major": 2,
       "version_minor": 0,
       "model_id": "8525509b325848d4a9c8ec5c5aae35e5"
      }
     },
     "metadata": {},
     "output_type": "display_data"
    },
    {
     "name": "stdout",
     "output_type": "stream",
     "text": [
      "2022-12-30 16:20:15,879 - clearml - WARNING - Failed decoding debug image [640, 480, 3]\n",
      "2022-12-30 16:20:15,881 - clearml - WARNING - Error: cannot reshape array of size 1 into shape (480,640,newaxis)\n",
      "2022-12-30 16:20:17,145 - clearml - WARNING - Failed decoding debug image [640, 480, 3]\n",
      "2022-12-30 16:20:17,147 - clearml - WARNING - Error: cannot reshape array of size 1 into shape (480,640,newaxis)\n",
      "2022-12-30 16:20:19,228 - clearml - WARNING - Failed decoding debug image [640, 480, 3]\n",
      "2022-12-30 16:20:19,231 - clearml - WARNING - Error: cannot reshape array of size 1 into shape (480,640,newaxis)\n",
      "2022-12-30 16:20:20,950 - clearml - WARNING - Failed decoding debug image [640, 480, 3]\n",
      "2022-12-30 16:20:20,953 - clearml - WARNING - Error: cannot reshape array of size 1 into shape (480,640,newaxis)\n",
      "2022-12-30 16:20:24,085 - clearml - WARNING - Failed decoding debug image [640, 480, 3]\n",
      "2022-12-30 16:20:24,087 - clearml - WARNING - Error: cannot reshape array of size 1 into shape (480,640,newaxis)\n",
      "2022-12-30 16:20:26,009 - clearml - WARNING - Failed decoding debug image [640, 480, 3]\n",
      "2022-12-30 16:20:26,011 - clearml - WARNING - Error: cannot reshape array of size 1 into shape (480,640,newaxis)\n",
      "2022-12-30 16:20:27,331 - clearml - WARNING - Failed decoding debug image [640, 480, 3]\n",
      "2022-12-30 16:20:27,333 - clearml - WARNING - Error: cannot reshape array of size 1 into shape (480,640,newaxis)\n",
      "2022-12-30 16:20:28,624 - clearml - WARNING - Failed decoding debug image [640, 480, 3]\n",
      "2022-12-30 16:20:28,627 - clearml - WARNING - Error: cannot reshape array of size 1 into shape (480,640,newaxis)\n",
      "2022-12-30 16:20:29,866 - clearml - WARNING - Failed decoding debug image [640, 480, 3]\n",
      "2022-12-30 16:20:29,868 - clearml - WARNING - Error: cannot reshape array of size 1 into shape (480,640,newaxis)\n",
      "2022-12-30 16:20:30,981 - clearml - WARNING - Failed decoding debug image [640, 480, 3]\n",
      "2022-12-30 16:20:30,983 - clearml - WARNING - Error: cannot reshape array of size 1 into shape (480,640,newaxis)\n",
      "2022-12-30 16:20:32,561 - clearml - WARNING - Failed decoding debug image [640, 480, 3]\n",
      "2022-12-30 16:20:32,563 - clearml - WARNING - Error: cannot reshape array of size 1 into shape (480,640,newaxis)\n",
      "2022-12-30 16:20:33,077 - clearml - WARNING - Failed decoding debug image [640, 480, 3]\n",
      "2022-12-30 16:20:33,078 - clearml - WARNING - Error: cannot reshape array of size 1 into shape (480,640,newaxis)\n",
      "2022-12-30 16:20:33,155 - clearml - WARNING - Failed decoding debug image [700, 225, 3]\n",
      "2022-12-30 16:20:33,156 - clearml - WARNING - Error: cannot reshape array of size 1 into shape (225,700,newaxis)\n",
      "2022-12-30 16:20:33,207 - clearml - WARNING - Failed decoding debug image [700, 225, 3]\n",
      "2022-12-30 16:20:33,208 - clearml - WARNING - Error: cannot reshape array of size 1 into shape (225,700,newaxis)\n",
      "2022-12-30 16:20:33,254 - clearml - WARNING - Failed decoding debug image [700, 225, 3]\n",
      "2022-12-30 16:20:33,255 - clearml - WARNING - Error: cannot reshape array of size 1 into shape (225,700,newaxis)\n",
      "2022-12-30 16:20:33,403 - clearml - WARNING - Failed decoding debug image [640, 480, 3]\n",
      "2022-12-30 16:20:33,405 - clearml - WARNING - Error: cannot reshape array of size 1 into shape (480,640,newaxis)\n",
      "2022-12-30 16:20:33,532 - clearml - WARNING - Failed decoding debug image [640, 480, 3]\n",
      "2022-12-30 16:20:33,533 - clearml - WARNING - Error: cannot reshape array of size 1 into shape (480,640,newaxis)\n"
     ]
    },
    {
     "data": {
      "text/plain": "Validation: 0it [00:00, ?it/s]",
      "application/vnd.jupyter.widget-view+json": {
       "version_major": 2,
       "version_minor": 0,
       "model_id": "09fa69d9d21846e6a9ac19fd35a3e259"
      }
     },
     "metadata": {},
     "output_type": "display_data"
    },
    {
     "name": "stdout",
     "output_type": "stream",
     "text": [
      "2022-12-30 16:20:35,356 - clearml - WARNING - Failed decoding debug image [640, 480, 3]\n",
      "2022-12-30 16:20:35,358 - clearml - WARNING - Error: cannot reshape array of size 1 into shape (480,640,newaxis)\n",
      "2022-12-30 16:20:36,742 - clearml - WARNING - Failed decoding debug image [640, 480, 3]\n",
      "2022-12-30 16:20:36,743 - clearml - WARNING - Error: cannot reshape array of size 1 into shape (480,640,newaxis)\n",
      "2022-12-30 16:20:37,993 - clearml - WARNING - Failed decoding debug image [640, 480, 3]\n",
      "2022-12-30 16:20:37,995 - clearml - WARNING - Error: cannot reshape array of size 1 into shape (480,640,newaxis)\n",
      "2022-12-30 16:20:39,427 - clearml - WARNING - Failed decoding debug image [640, 480, 3]\n",
      "2022-12-30 16:20:39,429 - clearml - WARNING - Error: cannot reshape array of size 1 into shape (480,640,newaxis)\n",
      "2022-12-30 16:20:40,842 - clearml - WARNING - Failed decoding debug image [640, 480, 3]\n",
      "2022-12-30 16:20:40,844 - clearml - WARNING - Error: cannot reshape array of size 1 into shape (480,640,newaxis)\n",
      "2022-12-30 16:20:42,451 - clearml - WARNING - Failed decoding debug image [640, 480, 3]\n",
      "2022-12-30 16:20:42,453 - clearml - WARNING - Error: cannot reshape array of size 1 into shape (480,640,newaxis)\n",
      "2022-12-30 16:20:43,703 - clearml - WARNING - Failed decoding debug image [640, 480, 3]\n",
      "2022-12-30 16:20:43,704 - clearml - WARNING - Error: cannot reshape array of size 1 into shape (480,640,newaxis)\n",
      "2022-12-30 16:20:44,848 - clearml - WARNING - Failed decoding debug image [640, 480, 3]\n",
      "2022-12-30 16:20:44,850 - clearml - WARNING - Error: cannot reshape array of size 1 into shape (480,640,newaxis)\n",
      "2022-12-30 16:20:45,960 - clearml - WARNING - Failed decoding debug image [640, 480, 3]\n",
      "2022-12-30 16:20:45,962 - clearml - WARNING - Error: cannot reshape array of size 1 into shape (480,640,newaxis)\n",
      "2022-12-30 16:20:47,185 - clearml - WARNING - Failed decoding debug image [640, 480, 3]\n",
      "2022-12-30 16:20:47,187 - clearml - WARNING - Error: cannot reshape array of size 1 into shape (480,640,newaxis)\n",
      "2022-12-30 16:20:48,690 - clearml - WARNING - Failed decoding debug image [640, 480, 3]\n",
      "2022-12-30 16:20:48,692 - clearml - WARNING - Error: cannot reshape array of size 1 into shape (480,640,newaxis)\n",
      "2022-12-30 16:20:49,124 - clearml - WARNING - Failed decoding debug image [640, 480, 3]\n",
      "2022-12-30 16:20:49,127 - clearml - WARNING - Error: cannot reshape array of size 1 into shape (480,640,newaxis)\n",
      "2022-12-30 16:20:49,189 - clearml - WARNING - Failed decoding debug image [700, 225, 3]\n",
      "2022-12-30 16:20:49,190 - clearml - WARNING - Error: cannot reshape array of size 1 into shape (225,700,newaxis)\n",
      "2022-12-30 16:20:49,244 - clearml - WARNING - Failed decoding debug image [700, 225, 3]\n",
      "2022-12-30 16:20:49,246 - clearml - WARNING - Error: cannot reshape array of size 1 into shape (225,700,newaxis)\n",
      "2022-12-30 16:20:49,308 - clearml - WARNING - Failed decoding debug image [700, 225, 3]\n",
      "2022-12-30 16:20:49,310 - clearml - WARNING - Error: cannot reshape array of size 1 into shape (225,700,newaxis)\n",
      "2022-12-30 16:20:49,440 - clearml - WARNING - Failed decoding debug image [640, 480, 3]\n",
      "2022-12-30 16:20:49,442 - clearml - WARNING - Error: cannot reshape array of size 1 into shape (480,640,newaxis)\n",
      "2022-12-30 16:20:49,582 - clearml - WARNING - Failed decoding debug image [640, 480, 3]\n",
      "2022-12-30 16:20:49,584 - clearml - WARNING - Error: cannot reshape array of size 1 into shape (480,640,newaxis)\n"
     ]
    },
    {
     "data": {
      "text/plain": "Validation: 0it [00:00, ?it/s]",
      "application/vnd.jupyter.widget-view+json": {
       "version_major": 2,
       "version_minor": 0,
       "model_id": "2186531e171d4993ae4ac1574eb017a5"
      }
     },
     "metadata": {},
     "output_type": "display_data"
    },
    {
     "name": "stdout",
     "output_type": "stream",
     "text": [
      "2022-12-30 16:20:51,663 - clearml - WARNING - Failed decoding debug image [640, 480, 3]\n",
      "2022-12-30 16:20:51,666 - clearml - WARNING - Error: cannot reshape array of size 1 into shape (480,640,newaxis)\n",
      "2022-12-30 16:20:53,158 - clearml - WARNING - Failed decoding debug image [640, 480, 3]\n",
      "2022-12-30 16:20:53,160 - clearml - WARNING - Error: cannot reshape array of size 1 into shape (480,640,newaxis)\n",
      "2022-12-30 16:20:54,516 - clearml - WARNING - Failed decoding debug image [640, 480, 3]\n",
      "2022-12-30 16:20:54,517 - clearml - WARNING - Error: cannot reshape array of size 1 into shape (480,640,newaxis)\n",
      "2022-12-30 16:20:56,162 - clearml - WARNING - Failed decoding debug image [640, 480, 3]\n",
      "2022-12-30 16:20:56,163 - clearml - WARNING - Error: cannot reshape array of size 1 into shape (480,640,newaxis)\n",
      "2022-12-30 16:20:57,790 - clearml - WARNING - Failed decoding debug image [640, 480, 3]\n",
      "2022-12-30 16:20:57,793 - clearml - WARNING - Error: cannot reshape array of size 1 into shape (480,640,newaxis)\n",
      "2022-12-30 16:20:59,202 - clearml - WARNING - Failed decoding debug image [640, 480, 3]\n",
      "2022-12-30 16:20:59,204 - clearml - WARNING - Error: cannot reshape array of size 1 into shape (480,640,newaxis)\n",
      "2022-12-30 16:21:00,387 - clearml - WARNING - Failed decoding debug image [640, 480, 3]\n",
      "2022-12-30 16:21:00,388 - clearml - WARNING - Error: cannot reshape array of size 1 into shape (480,640,newaxis)\n",
      "2022-12-30 16:21:02,055 - clearml - WARNING - Failed decoding debug image [640, 480, 3]\n",
      "2022-12-30 16:21:02,057 - clearml - WARNING - Error: cannot reshape array of size 1 into shape (480,640,newaxis)\n",
      "2022-12-30 16:21:03,350 - clearml - WARNING - Failed decoding debug image [640, 480, 3]\n",
      "2022-12-30 16:21:03,352 - clearml - WARNING - Error: cannot reshape array of size 1 into shape (480,640,newaxis)\n",
      "2022-12-30 16:21:04,954 - clearml - WARNING - Failed decoding debug image [640, 480, 3]\n",
      "2022-12-30 16:21:04,955 - clearml - WARNING - Error: cannot reshape array of size 1 into shape (480,640,newaxis)\n",
      "2022-12-30 16:21:06,864 - clearml - WARNING - Failed decoding debug image [640, 480, 3]\n",
      "2022-12-30 16:21:06,866 - clearml - WARNING - Error: cannot reshape array of size 1 into shape (480,640,newaxis)\n",
      "2022-12-30 16:21:07,366 - clearml - WARNING - Failed decoding debug image [640, 480, 3]\n",
      "2022-12-30 16:21:07,368 - clearml - WARNING - Error: cannot reshape array of size 1 into shape (480,640,newaxis)\n",
      "2022-12-30 16:21:07,459 - clearml - WARNING - Failed decoding debug image [700, 225, 3]\n",
      "2022-12-30 16:21:07,460 - clearml - WARNING - Error: cannot reshape array of size 1 into shape (225,700,newaxis)\n",
      "2022-12-30 16:21:07,523 - clearml - WARNING - Failed decoding debug image [700, 225, 3]\n",
      "2022-12-30 16:21:07,525 - clearml - WARNING - Error: cannot reshape array of size 1 into shape (225,700,newaxis)\n",
      "2022-12-30 16:21:07,574 - clearml - WARNING - Failed decoding debug image [700, 225, 3]\n",
      "2022-12-30 16:21:07,575 - clearml - WARNING - Error: cannot reshape array of size 1 into shape (225,700,newaxis)\n",
      "2022-12-30 16:21:07,692 - clearml - WARNING - Failed decoding debug image [640, 480, 3]\n",
      "2022-12-30 16:21:07,694 - clearml - WARNING - Error: cannot reshape array of size 1 into shape (480,640,newaxis)\n",
      "2022-12-30 16:21:07,856 - clearml - WARNING - Failed decoding debug image [640, 480, 3]\n",
      "2022-12-30 16:21:07,857 - clearml - WARNING - Error: cannot reshape array of size 1 into shape (480,640,newaxis)\n"
     ]
    },
    {
     "data": {
      "text/plain": "Validation: 0it [00:00, ?it/s]",
      "application/vnd.jupyter.widget-view+json": {
       "version_major": 2,
       "version_minor": 0,
       "model_id": "8b356ec614fd4d5caed456fc2250a8e1"
      }
     },
     "metadata": {},
     "output_type": "display_data"
    },
    {
     "name": "stdout",
     "output_type": "stream",
     "text": [
      "2022-12-30 16:21:09,607 - clearml - WARNING - Failed decoding debug image [640, 480, 3]\n",
      "2022-12-30 16:21:09,609 - clearml - WARNING - Error: cannot reshape array of size 1 into shape (480,640,newaxis)\n",
      "2022-12-30 16:21:10,752 - clearml - WARNING - Failed decoding debug image [640, 480, 3]\n",
      "2022-12-30 16:21:10,754 - clearml - WARNING - Error: cannot reshape array of size 1 into shape (480,640,newaxis)\n",
      "2022-12-30 16:21:11,839 - clearml - WARNING - Failed decoding debug image [640, 480, 3]\n",
      "2022-12-30 16:21:11,841 - clearml - WARNING - Error: cannot reshape array of size 1 into shape (480,640,newaxis)\n",
      "2022-12-30 16:21:12,983 - clearml - WARNING - Failed decoding debug image [640, 480, 3]\n",
      "2022-12-30 16:21:12,985 - clearml - WARNING - Error: cannot reshape array of size 1 into shape (480,640,newaxis)\n",
      "2022-12-30 16:21:14,189 - clearml - WARNING - Failed decoding debug image [640, 480, 3]\n",
      "2022-12-30 16:21:14,191 - clearml - WARNING - Error: cannot reshape array of size 1 into shape (480,640,newaxis)\n",
      "2022-12-30 16:21:15,499 - clearml - WARNING - Failed decoding debug image [640, 480, 3]\n",
      "2022-12-30 16:21:15,502 - clearml - WARNING - Error: cannot reshape array of size 1 into shape (480,640,newaxis)\n",
      "2022-12-30 16:21:16,999 - clearml - WARNING - Failed decoding debug image [640, 480, 3]\n",
      "2022-12-30 16:21:17,001 - clearml - WARNING - Error: cannot reshape array of size 1 into shape (480,640,newaxis)\n",
      "2022-12-30 16:21:18,331 - clearml - WARNING - Failed decoding debug image [640, 480, 3]\n",
      "2022-12-30 16:21:18,333 - clearml - WARNING - Error: cannot reshape array of size 1 into shape (480,640,newaxis)\n",
      "2022-12-30 16:21:19,756 - clearml - WARNING - Failed decoding debug image [640, 480, 3]\n",
      "2022-12-30 16:21:19,758 - clearml - WARNING - Error: cannot reshape array of size 1 into shape (480,640,newaxis)\n",
      "2022-12-30 16:21:21,238 - clearml - WARNING - Failed decoding debug image [640, 480, 3]\n",
      "2022-12-30 16:21:21,250 - clearml - WARNING - Error: cannot reshape array of size 1 into shape (480,640,newaxis)\n",
      "2022-12-30 16:21:22,938 - clearml - WARNING - Failed decoding debug image [640, 480, 3]\n",
      "2022-12-30 16:21:22,940 - clearml - WARNING - Error: cannot reshape array of size 1 into shape (480,640,newaxis)\n",
      "2022-12-30 16:21:23,398 - clearml - WARNING - Failed decoding debug image [640, 480, 3]\n",
      "2022-12-30 16:21:23,400 - clearml - WARNING - Error: cannot reshape array of size 1 into shape (480,640,newaxis)\n",
      "2022-12-30 16:21:23,468 - clearml - WARNING - Failed decoding debug image [700, 225, 3]\n",
      "2022-12-30 16:21:23,469 - clearml - WARNING - Error: cannot reshape array of size 1 into shape (225,700,newaxis)\n",
      "2022-12-30 16:21:23,537 - clearml - WARNING - Failed decoding debug image [700, 225, 3]\n",
      "2022-12-30 16:21:23,539 - clearml - WARNING - Error: cannot reshape array of size 1 into shape (225,700,newaxis)\n",
      "2022-12-30 16:21:23,609 - clearml - WARNING - Failed decoding debug image [700, 225, 3]\n",
      "2022-12-30 16:21:23,611 - clearml - WARNING - Error: cannot reshape array of size 1 into shape (225,700,newaxis)\n",
      "2022-12-30 16:21:23,771 - clearml - WARNING - Failed decoding debug image [640, 480, 3]\n",
      "2022-12-30 16:21:23,773 - clearml - WARNING - Error: cannot reshape array of size 1 into shape (480,640,newaxis)\n",
      "2022-12-30 16:21:23,911 - clearml - WARNING - Failed decoding debug image [640, 480, 3]\n",
      "2022-12-30 16:21:23,913 - clearml - WARNING - Error: cannot reshape array of size 1 into shape (480,640,newaxis)\n"
     ]
    },
    {
     "data": {
      "text/plain": "Validation: 0it [00:00, ?it/s]",
      "application/vnd.jupyter.widget-view+json": {
       "version_major": 2,
       "version_minor": 0,
       "model_id": "1d86665399de4479bc2ed8917e276f62"
      }
     },
     "metadata": {},
     "output_type": "display_data"
    },
    {
     "name": "stdout",
     "output_type": "stream",
     "text": [
      "2022-12-30 16:21:25,895 - clearml - WARNING - Failed decoding debug image [640, 480, 3]\n",
      "2022-12-30 16:21:25,897 - clearml - WARNING - Error: cannot reshape array of size 1 into shape (480,640,newaxis)\n",
      "2022-12-30 16:21:27,922 - clearml - WARNING - Failed decoding debug image [640, 480, 3]\n",
      "2022-12-30 16:21:27,924 - clearml - WARNING - Error: cannot reshape array of size 1 into shape (480,640,newaxis)\n",
      "2022-12-30 16:21:29,002 - clearml - WARNING - Failed decoding debug image [640, 480, 3]\n",
      "2022-12-30 16:21:29,004 - clearml - WARNING - Error: cannot reshape array of size 1 into shape (480,640,newaxis)\n",
      "2022-12-30 16:21:30,081 - clearml - WARNING - Failed decoding debug image [640, 480, 3]\n",
      "2022-12-30 16:21:30,082 - clearml - WARNING - Error: cannot reshape array of size 1 into shape (480,640,newaxis)\n",
      "2022-12-30 16:21:31,153 - clearml - WARNING - Failed decoding debug image [640, 480, 3]\n",
      "2022-12-30 16:21:31,154 - clearml - WARNING - Error: cannot reshape array of size 1 into shape (480,640,newaxis)\n",
      "2022-12-30 16:21:32,277 - clearml - WARNING - Failed decoding debug image [640, 480, 3]\n",
      "2022-12-30 16:21:32,278 - clearml - WARNING - Error: cannot reshape array of size 1 into shape (480,640,newaxis)\n",
      "2022-12-30 16:21:33,418 - clearml - WARNING - Failed decoding debug image [640, 480, 3]\n",
      "2022-12-30 16:21:33,420 - clearml - WARNING - Error: cannot reshape array of size 1 into shape (480,640,newaxis)\n",
      "2022-12-30 16:21:34,486 - clearml - WARNING - Failed decoding debug image [640, 480, 3]\n",
      "2022-12-30 16:21:34,487 - clearml - WARNING - Error: cannot reshape array of size 1 into shape (480,640,newaxis)\n",
      "2022-12-30 16:21:35,617 - clearml - WARNING - Failed decoding debug image [640, 480, 3]\n",
      "2022-12-30 16:21:35,619 - clearml - WARNING - Error: cannot reshape array of size 1 into shape (480,640,newaxis)\n",
      "2022-12-30 16:21:36,666 - clearml - WARNING - Failed decoding debug image [640, 480, 3]\n",
      "2022-12-30 16:21:36,669 - clearml - WARNING - Error: cannot reshape array of size 1 into shape (480,640,newaxis)\n",
      "2022-12-30 16:21:37,659 - clearml - WARNING - Failed decoding debug image [640, 480, 3]\n",
      "2022-12-30 16:21:37,661 - clearml - WARNING - Error: cannot reshape array of size 1 into shape (480,640,newaxis)\n",
      "2022-12-30 16:21:38,068 - clearml - WARNING - Failed decoding debug image [640, 480, 3]\n",
      "2022-12-30 16:21:38,070 - clearml - WARNING - Error: cannot reshape array of size 1 into shape (480,640,newaxis)\n",
      "2022-12-30 16:21:38,125 - clearml - WARNING - Failed decoding debug image [700, 225, 3]\n",
      "2022-12-30 16:21:38,127 - clearml - WARNING - Error: cannot reshape array of size 1 into shape (225,700,newaxis)\n",
      "2022-12-30 16:21:38,178 - clearml - WARNING - Failed decoding debug image [700, 225, 3]\n",
      "2022-12-30 16:21:38,179 - clearml - WARNING - Error: cannot reshape array of size 1 into shape (225,700,newaxis)\n",
      "2022-12-30 16:21:38,234 - clearml - WARNING - Failed decoding debug image [700, 225, 3]\n",
      "2022-12-30 16:21:38,235 - clearml - WARNING - Error: cannot reshape array of size 1 into shape (225,700,newaxis)\n",
      "2022-12-30 16:21:38,351 - clearml - WARNING - Failed decoding debug image [640, 480, 3]\n",
      "2022-12-30 16:21:38,353 - clearml - WARNING - Error: cannot reshape array of size 1 into shape (480,640,newaxis)\n",
      "2022-12-30 16:21:38,493 - clearml - WARNING - Failed decoding debug image [640, 480, 3]\n",
      "2022-12-30 16:21:38,494 - clearml - WARNING - Error: cannot reshape array of size 1 into shape (480,640,newaxis)\n"
     ]
    },
    {
     "data": {
      "text/plain": "Validation: 0it [00:00, ?it/s]",
      "application/vnd.jupyter.widget-view+json": {
       "version_major": 2,
       "version_minor": 0,
       "model_id": "db9105a5cf604a13aca0ef0ea91cbc54"
      }
     },
     "metadata": {},
     "output_type": "display_data"
    },
    {
     "name": "stdout",
     "output_type": "stream",
     "text": [
      "2022-12-30 16:21:40,150 - clearml - WARNING - Failed decoding debug image [640, 480, 3]\n",
      "2022-12-30 16:21:40,151 - clearml - WARNING - Error: cannot reshape array of size 1 into shape (480,640,newaxis)\n",
      "2022-12-30 16:21:41,308 - clearml - WARNING - Failed decoding debug image [640, 480, 3]\n",
      "2022-12-30 16:21:41,310 - clearml - WARNING - Error: cannot reshape array of size 1 into shape (480,640,newaxis)\n",
      "2022-12-30 16:21:42,378 - clearml - WARNING - Failed decoding debug image [640, 480, 3]\n",
      "2022-12-30 16:21:42,380 - clearml - WARNING - Error: cannot reshape array of size 1 into shape (480,640,newaxis)\n",
      "2022-12-30 16:21:43,408 - clearml - WARNING - Failed decoding debug image [640, 480, 3]\n",
      "2022-12-30 16:21:43,411 - clearml - WARNING - Error: cannot reshape array of size 1 into shape (480,640,newaxis)\n",
      "2022-12-30 16:21:44,567 - clearml - WARNING - Failed decoding debug image [640, 480, 3]\n",
      "2022-12-30 16:21:44,569 - clearml - WARNING - Error: cannot reshape array of size 1 into shape (480,640,newaxis)\n",
      "2022-12-30 16:21:45,680 - clearml - WARNING - Failed decoding debug image [640, 480, 3]\n",
      "2022-12-30 16:21:45,683 - clearml - WARNING - Error: cannot reshape array of size 1 into shape (480,640,newaxis)\n",
      "2022-12-30 16:21:46,849 - clearml - WARNING - Failed decoding debug image [640, 480, 3]\n",
      "2022-12-30 16:21:46,851 - clearml - WARNING - Error: cannot reshape array of size 1 into shape (480,640,newaxis)\n",
      "2022-12-30 16:21:47,887 - clearml - WARNING - Failed decoding debug image [640, 480, 3]\n",
      "2022-12-30 16:21:47,889 - clearml - WARNING - Error: cannot reshape array of size 1 into shape (480,640,newaxis)\n",
      "2022-12-30 16:21:49,033 - clearml - WARNING - Failed decoding debug image [640, 480, 3]\n",
      "2022-12-30 16:21:49,035 - clearml - WARNING - Error: cannot reshape array of size 1 into shape (480,640,newaxis)\n",
      "2022-12-30 16:21:50,026 - clearml - WARNING - Failed decoding debug image [640, 480, 3]\n",
      "2022-12-30 16:21:50,028 - clearml - WARNING - Error: cannot reshape array of size 1 into shape (480,640,newaxis)\n",
      "2022-12-30 16:21:50,997 - clearml - WARNING - Failed decoding debug image [640, 480, 3]\n",
      "2022-12-30 16:21:50,999 - clearml - WARNING - Error: cannot reshape array of size 1 into shape (480,640,newaxis)\n",
      "2022-12-30 16:21:51,439 - clearml - WARNING - Failed decoding debug image [640, 480, 3]\n",
      "2022-12-30 16:21:51,441 - clearml - WARNING - Error: cannot reshape array of size 1 into shape (480,640,newaxis)\n",
      "2022-12-30 16:21:51,512 - clearml - WARNING - Failed decoding debug image [700, 225, 3]\n",
      "2022-12-30 16:21:51,514 - clearml - WARNING - Error: cannot reshape array of size 1 into shape (225,700,newaxis)\n",
      "2022-12-30 16:21:51,571 - clearml - WARNING - Failed decoding debug image [700, 225, 3]\n",
      "2022-12-30 16:21:51,573 - clearml - WARNING - Error: cannot reshape array of size 1 into shape (225,700,newaxis)\n",
      "2022-12-30 16:21:51,628 - clearml - WARNING - Failed decoding debug image [700, 225, 3]\n",
      "2022-12-30 16:21:51,630 - clearml - WARNING - Error: cannot reshape array of size 1 into shape (225,700,newaxis)\n",
      "2022-12-30 16:21:51,764 - clearml - WARNING - Failed decoding debug image [640, 480, 3]\n",
      "2022-12-30 16:21:51,767 - clearml - WARNING - Error: cannot reshape array of size 1 into shape (480,640,newaxis)\n",
      "2022-12-30 16:21:51,906 - clearml - WARNING - Failed decoding debug image [640, 480, 3]\n",
      "2022-12-30 16:21:51,908 - clearml - WARNING - Error: cannot reshape array of size 1 into shape (480,640,newaxis)\n"
     ]
    },
    {
     "data": {
      "text/plain": "Validation: 0it [00:00, ?it/s]",
      "application/vnd.jupyter.widget-view+json": {
       "version_major": 2,
       "version_minor": 0,
       "model_id": "949c0c0317a440cb81be64490cba7bcb"
      }
     },
     "metadata": {},
     "output_type": "display_data"
    },
    {
     "name": "stdout",
     "output_type": "stream",
     "text": [
      "2022-12-30 16:21:53,546 - clearml - WARNING - Failed decoding debug image [640, 480, 3]\n",
      "2022-12-30 16:21:53,548 - clearml - WARNING - Error: cannot reshape array of size 1 into shape (480,640,newaxis)\n",
      "2022-12-30 16:21:54,657 - clearml - WARNING - Failed decoding debug image [640, 480, 3]\n",
      "2022-12-30 16:21:54,659 - clearml - WARNING - Error: cannot reshape array of size 1 into shape (480,640,newaxis)\n",
      "2022-12-30 16:21:55,755 - clearml - WARNING - Failed decoding debug image [640, 480, 3]\n",
      "2022-12-30 16:21:55,757 - clearml - WARNING - Error: cannot reshape array of size 1 into shape (480,640,newaxis)\n",
      "2022-12-30 16:21:56,857 - clearml - WARNING - Failed decoding debug image [640, 480, 3]\n",
      "2022-12-30 16:21:56,859 - clearml - WARNING - Error: cannot reshape array of size 1 into shape (480,640,newaxis)\n",
      "2022-12-30 16:21:58,009 - clearml - WARNING - Failed decoding debug image [640, 480, 3]\n",
      "2022-12-30 16:21:58,011 - clearml - WARNING - Error: cannot reshape array of size 1 into shape (480,640,newaxis)\n",
      "2022-12-30 16:21:59,244 - clearml - WARNING - Failed decoding debug image [640, 480, 3]\n",
      "2022-12-30 16:21:59,245 - clearml - WARNING - Error: cannot reshape array of size 1 into shape (480,640,newaxis)\n",
      "2022-12-30 16:22:00,345 - clearml - WARNING - Failed decoding debug image [640, 480, 3]\n",
      "2022-12-30 16:22:00,347 - clearml - WARNING - Error: cannot reshape array of size 1 into shape (480,640,newaxis)\n",
      "2022-12-30 16:22:01,527 - clearml - WARNING - Failed decoding debug image [640, 480, 3]\n",
      "2022-12-30 16:22:01,528 - clearml - WARNING - Error: cannot reshape array of size 1 into shape (480,640,newaxis)\n",
      "2022-12-30 16:22:02,583 - clearml - WARNING - Failed decoding debug image [640, 480, 3]\n",
      "2022-12-30 16:22:02,585 - clearml - WARNING - Error: cannot reshape array of size 1 into shape (480,640,newaxis)\n",
      "2022-12-30 16:22:03,649 - clearml - WARNING - Failed decoding debug image [640, 480, 3]\n",
      "2022-12-30 16:22:03,651 - clearml - WARNING - Error: cannot reshape array of size 1 into shape (480,640,newaxis)\n",
      "2022-12-30 16:22:04,677 - clearml - WARNING - Failed decoding debug image [640, 480, 3]\n",
      "2022-12-30 16:22:04,679 - clearml - WARNING - Error: cannot reshape array of size 1 into shape (480,640,newaxis)\n",
      "2022-12-30 16:22:05,104 - clearml - WARNING - Failed decoding debug image [640, 480, 3]\n",
      "2022-12-30 16:22:05,106 - clearml - WARNING - Error: cannot reshape array of size 1 into shape (480,640,newaxis)\n",
      "2022-12-30 16:22:05,173 - clearml - WARNING - Failed decoding debug image [700, 225, 3]\n",
      "2022-12-30 16:22:05,175 - clearml - WARNING - Error: cannot reshape array of size 1 into shape (225,700,newaxis)\n",
      "2022-12-30 16:22:05,228 - clearml - WARNING - Failed decoding debug image [700, 225, 3]\n",
      "2022-12-30 16:22:05,230 - clearml - WARNING - Error: cannot reshape array of size 1 into shape (225,700,newaxis)\n",
      "2022-12-30 16:22:05,291 - clearml - WARNING - Failed decoding debug image [700, 225, 3]\n",
      "2022-12-30 16:22:05,292 - clearml - WARNING - Error: cannot reshape array of size 1 into shape (225,700,newaxis)\n",
      "2022-12-30 16:22:05,403 - clearml - WARNING - Failed decoding debug image [640, 480, 3]\n",
      "2022-12-30 16:22:05,405 - clearml - WARNING - Error: cannot reshape array of size 1 into shape (480,640,newaxis)\n",
      "2022-12-30 16:22:05,583 - clearml - WARNING - Failed decoding debug image [640, 480, 3]\n",
      "2022-12-30 16:22:05,585 - clearml - WARNING - Error: cannot reshape array of size 1 into shape (480,640,newaxis)\n"
     ]
    },
    {
     "data": {
      "text/plain": "Validation: 0it [00:00, ?it/s]",
      "application/vnd.jupyter.widget-view+json": {
       "version_major": 2,
       "version_minor": 0,
       "model_id": "9a3edfd1b6ec40af86b132b104e66005"
      }
     },
     "metadata": {},
     "output_type": "display_data"
    },
    {
     "name": "stdout",
     "output_type": "stream",
     "text": [
      "2022-12-30 16:22:07,168 - clearml - WARNING - Failed decoding debug image [640, 480, 3]\n",
      "2022-12-30 16:22:07,170 - clearml - WARNING - Error: cannot reshape array of size 1 into shape (480,640,newaxis)\n",
      "2022-12-30 16:22:08,290 - clearml - WARNING - Failed decoding debug image [640, 480, 3]\n",
      "2022-12-30 16:22:08,292 - clearml - WARNING - Error: cannot reshape array of size 1 into shape (480,640,newaxis)\n",
      "2022-12-30 16:22:10,639 - clearml - WARNING - Failed decoding debug image [640, 480, 3]\n",
      "2022-12-30 16:22:10,640 - clearml - WARNING - Error: cannot reshape array of size 1 into shape (480,640,newaxis)\n",
      "2022-12-30 16:22:11,705 - clearml - WARNING - Failed decoding debug image [640, 480, 3]\n",
      "2022-12-30 16:22:11,707 - clearml - WARNING - Error: cannot reshape array of size 1 into shape (480,640,newaxis)\n",
      "2022-12-30 16:22:12,764 - clearml - WARNING - Failed decoding debug image [640, 480, 3]\n",
      "2022-12-30 16:22:12,766 - clearml - WARNING - Error: cannot reshape array of size 1 into shape (480,640,newaxis)\n",
      "2022-12-30 16:22:13,851 - clearml - WARNING - Failed decoding debug image [640, 480, 3]\n",
      "2022-12-30 16:22:13,853 - clearml - WARNING - Error: cannot reshape array of size 1 into shape (480,640,newaxis)\n",
      "2022-12-30 16:22:14,909 - clearml - WARNING - Failed decoding debug image [640, 480, 3]\n",
      "2022-12-30 16:22:14,910 - clearml - WARNING - Error: cannot reshape array of size 1 into shape (480,640,newaxis)\n",
      "2022-12-30 16:22:16,011 - clearml - WARNING - Failed decoding debug image [640, 480, 3]\n",
      "2022-12-30 16:22:16,013 - clearml - WARNING - Error: cannot reshape array of size 1 into shape (480,640,newaxis)\n",
      "2022-12-30 16:22:17,115 - clearml - WARNING - Failed decoding debug image [640, 480, 3]\n",
      "2022-12-30 16:22:17,117 - clearml - WARNING - Error: cannot reshape array of size 1 into shape (480,640,newaxis)\n",
      "2022-12-30 16:22:18,198 - clearml - WARNING - Failed decoding debug image [640, 480, 3]\n",
      "2022-12-30 16:22:18,200 - clearml - WARNING - Error: cannot reshape array of size 1 into shape (480,640,newaxis)\n",
      "2022-12-30 16:22:19,249 - clearml - WARNING - Failed decoding debug image [640, 480, 3]\n",
      "2022-12-30 16:22:19,251 - clearml - WARNING - Error: cannot reshape array of size 1 into shape (480,640,newaxis)\n",
      "2022-12-30 16:22:19,643 - clearml - WARNING - Failed decoding debug image [640, 480, 3]\n",
      "2022-12-30 16:22:19,645 - clearml - WARNING - Error: cannot reshape array of size 1 into shape (480,640,newaxis)\n",
      "2022-12-30 16:22:19,718 - clearml - WARNING - Failed decoding debug image [700, 225, 3]\n",
      "2022-12-30 16:22:19,720 - clearml - WARNING - Error: cannot reshape array of size 1 into shape (225,700,newaxis)\n",
      "2022-12-30 16:22:19,775 - clearml - WARNING - Failed decoding debug image [700, 225, 3]\n",
      "2022-12-30 16:22:19,777 - clearml - WARNING - Error: cannot reshape array of size 1 into shape (225,700,newaxis)\n",
      "2022-12-30 16:22:19,829 - clearml - WARNING - Failed decoding debug image [700, 225, 3]\n",
      "2022-12-30 16:22:19,830 - clearml - WARNING - Error: cannot reshape array of size 1 into shape (225,700,newaxis)\n",
      "2022-12-30 16:22:19,942 - clearml - WARNING - Failed decoding debug image [640, 480, 3]\n",
      "2022-12-30 16:22:19,944 - clearml - WARNING - Error: cannot reshape array of size 1 into shape (480,640,newaxis)\n",
      "2022-12-30 16:22:20,095 - clearml - WARNING - Failed decoding debug image [640, 480, 3]\n",
      "2022-12-30 16:22:20,097 - clearml - WARNING - Error: cannot reshape array of size 1 into shape (480,640,newaxis)\n"
     ]
    },
    {
     "data": {
      "text/plain": "Validation: 0it [00:00, ?it/s]",
      "application/vnd.jupyter.widget-view+json": {
       "version_major": 2,
       "version_minor": 0,
       "model_id": "4afd593cc311423cbd044088d0783485"
      }
     },
     "metadata": {},
     "output_type": "display_data"
    },
    {
     "name": "stdout",
     "output_type": "stream",
     "text": [
      "2022-12-30 16:22:21,719 - clearml - WARNING - Failed decoding debug image [640, 480, 3]\n",
      "2022-12-30 16:22:21,721 - clearml - WARNING - Error: cannot reshape array of size 1 into shape (480,640,newaxis)\n",
      "2022-12-30 16:22:22,794 - clearml - WARNING - Failed decoding debug image [640, 480, 3]\n",
      "2022-12-30 16:22:22,796 - clearml - WARNING - Error: cannot reshape array of size 1 into shape (480,640,newaxis)\n",
      "2022-12-30 16:22:23,827 - clearml - WARNING - Failed decoding debug image [640, 480, 3]\n",
      "2022-12-30 16:22:23,828 - clearml - WARNING - Error: cannot reshape array of size 1 into shape (480,640,newaxis)\n",
      "2022-12-30 16:22:24,963 - clearml - WARNING - Failed decoding debug image [640, 480, 3]\n",
      "2022-12-30 16:22:24,964 - clearml - WARNING - Error: cannot reshape array of size 1 into shape (480,640,newaxis)\n",
      "2022-12-30 16:22:26,089 - clearml - WARNING - Failed decoding debug image [640, 480, 3]\n",
      "2022-12-30 16:22:26,090 - clearml - WARNING - Error: cannot reshape array of size 1 into shape (480,640,newaxis)\n",
      "2022-12-30 16:22:27,155 - clearml - WARNING - Failed decoding debug image [640, 480, 3]\n",
      "2022-12-30 16:22:27,157 - clearml - WARNING - Error: cannot reshape array of size 1 into shape (480,640,newaxis)\n",
      "2022-12-30 16:22:28,269 - clearml - WARNING - Failed decoding debug image [640, 480, 3]\n",
      "2022-12-30 16:22:28,271 - clearml - WARNING - Error: cannot reshape array of size 1 into shape (480,640,newaxis)\n",
      "2022-12-30 16:22:29,285 - clearml - WARNING - Failed decoding debug image [640, 480, 3]\n",
      "2022-12-30 16:22:29,287 - clearml - WARNING - Error: cannot reshape array of size 1 into shape (480,640,newaxis)\n",
      "2022-12-30 16:22:30,385 - clearml - WARNING - Failed decoding debug image [640, 480, 3]\n",
      "2022-12-30 16:22:30,387 - clearml - WARNING - Error: cannot reshape array of size 1 into shape (480,640,newaxis)\n",
      "2022-12-30 16:22:31,419 - clearml - WARNING - Failed decoding debug image [640, 480, 3]\n",
      "2022-12-30 16:22:31,420 - clearml - WARNING - Error: cannot reshape array of size 1 into shape (480,640,newaxis)\n",
      "2022-12-30 16:22:32,420 - clearml - WARNING - Failed decoding debug image [640, 480, 3]\n",
      "2022-12-30 16:22:32,421 - clearml - WARNING - Error: cannot reshape array of size 1 into shape (480,640,newaxis)\n",
      "2022-12-30 16:22:32,884 - clearml - WARNING - Failed decoding debug image [640, 480, 3]\n",
      "2022-12-30 16:22:32,886 - clearml - WARNING - Error: cannot reshape array of size 1 into shape (480,640,newaxis)\n",
      "2022-12-30 16:22:32,967 - clearml - WARNING - Failed decoding debug image [700, 225, 3]\n",
      "2022-12-30 16:22:32,969 - clearml - WARNING - Error: cannot reshape array of size 1 into shape (225,700,newaxis)\n",
      "2022-12-30 16:22:33,032 - clearml - WARNING - Failed decoding debug image [700, 225, 3]\n",
      "2022-12-30 16:22:33,033 - clearml - WARNING - Error: cannot reshape array of size 1 into shape (225,700,newaxis)\n",
      "2022-12-30 16:22:33,097 - clearml - WARNING - Failed decoding debug image [700, 225, 3]\n",
      "2022-12-30 16:22:33,099 - clearml - WARNING - Error: cannot reshape array of size 1 into shape (225,700,newaxis)\n",
      "2022-12-30 16:22:33,268 - clearml - WARNING - Failed decoding debug image [640, 480, 3]\n",
      "2022-12-30 16:22:33,270 - clearml - WARNING - Error: cannot reshape array of size 1 into shape (480,640,newaxis)\n",
      "2022-12-30 16:22:33,453 - clearml - WARNING - Failed decoding debug image [640, 480, 3]\n",
      "2022-12-30 16:22:33,455 - clearml - WARNING - Error: cannot reshape array of size 1 into shape (480,640,newaxis)\n"
     ]
    },
    {
     "data": {
      "text/plain": "Validation: 0it [00:00, ?it/s]",
      "application/vnd.jupyter.widget-view+json": {
       "version_major": 2,
       "version_minor": 0,
       "model_id": "b0f8400883f34c28bb1c9c963707505a"
      }
     },
     "metadata": {},
     "output_type": "display_data"
    },
    {
     "name": "stdout",
     "output_type": "stream",
     "text": [
      "2022-12-30 16:22:35,276 - clearml - WARNING - Failed decoding debug image [640, 480, 3]\n",
      "2022-12-30 16:22:35,278 - clearml - WARNING - Error: cannot reshape array of size 1 into shape (480,640,newaxis)\n",
      "2022-12-30 16:22:36,353 - clearml - WARNING - Failed decoding debug image [640, 480, 3]\n",
      "2022-12-30 16:22:36,354 - clearml - WARNING - Error: cannot reshape array of size 1 into shape (480,640,newaxis)\n",
      "2022-12-30 16:22:37,395 - clearml - WARNING - Failed decoding debug image [640, 480, 3]\n",
      "2022-12-30 16:22:37,396 - clearml - WARNING - Error: cannot reshape array of size 1 into shape (480,640,newaxis)\n",
      "2022-12-30 16:22:38,577 - clearml - WARNING - Failed decoding debug image [640, 480, 3]\n",
      "2022-12-30 16:22:38,579 - clearml - WARNING - Error: cannot reshape array of size 1 into shape (480,640,newaxis)\n",
      "2022-12-30 16:22:39,675 - clearml - WARNING - Failed decoding debug image [640, 480, 3]\n",
      "2022-12-30 16:22:39,676 - clearml - WARNING - Error: cannot reshape array of size 1 into shape (480,640,newaxis)\n",
      "2022-12-30 16:22:40,749 - clearml - WARNING - Failed decoding debug image [640, 480, 3]\n",
      "2022-12-30 16:22:40,751 - clearml - WARNING - Error: cannot reshape array of size 1 into shape (480,640,newaxis)\n",
      "2022-12-30 16:22:41,782 - clearml - WARNING - Failed decoding debug image [640, 480, 3]\n",
      "2022-12-30 16:22:41,784 - clearml - WARNING - Error: cannot reshape array of size 1 into shape (480,640,newaxis)\n",
      "2022-12-30 16:22:42,904 - clearml - WARNING - Failed decoding debug image [640, 480, 3]\n",
      "2022-12-30 16:22:42,906 - clearml - WARNING - Error: cannot reshape array of size 1 into shape (480,640,newaxis)\n",
      "2022-12-30 16:22:44,019 - clearml - WARNING - Failed decoding debug image [640, 480, 3]\n",
      "2022-12-30 16:22:44,020 - clearml - WARNING - Error: cannot reshape array of size 1 into shape (480,640,newaxis)\n",
      "2022-12-30 16:22:45,085 - clearml - WARNING - Failed decoding debug image [640, 480, 3]\n",
      "2022-12-30 16:22:45,087 - clearml - WARNING - Error: cannot reshape array of size 1 into shape (480,640,newaxis)\n",
      "2022-12-30 16:22:46,099 - clearml - WARNING - Failed decoding debug image [640, 480, 3]\n",
      "2022-12-30 16:22:46,100 - clearml - WARNING - Error: cannot reshape array of size 1 into shape (480,640,newaxis)\n",
      "2022-12-30 16:22:46,513 - clearml - WARNING - Failed decoding debug image [640, 480, 3]\n",
      "2022-12-30 16:22:46,515 - clearml - WARNING - Error: cannot reshape array of size 1 into shape (480,640,newaxis)\n",
      "2022-12-30 16:22:46,573 - clearml - WARNING - Failed decoding debug image [700, 225, 3]\n",
      "2022-12-30 16:22:46,575 - clearml - WARNING - Error: cannot reshape array of size 1 into shape (225,700,newaxis)\n",
      "2022-12-30 16:22:46,628 - clearml - WARNING - Failed decoding debug image [700, 225, 3]\n",
      "2022-12-30 16:22:46,629 - clearml - WARNING - Error: cannot reshape array of size 1 into shape (225,700,newaxis)\n",
      "2022-12-30 16:22:46,684 - clearml - WARNING - Failed decoding debug image [700, 225, 3]\n",
      "2022-12-30 16:22:46,686 - clearml - WARNING - Error: cannot reshape array of size 1 into shape (225,700,newaxis)\n",
      "2022-12-30 16:22:46,816 - clearml - WARNING - Failed decoding debug image [640, 480, 3]\n",
      "2022-12-30 16:22:46,818 - clearml - WARNING - Error: cannot reshape array of size 1 into shape (480,640,newaxis)\n",
      "2022-12-30 16:22:46,954 - clearml - WARNING - Failed decoding debug image [640, 480, 3]\n",
      "2022-12-30 16:22:46,956 - clearml - WARNING - Error: cannot reshape array of size 1 into shape (480,640,newaxis)\n"
     ]
    },
    {
     "data": {
      "text/plain": "Validation: 0it [00:00, ?it/s]",
      "application/vnd.jupyter.widget-view+json": {
       "version_major": 2,
       "version_minor": 0,
       "model_id": "140c6f9a6fde40f9a5786a2a499d937d"
      }
     },
     "metadata": {},
     "output_type": "display_data"
    },
    {
     "name": "stdout",
     "output_type": "stream",
     "text": [
      "2022-12-30 16:22:48,577 - clearml - WARNING - Failed decoding debug image [640, 480, 3]\n",
      "2022-12-30 16:22:48,579 - clearml - WARNING - Error: cannot reshape array of size 1 into shape (480,640,newaxis)\n",
      "2022-12-30 16:22:49,727 - clearml - WARNING - Failed decoding debug image [640, 480, 3]\n",
      "2022-12-30 16:22:49,728 - clearml - WARNING - Error: cannot reshape array of size 1 into shape (480,640,newaxis)\n",
      "2022-12-30 16:22:50,815 - clearml - WARNING - Failed decoding debug image [640, 480, 3]\n",
      "2022-12-30 16:22:50,816 - clearml - WARNING - Error: cannot reshape array of size 1 into shape (480,640,newaxis)\n",
      "2022-12-30 16:22:51,879 - clearml - WARNING - Failed decoding debug image [640, 480, 3]\n",
      "2022-12-30 16:22:51,881 - clearml - WARNING - Error: cannot reshape array of size 1 into shape (480,640,newaxis)\n",
      "2022-12-30 16:22:52,949 - clearml - WARNING - Failed decoding debug image [640, 480, 3]\n",
      "2022-12-30 16:22:52,951 - clearml - WARNING - Error: cannot reshape array of size 1 into shape (480,640,newaxis)\n",
      "2022-12-30 16:22:54,006 - clearml - WARNING - Failed decoding debug image [640, 480, 3]\n",
      "2022-12-30 16:22:54,008 - clearml - WARNING - Error: cannot reshape array of size 1 into shape (480,640,newaxis)\n",
      "2022-12-30 16:22:55,054 - clearml - WARNING - Failed decoding debug image [640, 480, 3]\n",
      "2022-12-30 16:22:55,056 - clearml - WARNING - Error: cannot reshape array of size 1 into shape (480,640,newaxis)\n",
      "2022-12-30 16:22:56,124 - clearml - WARNING - Failed decoding debug image [640, 480, 3]\n",
      "2022-12-30 16:22:56,125 - clearml - WARNING - Error: cannot reshape array of size 1 into shape (480,640,newaxis)\n",
      "2022-12-30 16:22:57,241 - clearml - WARNING - Failed decoding debug image [640, 480, 3]\n",
      "2022-12-30 16:22:57,243 - clearml - WARNING - Error: cannot reshape array of size 1 into shape (480,640,newaxis)\n",
      "2022-12-30 16:22:58,237 - clearml - WARNING - Failed decoding debug image [640, 480, 3]\n",
      "2022-12-30 16:22:58,239 - clearml - WARNING - Error: cannot reshape array of size 1 into shape (480,640,newaxis)\n",
      "2022-12-30 16:22:59,297 - clearml - WARNING - Failed decoding debug image [640, 480, 3]\n",
      "2022-12-30 16:22:59,298 - clearml - WARNING - Error: cannot reshape array of size 1 into shape (480,640,newaxis)\n",
      "2022-12-30 16:22:59,680 - clearml - WARNING - Failed decoding debug image [640, 480, 3]\n",
      "2022-12-30 16:22:59,681 - clearml - WARNING - Error: cannot reshape array of size 1 into shape (480,640,newaxis)\n",
      "2022-12-30 16:22:59,760 - clearml - WARNING - Failed decoding debug image [700, 225, 3]\n",
      "2022-12-30 16:22:59,761 - clearml - WARNING - Error: cannot reshape array of size 1 into shape (225,700,newaxis)\n",
      "2022-12-30 16:22:59,816 - clearml - WARNING - Failed decoding debug image [700, 225, 3]\n",
      "2022-12-30 16:22:59,817 - clearml - WARNING - Error: cannot reshape array of size 1 into shape (225,700,newaxis)\n",
      "2022-12-30 16:22:59,873 - clearml - WARNING - Failed decoding debug image [700, 225, 3]\n",
      "2022-12-30 16:22:59,874 - clearml - WARNING - Error: cannot reshape array of size 1 into shape (225,700,newaxis)\n",
      "2022-12-30 16:22:59,992 - clearml - WARNING - Failed decoding debug image [640, 480, 3]\n",
      "2022-12-30 16:22:59,994 - clearml - WARNING - Error: cannot reshape array of size 1 into shape (480,640,newaxis)\n",
      "2022-12-30 16:23:00,126 - clearml - WARNING - Failed decoding debug image [640, 480, 3]\n",
      "2022-12-30 16:23:00,128 - clearml - WARNING - Error: cannot reshape array of size 1 into shape (480,640,newaxis)\n"
     ]
    },
    {
     "data": {
      "text/plain": "Validation: 0it [00:00, ?it/s]",
      "application/vnd.jupyter.widget-view+json": {
       "version_major": 2,
       "version_minor": 0,
       "model_id": "ea39dac6cb274c94b19188669bf4b05f"
      }
     },
     "metadata": {},
     "output_type": "display_data"
    },
    {
     "name": "stdout",
     "output_type": "stream",
     "text": [
      "2022-12-30 16:23:01,786 - clearml - WARNING - Failed decoding debug image [640, 480, 3]\n",
      "2022-12-30 16:23:01,789 - clearml - WARNING - Error: cannot reshape array of size 1 into shape (480,640,newaxis)\n",
      "2022-12-30 16:23:02,892 - clearml - WARNING - Failed decoding debug image [640, 480, 3]\n",
      "2022-12-30 16:23:02,894 - clearml - WARNING - Error: cannot reshape array of size 1 into shape (480,640,newaxis)\n",
      "2022-12-30 16:23:03,985 - clearml - WARNING - Failed decoding debug image [640, 480, 3]\n",
      "2022-12-30 16:23:03,987 - clearml - WARNING - Error: cannot reshape array of size 1 into shape (480,640,newaxis)\n",
      "2022-12-30 16:23:05,106 - clearml - WARNING - Failed decoding debug image [640, 480, 3]\n",
      "2022-12-30 16:23:05,108 - clearml - WARNING - Error: cannot reshape array of size 1 into shape (480,640,newaxis)\n",
      "2022-12-30 16:23:06,438 - clearml - WARNING - Failed decoding debug image [640, 480, 3]\n",
      "2022-12-30 16:23:06,440 - clearml - WARNING - Error: cannot reshape array of size 1 into shape (480,640,newaxis)\n",
      "2022-12-30 16:23:07,546 - clearml - WARNING - Failed decoding debug image [640, 480, 3]\n",
      "2022-12-30 16:23:07,548 - clearml - WARNING - Error: cannot reshape array of size 1 into shape (480,640,newaxis)\n",
      "2022-12-30 16:23:08,631 - clearml - WARNING - Failed decoding debug image [640, 480, 3]\n",
      "2022-12-30 16:23:08,633 - clearml - WARNING - Error: cannot reshape array of size 1 into shape (480,640,newaxis)\n",
      "2022-12-30 16:23:09,681 - clearml - WARNING - Failed decoding debug image [640, 480, 3]\n",
      "2022-12-30 16:23:09,682 - clearml - WARNING - Error: cannot reshape array of size 1 into shape (480,640,newaxis)\n",
      "2022-12-30 16:23:10,761 - clearml - WARNING - Failed decoding debug image [640, 480, 3]\n",
      "2022-12-30 16:23:10,763 - clearml - WARNING - Error: cannot reshape array of size 1 into shape (480,640,newaxis)\n",
      "2022-12-30 16:23:11,850 - clearml - WARNING - Failed decoding debug image [640, 480, 3]\n",
      "2022-12-30 16:23:11,852 - clearml - WARNING - Error: cannot reshape array of size 1 into shape (480,640,newaxis)\n",
      "2022-12-30 16:23:12,902 - clearml - WARNING - Failed decoding debug image [640, 480, 3]\n",
      "2022-12-30 16:23:12,904 - clearml - WARNING - Error: cannot reshape array of size 1 into shape (480,640,newaxis)\n",
      "2022-12-30 16:23:13,281 - clearml - WARNING - Failed decoding debug image [640, 480, 3]\n",
      "2022-12-30 16:23:13,284 - clearml - WARNING - Error: cannot reshape array of size 1 into shape (480,640,newaxis)\n",
      "2022-12-30 16:23:13,352 - clearml - WARNING - Failed decoding debug image [700, 225, 3]\n",
      "2022-12-30 16:23:13,354 - clearml - WARNING - Error: cannot reshape array of size 1 into shape (225,700,newaxis)\n",
      "2022-12-30 16:23:13,419 - clearml - WARNING - Failed decoding debug image [700, 225, 3]\n",
      "2022-12-30 16:23:13,420 - clearml - WARNING - Error: cannot reshape array of size 1 into shape (225,700,newaxis)\n",
      "2022-12-30 16:23:13,473 - clearml - WARNING - Failed decoding debug image [700, 225, 3]\n",
      "2022-12-30 16:23:13,474 - clearml - WARNING - Error: cannot reshape array of size 1 into shape (225,700,newaxis)\n",
      "2022-12-30 16:23:13,581 - clearml - WARNING - Failed decoding debug image [640, 480, 3]\n",
      "2022-12-30 16:23:13,582 - clearml - WARNING - Error: cannot reshape array of size 1 into shape (480,640,newaxis)\n",
      "2022-12-30 16:23:13,765 - clearml - WARNING - Failed decoding debug image [640, 480, 3]\n",
      "2022-12-30 16:23:13,767 - clearml - WARNING - Error: cannot reshape array of size 1 into shape (480,640,newaxis)\n"
     ]
    },
    {
     "data": {
      "text/plain": "Validation: 0it [00:00, ?it/s]",
      "application/vnd.jupyter.widget-view+json": {
       "version_major": 2,
       "version_minor": 0,
       "model_id": "d4df2618abe94a5181c305a7f2fed227"
      }
     },
     "metadata": {},
     "output_type": "display_data"
    },
    {
     "name": "stdout",
     "output_type": "stream",
     "text": [
      "2022-12-30 16:23:15,344 - clearml - WARNING - Failed decoding debug image [640, 480, 3]\n",
      "2022-12-30 16:23:15,345 - clearml - WARNING - Error: cannot reshape array of size 1 into shape (480,640,newaxis)\n",
      "2022-12-30 16:23:16,472 - clearml - WARNING - Failed decoding debug image [640, 480, 3]\n",
      "2022-12-30 16:23:16,474 - clearml - WARNING - Error: cannot reshape array of size 1 into shape (480,640,newaxis)\n",
      "2022-12-30 16:23:17,555 - clearml - WARNING - Failed decoding debug image [640, 480, 3]\n",
      "2022-12-30 16:23:17,557 - clearml - WARNING - Error: cannot reshape array of size 1 into shape (480,640,newaxis)\n",
      "2022-12-30 16:23:18,698 - clearml - WARNING - Failed decoding debug image [640, 480, 3]\n",
      "2022-12-30 16:23:18,699 - clearml - WARNING - Error: cannot reshape array of size 1 into shape (480,640,newaxis)\n",
      "2022-12-30 16:23:19,765 - clearml - WARNING - Failed decoding debug image [640, 480, 3]\n",
      "2022-12-30 16:23:19,767 - clearml - WARNING - Error: cannot reshape array of size 1 into shape (480,640,newaxis)\n",
      "2022-12-30 16:23:20,857 - clearml - WARNING - Failed decoding debug image [640, 480, 3]\n",
      "2022-12-30 16:23:20,859 - clearml - WARNING - Error: cannot reshape array of size 1 into shape (480,640,newaxis)\n",
      "2022-12-30 16:23:21,938 - clearml - WARNING - Failed decoding debug image [640, 480, 3]\n",
      "2022-12-30 16:23:21,940 - clearml - WARNING - Error: cannot reshape array of size 1 into shape (480,640,newaxis)\n",
      "2022-12-30 16:23:23,043 - clearml - WARNING - Failed decoding debug image [640, 480, 3]\n",
      "2022-12-30 16:23:23,044 - clearml - WARNING - Error: cannot reshape array of size 1 into shape (480,640,newaxis)\n",
      "2022-12-30 16:23:24,227 - clearml - WARNING - Failed decoding debug image [640, 480, 3]\n",
      "2022-12-30 16:23:24,230 - clearml - WARNING - Error: cannot reshape array of size 1 into shape (480,640,newaxis)\n",
      "2022-12-30 16:23:25,323 - clearml - WARNING - Failed decoding debug image [640, 480, 3]\n",
      "2022-12-30 16:23:25,325 - clearml - WARNING - Error: cannot reshape array of size 1 into shape (480,640,newaxis)\n",
      "2022-12-30 16:23:26,412 - clearml - WARNING - Failed decoding debug image [640, 480, 3]\n",
      "2022-12-30 16:23:26,414 - clearml - WARNING - Error: cannot reshape array of size 1 into shape (480,640,newaxis)\n",
      "2022-12-30 16:23:26,910 - clearml - WARNING - Failed decoding debug image [640, 480, 3]\n",
      "2022-12-30 16:23:26,912 - clearml - WARNING - Error: cannot reshape array of size 1 into shape (480,640,newaxis)\n",
      "2022-12-30 16:23:26,975 - clearml - WARNING - Failed decoding debug image [700, 225, 3]\n",
      "2022-12-30 16:23:26,976 - clearml - WARNING - Error: cannot reshape array of size 1 into shape (225,700,newaxis)\n",
      "2022-12-30 16:23:27,030 - clearml - WARNING - Failed decoding debug image [700, 225, 3]\n",
      "2022-12-30 16:23:27,031 - clearml - WARNING - Error: cannot reshape array of size 1 into shape (225,700,newaxis)\n",
      "2022-12-30 16:23:27,085 - clearml - WARNING - Failed decoding debug image [700, 225, 3]\n",
      "2022-12-30 16:23:27,087 - clearml - WARNING - Error: cannot reshape array of size 1 into shape (225,700,newaxis)\n",
      "2022-12-30 16:23:27,207 - clearml - WARNING - Failed decoding debug image [640, 480, 3]\n",
      "2022-12-30 16:23:27,209 - clearml - WARNING - Error: cannot reshape array of size 1 into shape (480,640,newaxis)\n",
      "2022-12-30 16:23:27,358 - clearml - WARNING - Failed decoding debug image [640, 480, 3]\n",
      "2022-12-30 16:23:27,359 - clearml - WARNING - Error: cannot reshape array of size 1 into shape (480,640,newaxis)\n"
     ]
    },
    {
     "data": {
      "text/plain": "Validation: 0it [00:00, ?it/s]",
      "application/vnd.jupyter.widget-view+json": {
       "version_major": 2,
       "version_minor": 0,
       "model_id": "9c42f10b45da4470a7a6c452ad62c466"
      }
     },
     "metadata": {},
     "output_type": "display_data"
    },
    {
     "name": "stdout",
     "output_type": "stream",
     "text": [
      "2022-12-30 16:23:28,984 - clearml - WARNING - Failed decoding debug image [640, 480, 3]\n",
      "2022-12-30 16:23:28,985 - clearml - WARNING - Error: cannot reshape array of size 1 into shape (480,640,newaxis)\n",
      "2022-12-30 16:23:30,248 - clearml - WARNING - Failed decoding debug image [640, 480, 3]\n",
      "2022-12-30 16:23:30,250 - clearml - WARNING - Error: cannot reshape array of size 1 into shape (480,640,newaxis)\n",
      "2022-12-30 16:23:31,404 - clearml - WARNING - Failed decoding debug image [640, 480, 3]\n",
      "2022-12-30 16:23:31,407 - clearml - WARNING - Error: cannot reshape array of size 1 into shape (480,640,newaxis)\n",
      "2022-12-30 16:23:32,648 - clearml - WARNING - Failed decoding debug image [640, 480, 3]\n",
      "2022-12-30 16:23:32,650 - clearml - WARNING - Error: cannot reshape array of size 1 into shape (480,640,newaxis)\n",
      "2022-12-30 16:23:33,734 - clearml - WARNING - Failed decoding debug image [640, 480, 3]\n",
      "2022-12-30 16:23:33,736 - clearml - WARNING - Error: cannot reshape array of size 1 into shape (480,640,newaxis)\n",
      "2022-12-30 16:23:34,774 - clearml - WARNING - Failed decoding debug image [640, 480, 3]\n",
      "2022-12-30 16:23:34,776 - clearml - WARNING - Error: cannot reshape array of size 1 into shape (480,640,newaxis)\n",
      "2022-12-30 16:23:35,902 - clearml - WARNING - Failed decoding debug image [640, 480, 3]\n",
      "2022-12-30 16:23:35,904 - clearml - WARNING - Error: cannot reshape array of size 1 into shape (480,640,newaxis)\n",
      "2022-12-30 16:23:37,006 - clearml - WARNING - Failed decoding debug image [640, 480, 3]\n",
      "2022-12-30 16:23:37,008 - clearml - WARNING - Error: cannot reshape array of size 1 into shape (480,640,newaxis)\n",
      "2022-12-30 16:23:38,090 - clearml - WARNING - Failed decoding debug image [640, 480, 3]\n",
      "2022-12-30 16:23:38,092 - clearml - WARNING - Error: cannot reshape array of size 1 into shape (480,640,newaxis)\n",
      "2022-12-30 16:23:39,191 - clearml - WARNING - Failed decoding debug image [640, 480, 3]\n",
      "2022-12-30 16:23:39,193 - clearml - WARNING - Error: cannot reshape array of size 1 into shape (480,640,newaxis)\n",
      "2022-12-30 16:23:40,288 - clearml - WARNING - Failed decoding debug image [640, 480, 3]\n",
      "2022-12-30 16:23:40,290 - clearml - WARNING - Error: cannot reshape array of size 1 into shape (480,640,newaxis)\n",
      "2022-12-30 16:23:40,705 - clearml - WARNING - Failed decoding debug image [640, 480, 3]\n",
      "2022-12-30 16:23:40,707 - clearml - WARNING - Error: cannot reshape array of size 1 into shape (480,640,newaxis)\n",
      "2022-12-30 16:23:40,790 - clearml - WARNING - Failed decoding debug image [700, 225, 3]\n",
      "2022-12-30 16:23:40,791 - clearml - WARNING - Error: cannot reshape array of size 1 into shape (225,700,newaxis)\n",
      "2022-12-30 16:23:40,846 - clearml - WARNING - Failed decoding debug image [700, 225, 3]\n",
      "2022-12-30 16:23:40,848 - clearml - WARNING - Error: cannot reshape array of size 1 into shape (225,700,newaxis)\n",
      "2022-12-30 16:23:40,908 - clearml - WARNING - Failed decoding debug image [700, 225, 3]\n",
      "2022-12-30 16:23:40,910 - clearml - WARNING - Error: cannot reshape array of size 1 into shape (225,700,newaxis)\n",
      "2022-12-30 16:23:41,016 - clearml - WARNING - Failed decoding debug image [640, 480, 3]\n",
      "2022-12-30 16:23:41,018 - clearml - WARNING - Error: cannot reshape array of size 1 into shape (480,640,newaxis)\n",
      "2022-12-30 16:23:41,157 - clearml - WARNING - Failed decoding debug image [640, 480, 3]\n",
      "2022-12-30 16:23:41,159 - clearml - WARNING - Error: cannot reshape array of size 1 into shape (480,640,newaxis)\n"
     ]
    },
    {
     "data": {
      "text/plain": "Validation: 0it [00:00, ?it/s]",
      "application/vnd.jupyter.widget-view+json": {
       "version_major": 2,
       "version_minor": 0,
       "model_id": "c054faeb1b414c61a0f9aa18a1666f0a"
      }
     },
     "metadata": {},
     "output_type": "display_data"
    },
    {
     "name": "stdout",
     "output_type": "stream",
     "text": [
      "2022-12-30 16:23:42,766 - clearml - WARNING - Failed decoding debug image [640, 480, 3]\n",
      "2022-12-30 16:23:42,769 - clearml - WARNING - Error: cannot reshape array of size 1 into shape (480,640,newaxis)\n",
      "2022-12-30 16:23:43,924 - clearml - WARNING - Failed decoding debug image [640, 480, 3]\n",
      "2022-12-30 16:23:43,926 - clearml - WARNING - Error: cannot reshape array of size 1 into shape (480,640,newaxis)\n",
      "2022-12-30 16:23:44,981 - clearml - WARNING - Failed decoding debug image [640, 480, 3]\n",
      "2022-12-30 16:23:44,983 - clearml - WARNING - Error: cannot reshape array of size 1 into shape (480,640,newaxis)\n",
      "2022-12-30 16:23:46,200 - clearml - WARNING - Failed decoding debug image [640, 480, 3]\n",
      "2022-12-30 16:23:46,202 - clearml - WARNING - Error: cannot reshape array of size 1 into shape (480,640,newaxis)\n",
      "2022-12-30 16:23:47,351 - clearml - WARNING - Failed decoding debug image [640, 480, 3]\n",
      "2022-12-30 16:23:47,353 - clearml - WARNING - Error: cannot reshape array of size 1 into shape (480,640,newaxis)\n",
      "2022-12-30 16:23:48,469 - clearml - WARNING - Failed decoding debug image [640, 480, 3]\n",
      "2022-12-30 16:23:48,471 - clearml - WARNING - Error: cannot reshape array of size 1 into shape (480,640,newaxis)\n",
      "2022-12-30 16:23:49,613 - clearml - WARNING - Failed decoding debug image [640, 480, 3]\n",
      "2022-12-30 16:23:49,615 - clearml - WARNING - Error: cannot reshape array of size 1 into shape (480,640,newaxis)\n",
      "2022-12-30 16:23:50,738 - clearml - WARNING - Failed decoding debug image [640, 480, 3]\n",
      "2022-12-30 16:23:50,740 - clearml - WARNING - Error: cannot reshape array of size 1 into shape (480,640,newaxis)\n",
      "2022-12-30 16:23:51,783 - clearml - WARNING - Failed decoding debug image [640, 480, 3]\n",
      "2022-12-30 16:23:51,785 - clearml - WARNING - Error: cannot reshape array of size 1 into shape (480,640,newaxis)\n",
      "2022-12-30 16:23:52,781 - clearml - WARNING - Failed decoding debug image [640, 480, 3]\n",
      "2022-12-30 16:23:52,782 - clearml - WARNING - Error: cannot reshape array of size 1 into shape (480,640,newaxis)\n",
      "2022-12-30 16:23:53,858 - clearml - WARNING - Failed decoding debug image [640, 480, 3]\n",
      "2022-12-30 16:23:53,860 - clearml - WARNING - Error: cannot reshape array of size 1 into shape (480,640,newaxis)\n",
      "2022-12-30 16:23:54,340 - clearml - WARNING - Failed decoding debug image [640, 480, 3]\n",
      "2022-12-30 16:23:54,341 - clearml - WARNING - Error: cannot reshape array of size 1 into shape (480,640,newaxis)\n",
      "2022-12-30 16:23:54,417 - clearml - WARNING - Failed decoding debug image [700, 225, 3]\n",
      "2022-12-30 16:23:54,419 - clearml - WARNING - Error: cannot reshape array of size 1 into shape (225,700,newaxis)\n",
      "2022-12-30 16:23:54,485 - clearml - WARNING - Failed decoding debug image [700, 225, 3]\n",
      "2022-12-30 16:23:54,487 - clearml - WARNING - Error: cannot reshape array of size 1 into shape (225,700,newaxis)\n",
      "2022-12-30 16:23:54,537 - clearml - WARNING - Failed decoding debug image [700, 225, 3]\n",
      "2022-12-30 16:23:54,538 - clearml - WARNING - Error: cannot reshape array of size 1 into shape (225,700,newaxis)\n",
      "2022-12-30 16:23:54,654 - clearml - WARNING - Failed decoding debug image [640, 480, 3]\n",
      "2022-12-30 16:23:54,655 - clearml - WARNING - Error: cannot reshape array of size 1 into shape (480,640,newaxis)\n",
      "2022-12-30 16:23:54,838 - clearml - WARNING - Failed decoding debug image [640, 480, 3]\n",
      "2022-12-30 16:23:54,840 - clearml - WARNING - Error: cannot reshape array of size 1 into shape (480,640,newaxis)\n"
     ]
    },
    {
     "data": {
      "text/plain": "Validation: 0it [00:00, ?it/s]",
      "application/vnd.jupyter.widget-view+json": {
       "version_major": 2,
       "version_minor": 0,
       "model_id": "f32fe8bac9a248eba4e4991779d1982d"
      }
     },
     "metadata": {},
     "output_type": "display_data"
    },
    {
     "name": "stdout",
     "output_type": "stream",
     "text": [
      "2022-12-30 16:23:56,619 - clearml - WARNING - Failed decoding debug image [640, 480, 3]\n",
      "2022-12-30 16:23:56,620 - clearml - WARNING - Error: cannot reshape array of size 1 into shape (480,640,newaxis)\n",
      "2022-12-30 16:23:57,939 - clearml - WARNING - Failed decoding debug image [640, 480, 3]\n",
      "2022-12-30 16:23:57,941 - clearml - WARNING - Error: cannot reshape array of size 1 into shape (480,640,newaxis)\n",
      "2022-12-30 16:23:59,183 - clearml - WARNING - Failed decoding debug image [640, 480, 3]\n",
      "2022-12-30 16:23:59,185 - clearml - WARNING - Error: cannot reshape array of size 1 into shape (480,640,newaxis)\n",
      "2022-12-30 16:24:00,486 - clearml - WARNING - Failed decoding debug image [640, 480, 3]\n",
      "2022-12-30 16:24:00,488 - clearml - WARNING - Error: cannot reshape array of size 1 into shape (480,640,newaxis)\n",
      "2022-12-30 16:24:01,884 - clearml - WARNING - Failed decoding debug image [640, 480, 3]\n",
      "2022-12-30 16:24:01,886 - clearml - WARNING - Error: cannot reshape array of size 1 into shape (480,640,newaxis)\n",
      "2022-12-30 16:24:03,305 - clearml - WARNING - Failed decoding debug image [640, 480, 3]\n",
      "2022-12-30 16:24:03,306 - clearml - WARNING - Error: cannot reshape array of size 1 into shape (480,640,newaxis)\n",
      "2022-12-30 16:24:04,423 - clearml - WARNING - Failed decoding debug image [640, 480, 3]\n",
      "2022-12-30 16:24:04,424 - clearml - WARNING - Error: cannot reshape array of size 1 into shape (480,640,newaxis)\n",
      "2022-12-30 16:24:05,520 - clearml - WARNING - Failed decoding debug image [640, 480, 3]\n",
      "2022-12-30 16:24:05,522 - clearml - WARNING - Error: cannot reshape array of size 1 into shape (480,640,newaxis)\n",
      "2022-12-30 16:24:06,664 - clearml - WARNING - Failed decoding debug image [640, 480, 3]\n",
      "2022-12-30 16:24:06,666 - clearml - WARNING - Error: cannot reshape array of size 1 into shape (480,640,newaxis)\n",
      "2022-12-30 16:24:09,696 - clearml - WARNING - Failed decoding debug image [640, 480, 3]\n",
      "2022-12-30 16:24:09,698 - clearml - WARNING - Error: cannot reshape array of size 1 into shape (480,640,newaxis)\n",
      "2022-12-30 16:24:10,780 - clearml - WARNING - Failed decoding debug image [640, 480, 3]\n",
      "2022-12-30 16:24:10,781 - clearml - WARNING - Error: cannot reshape array of size 1 into shape (480,640,newaxis)\n",
      "2022-12-30 16:24:11,187 - clearml - WARNING - Failed decoding debug image [640, 480, 3]\n",
      "2022-12-30 16:24:11,189 - clearml - WARNING - Error: cannot reshape array of size 1 into shape (480,640,newaxis)\n",
      "2022-12-30 16:24:11,265 - clearml - WARNING - Failed decoding debug image [700, 225, 3]\n",
      "2022-12-30 16:24:11,266 - clearml - WARNING - Error: cannot reshape array of size 1 into shape (225,700,newaxis)\n",
      "2022-12-30 16:24:11,319 - clearml - WARNING - Failed decoding debug image [700, 225, 3]\n",
      "2022-12-30 16:24:11,320 - clearml - WARNING - Error: cannot reshape array of size 1 into shape (225,700,newaxis)\n",
      "2022-12-30 16:24:11,372 - clearml - WARNING - Failed decoding debug image [700, 225, 3]\n",
      "2022-12-30 16:24:11,374 - clearml - WARNING - Error: cannot reshape array of size 1 into shape (225,700,newaxis)\n",
      "2022-12-30 16:24:11,513 - clearml - WARNING - Failed decoding debug image [640, 480, 3]\n",
      "2022-12-30 16:24:11,515 - clearml - WARNING - Error: cannot reshape array of size 1 into shape (480,640,newaxis)\n",
      "2022-12-30 16:24:11,656 - clearml - WARNING - Failed decoding debug image [640, 480, 3]\n",
      "2022-12-30 16:24:11,658 - clearml - WARNING - Error: cannot reshape array of size 1 into shape (480,640,newaxis)\n"
     ]
    },
    {
     "data": {
      "text/plain": "Validation: 0it [00:00, ?it/s]",
      "application/vnd.jupyter.widget-view+json": {
       "version_major": 2,
       "version_minor": 0,
       "model_id": "1e684e485d224f35b9c4696cd687dc80"
      }
     },
     "metadata": {},
     "output_type": "display_data"
    },
    {
     "name": "stdout",
     "output_type": "stream",
     "text": [
      "2022-12-30 16:24:13,592 - clearml - WARNING - Failed decoding debug image [640, 480, 3]\n",
      "2022-12-30 16:24:13,594 - clearml - WARNING - Error: cannot reshape array of size 1 into shape (480,640,newaxis)\n",
      "2022-12-30 16:24:14,839 - clearml - WARNING - Failed decoding debug image [640, 480, 3]\n",
      "2022-12-30 16:24:14,841 - clearml - WARNING - Error: cannot reshape array of size 1 into shape (480,640,newaxis)\n",
      "2022-12-30 16:24:15,921 - clearml - WARNING - Failed decoding debug image [640, 480, 3]\n",
      "2022-12-30 16:24:15,923 - clearml - WARNING - Error: cannot reshape array of size 1 into shape (480,640,newaxis)\n",
      "2022-12-30 16:24:16,984 - clearml - WARNING - Failed decoding debug image [640, 480, 3]\n",
      "2022-12-30 16:24:16,985 - clearml - WARNING - Error: cannot reshape array of size 1 into shape (480,640,newaxis)\n",
      "2022-12-30 16:24:18,117 - clearml - WARNING - Failed decoding debug image [640, 480, 3]\n",
      "2022-12-30 16:24:18,118 - clearml - WARNING - Error: cannot reshape array of size 1 into shape (480,640,newaxis)\n",
      "2022-12-30 16:24:19,243 - clearml - WARNING - Failed decoding debug image [640, 480, 3]\n",
      "2022-12-30 16:24:19,244 - clearml - WARNING - Error: cannot reshape array of size 1 into shape (480,640,newaxis)\n",
      "2022-12-30 16:24:20,376 - clearml - WARNING - Failed decoding debug image [640, 480, 3]\n",
      "2022-12-30 16:24:20,379 - clearml - WARNING - Error: cannot reshape array of size 1 into shape (480,640,newaxis)\n",
      "2022-12-30 16:24:21,553 - clearml - WARNING - Failed decoding debug image [640, 480, 3]\n",
      "2022-12-30 16:24:21,555 - clearml - WARNING - Error: cannot reshape array of size 1 into shape (480,640,newaxis)\n",
      "2022-12-30 16:24:22,659 - clearml - WARNING - Failed decoding debug image [640, 480, 3]\n",
      "2022-12-30 16:24:22,660 - clearml - WARNING - Error: cannot reshape array of size 1 into shape (480,640,newaxis)\n",
      "2022-12-30 16:24:23,742 - clearml - WARNING - Failed decoding debug image [640, 480, 3]\n",
      "2022-12-30 16:24:23,743 - clearml - WARNING - Error: cannot reshape array of size 1 into shape (480,640,newaxis)\n",
      "2022-12-30 16:24:24,793 - clearml - WARNING - Failed decoding debug image [640, 480, 3]\n",
      "2022-12-30 16:24:24,794 - clearml - WARNING - Error: cannot reshape array of size 1 into shape (480,640,newaxis)\n",
      "2022-12-30 16:24:25,199 - clearml - WARNING - Failed decoding debug image [640, 480, 3]\n",
      "2022-12-30 16:24:25,200 - clearml - WARNING - Error: cannot reshape array of size 1 into shape (480,640,newaxis)\n",
      "2022-12-30 16:24:25,285 - clearml - WARNING - Failed decoding debug image [700, 225, 3]\n",
      "2022-12-30 16:24:25,286 - clearml - WARNING - Error: cannot reshape array of size 1 into shape (225,700,newaxis)\n",
      "2022-12-30 16:24:25,342 - clearml - WARNING - Failed decoding debug image [700, 225, 3]\n",
      "2022-12-30 16:24:25,343 - clearml - WARNING - Error: cannot reshape array of size 1 into shape (225,700,newaxis)\n",
      "2022-12-30 16:24:25,389 - clearml - WARNING - Failed decoding debug image [700, 225, 3]\n",
      "2022-12-30 16:24:25,390 - clearml - WARNING - Error: cannot reshape array of size 1 into shape (225,700,newaxis)\n",
      "2022-12-30 16:24:25,512 - clearml - WARNING - Failed decoding debug image [640, 480, 3]\n",
      "2022-12-30 16:24:25,513 - clearml - WARNING - Error: cannot reshape array of size 1 into shape (480,640,newaxis)\n",
      "2022-12-30 16:24:25,662 - clearml - WARNING - Failed decoding debug image [640, 480, 3]\n",
      "2022-12-30 16:24:25,664 - clearml - WARNING - Error: cannot reshape array of size 1 into shape (480,640,newaxis)\n"
     ]
    },
    {
     "data": {
      "text/plain": "Validation: 0it [00:00, ?it/s]",
      "application/vnd.jupyter.widget-view+json": {
       "version_major": 2,
       "version_minor": 0,
       "model_id": "af48c05f1bc14628b5be6e58ff8b2e27"
      }
     },
     "metadata": {},
     "output_type": "display_data"
    },
    {
     "name": "stdout",
     "output_type": "stream",
     "text": [
      "2022-12-30 16:24:27,325 - clearml - WARNING - Failed decoding debug image [640, 480, 3]\n",
      "2022-12-30 16:24:27,328 - clearml - WARNING - Error: cannot reshape array of size 1 into shape (480,640,newaxis)\n",
      "2022-12-30 16:24:28,456 - clearml - WARNING - Failed decoding debug image [640, 480, 3]\n",
      "2022-12-30 16:24:28,458 - clearml - WARNING - Error: cannot reshape array of size 1 into shape (480,640,newaxis)\n",
      "2022-12-30 16:24:29,540 - clearml - WARNING - Failed decoding debug image [640, 480, 3]\n",
      "2022-12-30 16:24:29,541 - clearml - WARNING - Error: cannot reshape array of size 1 into shape (480,640,newaxis)\n",
      "2022-12-30 16:24:30,631 - clearml - WARNING - Failed decoding debug image [640, 480, 3]\n",
      "2022-12-30 16:24:30,633 - clearml - WARNING - Error: cannot reshape array of size 1 into shape (480,640,newaxis)\n",
      "2022-12-30 16:24:31,711 - clearml - WARNING - Failed decoding debug image [640, 480, 3]\n",
      "2022-12-30 16:24:31,712 - clearml - WARNING - Error: cannot reshape array of size 1 into shape (480,640,newaxis)\n",
      "2022-12-30 16:24:32,825 - clearml - WARNING - Failed decoding debug image [640, 480, 3]\n",
      "2022-12-30 16:24:32,826 - clearml - WARNING - Error: cannot reshape array of size 1 into shape (480,640,newaxis)\n",
      "2022-12-30 16:24:33,946 - clearml - WARNING - Failed decoding debug image [640, 480, 3]\n",
      "2022-12-30 16:24:33,948 - clearml - WARNING - Error: cannot reshape array of size 1 into shape (480,640,newaxis)\n",
      "2022-12-30 16:24:35,080 - clearml - WARNING - Failed decoding debug image [640, 480, 3]\n",
      "2022-12-30 16:24:35,081 - clearml - WARNING - Error: cannot reshape array of size 1 into shape (480,640,newaxis)\n",
      "2022-12-30 16:24:36,191 - clearml - WARNING - Failed decoding debug image [640, 480, 3]\n",
      "2022-12-30 16:24:36,192 - clearml - WARNING - Error: cannot reshape array of size 1 into shape (480,640,newaxis)\n",
      "2022-12-30 16:24:37,261 - clearml - WARNING - Failed decoding debug image [640, 480, 3]\n",
      "2022-12-30 16:24:37,263 - clearml - WARNING - Error: cannot reshape array of size 1 into shape (480,640,newaxis)\n",
      "2022-12-30 16:24:38,294 - clearml - WARNING - Failed decoding debug image [640, 480, 3]\n",
      "2022-12-30 16:24:38,296 - clearml - WARNING - Error: cannot reshape array of size 1 into shape (480,640,newaxis)\n",
      "2022-12-30 16:24:38,729 - clearml - WARNING - Failed decoding debug image [640, 480, 3]\n",
      "2022-12-30 16:24:38,731 - clearml - WARNING - Error: cannot reshape array of size 1 into shape (480,640,newaxis)\n",
      "2022-12-30 16:24:38,809 - clearml - WARNING - Failed decoding debug image [700, 225, 3]\n",
      "2022-12-30 16:24:38,811 - clearml - WARNING - Error: cannot reshape array of size 1 into shape (225,700,newaxis)\n",
      "2022-12-30 16:24:38,864 - clearml - WARNING - Failed decoding debug image [700, 225, 3]\n",
      "2022-12-30 16:24:38,866 - clearml - WARNING - Error: cannot reshape array of size 1 into shape (225,700,newaxis)\n",
      "2022-12-30 16:24:38,917 - clearml - WARNING - Failed decoding debug image [700, 225, 3]\n",
      "2022-12-30 16:24:38,918 - clearml - WARNING - Error: cannot reshape array of size 1 into shape (225,700,newaxis)\n",
      "2022-12-30 16:24:39,024 - clearml - WARNING - Failed decoding debug image [640, 480, 3]\n",
      "2022-12-30 16:24:39,026 - clearml - WARNING - Error: cannot reshape array of size 1 into shape (480,640,newaxis)\n",
      "2022-12-30 16:24:39,144 - clearml - WARNING - Failed decoding debug image [640, 480, 3]\n",
      "2022-12-30 16:24:39,146 - clearml - WARNING - Error: cannot reshape array of size 1 into shape (480,640,newaxis)\n"
     ]
    },
    {
     "data": {
      "text/plain": "Validation: 0it [00:00, ?it/s]",
      "application/vnd.jupyter.widget-view+json": {
       "version_major": 2,
       "version_minor": 0,
       "model_id": "6d56c8e1a853463396fb934f5b672870"
      }
     },
     "metadata": {},
     "output_type": "display_data"
    },
    {
     "name": "stdout",
     "output_type": "stream",
     "text": [
      "2022-12-30 16:24:40,811 - clearml - WARNING - Failed decoding debug image [640, 480, 3]\n",
      "2022-12-30 16:24:40,813 - clearml - WARNING - Error: cannot reshape array of size 1 into shape (480,640,newaxis)\n",
      "2022-12-30 16:24:41,934 - clearml - WARNING - Failed decoding debug image [640, 480, 3]\n",
      "2022-12-30 16:24:41,936 - clearml - WARNING - Error: cannot reshape array of size 1 into shape (480,640,newaxis)\n",
      "2022-12-30 16:24:43,045 - clearml - WARNING - Failed decoding debug image [640, 480, 3]\n",
      "2022-12-30 16:24:43,047 - clearml - WARNING - Error: cannot reshape array of size 1 into shape (480,640,newaxis)\n",
      "2022-12-30 16:24:44,293 - clearml - WARNING - Failed decoding debug image [640, 480, 3]\n",
      "2022-12-30 16:24:44,294 - clearml - WARNING - Error: cannot reshape array of size 1 into shape (480,640,newaxis)\n",
      "2022-12-30 16:24:45,387 - clearml - WARNING - Failed decoding debug image [640, 480, 3]\n",
      "2022-12-30 16:24:45,389 - clearml - WARNING - Error: cannot reshape array of size 1 into shape (480,640,newaxis)\n",
      "2022-12-30 16:24:46,478 - clearml - WARNING - Failed decoding debug image [640, 480, 3]\n",
      "2022-12-30 16:24:46,480 - clearml - WARNING - Error: cannot reshape array of size 1 into shape (480,640,newaxis)\n",
      "2022-12-30 16:24:47,583 - clearml - WARNING - Failed decoding debug image [640, 480, 3]\n",
      "2022-12-30 16:24:47,585 - clearml - WARNING - Error: cannot reshape array of size 1 into shape (480,640,newaxis)\n",
      "2022-12-30 16:24:48,667 - clearml - WARNING - Failed decoding debug image [640, 480, 3]\n",
      "2022-12-30 16:24:48,669 - clearml - WARNING - Error: cannot reshape array of size 1 into shape (480,640,newaxis)\n",
      "2022-12-30 16:24:49,751 - clearml - WARNING - Failed decoding debug image [640, 480, 3]\n",
      "2022-12-30 16:24:49,753 - clearml - WARNING - Error: cannot reshape array of size 1 into shape (480,640,newaxis)\n",
      "2022-12-30 16:24:50,894 - clearml - WARNING - Failed decoding debug image [640, 480, 3]\n",
      "2022-12-30 16:24:50,895 - clearml - WARNING - Error: cannot reshape array of size 1 into shape (480,640,newaxis)\n",
      "2022-12-30 16:24:51,999 - clearml - WARNING - Failed decoding debug image [640, 480, 3]\n",
      "2022-12-30 16:24:52,001 - clearml - WARNING - Error: cannot reshape array of size 1 into shape (480,640,newaxis)\n",
      "2022-12-30 16:24:52,424 - clearml - WARNING - Failed decoding debug image [640, 480, 3]\n",
      "2022-12-30 16:24:52,425 - clearml - WARNING - Error: cannot reshape array of size 1 into shape (480,640,newaxis)\n",
      "2022-12-30 16:24:52,499 - clearml - WARNING - Failed decoding debug image [700, 225, 3]\n",
      "2022-12-30 16:24:52,500 - clearml - WARNING - Error: cannot reshape array of size 1 into shape (225,700,newaxis)\n",
      "2022-12-30 16:24:52,553 - clearml - WARNING - Failed decoding debug image [700, 225, 3]\n",
      "2022-12-30 16:24:52,554 - clearml - WARNING - Error: cannot reshape array of size 1 into shape (225,700,newaxis)\n",
      "2022-12-30 16:24:52,600 - clearml - WARNING - Failed decoding debug image [700, 225, 3]\n",
      "2022-12-30 16:24:52,602 - clearml - WARNING - Error: cannot reshape array of size 1 into shape (225,700,newaxis)\n",
      "2022-12-30 16:24:52,761 - clearml - WARNING - Failed decoding debug image [640, 480, 3]\n",
      "2022-12-30 16:24:52,762 - clearml - WARNING - Error: cannot reshape array of size 1 into shape (480,640,newaxis)\n",
      "2022-12-30 16:24:52,891 - clearml - WARNING - Failed decoding debug image [640, 480, 3]\n",
      "2022-12-30 16:24:52,892 - clearml - WARNING - Error: cannot reshape array of size 1 into shape (480,640,newaxis)\n"
     ]
    },
    {
     "data": {
      "text/plain": "Validation: 0it [00:00, ?it/s]",
      "application/vnd.jupyter.widget-view+json": {
       "version_major": 2,
       "version_minor": 0,
       "model_id": "c9434eb612ab4a2aba534ce6a22880cc"
      }
     },
     "metadata": {},
     "output_type": "display_data"
    },
    {
     "name": "stdout",
     "output_type": "stream",
     "text": [
      "2022-12-30 16:24:54,868 - clearml - WARNING - Failed decoding debug image [640, 480, 3]\n",
      "2022-12-30 16:24:54,870 - clearml - WARNING - Error: cannot reshape array of size 1 into shape (480,640,newaxis)\n",
      "2022-12-30 16:24:56,037 - clearml - WARNING - Failed decoding debug image [640, 480, 3]\n",
      "2022-12-30 16:24:56,039 - clearml - WARNING - Error: cannot reshape array of size 1 into shape (480,640,newaxis)\n",
      "2022-12-30 16:24:57,231 - clearml - WARNING - Failed decoding debug image [640, 480, 3]\n",
      "2022-12-30 16:24:57,233 - clearml - WARNING - Error: cannot reshape array of size 1 into shape (480,640,newaxis)\n",
      "2022-12-30 16:24:58,370 - clearml - WARNING - Failed decoding debug image [640, 480, 3]\n",
      "2022-12-30 16:24:58,372 - clearml - WARNING - Error: cannot reshape array of size 1 into shape (480,640,newaxis)\n",
      "2022-12-30 16:24:59,496 - clearml - WARNING - Failed decoding debug image [640, 480, 3]\n",
      "2022-12-30 16:24:59,498 - clearml - WARNING - Error: cannot reshape array of size 1 into shape (480,640,newaxis)\n",
      "2022-12-30 16:25:00,642 - clearml - WARNING - Failed decoding debug image [640, 480, 3]\n",
      "2022-12-30 16:25:00,644 - clearml - WARNING - Error: cannot reshape array of size 1 into shape (480,640,newaxis)\n",
      "2022-12-30 16:25:01,789 - clearml - WARNING - Failed decoding debug image [640, 480, 3]\n",
      "2022-12-30 16:25:01,791 - clearml - WARNING - Error: cannot reshape array of size 1 into shape (480,640,newaxis)\n",
      "2022-12-30 16:25:02,998 - clearml - WARNING - Failed decoding debug image [640, 480, 3]\n",
      "2022-12-30 16:25:03,000 - clearml - WARNING - Error: cannot reshape array of size 1 into shape (480,640,newaxis)\n",
      "2022-12-30 16:25:04,111 - clearml - WARNING - Failed decoding debug image [640, 480, 3]\n",
      "2022-12-30 16:25:04,112 - clearml - WARNING - Error: cannot reshape array of size 1 into shape (480,640,newaxis)\n",
      "2022-12-30 16:25:05,168 - clearml - WARNING - Failed decoding debug image [640, 480, 3]\n",
      "2022-12-30 16:25:05,170 - clearml - WARNING - Error: cannot reshape array of size 1 into shape (480,640,newaxis)\n",
      "2022-12-30 16:25:06,267 - clearml - WARNING - Failed decoding debug image [640, 480, 3]\n",
      "2022-12-30 16:25:06,268 - clearml - WARNING - Error: cannot reshape array of size 1 into shape (480,640,newaxis)\n",
      "2022-12-30 16:25:06,676 - clearml - WARNING - Failed decoding debug image [640, 480, 3]\n",
      "2022-12-30 16:25:06,677 - clearml - WARNING - Error: cannot reshape array of size 1 into shape (480,640,newaxis)\n",
      "2022-12-30 16:25:06,736 - clearml - WARNING - Failed decoding debug image [700, 225, 3]\n",
      "2022-12-30 16:25:06,737 - clearml - WARNING - Error: cannot reshape array of size 1 into shape (225,700,newaxis)\n",
      "2022-12-30 16:25:06,802 - clearml - WARNING - Failed decoding debug image [700, 225, 3]\n",
      "2022-12-30 16:25:06,804 - clearml - WARNING - Error: cannot reshape array of size 1 into shape (225,700,newaxis)\n",
      "2022-12-30 16:25:06,861 - clearml - WARNING - Failed decoding debug image [700, 225, 3]\n",
      "2022-12-30 16:25:06,862 - clearml - WARNING - Error: cannot reshape array of size 1 into shape (225,700,newaxis)\n",
      "2022-12-30 16:25:06,981 - clearml - WARNING - Failed decoding debug image [640, 480, 3]\n",
      "2022-12-30 16:25:06,983 - clearml - WARNING - Error: cannot reshape array of size 1 into shape (480,640,newaxis)\n",
      "2022-12-30 16:25:07,120 - clearml - WARNING - Failed decoding debug image [640, 480, 3]\n",
      "2022-12-30 16:25:07,122 - clearml - WARNING - Error: cannot reshape array of size 1 into shape (480,640,newaxis)\n"
     ]
    },
    {
     "data": {
      "text/plain": "Validation: 0it [00:00, ?it/s]",
      "application/vnd.jupyter.widget-view+json": {
       "version_major": 2,
       "version_minor": 0,
       "model_id": "529877306df0469e9300038ce6bf9587"
      }
     },
     "metadata": {},
     "output_type": "display_data"
    },
    {
     "name": "stdout",
     "output_type": "stream",
     "text": [
      "2022-12-30 16:25:08,977 - clearml - WARNING - Failed decoding debug image [640, 480, 3]\n",
      "2022-12-30 16:25:08,980 - clearml - WARNING - Error: cannot reshape array of size 1 into shape (480,640,newaxis)\n",
      "2022-12-30 16:25:10,085 - clearml - WARNING - Failed decoding debug image [640, 480, 3]\n",
      "2022-12-30 16:25:10,087 - clearml - WARNING - Error: cannot reshape array of size 1 into shape (480,640,newaxis)\n",
      "2022-12-30 16:25:11,232 - clearml - WARNING - Failed decoding debug image [640, 480, 3]\n",
      "2022-12-30 16:25:11,234 - clearml - WARNING - Error: cannot reshape array of size 1 into shape (480,640,newaxis)\n",
      "2022-12-30 16:25:12,360 - clearml - WARNING - Failed decoding debug image [640, 480, 3]\n",
      "2022-12-30 16:25:12,361 - clearml - WARNING - Error: cannot reshape array of size 1 into shape (480,640,newaxis)\n",
      "2022-12-30 16:25:13,491 - clearml - WARNING - Failed decoding debug image [640, 480, 3]\n",
      "2022-12-30 16:25:13,493 - clearml - WARNING - Error: cannot reshape array of size 1 into shape (480,640,newaxis)\n",
      "2022-12-30 16:25:14,616 - clearml - WARNING - Failed decoding debug image [640, 480, 3]\n",
      "2022-12-30 16:25:14,617 - clearml - WARNING - Error: cannot reshape array of size 1 into shape (480,640,newaxis)\n",
      "2022-12-30 16:25:15,804 - clearml - WARNING - Failed decoding debug image [640, 480, 3]\n",
      "2022-12-30 16:25:15,806 - clearml - WARNING - Error: cannot reshape array of size 1 into shape (480,640,newaxis)\n",
      "2022-12-30 16:25:16,903 - clearml - WARNING - Failed decoding debug image [640, 480, 3]\n",
      "2022-12-30 16:25:16,905 - clearml - WARNING - Error: cannot reshape array of size 1 into shape (480,640,newaxis)\n",
      "2022-12-30 16:25:17,961 - clearml - WARNING - Failed decoding debug image [640, 480, 3]\n",
      "2022-12-30 16:25:17,962 - clearml - WARNING - Error: cannot reshape array of size 1 into shape (480,640,newaxis)\n",
      "2022-12-30 16:25:19,016 - clearml - WARNING - Failed decoding debug image [640, 480, 3]\n",
      "2022-12-30 16:25:19,018 - clearml - WARNING - Error: cannot reshape array of size 1 into shape (480,640,newaxis)\n",
      "2022-12-30 16:25:20,121 - clearml - WARNING - Failed decoding debug image [640, 480, 3]\n",
      "2022-12-30 16:25:20,124 - clearml - WARNING - Error: cannot reshape array of size 1 into shape (480,640,newaxis)\n",
      "2022-12-30 16:25:20,572 - clearml - WARNING - Failed decoding debug image [640, 480, 3]\n",
      "2022-12-30 16:25:20,574 - clearml - WARNING - Error: cannot reshape array of size 1 into shape (480,640,newaxis)\n",
      "2022-12-30 16:25:20,649 - clearml - WARNING - Failed decoding debug image [700, 225, 3]\n",
      "2022-12-30 16:25:20,650 - clearml - WARNING - Error: cannot reshape array of size 1 into shape (225,700,newaxis)\n",
      "2022-12-30 16:25:20,708 - clearml - WARNING - Failed decoding debug image [700, 225, 3]\n",
      "2022-12-30 16:25:20,710 - clearml - WARNING - Error: cannot reshape array of size 1 into shape (225,700,newaxis)\n",
      "2022-12-30 16:25:20,770 - clearml - WARNING - Failed decoding debug image [700, 225, 3]\n",
      "2022-12-30 16:25:20,772 - clearml - WARNING - Error: cannot reshape array of size 1 into shape (225,700,newaxis)\n",
      "2022-12-30 16:25:20,904 - clearml - WARNING - Failed decoding debug image [640, 480, 3]\n",
      "2022-12-30 16:25:20,906 - clearml - WARNING - Error: cannot reshape array of size 1 into shape (480,640,newaxis)\n",
      "2022-12-30 16:25:21,029 - clearml - WARNING - Failed decoding debug image [640, 480, 3]\n",
      "2022-12-30 16:25:21,030 - clearml - WARNING - Error: cannot reshape array of size 1 into shape (480,640,newaxis)\n"
     ]
    },
    {
     "data": {
      "text/plain": "Validation: 0it [00:00, ?it/s]",
      "application/vnd.jupyter.widget-view+json": {
       "version_major": 2,
       "version_minor": 0,
       "model_id": "9e23d8937ea64afd8c615c2e3267654d"
      }
     },
     "metadata": {},
     "output_type": "display_data"
    },
    {
     "name": "stdout",
     "output_type": "stream",
     "text": [
      "2022-12-30 16:25:22,712 - clearml - WARNING - Failed decoding debug image [640, 480, 3]\n",
      "2022-12-30 16:25:22,713 - clearml - WARNING - Error: cannot reshape array of size 1 into shape (480,640,newaxis)\n",
      "2022-12-30 16:25:23,884 - clearml - WARNING - Failed decoding debug image [640, 480, 3]\n",
      "2022-12-30 16:25:23,886 - clearml - WARNING - Error: cannot reshape array of size 1 into shape (480,640,newaxis)\n",
      "2022-12-30 16:25:25,022 - clearml - WARNING - Failed decoding debug image [640, 480, 3]\n",
      "2022-12-30 16:25:25,024 - clearml - WARNING - Error: cannot reshape array of size 1 into shape (480,640,newaxis)\n",
      "2022-12-30 16:25:26,137 - clearml - WARNING - Failed decoding debug image [640, 480, 3]\n",
      "2022-12-30 16:25:26,138 - clearml - WARNING - Error: cannot reshape array of size 1 into shape (480,640,newaxis)\n",
      "2022-12-30 16:25:27,294 - clearml - WARNING - Failed decoding debug image [640, 480, 3]\n",
      "2022-12-30 16:25:27,296 - clearml - WARNING - Error: cannot reshape array of size 1 into shape (480,640,newaxis)\n",
      "2022-12-30 16:25:28,431 - clearml - WARNING - Failed decoding debug image [640, 480, 3]\n",
      "2022-12-30 16:25:28,433 - clearml - WARNING - Error: cannot reshape array of size 1 into shape (480,640,newaxis)\n",
      "2022-12-30 16:25:29,552 - clearml - WARNING - Failed decoding debug image [640, 480, 3]\n",
      "2022-12-30 16:25:29,555 - clearml - WARNING - Error: cannot reshape array of size 1 into shape (480,640,newaxis)\n",
      "2022-12-30 16:25:30,803 - clearml - WARNING - Failed decoding debug image [640, 480, 3]\n",
      "2022-12-30 16:25:30,805 - clearml - WARNING - Error: cannot reshape array of size 1 into shape (480,640,newaxis)\n",
      "2022-12-30 16:25:31,938 - clearml - WARNING - Failed decoding debug image [640, 480, 3]\n",
      "2022-12-30 16:25:31,940 - clearml - WARNING - Error: cannot reshape array of size 1 into shape (480,640,newaxis)\n",
      "2022-12-30 16:25:33,049 - clearml - WARNING - Failed decoding debug image [640, 480, 3]\n",
      "2022-12-30 16:25:33,050 - clearml - WARNING - Error: cannot reshape array of size 1 into shape (480,640,newaxis)\n",
      "2022-12-30 16:25:34,138 - clearml - WARNING - Failed decoding debug image [640, 480, 3]\n",
      "2022-12-30 16:25:34,139 - clearml - WARNING - Error: cannot reshape array of size 1 into shape (480,640,newaxis)\n",
      "2022-12-30 16:25:34,584 - clearml - WARNING - Failed decoding debug image [640, 480, 3]\n",
      "2022-12-30 16:25:34,586 - clearml - WARNING - Error: cannot reshape array of size 1 into shape (480,640,newaxis)\n",
      "2022-12-30 16:25:34,673 - clearml - WARNING - Failed decoding debug image [700, 225, 3]\n",
      "2022-12-30 16:25:34,674 - clearml - WARNING - Error: cannot reshape array of size 1 into shape (225,700,newaxis)\n",
      "2022-12-30 16:25:34,728 - clearml - WARNING - Failed decoding debug image [700, 225, 3]\n",
      "2022-12-30 16:25:34,730 - clearml - WARNING - Error: cannot reshape array of size 1 into shape (225,700,newaxis)\n",
      "2022-12-30 16:25:34,784 - clearml - WARNING - Failed decoding debug image [700, 225, 3]\n",
      "2022-12-30 16:25:34,785 - clearml - WARNING - Error: cannot reshape array of size 1 into shape (225,700,newaxis)\n",
      "2022-12-30 16:25:34,912 - clearml - WARNING - Failed decoding debug image [640, 480, 3]\n",
      "2022-12-30 16:25:34,914 - clearml - WARNING - Error: cannot reshape array of size 1 into shape (480,640,newaxis)\n",
      "2022-12-30 16:25:35,058 - clearml - WARNING - Failed decoding debug image [640, 480, 3]\n",
      "2022-12-30 16:25:35,060 - clearml - WARNING - Error: cannot reshape array of size 1 into shape (480,640,newaxis)\n"
     ]
    },
    {
     "data": {
      "text/plain": "Validation: 0it [00:00, ?it/s]",
      "application/vnd.jupyter.widget-view+json": {
       "version_major": 2,
       "version_minor": 0,
       "model_id": "d6cb1c049b1e410ba8275f678d93b91f"
      }
     },
     "metadata": {},
     "output_type": "display_data"
    },
    {
     "name": "stdout",
     "output_type": "stream",
     "text": [
      "2022-12-30 16:25:37,681 - clearml - WARNING - Failed decoding debug image [640, 480, 3]\n",
      "2022-12-30 16:25:37,682 - clearml - WARNING - Error: cannot reshape array of size 1 into shape (480,640,newaxis)\n",
      "2022-12-30 16:25:39,072 - clearml - WARNING - Failed decoding debug image [640, 480, 3]\n",
      "2022-12-30 16:25:39,074 - clearml - WARNING - Error: cannot reshape array of size 1 into shape (480,640,newaxis)\n",
      "2022-12-30 16:25:40,190 - clearml - WARNING - Failed decoding debug image [640, 480, 3]\n",
      "2022-12-30 16:25:40,191 - clearml - WARNING - Error: cannot reshape array of size 1 into shape (480,640,newaxis)\n",
      "2022-12-30 16:25:41,335 - clearml - WARNING - Failed decoding debug image [640, 480, 3]\n",
      "2022-12-30 16:25:41,337 - clearml - WARNING - Error: cannot reshape array of size 1 into shape (480,640,newaxis)\n",
      "2022-12-30 16:25:42,426 - clearml - WARNING - Failed decoding debug image [640, 480, 3]\n",
      "2022-12-30 16:25:42,428 - clearml - WARNING - Error: cannot reshape array of size 1 into shape (480,640,newaxis)\n",
      "2022-12-30 16:25:43,533 - clearml - WARNING - Failed decoding debug image [640, 480, 3]\n",
      "2022-12-30 16:25:43,534 - clearml - WARNING - Error: cannot reshape array of size 1 into shape (480,640,newaxis)\n",
      "2022-12-30 16:25:44,648 - clearml - WARNING - Failed decoding debug image [640, 480, 3]\n",
      "2022-12-30 16:25:44,650 - clearml - WARNING - Error: cannot reshape array of size 1 into shape (480,640,newaxis)\n",
      "2022-12-30 16:25:45,809 - clearml - WARNING - Failed decoding debug image [640, 480, 3]\n",
      "2022-12-30 16:25:45,810 - clearml - WARNING - Error: cannot reshape array of size 1 into shape (480,640,newaxis)\n",
      "2022-12-30 16:25:46,920 - clearml - WARNING - Failed decoding debug image [640, 480, 3]\n",
      "2022-12-30 16:25:46,922 - clearml - WARNING - Error: cannot reshape array of size 1 into shape (480,640,newaxis)\n",
      "2022-12-30 16:25:47,979 - clearml - WARNING - Failed decoding debug image [640, 480, 3]\n",
      "2022-12-30 16:25:47,981 - clearml - WARNING - Error: cannot reshape array of size 1 into shape (480,640,newaxis)\n",
      "2022-12-30 16:25:49,042 - clearml - WARNING - Failed decoding debug image [640, 480, 3]\n",
      "2022-12-30 16:25:49,044 - clearml - WARNING - Error: cannot reshape array of size 1 into shape (480,640,newaxis)\n",
      "2022-12-30 16:25:49,488 - clearml - WARNING - Failed decoding debug image [640, 480, 3]\n",
      "2022-12-30 16:25:49,490 - clearml - WARNING - Error: cannot reshape array of size 1 into shape (480,640,newaxis)\n",
      "2022-12-30 16:25:49,559 - clearml - WARNING - Failed decoding debug image [700, 225, 3]\n",
      "2022-12-30 16:25:49,561 - clearml - WARNING - Error: cannot reshape array of size 1 into shape (225,700,newaxis)\n",
      "2022-12-30 16:25:49,616 - clearml - WARNING - Failed decoding debug image [700, 225, 3]\n",
      "2022-12-30 16:25:49,618 - clearml - WARNING - Error: cannot reshape array of size 1 into shape (225,700,newaxis)\n",
      "2022-12-30 16:25:49,675 - clearml - WARNING - Failed decoding debug image [700, 225, 3]\n",
      "2022-12-30 16:25:49,676 - clearml - WARNING - Error: cannot reshape array of size 1 into shape (225,700,newaxis)\n",
      "2022-12-30 16:25:49,837 - clearml - WARNING - Failed decoding debug image [640, 480, 3]\n",
      "2022-12-30 16:25:49,839 - clearml - WARNING - Error: cannot reshape array of size 1 into shape (480,640,newaxis)\n",
      "2022-12-30 16:25:49,966 - clearml - WARNING - Failed decoding debug image [640, 480, 3]\n",
      "2022-12-30 16:25:49,969 - clearml - WARNING - Error: cannot reshape array of size 1 into shape (480,640,newaxis)\n"
     ]
    },
    {
     "data": {
      "text/plain": "Validation: 0it [00:00, ?it/s]",
      "application/vnd.jupyter.widget-view+json": {
       "version_major": 2,
       "version_minor": 0,
       "model_id": "654463c1e6e94b36b08fa66fa56165a4"
      }
     },
     "metadata": {},
     "output_type": "display_data"
    },
    {
     "name": "stdout",
     "output_type": "stream",
     "text": [
      "2022-12-30 16:25:52,339 - clearml - WARNING - Failed decoding debug image [640, 480, 3]\n",
      "2022-12-30 16:25:52,341 - clearml - WARNING - Error: cannot reshape array of size 1 into shape (480,640,newaxis)\n",
      "2022-12-30 16:25:54,289 - clearml - WARNING - Failed decoding debug image [640, 480, 3]\n",
      "2022-12-30 16:25:54,291 - clearml - WARNING - Error: cannot reshape array of size 1 into shape (480,640,newaxis)\n",
      "2022-12-30 16:25:56,284 - clearml - WARNING - Failed decoding debug image [640, 480, 3]\n",
      "2022-12-30 16:25:56,288 - clearml - WARNING - Error: cannot reshape array of size 1 into shape (480,640,newaxis)\n",
      "2022-12-30 16:25:58,069 - clearml - WARNING - Failed decoding debug image [640, 480, 3]\n",
      "2022-12-30 16:25:58,072 - clearml - WARNING - Error: cannot reshape array of size 1 into shape (480,640,newaxis)\n",
      "2022-12-30 16:26:00,011 - clearml - WARNING - Failed decoding debug image [640, 480, 3]\n",
      "2022-12-30 16:26:00,013 - clearml - WARNING - Error: cannot reshape array of size 1 into shape (480,640,newaxis)\n",
      "2022-12-30 16:26:01,183 - clearml - WARNING - Failed decoding debug image [640, 480, 3]\n",
      "2022-12-30 16:26:01,185 - clearml - WARNING - Error: cannot reshape array of size 1 into shape (480,640,newaxis)\n",
      "2022-12-30 16:26:02,713 - clearml - WARNING - Failed decoding debug image [640, 480, 3]\n",
      "2022-12-30 16:26:02,715 - clearml - WARNING - Error: cannot reshape array of size 1 into shape (480,640,newaxis)\n",
      "2022-12-30 16:26:04,849 - clearml - WARNING - Failed decoding debug image [640, 480, 3]\n",
      "2022-12-30 16:26:04,850 - clearml - WARNING - Error: cannot reshape array of size 1 into shape (480,640,newaxis)\n",
      "2022-12-30 16:26:06,274 - clearml - WARNING - Failed decoding debug image [640, 480, 3]\n",
      "2022-12-30 16:26:06,276 - clearml - WARNING - Error: cannot reshape array of size 1 into shape (480,640,newaxis)\n",
      "2022-12-30 16:26:07,362 - clearml - WARNING - Failed decoding debug image [640, 480, 3]\n",
      "2022-12-30 16:26:07,364 - clearml - WARNING - Error: cannot reshape array of size 1 into shape (480,640,newaxis)\n",
      "2022-12-30 16:26:08,875 - clearml - WARNING - Failed decoding debug image [640, 480, 3]\n",
      "2022-12-30 16:26:08,876 - clearml - WARNING - Error: cannot reshape array of size 1 into shape (480,640,newaxis)\n",
      "2022-12-30 16:26:09,458 - clearml - WARNING - Failed decoding debug image [640, 480, 3]\n",
      "2022-12-30 16:26:09,460 - clearml - WARNING - Error: cannot reshape array of size 1 into shape (480,640,newaxis)\n",
      "2022-12-30 16:26:09,581 - clearml - WARNING - Failed decoding debug image [700, 225, 3]\n",
      "2022-12-30 16:26:09,583 - clearml - WARNING - Error: cannot reshape array of size 1 into shape (225,700,newaxis)\n",
      "2022-12-30 16:26:09,656 - clearml - WARNING - Failed decoding debug image [700, 225, 3]\n",
      "2022-12-30 16:26:09,658 - clearml - WARNING - Error: cannot reshape array of size 1 into shape (225,700,newaxis)\n",
      "2022-12-30 16:26:09,715 - clearml - WARNING - Failed decoding debug image [700, 225, 3]\n",
      "2022-12-30 16:26:09,717 - clearml - WARNING - Error: cannot reshape array of size 1 into shape (225,700,newaxis)\n",
      "2022-12-30 16:26:09,850 - clearml - WARNING - Failed decoding debug image [640, 480, 3]\n",
      "2022-12-30 16:26:09,853 - clearml - WARNING - Error: cannot reshape array of size 1 into shape (480,640,newaxis)\n",
      "2022-12-30 16:26:10,011 - clearml - WARNING - Failed decoding debug image [640, 480, 3]\n",
      "2022-12-30 16:26:10,012 - clearml - WARNING - Error: cannot reshape array of size 1 into shape (480,640,newaxis)\n"
     ]
    },
    {
     "data": {
      "text/plain": "Validation: 0it [00:00, ?it/s]",
      "application/vnd.jupyter.widget-view+json": {
       "version_major": 2,
       "version_minor": 0,
       "model_id": "a0db9a49099c4a8cb6df0b4a38637dda"
      }
     },
     "metadata": {},
     "output_type": "display_data"
    },
    {
     "name": "stdout",
     "output_type": "stream",
     "text": [
      "2022-12-30 16:26:12,325 - clearml - WARNING - Failed decoding debug image [640, 480, 3]\n",
      "2022-12-30 16:26:12,329 - clearml - WARNING - Error: cannot reshape array of size 1 into shape (480,640,newaxis)\n",
      "2022-12-30 16:26:14,090 - clearml - WARNING - Failed decoding debug image [640, 480, 3]\n",
      "2022-12-30 16:26:14,092 - clearml - WARNING - Error: cannot reshape array of size 1 into shape (480,640,newaxis)\n",
      "2022-12-30 16:26:15,872 - clearml - WARNING - Failed decoding debug image [640, 480, 3]\n",
      "2022-12-30 16:26:15,874 - clearml - WARNING - Error: cannot reshape array of size 1 into shape (480,640,newaxis)\n",
      "2022-12-30 16:26:17,358 - clearml - WARNING - Failed decoding debug image [640, 480, 3]\n",
      "2022-12-30 16:26:17,360 - clearml - WARNING - Error: cannot reshape array of size 1 into shape (480,640,newaxis)\n",
      "2022-12-30 16:26:19,504 - clearml - WARNING - Failed decoding debug image [640, 480, 3]\n",
      "2022-12-30 16:26:19,506 - clearml - WARNING - Error: cannot reshape array of size 1 into shape (480,640,newaxis)\n",
      "2022-12-30 16:26:21,118 - clearml - WARNING - Failed decoding debug image [640, 480, 3]\n",
      "2022-12-30 16:26:21,119 - clearml - WARNING - Error: cannot reshape array of size 1 into shape (480,640,newaxis)\n",
      "2022-12-30 16:26:22,610 - clearml - WARNING - Failed decoding debug image [640, 480, 3]\n",
      "2022-12-30 16:26:22,612 - clearml - WARNING - Error: cannot reshape array of size 1 into shape (480,640,newaxis)\n",
      "2022-12-30 16:26:23,987 - clearml - WARNING - Failed decoding debug image [640, 480, 3]\n",
      "2022-12-30 16:26:23,989 - clearml - WARNING - Error: cannot reshape array of size 1 into shape (480,640,newaxis)\n",
      "2022-12-30 16:26:25,264 - clearml - WARNING - Failed decoding debug image [640, 480, 3]\n",
      "2022-12-30 16:26:25,266 - clearml - WARNING - Error: cannot reshape array of size 1 into shape (480,640,newaxis)\n",
      "2022-12-30 16:26:26,856 - clearml - WARNING - Failed decoding debug image [640, 480, 3]\n",
      "2022-12-30 16:26:26,862 - clearml - WARNING - Error: cannot reshape array of size 1 into shape (480,640,newaxis)\n",
      "2022-12-30 16:26:28,726 - clearml - WARNING - Failed decoding debug image [640, 480, 3]\n",
      "2022-12-30 16:26:28,728 - clearml - WARNING - Error: cannot reshape array of size 1 into shape (480,640,newaxis)\n",
      "2022-12-30 16:26:29,412 - clearml - WARNING - Failed decoding debug image [640, 480, 3]\n",
      "2022-12-30 16:26:29,415 - clearml - WARNING - Error: cannot reshape array of size 1 into shape (480,640,newaxis)\n",
      "2022-12-30 16:26:29,498 - clearml - WARNING - Failed decoding debug image [700, 225, 3]\n",
      "2022-12-30 16:26:29,500 - clearml - WARNING - Error: cannot reshape array of size 1 into shape (225,700,newaxis)\n",
      "2022-12-30 16:26:29,558 - clearml - WARNING - Failed decoding debug image [700, 225, 3]\n",
      "2022-12-30 16:26:29,560 - clearml - WARNING - Error: cannot reshape array of size 1 into shape (225,700,newaxis)\n",
      "2022-12-30 16:26:29,628 - clearml - WARNING - Failed decoding debug image [700, 225, 3]\n",
      "2022-12-30 16:26:29,630 - clearml - WARNING - Error: cannot reshape array of size 1 into shape (225,700,newaxis)\n",
      "2022-12-30 16:26:30,588 - clearml - WARNING - Failed decoding debug image [640, 480, 3]\n",
      "2022-12-30 16:26:30,589 - clearml - WARNING - Error: cannot reshape array of size 1 into shape (480,640,newaxis)\n",
      "2022-12-30 16:26:30,828 - clearml - WARNING - Failed decoding debug image [640, 480, 3]\n",
      "2022-12-30 16:26:30,837 - clearml - WARNING - Error: cannot reshape array of size 1 into shape (480,640,newaxis)\n"
     ]
    },
    {
     "data": {
      "text/plain": "Validation: 0it [00:00, ?it/s]",
      "application/vnd.jupyter.widget-view+json": {
       "version_major": 2,
       "version_minor": 0,
       "model_id": "c28f641d638840e3a97f19171b771ab1"
      }
     },
     "metadata": {},
     "output_type": "display_data"
    },
    {
     "name": "stdout",
     "output_type": "stream",
     "text": [
      "2022-12-30 16:26:33,332 - clearml - WARNING - Failed decoding debug image [640, 480, 3]\n",
      "2022-12-30 16:26:33,335 - clearml - WARNING - Error: cannot reshape array of size 1 into shape (480,640,newaxis)\n",
      "2022-12-30 16:26:35,111 - clearml - WARNING - Failed decoding debug image [640, 480, 3]\n",
      "2022-12-30 16:26:35,113 - clearml - WARNING - Error: cannot reshape array of size 1 into shape (480,640,newaxis)\n",
      "2022-12-30 16:26:36,937 - clearml - WARNING - Failed decoding debug image [640, 480, 3]\n",
      "2022-12-30 16:26:36,939 - clearml - WARNING - Error: cannot reshape array of size 1 into shape (480,640,newaxis)\n",
      "2022-12-30 16:26:38,387 - clearml - WARNING - Failed decoding debug image [640, 480, 3]\n",
      "2022-12-30 16:26:38,389 - clearml - WARNING - Error: cannot reshape array of size 1 into shape (480,640,newaxis)\n",
      "2022-12-30 16:26:39,963 - clearml - WARNING - Failed decoding debug image [640, 480, 3]\n",
      "2022-12-30 16:26:39,965 - clearml - WARNING - Error: cannot reshape array of size 1 into shape (480,640,newaxis)\n",
      "2022-12-30 16:26:41,409 - clearml - WARNING - Failed decoding debug image [640, 480, 3]\n",
      "2022-12-30 16:26:41,411 - clearml - WARNING - Error: cannot reshape array of size 1 into shape (480,640,newaxis)\n",
      "2022-12-30 16:26:43,009 - clearml - WARNING - Failed decoding debug image [640, 480, 3]\n",
      "2022-12-30 16:26:43,011 - clearml - WARNING - Error: cannot reshape array of size 1 into shape (480,640,newaxis)\n",
      "2022-12-30 16:26:44,273 - clearml - WARNING - Failed decoding debug image [640, 480, 3]\n",
      "2022-12-30 16:26:44,274 - clearml - WARNING - Error: cannot reshape array of size 1 into shape (480,640,newaxis)\n",
      "2022-12-30 16:26:45,495 - clearml - WARNING - Failed decoding debug image [640, 480, 3]\n",
      "2022-12-30 16:26:45,497 - clearml - WARNING - Error: cannot reshape array of size 1 into shape (480,640,newaxis)\n",
      "2022-12-30 16:26:47,203 - clearml - WARNING - Failed decoding debug image [640, 480, 3]\n",
      "2022-12-30 16:26:47,204 - clearml - WARNING - Error: cannot reshape array of size 1 into shape (480,640,newaxis)\n",
      "2022-12-30 16:26:48,500 - clearml - WARNING - Failed decoding debug image [640, 480, 3]\n",
      "2022-12-30 16:26:48,502 - clearml - WARNING - Error: cannot reshape array of size 1 into shape (480,640,newaxis)\n",
      "2022-12-30 16:26:48,937 - clearml - WARNING - Failed decoding debug image [640, 480, 3]\n",
      "2022-12-30 16:26:48,939 - clearml - WARNING - Error: cannot reshape array of size 1 into shape (480,640,newaxis)\n",
      "2022-12-30 16:26:49,008 - clearml - WARNING - Failed decoding debug image [700, 225, 3]\n",
      "2022-12-30 16:26:49,009 - clearml - WARNING - Error: cannot reshape array of size 1 into shape (225,700,newaxis)\n",
      "2022-12-30 16:26:49,060 - clearml - WARNING - Failed decoding debug image [700, 225, 3]\n",
      "2022-12-30 16:26:49,061 - clearml - WARNING - Error: cannot reshape array of size 1 into shape (225,700,newaxis)\n",
      "2022-12-30 16:26:49,117 - clearml - WARNING - Failed decoding debug image [700, 225, 3]\n",
      "2022-12-30 16:26:49,119 - clearml - WARNING - Error: cannot reshape array of size 1 into shape (225,700,newaxis)\n",
      "2022-12-30 16:26:49,345 - clearml - WARNING - Failed decoding debug image [640, 480, 3]\n",
      "2022-12-30 16:26:49,347 - clearml - WARNING - Error: cannot reshape array of size 1 into shape (480,640,newaxis)\n",
      "2022-12-30 16:26:56,414 - clearml - WARNING - Failed decoding debug image [640, 480, 3]\n",
      "2022-12-30 16:26:56,417 - clearml - WARNING - Error: cannot reshape array of size 1 into shape (480,640,newaxis)\n"
     ]
    },
    {
     "data": {
      "text/plain": "Validation: 0it [00:00, ?it/s]",
      "application/vnd.jupyter.widget-view+json": {
       "version_major": 2,
       "version_minor": 0,
       "model_id": "c94aac56f49f428c86f01c4c6a518a2d"
      }
     },
     "metadata": {},
     "output_type": "display_data"
    },
    {
     "name": "stdout",
     "output_type": "stream",
     "text": [
      "2022-12-30 16:26:58,615 - clearml - WARNING - Failed decoding debug image [640, 480, 3]\n",
      "2022-12-30 16:26:58,617 - clearml - WARNING - Error: cannot reshape array of size 1 into shape (480,640,newaxis)\n",
      "2022-12-30 16:27:00,100 - clearml - WARNING - Failed decoding debug image [640, 480, 3]\n",
      "2022-12-30 16:27:00,102 - clearml - WARNING - Error: cannot reshape array of size 1 into shape (480,640,newaxis)\n",
      "2022-12-30 16:27:02,503 - clearml - WARNING - Failed decoding debug image [640, 480, 3]\n",
      "2022-12-30 16:27:02,505 - clearml - WARNING - Error: cannot reshape array of size 1 into shape (480,640,newaxis)\n",
      "2022-12-30 16:27:03,944 - clearml - WARNING - Failed decoding debug image [640, 480, 3]\n",
      "2022-12-30 16:27:03,947 - clearml - WARNING - Error: cannot reshape array of size 1 into shape (480,640,newaxis)\n",
      "2022-12-30 16:27:05,680 - clearml - WARNING - Failed decoding debug image [640, 480, 3]\n",
      "2022-12-30 16:27:05,682 - clearml - WARNING - Error: cannot reshape array of size 1 into shape (480,640,newaxis)\n",
      "2022-12-30 16:27:07,056 - clearml - WARNING - Failed decoding debug image [640, 480, 3]\n",
      "2022-12-30 16:27:07,057 - clearml - WARNING - Error: cannot reshape array of size 1 into shape (480,640,newaxis)\n",
      "2022-12-30 16:27:08,422 - clearml - WARNING - Failed decoding debug image [640, 480, 3]\n",
      "2022-12-30 16:27:08,424 - clearml - WARNING - Error: cannot reshape array of size 1 into shape (480,640,newaxis)\n",
      "2022-12-30 16:27:09,677 - clearml - WARNING - Failed decoding debug image [640, 480, 3]\n",
      "2022-12-30 16:27:09,678 - clearml - WARNING - Error: cannot reshape array of size 1 into shape (480,640,newaxis)\n",
      "2022-12-30 16:27:11,270 - clearml - WARNING - Failed decoding debug image [640, 480, 3]\n",
      "2022-12-30 16:27:11,272 - clearml - WARNING - Error: cannot reshape array of size 1 into shape (480,640,newaxis)\n",
      "2022-12-30 16:27:12,930 - clearml - WARNING - Failed decoding debug image [640, 480, 3]\n",
      "2022-12-30 16:27:12,931 - clearml - WARNING - Error: cannot reshape array of size 1 into shape (480,640,newaxis)\n",
      "2022-12-30 16:27:14,382 - clearml - WARNING - Failed decoding debug image [640, 480, 3]\n",
      "2022-12-30 16:27:14,384 - clearml - WARNING - Error: cannot reshape array of size 1 into shape (480,640,newaxis)\n",
      "2022-12-30 16:27:15,035 - clearml - WARNING - Failed decoding debug image [640, 480, 3]\n",
      "2022-12-30 16:27:15,037 - clearml - WARNING - Error: cannot reshape array of size 1 into shape (480,640,newaxis)\n",
      "2022-12-30 16:27:15,107 - clearml - WARNING - Failed decoding debug image [700, 225, 3]\n",
      "2022-12-30 16:27:15,109 - clearml - WARNING - Error: cannot reshape array of size 1 into shape (225,700,newaxis)\n",
      "2022-12-30 16:27:15,170 - clearml - WARNING - Failed decoding debug image [700, 225, 3]\n",
      "2022-12-30 16:27:15,171 - clearml - WARNING - Error: cannot reshape array of size 1 into shape (225,700,newaxis)\n",
      "2022-12-30 16:27:15,240 - clearml - WARNING - Failed decoding debug image [700, 225, 3]\n",
      "2022-12-30 16:27:15,242 - clearml - WARNING - Error: cannot reshape array of size 1 into shape (225,700,newaxis)\n",
      "2022-12-30 16:27:15,483 - clearml - WARNING - Failed decoding debug image [640, 480, 3]\n",
      "2022-12-30 16:27:15,484 - clearml - WARNING - Error: cannot reshape array of size 1 into shape (480,640,newaxis)\n",
      "2022-12-30 16:27:15,706 - clearml - WARNING - Failed decoding debug image [640, 480, 3]\n",
      "2022-12-30 16:27:15,709 - clearml - WARNING - Error: cannot reshape array of size 1 into shape (480,640,newaxis)\n"
     ]
    },
    {
     "data": {
      "text/plain": "Validation: 0it [00:00, ?it/s]",
      "application/vnd.jupyter.widget-view+json": {
       "version_major": 2,
       "version_minor": 0,
       "model_id": "0ae9a8f125d6411badf0b22a1d2abd32"
      }
     },
     "metadata": {},
     "output_type": "display_data"
    },
    {
     "name": "stdout",
     "output_type": "stream",
     "text": [
      "2022-12-30 16:27:17,976 - clearml - WARNING - Failed decoding debug image [640, 480, 3]\n",
      "2022-12-30 16:27:17,978 - clearml - WARNING - Error: cannot reshape array of size 1 into shape (480,640,newaxis)\n",
      "2022-12-30 16:27:19,409 - clearml - WARNING - Failed decoding debug image [640, 480, 3]\n",
      "2022-12-30 16:27:19,411 - clearml - WARNING - Error: cannot reshape array of size 1 into shape (480,640,newaxis)\n",
      "2022-12-30 16:27:20,813 - clearml - WARNING - Failed decoding debug image [640, 480, 3]\n",
      "2022-12-30 16:27:20,815 - clearml - WARNING - Error: cannot reshape array of size 1 into shape (480,640,newaxis)\n",
      "2022-12-30 16:27:22,236 - clearml - WARNING - Failed decoding debug image [640, 480, 3]\n",
      "2022-12-30 16:27:22,238 - clearml - WARNING - Error: cannot reshape array of size 1 into shape (480,640,newaxis)\n",
      "2022-12-30 16:27:23,944 - clearml - WARNING - Failed decoding debug image [640, 480, 3]\n",
      "2022-12-30 16:27:23,946 - clearml - WARNING - Error: cannot reshape array of size 1 into shape (480,640,newaxis)\n",
      "2022-12-30 16:27:25,252 - clearml - WARNING - Failed decoding debug image [640, 480, 3]\n",
      "2022-12-30 16:27:25,253 - clearml - WARNING - Error: cannot reshape array of size 1 into shape (480,640,newaxis)\n",
      "2022-12-30 16:27:26,609 - clearml - WARNING - Failed decoding debug image [640, 480, 3]\n",
      "2022-12-30 16:27:26,610 - clearml - WARNING - Error: cannot reshape array of size 1 into shape (480,640,newaxis)\n",
      "2022-12-30 16:27:27,853 - clearml - WARNING - Failed decoding debug image [640, 480, 3]\n",
      "2022-12-30 16:27:27,854 - clearml - WARNING - Error: cannot reshape array of size 1 into shape (480,640,newaxis)\n",
      "2022-12-30 16:27:29,145 - clearml - WARNING - Failed decoding debug image [640, 480, 3]\n",
      "2022-12-30 16:27:29,147 - clearml - WARNING - Error: cannot reshape array of size 1 into shape (480,640,newaxis)\n",
      "2022-12-30 16:27:30,519 - clearml - WARNING - Failed decoding debug image [640, 480, 3]\n",
      "2022-12-30 16:27:30,521 - clearml - WARNING - Error: cannot reshape array of size 1 into shape (480,640,newaxis)\n",
      "2022-12-30 16:27:31,795 - clearml - WARNING - Failed decoding debug image [640, 480, 3]\n",
      "2022-12-30 16:27:31,798 - clearml - WARNING - Error: cannot reshape array of size 1 into shape (480,640,newaxis)\n",
      "2022-12-30 16:27:32,424 - clearml - WARNING - Failed decoding debug image [640, 480, 3]\n",
      "2022-12-30 16:27:32,428 - clearml - WARNING - Error: cannot reshape array of size 1 into shape (480,640,newaxis)\n",
      "2022-12-30 16:27:32,510 - clearml - WARNING - Failed decoding debug image [700, 225, 3]\n",
      "2022-12-30 16:27:32,511 - clearml - WARNING - Error: cannot reshape array of size 1 into shape (225,700,newaxis)\n",
      "2022-12-30 16:27:32,599 - clearml - WARNING - Failed decoding debug image [700, 225, 3]\n",
      "2022-12-30 16:27:32,600 - clearml - WARNING - Error: cannot reshape array of size 1 into shape (225,700,newaxis)\n",
      "2022-12-30 16:27:32,686 - clearml - WARNING - Failed decoding debug image [700, 225, 3]\n",
      "2022-12-30 16:27:32,688 - clearml - WARNING - Error: cannot reshape array of size 1 into shape (225,700,newaxis)\n",
      "2022-12-30 16:27:32,859 - clearml - WARNING - Failed decoding debug image [640, 480, 3]\n",
      "2022-12-30 16:27:32,862 - clearml - WARNING - Error: cannot reshape array of size 1 into shape (480,640,newaxis)\n",
      "2022-12-30 16:27:33,042 - clearml - WARNING - Failed decoding debug image [640, 480, 3]\n",
      "2022-12-30 16:27:33,045 - clearml - WARNING - Error: cannot reshape array of size 1 into shape (480,640,newaxis)\n"
     ]
    },
    {
     "data": {
      "text/plain": "Validation: 0it [00:00, ?it/s]",
      "application/vnd.jupyter.widget-view+json": {
       "version_major": 2,
       "version_minor": 0,
       "model_id": "e4b34845b7054cb6a2ac0c6bda7160a8"
      }
     },
     "metadata": {},
     "output_type": "display_data"
    },
    {
     "name": "stdout",
     "output_type": "stream",
     "text": [
      "2022-12-30 16:27:34,882 - clearml - WARNING - Failed decoding debug image [640, 480, 3]\n",
      "2022-12-30 16:27:34,884 - clearml - WARNING - Error: cannot reshape array of size 1 into shape (480,640,newaxis)\n",
      "2022-12-30 16:27:36,523 - clearml - WARNING - Failed decoding debug image [640, 480, 3]\n",
      "2022-12-30 16:27:36,525 - clearml - WARNING - Error: cannot reshape array of size 1 into shape (480,640,newaxis)\n",
      "2022-12-30 16:27:37,920 - clearml - WARNING - Failed decoding debug image [640, 480, 3]\n",
      "2022-12-30 16:27:37,922 - clearml - WARNING - Error: cannot reshape array of size 1 into shape (480,640,newaxis)\n",
      "2022-12-30 16:27:39,265 - clearml - WARNING - Failed decoding debug image [640, 480, 3]\n",
      "2022-12-30 16:27:39,268 - clearml - WARNING - Error: cannot reshape array of size 1 into shape (480,640,newaxis)\n",
      "2022-12-30 16:27:40,651 - clearml - WARNING - Failed decoding debug image [640, 480, 3]\n",
      "2022-12-30 16:27:40,653 - clearml - WARNING - Error: cannot reshape array of size 1 into shape (480,640,newaxis)\n",
      "2022-12-30 16:27:41,954 - clearml - WARNING - Failed decoding debug image [640, 480, 3]\n",
      "2022-12-30 16:27:41,956 - clearml - WARNING - Error: cannot reshape array of size 1 into shape (480,640,newaxis)\n",
      "2022-12-30 16:27:43,575 - clearml - WARNING - Failed decoding debug image [640, 480, 3]\n",
      "2022-12-30 16:27:43,577 - clearml - WARNING - Error: cannot reshape array of size 1 into shape (480,640,newaxis)\n",
      "2022-12-30 16:27:44,953 - clearml - WARNING - Failed decoding debug image [640, 480, 3]\n",
      "2022-12-30 16:27:44,955 - clearml - WARNING - Error: cannot reshape array of size 1 into shape (480,640,newaxis)\n",
      "2022-12-30 16:27:46,256 - clearml - WARNING - Failed decoding debug image [640, 480, 3]\n",
      "2022-12-30 16:27:46,258 - clearml - WARNING - Error: cannot reshape array of size 1 into shape (480,640,newaxis)\n",
      "2022-12-30 16:27:47,458 - clearml - WARNING - Failed decoding debug image [640, 480, 3]\n",
      "2022-12-30 16:27:47,460 - clearml - WARNING - Error: cannot reshape array of size 1 into shape (480,640,newaxis)\n",
      "2022-12-30 16:27:48,681 - clearml - WARNING - Failed decoding debug image [640, 480, 3]\n",
      "2022-12-30 16:27:48,683 - clearml - WARNING - Error: cannot reshape array of size 1 into shape (480,640,newaxis)\n",
      "2022-12-30 16:27:49,147 - clearml - WARNING - Failed decoding debug image [640, 480, 3]\n",
      "2022-12-30 16:27:49,149 - clearml - WARNING - Error: cannot reshape array of size 1 into shape (480,640,newaxis)\n",
      "2022-12-30 16:27:49,223 - clearml - WARNING - Failed decoding debug image [700, 225, 3]\n",
      "2022-12-30 16:27:49,224 - clearml - WARNING - Error: cannot reshape array of size 1 into shape (225,700,newaxis)\n",
      "2022-12-30 16:27:49,289 - clearml - WARNING - Failed decoding debug image [700, 225, 3]\n",
      "2022-12-30 16:27:49,291 - clearml - WARNING - Error: cannot reshape array of size 1 into shape (225,700,newaxis)\n",
      "2022-12-30 16:27:49,361 - clearml - WARNING - Failed decoding debug image [700, 225, 3]\n",
      "2022-12-30 16:27:49,363 - clearml - WARNING - Error: cannot reshape array of size 1 into shape (225,700,newaxis)\n",
      "2022-12-30 16:27:49,491 - clearml - WARNING - Failed decoding debug image [640, 480, 3]\n",
      "2022-12-30 16:27:49,493 - clearml - WARNING - Error: cannot reshape array of size 1 into shape (480,640,newaxis)\n",
      "2022-12-30 16:27:49,644 - clearml - WARNING - Failed decoding debug image [640, 480, 3]\n",
      "2022-12-30 16:27:49,645 - clearml - WARNING - Error: cannot reshape array of size 1 into shape (480,640,newaxis)\n"
     ]
    },
    {
     "data": {
      "text/plain": "Validation: 0it [00:00, ?it/s]",
      "application/vnd.jupyter.widget-view+json": {
       "version_major": 2,
       "version_minor": 0,
       "model_id": "20634fd1d69c40d59bb61aac19505978"
      }
     },
     "metadata": {},
     "output_type": "display_data"
    },
    {
     "name": "stdout",
     "output_type": "stream",
     "text": [
      "2022-12-30 16:27:51,405 - clearml - WARNING - Failed decoding debug image [640, 480, 3]\n",
      "2022-12-30 16:27:51,408 - clearml - WARNING - Error: cannot reshape array of size 1 into shape (480,640,newaxis)\n",
      "2022-12-30 16:27:53,075 - clearml - WARNING - Failed decoding debug image [640, 480, 3]\n",
      "2022-12-30 16:27:53,077 - clearml - WARNING - Error: cannot reshape array of size 1 into shape (480,640,newaxis)\n",
      "2022-12-30 16:27:54,423 - clearml - WARNING - Failed decoding debug image [640, 480, 3]\n",
      "2022-12-30 16:27:54,425 - clearml - WARNING - Error: cannot reshape array of size 1 into shape (480,640,newaxis)\n",
      "2022-12-30 16:27:55,652 - clearml - WARNING - Failed decoding debug image [640, 480, 3]\n",
      "2022-12-30 16:27:55,654 - clearml - WARNING - Error: cannot reshape array of size 1 into shape (480,640,newaxis)\n",
      "2022-12-30 16:27:56,895 - clearml - WARNING - Failed decoding debug image [640, 480, 3]\n",
      "2022-12-30 16:27:56,896 - clearml - WARNING - Error: cannot reshape array of size 1 into shape (480,640,newaxis)\n",
      "2022-12-30 16:27:58,282 - clearml - WARNING - Failed decoding debug image [640, 480, 3]\n",
      "2022-12-30 16:27:58,284 - clearml - WARNING - Error: cannot reshape array of size 1 into shape (480,640,newaxis)\n",
      "2022-12-30 16:27:59,584 - clearml - WARNING - Failed decoding debug image [640, 480, 3]\n",
      "2022-12-30 16:27:59,586 - clearml - WARNING - Error: cannot reshape array of size 1 into shape (480,640,newaxis)\n",
      "2022-12-30 16:28:00,804 - clearml - WARNING - Failed decoding debug image [640, 480, 3]\n",
      "2022-12-30 16:28:00,806 - clearml - WARNING - Error: cannot reshape array of size 1 into shape (480,640,newaxis)\n",
      "2022-12-30 16:28:02,355 - clearml - WARNING - Failed decoding debug image [640, 480, 3]\n",
      "2022-12-30 16:28:02,357 - clearml - WARNING - Error: cannot reshape array of size 1 into shape (480,640,newaxis)\n",
      "2022-12-30 16:28:03,863 - clearml - WARNING - Failed decoding debug image [640, 480, 3]\n",
      "2022-12-30 16:28:03,865 - clearml - WARNING - Error: cannot reshape array of size 1 into shape (480,640,newaxis)\n",
      "2022-12-30 16:28:05,137 - clearml - WARNING - Failed decoding debug image [640, 480, 3]\n",
      "2022-12-30 16:28:05,139 - clearml - WARNING - Error: cannot reshape array of size 1 into shape (480,640,newaxis)\n",
      "2022-12-30 16:28:05,667 - clearml - WARNING - Failed decoding debug image [640, 480, 3]\n",
      "2022-12-30 16:28:05,669 - clearml - WARNING - Error: cannot reshape array of size 1 into shape (480,640,newaxis)\n",
      "2022-12-30 16:28:05,752 - clearml - WARNING - Failed decoding debug image [700, 225, 3]\n",
      "2022-12-30 16:28:05,754 - clearml - WARNING - Error: cannot reshape array of size 1 into shape (225,700,newaxis)\n",
      "2022-12-30 16:28:05,818 - clearml - WARNING - Failed decoding debug image [700, 225, 3]\n",
      "2022-12-30 16:28:05,820 - clearml - WARNING - Error: cannot reshape array of size 1 into shape (225,700,newaxis)\n",
      "2022-12-30 16:28:05,880 - clearml - WARNING - Failed decoding debug image [700, 225, 3]\n",
      "2022-12-30 16:28:05,881 - clearml - WARNING - Error: cannot reshape array of size 1 into shape (225,700,newaxis)\n",
      "2022-12-30 16:28:06,008 - clearml - WARNING - Failed decoding debug image [640, 480, 3]\n",
      "2022-12-30 16:28:06,009 - clearml - WARNING - Error: cannot reshape array of size 1 into shape (480,640,newaxis)\n",
      "2022-12-30 16:28:06,166 - clearml - WARNING - Failed decoding debug image [640, 480, 3]\n",
      "2022-12-30 16:28:06,169 - clearml - WARNING - Error: cannot reshape array of size 1 into shape (480,640,newaxis)\n"
     ]
    },
    {
     "data": {
      "text/plain": "Validation: 0it [00:00, ?it/s]",
      "application/vnd.jupyter.widget-view+json": {
       "version_major": 2,
       "version_minor": 0,
       "model_id": "71388d22fede4506a133213275338a69"
      }
     },
     "metadata": {},
     "output_type": "display_data"
    },
    {
     "name": "stdout",
     "output_type": "stream",
     "text": [
      "2022-12-30 16:28:08,248 - clearml - WARNING - Failed decoding debug image [640, 480, 3]\n",
      "2022-12-30 16:28:08,250 - clearml - WARNING - Error: cannot reshape array of size 1 into shape (480,640,newaxis)\n",
      "2022-12-30 16:28:09,573 - clearml - WARNING - Failed decoding debug image [640, 480, 3]\n",
      "2022-12-30 16:28:09,575 - clearml - WARNING - Error: cannot reshape array of size 1 into shape (480,640,newaxis)\n",
      "2022-12-30 16:28:10,752 - clearml - WARNING - Failed decoding debug image [640, 480, 3]\n",
      "2022-12-30 16:28:10,754 - clearml - WARNING - Error: cannot reshape array of size 1 into shape (480,640,newaxis)\n",
      "2022-12-30 16:28:12,104 - clearml - WARNING - Failed decoding debug image [640, 480, 3]\n",
      "2022-12-30 16:28:12,106 - clearml - WARNING - Error: cannot reshape array of size 1 into shape (480,640,newaxis)\n",
      "2022-12-30 16:28:13,653 - clearml - WARNING - Failed decoding debug image [640, 480, 3]\n",
      "2022-12-30 16:28:13,655 - clearml - WARNING - Error: cannot reshape array of size 1 into shape (480,640,newaxis)\n",
      "2022-12-30 16:28:15,139 - clearml - WARNING - Failed decoding debug image [640, 480, 3]\n",
      "2022-12-30 16:28:15,141 - clearml - WARNING - Error: cannot reshape array of size 1 into shape (480,640,newaxis)\n",
      "2022-12-30 16:28:16,324 - clearml - WARNING - Failed decoding debug image [640, 480, 3]\n",
      "2022-12-30 16:28:16,325 - clearml - WARNING - Error: cannot reshape array of size 1 into shape (480,640,newaxis)\n",
      "2022-12-30 16:28:17,550 - clearml - WARNING - Failed decoding debug image [640, 480, 3]\n",
      "2022-12-30 16:28:17,552 - clearml - WARNING - Error: cannot reshape array of size 1 into shape (480,640,newaxis)\n",
      "2022-12-30 16:28:18,831 - clearml - WARNING - Failed decoding debug image [640, 480, 3]\n",
      "2022-12-30 16:28:18,832 - clearml - WARNING - Error: cannot reshape array of size 1 into shape (480,640,newaxis)\n",
      "2022-12-30 16:28:20,184 - clearml - WARNING - Failed decoding debug image [640, 480, 3]\n",
      "2022-12-30 16:28:20,187 - clearml - WARNING - Error: cannot reshape array of size 1 into shape (480,640,newaxis)\n",
      "2022-12-30 16:28:21,428 - clearml - WARNING - Failed decoding debug image [640, 480, 3]\n",
      "2022-12-30 16:28:21,430 - clearml - WARNING - Error: cannot reshape array of size 1 into shape (480,640,newaxis)\n",
      "2022-12-30 16:28:21,965 - clearml - WARNING - Failed decoding debug image [640, 480, 3]\n",
      "2022-12-30 16:28:21,967 - clearml - WARNING - Error: cannot reshape array of size 1 into shape (480,640,newaxis)\n",
      "2022-12-30 16:28:22,043 - clearml - WARNING - Failed decoding debug image [700, 225, 3]\n",
      "2022-12-30 16:28:22,045 - clearml - WARNING - Error: cannot reshape array of size 1 into shape (225,700,newaxis)\n",
      "2022-12-30 16:28:22,123 - clearml - WARNING - Failed decoding debug image [700, 225, 3]\n",
      "2022-12-30 16:28:22,125 - clearml - WARNING - Error: cannot reshape array of size 1 into shape (225,700,newaxis)\n",
      "2022-12-30 16:28:22,208 - clearml - WARNING - Failed decoding debug image [700, 225, 3]\n",
      "2022-12-30 16:28:22,209 - clearml - WARNING - Error: cannot reshape array of size 1 into shape (225,700,newaxis)\n",
      "2022-12-30 16:28:22,437 - clearml - WARNING - Failed decoding debug image [640, 480, 3]\n",
      "2022-12-30 16:28:22,439 - clearml - WARNING - Error: cannot reshape array of size 1 into shape (480,640,newaxis)\n",
      "2022-12-30 16:28:22,617 - clearml - WARNING - Failed decoding debug image [640, 480, 3]\n",
      "2022-12-30 16:28:22,619 - clearml - WARNING - Error: cannot reshape array of size 1 into shape (480,640,newaxis)\n"
     ]
    },
    {
     "data": {
      "text/plain": "Validation: 0it [00:00, ?it/s]",
      "application/vnd.jupyter.widget-view+json": {
       "version_major": 2,
       "version_minor": 0,
       "model_id": "93253f8eb7044c71ad3e5ff52f2a80f3"
      }
     },
     "metadata": {},
     "output_type": "display_data"
    },
    {
     "name": "stdout",
     "output_type": "stream",
     "text": [
      "2022-12-30 16:28:24,742 - clearml - WARNING - Failed decoding debug image [640, 480, 3]\n",
      "2022-12-30 16:28:24,745 - clearml - WARNING - Error: cannot reshape array of size 1 into shape (480,640,newaxis)\n",
      "2022-12-30 16:28:26,080 - clearml - WARNING - Failed decoding debug image [640, 480, 3]\n",
      "2022-12-30 16:28:26,082 - clearml - WARNING - Error: cannot reshape array of size 1 into shape (480,640,newaxis)\n",
      "2022-12-30 16:28:27,353 - clearml - WARNING - Failed decoding debug image [640, 480, 3]\n",
      "2022-12-30 16:28:27,355 - clearml - WARNING - Error: cannot reshape array of size 1 into shape (480,640,newaxis)\n",
      "2022-12-30 16:28:28,601 - clearml - WARNING - Failed decoding debug image [640, 480, 3]\n",
      "2022-12-30 16:28:28,603 - clearml - WARNING - Error: cannot reshape array of size 1 into shape (480,640,newaxis)\n",
      "2022-12-30 16:28:29,957 - clearml - WARNING - Failed decoding debug image [640, 480, 3]\n",
      "2022-12-30 16:28:29,958 - clearml - WARNING - Error: cannot reshape array of size 1 into shape (480,640,newaxis)\n",
      "2022-12-30 16:28:31,802 - clearml - WARNING - Failed decoding debug image [640, 480, 3]\n",
      "2022-12-30 16:28:31,803 - clearml - WARNING - Error: cannot reshape array of size 1 into shape (480,640,newaxis)\n",
      "2022-12-30 16:28:33,771 - clearml - WARNING - Failed decoding debug image [640, 480, 3]\n",
      "2022-12-30 16:28:33,772 - clearml - WARNING - Error: cannot reshape array of size 1 into shape (480,640,newaxis)\n",
      "2022-12-30 16:28:35,233 - clearml - WARNING - Failed decoding debug image [640, 480, 3]\n",
      "2022-12-30 16:28:35,235 - clearml - WARNING - Error: cannot reshape array of size 1 into shape (480,640,newaxis)\n",
      "2022-12-30 16:28:36,870 - clearml - WARNING - Failed decoding debug image [640, 480, 3]\n",
      "2022-12-30 16:28:36,872 - clearml - WARNING - Error: cannot reshape array of size 1 into shape (480,640,newaxis)\n",
      "2022-12-30 16:28:38,211 - clearml - WARNING - Failed decoding debug image [640, 480, 3]\n",
      "2022-12-30 16:28:38,212 - clearml - WARNING - Error: cannot reshape array of size 1 into shape (480,640,newaxis)\n",
      "2022-12-30 16:28:39,543 - clearml - WARNING - Failed decoding debug image [640, 480, 3]\n",
      "2022-12-30 16:28:39,544 - clearml - WARNING - Error: cannot reshape array of size 1 into shape (480,640,newaxis)\n",
      "2022-12-30 16:28:40,257 - clearml - WARNING - Failed decoding debug image [640, 480, 3]\n",
      "2022-12-30 16:28:40,259 - clearml - WARNING - Error: cannot reshape array of size 1 into shape (480,640,newaxis)\n",
      "2022-12-30 16:28:40,333 - clearml - WARNING - Failed decoding debug image [700, 225, 3]\n",
      "2022-12-30 16:28:40,334 - clearml - WARNING - Error: cannot reshape array of size 1 into shape (225,700,newaxis)\n",
      "2022-12-30 16:28:40,398 - clearml - WARNING - Failed decoding debug image [700, 225, 3]\n",
      "2022-12-30 16:28:40,400 - clearml - WARNING - Error: cannot reshape array of size 1 into shape (225,700,newaxis)\n",
      "2022-12-30 16:28:40,462 - clearml - WARNING - Failed decoding debug image [700, 225, 3]\n",
      "2022-12-30 16:28:40,463 - clearml - WARNING - Error: cannot reshape array of size 1 into shape (225,700,newaxis)\n",
      "2022-12-30 16:28:40,608 - clearml - WARNING - Failed decoding debug image [640, 480, 3]\n",
      "2022-12-30 16:28:40,611 - clearml - WARNING - Error: cannot reshape array of size 1 into shape (480,640,newaxis)\n",
      "2022-12-30 16:28:40,763 - clearml - WARNING - Failed decoding debug image [640, 480, 3]\n",
      "2022-12-30 16:28:40,765 - clearml - WARNING - Error: cannot reshape array of size 1 into shape (480,640,newaxis)\n"
     ]
    },
    {
     "data": {
      "text/plain": "Validation: 0it [00:00, ?it/s]",
      "application/vnd.jupyter.widget-view+json": {
       "version_major": 2,
       "version_minor": 0,
       "model_id": "dcec1fffe8a247b693bf3c078452f7a0"
      }
     },
     "metadata": {},
     "output_type": "display_data"
    },
    {
     "name": "stdout",
     "output_type": "stream",
     "text": [
      "2022-12-30 16:28:42,936 - clearml - WARNING - Failed decoding debug image [640, 480, 3]\n",
      "2022-12-30 16:28:42,939 - clearml - WARNING - Error: cannot reshape array of size 1 into shape (480,640,newaxis)\n",
      "2022-12-30 16:28:44,593 - clearml - WARNING - Failed decoding debug image [640, 480, 3]\n",
      "2022-12-30 16:28:44,595 - clearml - WARNING - Error: cannot reshape array of size 1 into shape (480,640,newaxis)\n",
      "2022-12-30 16:28:45,768 - clearml - WARNING - Failed decoding debug image [640, 480, 3]\n",
      "2022-12-30 16:28:45,769 - clearml - WARNING - Error: cannot reshape array of size 1 into shape (480,640,newaxis)\n",
      "2022-12-30 16:28:47,437 - clearml - WARNING - Failed decoding debug image [640, 480, 3]\n",
      "2022-12-30 16:28:47,438 - clearml - WARNING - Error: cannot reshape array of size 1 into shape (480,640,newaxis)\n",
      "2022-12-30 16:28:48,980 - clearml - WARNING - Failed decoding debug image [640, 480, 3]\n",
      "2022-12-30 16:28:48,982 - clearml - WARNING - Error: cannot reshape array of size 1 into shape (480,640,newaxis)\n",
      "2022-12-30 16:28:50,587 - clearml - WARNING - Failed decoding debug image [640, 480, 3]\n",
      "2022-12-30 16:28:50,588 - clearml - WARNING - Error: cannot reshape array of size 1 into shape (480,640,newaxis)\n",
      "2022-12-30 16:28:51,845 - clearml - WARNING - Failed decoding debug image [640, 480, 3]\n",
      "2022-12-30 16:28:51,847 - clearml - WARNING - Error: cannot reshape array of size 1 into shape (480,640,newaxis)\n",
      "2022-12-30 16:28:53,479 - clearml - WARNING - Failed decoding debug image [640, 480, 3]\n",
      "2022-12-30 16:28:53,481 - clearml - WARNING - Error: cannot reshape array of size 1 into shape (480,640,newaxis)\n",
      "2022-12-30 16:28:55,205 - clearml - WARNING - Failed decoding debug image [640, 480, 3]\n",
      "2022-12-30 16:28:55,207 - clearml - WARNING - Error: cannot reshape array of size 1 into shape (480,640,newaxis)\n",
      "2022-12-30 16:28:56,597 - clearml - WARNING - Failed decoding debug image [640, 480, 3]\n",
      "2022-12-30 16:28:56,599 - clearml - WARNING - Error: cannot reshape array of size 1 into shape (480,640,newaxis)\n",
      "2022-12-30 16:28:57,961 - clearml - WARNING - Failed decoding debug image [640, 480, 3]\n",
      "2022-12-30 16:28:57,963 - clearml - WARNING - Error: cannot reshape array of size 1 into shape (480,640,newaxis)\n",
      "2022-12-30 16:28:58,483 - clearml - WARNING - Failed decoding debug image [640, 480, 3]\n",
      "2022-12-30 16:28:58,484 - clearml - WARNING - Error: cannot reshape array of size 1 into shape (480,640,newaxis)\n",
      "2022-12-30 16:28:58,558 - clearml - WARNING - Failed decoding debug image [700, 225, 3]\n",
      "2022-12-30 16:28:58,560 - clearml - WARNING - Error: cannot reshape array of size 1 into shape (225,700,newaxis)\n",
      "2022-12-30 16:28:58,626 - clearml - WARNING - Failed decoding debug image [700, 225, 3]\n",
      "2022-12-30 16:28:58,627 - clearml - WARNING - Error: cannot reshape array of size 1 into shape (225,700,newaxis)\n",
      "2022-12-30 16:28:58,693 - clearml - WARNING - Failed decoding debug image [700, 225, 3]\n",
      "2022-12-30 16:28:58,695 - clearml - WARNING - Error: cannot reshape array of size 1 into shape (225,700,newaxis)\n",
      "2022-12-30 16:28:58,826 - clearml - WARNING - Failed decoding debug image [640, 480, 3]\n",
      "2022-12-30 16:28:58,828 - clearml - WARNING - Error: cannot reshape array of size 1 into shape (480,640,newaxis)\n",
      "2022-12-30 16:28:59,021 - clearml - WARNING - Failed decoding debug image [640, 480, 3]\n",
      "2022-12-30 16:28:59,023 - clearml - WARNING - Error: cannot reshape array of size 1 into shape (480,640,newaxis)\n"
     ]
    },
    {
     "data": {
      "text/plain": "Validation: 0it [00:00, ?it/s]",
      "application/vnd.jupyter.widget-view+json": {
       "version_major": 2,
       "version_minor": 0,
       "model_id": "85cd0657878f4cad9ad6d9492ed4feeb"
      }
     },
     "metadata": {},
     "output_type": "display_data"
    },
    {
     "name": "stdout",
     "output_type": "stream",
     "text": [
      "2022-12-30 16:29:00,827 - clearml - WARNING - Failed decoding debug image [640, 480, 3]\n",
      "2022-12-30 16:29:00,829 - clearml - WARNING - Error: cannot reshape array of size 1 into shape (480,640,newaxis)\n",
      "2022-12-30 16:29:02,299 - clearml - WARNING - Failed decoding debug image [640, 480, 3]\n",
      "2022-12-30 16:29:02,301 - clearml - WARNING - Error: cannot reshape array of size 1 into shape (480,640,newaxis)\n",
      "2022-12-30 16:29:03,866 - clearml - WARNING - Failed decoding debug image [640, 480, 3]\n",
      "2022-12-30 16:29:03,868 - clearml - WARNING - Error: cannot reshape array of size 1 into shape (480,640,newaxis)\n",
      "2022-12-30 16:29:05,222 - clearml - WARNING - Failed decoding debug image [640, 480, 3]\n",
      "2022-12-30 16:29:05,224 - clearml - WARNING - Error: cannot reshape array of size 1 into shape (480,640,newaxis)\n",
      "2022-12-30 16:29:06,475 - clearml - WARNING - Failed decoding debug image [640, 480, 3]\n",
      "2022-12-30 16:29:06,478 - clearml - WARNING - Error: cannot reshape array of size 1 into shape (480,640,newaxis)\n",
      "2022-12-30 16:29:08,021 - clearml - WARNING - Failed decoding debug image [640, 480, 3]\n",
      "2022-12-30 16:29:08,024 - clearml - WARNING - Error: cannot reshape array of size 1 into shape (480,640,newaxis)\n",
      "2022-12-30 16:29:10,523 - clearml - WARNING - Failed decoding debug image [640, 480, 3]\n",
      "2022-12-30 16:29:10,529 - clearml - WARNING - Error: cannot reshape array of size 1 into shape (480,640,newaxis)\n",
      "2022-12-30 16:29:12,657 - clearml - WARNING - Failed decoding debug image [640, 480, 3]\n",
      "2022-12-30 16:29:12,660 - clearml - WARNING - Error: cannot reshape array of size 1 into shape (480,640,newaxis)\n",
      "2022-12-30 16:29:14,122 - clearml - WARNING - Failed decoding debug image [640, 480, 3]\n",
      "2022-12-30 16:29:14,124 - clearml - WARNING - Error: cannot reshape array of size 1 into shape (480,640,newaxis)\n",
      "2022-12-30 16:29:15,331 - clearml - WARNING - Failed decoding debug image [640, 480, 3]\n",
      "2022-12-30 16:29:15,333 - clearml - WARNING - Error: cannot reshape array of size 1 into shape (480,640,newaxis)\n",
      "2022-12-30 16:29:16,457 - clearml - WARNING - Failed decoding debug image [640, 480, 3]\n",
      "2022-12-30 16:29:16,458 - clearml - WARNING - Error: cannot reshape array of size 1 into shape (480,640,newaxis)\n",
      "2022-12-30 16:29:16,937 - clearml - WARNING - Failed decoding debug image [640, 480, 3]\n",
      "2022-12-30 16:29:16,938 - clearml - WARNING - Error: cannot reshape array of size 1 into shape (480,640,newaxis)\n",
      "2022-12-30 16:29:17,007 - clearml - WARNING - Failed decoding debug image [700, 225, 3]\n",
      "2022-12-30 16:29:17,009 - clearml - WARNING - Error: cannot reshape array of size 1 into shape (225,700,newaxis)\n",
      "2022-12-30 16:29:17,070 - clearml - WARNING - Failed decoding debug image [700, 225, 3]\n",
      "2022-12-30 16:29:17,072 - clearml - WARNING - Error: cannot reshape array of size 1 into shape (225,700,newaxis)\n",
      "2022-12-30 16:29:17,135 - clearml - WARNING - Failed decoding debug image [700, 225, 3]\n",
      "2022-12-30 16:29:17,136 - clearml - WARNING - Error: cannot reshape array of size 1 into shape (225,700,newaxis)\n",
      "2022-12-30 16:29:17,284 - clearml - WARNING - Failed decoding debug image [640, 480, 3]\n",
      "2022-12-30 16:29:17,285 - clearml - WARNING - Error: cannot reshape array of size 1 into shape (480,640,newaxis)\n",
      "2022-12-30 16:29:17,419 - clearml - WARNING - Failed decoding debug image [640, 480, 3]\n",
      "2022-12-30 16:29:17,420 - clearml - WARNING - Error: cannot reshape array of size 1 into shape (480,640,newaxis)\n"
     ]
    },
    {
     "data": {
      "text/plain": "Validation: 0it [00:00, ?it/s]",
      "application/vnd.jupyter.widget-view+json": {
       "version_major": 2,
       "version_minor": 0,
       "model_id": "37a7464d7b6244a2bf1a9d5b9510c50f"
      }
     },
     "metadata": {},
     "output_type": "display_data"
    },
    {
     "name": "stdout",
     "output_type": "stream",
     "text": [
      "2022-12-30 16:29:19,247 - clearml - WARNING - Failed decoding debug image [640, 480, 3]\n",
      "2022-12-30 16:29:19,250 - clearml - WARNING - Error: cannot reshape array of size 1 into shape (480,640,newaxis)\n",
      "2022-12-30 16:29:20,695 - clearml - WARNING - Failed decoding debug image [640, 480, 3]\n",
      "2022-12-30 16:29:20,697 - clearml - WARNING - Error: cannot reshape array of size 1 into shape (480,640,newaxis)\n",
      "2022-12-30 16:29:21,917 - clearml - WARNING - Failed decoding debug image [640, 480, 3]\n",
      "2022-12-30 16:29:21,919 - clearml - WARNING - Error: cannot reshape array of size 1 into shape (480,640,newaxis)\n",
      "2022-12-30 16:29:23,545 - clearml - WARNING - Failed decoding debug image [640, 480, 3]\n",
      "2022-12-30 16:29:23,547 - clearml - WARNING - Error: cannot reshape array of size 1 into shape (480,640,newaxis)\n",
      "2022-12-30 16:29:25,702 - clearml - WARNING - Failed decoding debug image [640, 480, 3]\n",
      "2022-12-30 16:29:25,704 - clearml - WARNING - Error: cannot reshape array of size 1 into shape (480,640,newaxis)\n",
      "2022-12-30 16:29:27,053 - clearml - WARNING - Failed decoding debug image [640, 480, 3]\n",
      "2022-12-30 16:29:27,054 - clearml - WARNING - Error: cannot reshape array of size 1 into shape (480,640,newaxis)\n",
      "2022-12-30 16:29:28,203 - clearml - WARNING - Failed decoding debug image [640, 480, 3]\n",
      "2022-12-30 16:29:28,205 - clearml - WARNING - Error: cannot reshape array of size 1 into shape (480,640,newaxis)\n",
      "2022-12-30 16:29:29,594 - clearml - WARNING - Failed decoding debug image [640, 480, 3]\n",
      "2022-12-30 16:29:29,595 - clearml - WARNING - Error: cannot reshape array of size 1 into shape (480,640,newaxis)\n",
      "2022-12-30 16:29:31,048 - clearml - WARNING - Failed decoding debug image [640, 480, 3]\n",
      "2022-12-30 16:29:31,049 - clearml - WARNING - Error: cannot reshape array of size 1 into shape (480,640,newaxis)\n",
      "2022-12-30 16:29:32,434 - clearml - WARNING - Failed decoding debug image [640, 480, 3]\n",
      "2022-12-30 16:29:32,436 - clearml - WARNING - Error: cannot reshape array of size 1 into shape (480,640,newaxis)\n",
      "2022-12-30 16:29:34,921 - clearml - WARNING - Failed decoding debug image [640, 480, 3]\n",
      "2022-12-30 16:29:34,922 - clearml - WARNING - Error: cannot reshape array of size 1 into shape (480,640,newaxis)\n",
      "2022-12-30 16:29:35,466 - clearml - WARNING - Failed decoding debug image [640, 480, 3]\n",
      "2022-12-30 16:29:35,468 - clearml - WARNING - Error: cannot reshape array of size 1 into shape (480,640,newaxis)\n",
      "2022-12-30 16:29:35,543 - clearml - WARNING - Failed decoding debug image [700, 225, 3]\n",
      "2022-12-30 16:29:35,544 - clearml - WARNING - Error: cannot reshape array of size 1 into shape (225,700,newaxis)\n",
      "2022-12-30 16:29:35,622 - clearml - WARNING - Failed decoding debug image [700, 225, 3]\n",
      "2022-12-30 16:29:35,623 - clearml - WARNING - Error: cannot reshape array of size 1 into shape (225,700,newaxis)\n",
      "2022-12-30 16:29:35,701 - clearml - WARNING - Failed decoding debug image [700, 225, 3]\n",
      "2022-12-30 16:29:35,703 - clearml - WARNING - Error: cannot reshape array of size 1 into shape (225,700,newaxis)\n",
      "2022-12-30 16:29:35,846 - clearml - WARNING - Failed decoding debug image [640, 480, 3]\n",
      "2022-12-30 16:29:35,849 - clearml - WARNING - Error: cannot reshape array of size 1 into shape (480,640,newaxis)\n",
      "2022-12-30 16:29:35,998 - clearml - WARNING - Failed decoding debug image [640, 480, 3]\n",
      "2022-12-30 16:29:36,000 - clearml - WARNING - Error: cannot reshape array of size 1 into shape (480,640,newaxis)\n"
     ]
    },
    {
     "data": {
      "text/plain": "Validation: 0it [00:00, ?it/s]",
      "application/vnd.jupyter.widget-view+json": {
       "version_major": 2,
       "version_minor": 0,
       "model_id": "34958db79a1843898a7922923e843353"
      }
     },
     "metadata": {},
     "output_type": "display_data"
    },
    {
     "name": "stdout",
     "output_type": "stream",
     "text": [
      "2022-12-30 16:29:37,881 - clearml - WARNING - Failed decoding debug image [640, 480, 3]\n",
      "2022-12-30 16:29:37,883 - clearml - WARNING - Error: cannot reshape array of size 1 into shape (480,640,newaxis)\n",
      "2022-12-30 16:29:39,219 - clearml - WARNING - Failed decoding debug image [640, 480, 3]\n",
      "2022-12-30 16:29:39,220 - clearml - WARNING - Error: cannot reshape array of size 1 into shape (480,640,newaxis)\n",
      "2022-12-30 16:29:40,483 - clearml - WARNING - Failed decoding debug image [640, 480, 3]\n",
      "2022-12-30 16:29:40,484 - clearml - WARNING - Error: cannot reshape array of size 1 into shape (480,640,newaxis)\n",
      "2022-12-30 16:29:41,934 - clearml - WARNING - Failed decoding debug image [640, 480, 3]\n",
      "2022-12-30 16:29:41,936 - clearml - WARNING - Error: cannot reshape array of size 1 into shape (480,640,newaxis)\n",
      "2022-12-30 16:29:43,739 - clearml - WARNING - Failed decoding debug image [640, 480, 3]\n",
      "2022-12-30 16:29:43,740 - clearml - WARNING - Error: cannot reshape array of size 1 into shape (480,640,newaxis)\n",
      "2022-12-30 16:29:45,157 - clearml - WARNING - Failed decoding debug image [640, 480, 3]\n",
      "2022-12-30 16:29:45,159 - clearml - WARNING - Error: cannot reshape array of size 1 into shape (480,640,newaxis)\n",
      "2022-12-30 16:29:46,486 - clearml - WARNING - Failed decoding debug image [640, 480, 3]\n",
      "2022-12-30 16:29:46,488 - clearml - WARNING - Error: cannot reshape array of size 1 into shape (480,640,newaxis)\n",
      "2022-12-30 16:29:47,631 - clearml - WARNING - Failed decoding debug image [640, 480, 3]\n",
      "2022-12-30 16:29:47,633 - clearml - WARNING - Error: cannot reshape array of size 1 into shape (480,640,newaxis)\n",
      "2022-12-30 16:29:49,269 - clearml - WARNING - Failed decoding debug image [640, 480, 3]\n",
      "2022-12-30 16:29:49,272 - clearml - WARNING - Error: cannot reshape array of size 1 into shape (480,640,newaxis)\n",
      "2022-12-30 16:29:50,589 - clearml - WARNING - Failed decoding debug image [640, 480, 3]\n",
      "2022-12-30 16:29:50,591 - clearml - WARNING - Error: cannot reshape array of size 1 into shape (480,640,newaxis)\n",
      "2022-12-30 16:29:52,038 - clearml - WARNING - Failed decoding debug image [640, 480, 3]\n",
      "2022-12-30 16:29:52,040 - clearml - WARNING - Error: cannot reshape array of size 1 into shape (480,640,newaxis)\n",
      "2022-12-30 16:29:52,695 - clearml - WARNING - Failed decoding debug image [640, 480, 3]\n",
      "2022-12-30 16:29:52,697 - clearml - WARNING - Error: cannot reshape array of size 1 into shape (480,640,newaxis)\n",
      "2022-12-30 16:29:52,772 - clearml - WARNING - Failed decoding debug image [700, 225, 3]\n",
      "2022-12-30 16:29:52,774 - clearml - WARNING - Error: cannot reshape array of size 1 into shape (225,700,newaxis)\n",
      "2022-12-30 16:29:52,857 - clearml - WARNING - Failed decoding debug image [700, 225, 3]\n",
      "2022-12-30 16:29:52,859 - clearml - WARNING - Error: cannot reshape array of size 1 into shape (225,700,newaxis)\n",
      "2022-12-30 16:29:52,954 - clearml - WARNING - Failed decoding debug image [700, 225, 3]\n",
      "2022-12-30 16:29:52,956 - clearml - WARNING - Error: cannot reshape array of size 1 into shape (225,700,newaxis)\n",
      "2022-12-30 16:29:53,222 - clearml - WARNING - Failed decoding debug image [640, 480, 3]\n",
      "2022-12-30 16:29:53,224 - clearml - WARNING - Error: cannot reshape array of size 1 into shape (480,640,newaxis)\n",
      "2022-12-30 16:29:53,391 - clearml - WARNING - Failed decoding debug image [640, 480, 3]\n",
      "2022-12-30 16:29:53,393 - clearml - WARNING - Error: cannot reshape array of size 1 into shape (480,640,newaxis)\n"
     ]
    },
    {
     "data": {
      "text/plain": "Validation: 0it [00:00, ?it/s]",
      "application/vnd.jupyter.widget-view+json": {
       "version_major": 2,
       "version_minor": 0,
       "model_id": "60b057c51fc74d1db6f4cffa5b6c5d24"
      }
     },
     "metadata": {},
     "output_type": "display_data"
    },
    {
     "name": "stdout",
     "output_type": "stream",
     "text": [
      "2022-12-30 16:29:55,147 - clearml - WARNING - Failed decoding debug image [640, 480, 3]\n",
      "2022-12-30 16:29:55,150 - clearml - WARNING - Error: cannot reshape array of size 1 into shape (480,640,newaxis)\n",
      "2022-12-30 16:29:56,385 - clearml - WARNING - Failed decoding debug image [640, 480, 3]\n",
      "2022-12-30 16:29:56,387 - clearml - WARNING - Error: cannot reshape array of size 1 into shape (480,640,newaxis)\n",
      "2022-12-30 16:29:57,801 - clearml - WARNING - Failed decoding debug image [640, 480, 3]\n",
      "2022-12-30 16:29:57,803 - clearml - WARNING - Error: cannot reshape array of size 1 into shape (480,640,newaxis)\n",
      "2022-12-30 16:29:59,257 - clearml - WARNING - Failed decoding debug image [640, 480, 3]\n",
      "2022-12-30 16:29:59,259 - clearml - WARNING - Error: cannot reshape array of size 1 into shape (480,640,newaxis)\n",
      "2022-12-30 16:30:00,892 - clearml - WARNING - Failed decoding debug image [640, 480, 3]\n",
      "2022-12-30 16:30:00,894 - clearml - WARNING - Error: cannot reshape array of size 1 into shape (480,640,newaxis)\n",
      "2022-12-30 16:30:02,356 - clearml - WARNING - Failed decoding debug image [640, 480, 3]\n",
      "2022-12-30 16:30:02,358 - clearml - WARNING - Error: cannot reshape array of size 1 into shape (480,640,newaxis)\n",
      "2022-12-30 16:30:04,076 - clearml - WARNING - Failed decoding debug image [640, 480, 3]\n",
      "2022-12-30 16:30:04,081 - clearml - WARNING - Error: cannot reshape array of size 1 into shape (480,640,newaxis)\n",
      "2022-12-30 16:30:05,879 - clearml - WARNING - Failed decoding debug image [640, 480, 3]\n",
      "2022-12-30 16:30:05,881 - clearml - WARNING - Error: cannot reshape array of size 1 into shape (480,640,newaxis)\n",
      "2022-12-30 16:30:07,884 - clearml - WARNING - Failed decoding debug image [640, 480, 3]\n",
      "2022-12-30 16:30:07,886 - clearml - WARNING - Error: cannot reshape array of size 1 into shape (480,640,newaxis)\n"
     ]
    }
   ],
   "source": [
    "\n",
    "# fit the model on the data - redefine the model with the correct learning rate if necessary\n",
    "trainer.fit(\n",
    "    tft, train_dataloaders=train_dataloader, val_dataloaders=val_dataloader,\n",
    ")"
   ],
   "metadata": {
    "collapsed": false,
    "pycharm": {
     "name": "#%%\n"
    }
   }
  },
  {
   "cell_type": "code",
   "execution_count": 31,
   "outputs": [],
   "source": [
    "trainer.save_checkpoint(\"TFT_model_wind\")"
   ],
   "metadata": {
    "collapsed": false,
    "pycharm": {
     "name": "#%%\n"
    }
   }
  },
  {
   "cell_type": "code",
   "execution_count": 32,
   "outputs": [],
   "source": [
    "import torch\n",
    "torch.save(tft.state_dict(), \"TFT_model_wind_weights.pt\")"
   ],
   "metadata": {
    "collapsed": false,
    "pycharm": {
     "name": "#%%\n"
    }
   }
  },
  {
   "cell_type": "code",
   "execution_count": 33,
   "outputs": [
    {
     "data": {
      "text/plain": "True"
     },
     "execution_count": 33,
     "metadata": {},
     "output_type": "execute_result"
    }
   ],
   "source": [
    "task.upload_artifact('trainer_checkpoint', artifact_object='TFT_model_wind')\n",
    "task.upload_artifact('model_weights', artifact_object='TFT_model_wind_weights.pt')"
   ],
   "metadata": {
    "collapsed": false,
    "pycharm": {
     "name": "#%%\n"
    }
   }
  },
  {
   "cell_type": "code",
   "execution_count": 34,
   "outputs": [],
   "source": [
    "task.close()"
   ],
   "metadata": {
    "collapsed": false,
    "pycharm": {
     "name": "#%%\n"
    }
   }
  },
  {
   "cell_type": "code",
   "execution_count": null,
   "outputs": [],
   "source": [],
   "metadata": {
    "collapsed": false,
    "pycharm": {
     "name": "#%%\n"
    }
   }
  },
  {
   "cell_type": "markdown",
   "source": [
    "# Darts"
   ],
   "metadata": {
    "collapsed": false,
    "pycharm": {
     "name": "#%% md\n"
    }
   }
  },
  {
   "cell_type": "code",
   "execution_count": 5,
   "outputs": [],
   "source": [
    "import pandas as pd\n",
    "from darts import TimeSeries\n",
    "\n",
    "# Read a pandas DataFrame\n",
    "# df = pd.read_csv(\"AirPassengers.csv\", delimiter=\",\")"
   ],
   "metadata": {
    "collapsed": false,
    "pycharm": {
     "name": "#%%\n"
    }
   }
  },
  {
   "cell_type": "code",
   "execution_count": 6,
   "outputs": [],
   "source": [
    "cols = [c for c in df.columns if c not in ['dt','gtpp', 'id','load_time', 'predict']]"
   ],
   "metadata": {
    "collapsed": false,
    "pycharm": {
     "name": "#%%\n"
    }
   }
  },
  {
   "cell_type": "code",
   "execution_count": 7,
   "outputs": [],
   "source": [
    "# cols"
   ],
   "metadata": {
    "collapsed": false,
    "pycharm": {
     "name": "#%%\n"
    }
   }
  },
  {
   "cell_type": "code",
   "execution_count": 8,
   "outputs": [],
   "source": [
    "df = df.drop_duplicates(['dt'], keep='last')"
   ],
   "metadata": {
    "collapsed": false,
    "pycharm": {
     "name": "#%%\n"
    }
   }
  },
  {
   "cell_type": "code",
   "execution_count": 9,
   "outputs": [],
   "source": [
    "df = df.reset_index(drop=True)"
   ],
   "metadata": {
    "collapsed": false,
    "pycharm": {
     "name": "#%%\n"
    }
   }
  },
  {
   "cell_type": "code",
   "execution_count": 10,
   "outputs": [
    {
     "data": {
      "text/plain": "            id      gtpp                   dt            load_time  predict  \\\n0         2835  PROZ0001  2021-02-09 00:00:00  2021-02-09 15:39:45        0   \n1         2836  PROZ0001  2021-02-09 01:00:00  2021-02-09 15:39:45       60   \n2         2837  PROZ0001  2021-02-09 02:00:00  2021-02-09 15:39:45      120   \n3         2838  PROZ0001  2021-02-09 03:00:00  2021-02-09 15:39:45      180   \n4         2839  PROZ0001  2021-02-09 04:00:00  2021-02-09 15:39:45      240   \n...        ...       ...                  ...                  ...      ...   \n11653  6523892  PROZ0001  2022-08-01 06:00:00  2022-08-01 10:51:03      360   \n11654  6523893  PROZ0001  2022-08-01 07:00:00  2022-08-01 10:51:03      420   \n11655  6523894  PROZ0001  2022-08-01 08:00:00  2022-08-01 10:51:03      480   \n11656  6523895  PROZ0001  2022-08-01 09:00:00  2022-08-01 10:51:03      540   \n11657  6523896  PROZ0001  2022-08-01 10:00:00  2022-08-01 10:51:03      600   \n\n       10_metre_V_wind_component  Snow_density  Snowfall    Visibility  \\\n0                          -0.81      192.1333       0.0  1.115134e+04   \n1                          -0.78      192.1216       0.0  1.038648e+04   \n2                          -0.55      192.1035       0.0  8.074824e+03   \n3                          -0.29      192.0900       0.0  7.603944e+03   \n4                          -0.02      192.0899       0.0  7.627873e+03   \n...                          ...           ...       ...           ...   \n11653                      -1.58        0.0000       0.0  2.412450e+07   \n11654                      -2.05        0.0000       0.0  2.228528e+07   \n11655                      -2.66        0.0000       0.0  2.413507e+07   \n11656                      -2.79        0.0000       0.0  2.413519e+07   \n11657                      -2.60        0.0000       0.0  2.413492e+07   \n\n       Surface_pressure  ...  Low_cloud_cover  Snow_depth  High_cloud_cover  \\\n0               94916.3  ...             0.84      0.0983              0.00   \n1               95000.2  ...             0.87      0.0983              0.00   \n2               95084.4  ...             0.94      0.0984              0.00   \n3               95160.7  ...             0.96      0.0984              0.00   \n4               95273.9  ...             0.98      0.0984              0.00   \n...                 ...  ...              ...         ...               ...   \n11653           95059.7  ...            38.08      0.0000             48.84   \n11654           95057.5  ...             1.76      0.0000             98.31   \n11655           95053.5  ...            39.60      0.0000             53.74   \n11656           95040.7  ...            72.03      0.0000             42.14   \n11657           95044.2  ...            39.28      0.0000             61.40   \n\n       Evaporation  Wind_Direction  2_metre_dewpoint_temperature  \\\n0         0.000000           280.0                         -31.4   \n1        -0.000004           280.0                         -31.7   \n2        -0.000008           277.0                         -31.7   \n3        -0.000010           274.0                         -31.9   \n4        -0.000013           270.0                         -32.0   \n...            ...             ...                           ...   \n11653     0.000000            22.4                          12.3   \n11654     0.000000            23.6                          11.9   \n11655     0.000000            24.7                          10.6   \n11656     0.000000            24.8                          10.2   \n11657     0.000000            22.5                          11.1   \n\n       Total_precipitation  2_metre_relative_humidity  \\\n0                   0.0000                       65.0   \n1                   0.0000                       65.0   \n2                   0.0000                       67.0   \n3                   0.0000                       69.0   \n4                   0.0000                       70.0   \n...                    ...                        ...   \n11653               0.0000                       56.0   \n11654               0.0625                       51.0   \n11655               0.0000                       44.0   \n11656               0.0000                       42.0   \n11657               0.0000                       49.0   \n\n       Clear_sky_direct_solar_radiation_at_surface  Snow_height  \n0                                             0.00     511.4249  \n1                                             0.00     511.4542  \n2                                             0.00     511.8842  \n3                                             0.00     511.9207  \n4                                          1866.71     511.9210  \n...                                            ...          ...  \n11653                                   3342182.40       0.0000  \n11654                                   7911388.80       0.0000  \n11655                                  10427572.80       0.0000  \n11656                                  12576268.80       0.0000  \n11657                                  12831796.80       0.0000  \n\n[11658 rows x 33 columns]",
      "text/html": "<div>\n<style scoped>\n    .dataframe tbody tr th:only-of-type {\n        vertical-align: middle;\n    }\n\n    .dataframe tbody tr th {\n        vertical-align: top;\n    }\n\n    .dataframe thead th {\n        text-align: right;\n    }\n</style>\n<table border=\"1\" class=\"dataframe\">\n  <thead>\n    <tr style=\"text-align: right;\">\n      <th></th>\n      <th>id</th>\n      <th>gtpp</th>\n      <th>dt</th>\n      <th>load_time</th>\n      <th>predict</th>\n      <th>10_metre_V_wind_component</th>\n      <th>Snow_density</th>\n      <th>Snowfall</th>\n      <th>Visibility</th>\n      <th>Surface_pressure</th>\n      <th>...</th>\n      <th>Low_cloud_cover</th>\n      <th>Snow_depth</th>\n      <th>High_cloud_cover</th>\n      <th>Evaporation</th>\n      <th>Wind_Direction</th>\n      <th>2_metre_dewpoint_temperature</th>\n      <th>Total_precipitation</th>\n      <th>2_metre_relative_humidity</th>\n      <th>Clear_sky_direct_solar_radiation_at_surface</th>\n      <th>Snow_height</th>\n    </tr>\n  </thead>\n  <tbody>\n    <tr>\n      <th>0</th>\n      <td>2835</td>\n      <td>PROZ0001</td>\n      <td>2021-02-09 00:00:00</td>\n      <td>2021-02-09 15:39:45</td>\n      <td>0</td>\n      <td>-0.81</td>\n      <td>192.1333</td>\n      <td>0.0</td>\n      <td>1.115134e+04</td>\n      <td>94916.3</td>\n      <td>...</td>\n      <td>0.84</td>\n      <td>0.0983</td>\n      <td>0.00</td>\n      <td>0.000000</td>\n      <td>280.0</td>\n      <td>-31.4</td>\n      <td>0.0000</td>\n      <td>65.0</td>\n      <td>0.00</td>\n      <td>511.4249</td>\n    </tr>\n    <tr>\n      <th>1</th>\n      <td>2836</td>\n      <td>PROZ0001</td>\n      <td>2021-02-09 01:00:00</td>\n      <td>2021-02-09 15:39:45</td>\n      <td>60</td>\n      <td>-0.78</td>\n      <td>192.1216</td>\n      <td>0.0</td>\n      <td>1.038648e+04</td>\n      <td>95000.2</td>\n      <td>...</td>\n      <td>0.87</td>\n      <td>0.0983</td>\n      <td>0.00</td>\n      <td>-0.000004</td>\n      <td>280.0</td>\n      <td>-31.7</td>\n      <td>0.0000</td>\n      <td>65.0</td>\n      <td>0.00</td>\n      <td>511.4542</td>\n    </tr>\n    <tr>\n      <th>2</th>\n      <td>2837</td>\n      <td>PROZ0001</td>\n      <td>2021-02-09 02:00:00</td>\n      <td>2021-02-09 15:39:45</td>\n      <td>120</td>\n      <td>-0.55</td>\n      <td>192.1035</td>\n      <td>0.0</td>\n      <td>8.074824e+03</td>\n      <td>95084.4</td>\n      <td>...</td>\n      <td>0.94</td>\n      <td>0.0984</td>\n      <td>0.00</td>\n      <td>-0.000008</td>\n      <td>277.0</td>\n      <td>-31.7</td>\n      <td>0.0000</td>\n      <td>67.0</td>\n      <td>0.00</td>\n      <td>511.8842</td>\n    </tr>\n    <tr>\n      <th>3</th>\n      <td>2838</td>\n      <td>PROZ0001</td>\n      <td>2021-02-09 03:00:00</td>\n      <td>2021-02-09 15:39:45</td>\n      <td>180</td>\n      <td>-0.29</td>\n      <td>192.0900</td>\n      <td>0.0</td>\n      <td>7.603944e+03</td>\n      <td>95160.7</td>\n      <td>...</td>\n      <td>0.96</td>\n      <td>0.0984</td>\n      <td>0.00</td>\n      <td>-0.000010</td>\n      <td>274.0</td>\n      <td>-31.9</td>\n      <td>0.0000</td>\n      <td>69.0</td>\n      <td>0.00</td>\n      <td>511.9207</td>\n    </tr>\n    <tr>\n      <th>4</th>\n      <td>2839</td>\n      <td>PROZ0001</td>\n      <td>2021-02-09 04:00:00</td>\n      <td>2021-02-09 15:39:45</td>\n      <td>240</td>\n      <td>-0.02</td>\n      <td>192.0899</td>\n      <td>0.0</td>\n      <td>7.627873e+03</td>\n      <td>95273.9</td>\n      <td>...</td>\n      <td>0.98</td>\n      <td>0.0984</td>\n      <td>0.00</td>\n      <td>-0.000013</td>\n      <td>270.0</td>\n      <td>-32.0</td>\n      <td>0.0000</td>\n      <td>70.0</td>\n      <td>1866.71</td>\n      <td>511.9210</td>\n    </tr>\n    <tr>\n      <th>...</th>\n      <td>...</td>\n      <td>...</td>\n      <td>...</td>\n      <td>...</td>\n      <td>...</td>\n      <td>...</td>\n      <td>...</td>\n      <td>...</td>\n      <td>...</td>\n      <td>...</td>\n      <td>...</td>\n      <td>...</td>\n      <td>...</td>\n      <td>...</td>\n      <td>...</td>\n      <td>...</td>\n      <td>...</td>\n      <td>...</td>\n      <td>...</td>\n      <td>...</td>\n      <td>...</td>\n    </tr>\n    <tr>\n      <th>11653</th>\n      <td>6523892</td>\n      <td>PROZ0001</td>\n      <td>2022-08-01 06:00:00</td>\n      <td>2022-08-01 10:51:03</td>\n      <td>360</td>\n      <td>-1.58</td>\n      <td>0.0000</td>\n      <td>0.0</td>\n      <td>2.412450e+07</td>\n      <td>95059.7</td>\n      <td>...</td>\n      <td>38.08</td>\n      <td>0.0000</td>\n      <td>48.84</td>\n      <td>0.000000</td>\n      <td>22.4</td>\n      <td>12.3</td>\n      <td>0.0000</td>\n      <td>56.0</td>\n      <td>3342182.40</td>\n      <td>0.0000</td>\n    </tr>\n    <tr>\n      <th>11654</th>\n      <td>6523893</td>\n      <td>PROZ0001</td>\n      <td>2022-08-01 07:00:00</td>\n      <td>2022-08-01 10:51:03</td>\n      <td>420</td>\n      <td>-2.05</td>\n      <td>0.0000</td>\n      <td>0.0</td>\n      <td>2.228528e+07</td>\n      <td>95057.5</td>\n      <td>...</td>\n      <td>1.76</td>\n      <td>0.0000</td>\n      <td>98.31</td>\n      <td>0.000000</td>\n      <td>23.6</td>\n      <td>11.9</td>\n      <td>0.0625</td>\n      <td>51.0</td>\n      <td>7911388.80</td>\n      <td>0.0000</td>\n    </tr>\n    <tr>\n      <th>11655</th>\n      <td>6523894</td>\n      <td>PROZ0001</td>\n      <td>2022-08-01 08:00:00</td>\n      <td>2022-08-01 10:51:03</td>\n      <td>480</td>\n      <td>-2.66</td>\n      <td>0.0000</td>\n      <td>0.0</td>\n      <td>2.413507e+07</td>\n      <td>95053.5</td>\n      <td>...</td>\n      <td>39.60</td>\n      <td>0.0000</td>\n      <td>53.74</td>\n      <td>0.000000</td>\n      <td>24.7</td>\n      <td>10.6</td>\n      <td>0.0000</td>\n      <td>44.0</td>\n      <td>10427572.80</td>\n      <td>0.0000</td>\n    </tr>\n    <tr>\n      <th>11656</th>\n      <td>6523895</td>\n      <td>PROZ0001</td>\n      <td>2022-08-01 09:00:00</td>\n      <td>2022-08-01 10:51:03</td>\n      <td>540</td>\n      <td>-2.79</td>\n      <td>0.0000</td>\n      <td>0.0</td>\n      <td>2.413519e+07</td>\n      <td>95040.7</td>\n      <td>...</td>\n      <td>72.03</td>\n      <td>0.0000</td>\n      <td>42.14</td>\n      <td>0.000000</td>\n      <td>24.8</td>\n      <td>10.2</td>\n      <td>0.0000</td>\n      <td>42.0</td>\n      <td>12576268.80</td>\n      <td>0.0000</td>\n    </tr>\n    <tr>\n      <th>11657</th>\n      <td>6523896</td>\n      <td>PROZ0001</td>\n      <td>2022-08-01 10:00:00</td>\n      <td>2022-08-01 10:51:03</td>\n      <td>600</td>\n      <td>-2.60</td>\n      <td>0.0000</td>\n      <td>0.0</td>\n      <td>2.413492e+07</td>\n      <td>95044.2</td>\n      <td>...</td>\n      <td>39.28</td>\n      <td>0.0000</td>\n      <td>61.40</td>\n      <td>0.000000</td>\n      <td>22.5</td>\n      <td>11.1</td>\n      <td>0.0000</td>\n      <td>49.0</td>\n      <td>12831796.80</td>\n      <td>0.0000</td>\n    </tr>\n  </tbody>\n</table>\n<p>11658 rows × 33 columns</p>\n</div>"
     },
     "execution_count": 10,
     "metadata": {},
     "output_type": "execute_result"
    }
   ],
   "source": [
    "df"
   ],
   "metadata": {
    "collapsed": false,
    "pycharm": {
     "name": "#%%\n"
    }
   }
  },
  {
   "cell_type": "code",
   "execution_count": 11,
   "outputs": [],
   "source": [
    "%matplotlib inline\n",
    "import numpy as np\n",
    "import pandas as pd\n",
    "import matplotlib.pyplot as plt\n",
    "import seaborn as sns\n",
    "import os\n",
    "import sys\n",
    "import missingno as mno\n",
    "import warnings\n",
    "warnings.filterwarnings(\"ignore\")\n",
    "import logging\n",
    "logging.disable(logging.CRITICAL)\n",
    "from darts import TimeSeries, concatenate\n",
    "from darts.dataprocessing.transformers import Scaler\n",
    "from darts.models import TFTModel\n",
    "from darts.metrics import mape, rmse\n",
    "from darts.utils.timeseries_generation import datetime_attribute_timeseries\n",
    "from darts.utils.likelihood_models import QuantileRegression\n",
    "pd.set_option(\"display.precision\",2)\n",
    "np.set_printoptions(precision=2, suppress=True)\n",
    "pd.options.display.float_format = '{:,.2f}'.format"
   ],
   "metadata": {
    "collapsed": false,
    "pycharm": {
     "name": "#%%\n"
    }
   }
  },
  {
   "cell_type": "code",
   "execution_count": 12,
   "outputs": [],
   "source": [
    "LOAD = False         # True = load previously saved model from disk?  False = (re)train the model\n",
    "SAVE = \"/exp1/_TFT_model_02.pth.tar\"   # file name to save the model under\n",
    "\n",
    "EPOCHS = 200\n",
    "INLEN = 32          # input size\n",
    "HIDDEN = 64         # hidden layers\n",
    "LSTMLAYERS = 2      # recurrent layers\n",
    "ATTH = 4            # attention heads\n",
    "BATCH = 32          # batch size\n",
    "LEARN = 1e-3        # learning rate\n",
    "DROPOUT = 0.1       # dropout rate\n",
    "VALWAIT = 1         # epochs to wait before evaluating the loss on the test/validation set\n",
    "N_FC = 1            # output size\n",
    "\n",
    "RAND = 42           # random seed\n",
    "N_SAMPLES = 100     # number of times a prediction is sampled from a probabilistic model\n",
    "N_JOBS = 3          # parallel processors to use;  -1 = all processors\n",
    "\n",
    "# default quantiles for QuantileRegression\n",
    "QUANTILES = [0.01, 0.1, 0.2, 0.5, 0.8, 0.9, 0.99]\n",
    "\n",
    "SPLIT = 0.9         # train/test %\n",
    "\n",
    "FIGSIZE = (9, 6)\n",
    "\n",
    "qL1, qL2 = 0.01, 0.10        # percentiles of predictions: lower bounds\n",
    "qU1, qU2 = 1-qL1, 1-qL2,     # upper bounds derived from lower bounds\n",
    "label_q1 = f'{int(qU1 * 100)} / {int(qL1 * 100)} percentile band'\n",
    "label_q2 = f'{int(qU2 * 100)} / {int(qL2 * 100)} percentile band'\n",
    "\n",
    "mpath = os.path.abspath(os.getcwd()) + SAVE"
   ],
   "metadata": {
    "collapsed": false,
    "pycharm": {
     "name": "#%%\n"
    }
   }
  },
  {
   "cell_type": "code",
   "execution_count": 91,
   "outputs": [
    {
     "data": {
      "text/plain": "'/home/kpavel/PycharmProjects/ITMO_Hack_2022/experiments/exp1/_TFT_model_02.pth.tar'"
     },
     "execution_count": 91,
     "metadata": {},
     "output_type": "execute_result"
    }
   ],
   "source": [
    "mpath"
   ],
   "metadata": {
    "collapsed": false,
    "pycharm": {
     "name": "#%%\n"
    }
   }
  },
  {
   "cell_type": "code",
   "execution_count": 92,
   "outputs": [],
   "source": [
    "# load\n",
    "# df0 = pd.read_csv(\"energy_dataset.csv\", header=0, parse_dates=[\"time\"])\n",
    "# dfw0 = pd.read_csv(\"weather_features.csv\", header=0, parse_dates=[\"dt_iso\"])"
   ],
   "metadata": {
    "collapsed": false,
    "pycharm": {
     "name": "#%%\n"
    }
   }
  },
  {
   "cell_type": "code",
   "execution_count": 13,
   "outputs": [],
   "source": [
    "# Create a TimeSeries, specifying the time and value columns\n",
    "series = TimeSeries.from_dataframe(df, time_col=\"dt\", value_cols=cols, fill_missing_dates=True, freq='H')\n",
    "# Set aside the last 36 months as a validation series\n",
    "# train, val = series[:-36], series[-36:]"
   ],
   "metadata": {
    "collapsed": false,
    "pycharm": {
     "name": "#%%\n"
    }
   }
  },
  {
   "cell_type": "code",
   "execution_count": 14,
   "outputs": [
    {
     "name": "stdout",
     "output_type": "stream",
     "text": [
      "components: Index(['predict'], dtype='object', name='component')\n",
      "duration: 11657\n",
      "frequency: 1\n",
      "frequency: None\n",
      "has date time index? (or else, it must have an integer index): False\n",
      "deterministic: True\n",
      "univariate: True\n"
     ]
    }
   ],
   "source": [
    "# create time series object for target variable\n",
    "ts_P = TimeSeries.from_series(df[\"predict\"])\n",
    "\n",
    "# check attributes of the time series\n",
    "print(\"components:\", ts_P.components)\n",
    "print(\"duration:\",ts_P.duration)\n",
    "print(\"frequency:\",ts_P.freq)\n",
    "print(\"frequency:\",ts_P.freq_str)\n",
    "print(\"has date time index? (or else, it must have an integer index):\",ts_P.has_datetime_index)\n",
    "print(\"deterministic:\",ts_P.is_deterministic)\n",
    "print(\"univariate:\",ts_P.is_univariate)"
   ],
   "metadata": {
    "collapsed": false,
    "pycharm": {
     "name": "#%%\n"
    }
   }
  },
  {
   "cell_type": "code",
   "execution_count": 15,
   "outputs": [
    {
     "name": "stdout",
     "output_type": "stream",
     "text": [
      "components (columns) of feature time series: Index(['10_metre_V_wind_component', 'Snow_density', 'Snowfall', 'Visibility',\n",
      "       'Surface_pressure', 'Convective_precipitation', 'Visual_cloud_cover',\n",
      "       'Total_cloud_cover', 'Precipitation_type',\n",
      "       'Instantaneous_10_metre_wind_gust', 'Medium_cloud_cover',\n",
      "       'Total_precipitation_rate', 'Convective_available_potential_energy',\n",
      "       '10_metre_U_wind_component', 'Skin_temperature', '2_metre_temperature',\n",
      "       'Surface_solar_radiation_downwards', 'Wind_speed', 'Low_cloud_cover',\n",
      "       'Snow_depth', 'High_cloud_cover', 'Evaporation', 'Wind_Direction',\n",
      "       '2_metre_dewpoint_temperature', 'Total_precipitation',\n",
      "       '2_metre_relative_humidity',\n",
      "       'Clear_sky_direct_solar_radiation_at_surface', 'Snow_height'],\n",
      "      dtype='object', name='component')\n",
      "duration: 11657\n",
      "frequency: 1\n",
      "frequency: None\n",
      "has date time index? (or else, it must have an integer index): False\n",
      "deterministic: True\n",
      "univariate: False\n"
     ]
    }
   ],
   "source": [
    "# create time series object for the feature columns\n",
    "df_covF = df.loc[:, cols]\n",
    "ts_covF = TimeSeries.from_dataframe(df_covF)\n",
    "\n",
    "# check attributes of the time series\n",
    "print(\"components (columns) of feature time series:\", ts_covF.components)\n",
    "print(\"duration:\",ts_covF.duration)\n",
    "print(\"frequency:\",ts_covF.freq)\n",
    "print(\"frequency:\",ts_covF.freq_str)\n",
    "print(\"has date time index? (or else, it must have an integer index):\",ts_covF.has_datetime_index)\n",
    "print(\"deterministic:\",ts_covF.is_deterministic)\n",
    "print(\"univariate:\",ts_covF.is_univariate)"
   ],
   "metadata": {
    "collapsed": false,
    "pycharm": {
     "name": "#%%\n"
    }
   }
  },
  {
   "cell_type": "code",
   "execution_count": 16,
   "outputs": [
    {
     "name": "stdout",
     "output_type": "stream",
     "text": [
      "training start: 0\n",
      "training end: 10491\n",
      "training duration: 10491\n",
      "test start: 10492\n",
      "test end: 11657\n",
      "test duration: 1165\n",
      "first and last row of scaled price time series:\n"
     ]
    },
    {
     "data": {
      "text/plain": "component  predict\ntime              \n0             0.00\n11657         0.43",
      "text/html": "<div>\n<style scoped>\n    .dataframe tbody tr th:only-of-type {\n        vertical-align: middle;\n    }\n\n    .dataframe tbody tr th {\n        vertical-align: top;\n    }\n\n    .dataframe thead th {\n        text-align: right;\n    }\n</style>\n<table border=\"1\" class=\"dataframe\">\n  <thead>\n    <tr style=\"text-align: right;\">\n      <th>component</th>\n      <th>predict</th>\n    </tr>\n    <tr>\n      <th>time</th>\n      <th></th>\n    </tr>\n  </thead>\n  <tbody>\n    <tr>\n      <th>0</th>\n      <td>0.00</td>\n    </tr>\n    <tr>\n      <th>11657</th>\n      <td>0.43</td>\n    </tr>\n  </tbody>\n</table>\n</div>"
     },
     "execution_count": 16,
     "metadata": {},
     "output_type": "execute_result"
    }
   ],
   "source": [
    "# train/test split and scaling of target variable\n",
    "ts_train, ts_test = ts_P.split_after(SPLIT)\n",
    "print(\"training start:\", ts_train.start_time())\n",
    "print(\"training end:\", ts_train.end_time())\n",
    "print(\"training duration:\",ts_train.duration)\n",
    "print(\"test start:\", ts_test.start_time())\n",
    "print(\"test end:\", ts_test.end_time())\n",
    "print(\"test duration:\", ts_test.duration)\n",
    "\n",
    "\n",
    "scalerP = Scaler()\n",
    "scalerP.fit_transform(ts_train)\n",
    "ts_ttrain = scalerP.transform(ts_train)\n",
    "ts_ttest = scalerP.transform(ts_test)\n",
    "ts_t = scalerP.transform(ts_P)\n",
    "\n",
    "# make sure data are of type float\n",
    "ts_t = ts_t.astype(np.float32)\n",
    "ts_ttrain = ts_ttrain.astype(np.float32)\n",
    "ts_ttest = ts_ttest.astype(np.float32)\n",
    "\n",
    "print(\"first and last row of scaled price time series:\")\n",
    "pd.options.display.float_format = '{:,.2f}'.format\n",
    "ts_t.pd_dataframe().iloc[[0,-1]]"
   ],
   "metadata": {
    "collapsed": false,
    "pycharm": {
     "name": "#%%\n"
    }
   }
  },
  {
   "cell_type": "code",
   "execution_count": 17,
   "outputs": [
    {
     "name": "stdout",
     "output_type": "stream",
     "text": [
      "first and last row of scaled feature covariates:\n"
     ]
    },
    {
     "data": {
      "text/plain": "component  10_metre_V_wind_component  Snow_density  Snowfall  Visibility  \\\ntime                                                                       \n0                               0.44          0.50      0.00        0.00   \n11657                           0.31          0.03      0.00        0.47   \n\ncomponent  Surface_pressure  Convective_precipitation  Visual_cloud_cover  \\\ntime                                                                        \n0                      0.48                      0.00                0.01   \n11657                  0.50                      0.01                0.57   \n\ncomponent  Total_cloud_cover  Precipitation_type  \\\ntime                                               \n0                       0.01                0.07   \n11657                   0.78                1.00   \n\ncomponent  Instantaneous_10_metre_wind_gust  ...  Low_cloud_cover  Snow_depth  \\\ntime                                         ...                                \n0                                      0.48  ...             0.01        0.00   \n11657                                  0.00  ...             0.39        0.00   \n\ncomponent  High_cloud_cover  Evaporation  Wind_Direction  \\\ntime                                                       \n0                      0.00         0.12            0.79   \n11657                  0.61         0.12            0.09   \n\ncomponent  2_metre_dewpoint_temperature  Total_precipitation  \\\ntime                                                           \n0                                  0.03                 0.00   \n11657                              0.84                 0.00   \n\ncomponent  2_metre_relative_humidity  \\\ntime                                   \n0                               0.61   \n11657                           0.43   \n\ncomponent  Clear_sky_direct_solar_radiation_at_surface  Snow_height  \ntime                                                                 \n0                                                 0.00         0.00  \n11657                                             0.54         0.00  \n\n[2 rows x 28 columns]",
      "text/html": "<div>\n<style scoped>\n    .dataframe tbody tr th:only-of-type {\n        vertical-align: middle;\n    }\n\n    .dataframe tbody tr th {\n        vertical-align: top;\n    }\n\n    .dataframe thead th {\n        text-align: right;\n    }\n</style>\n<table border=\"1\" class=\"dataframe\">\n  <thead>\n    <tr style=\"text-align: right;\">\n      <th>component</th>\n      <th>10_metre_V_wind_component</th>\n      <th>Snow_density</th>\n      <th>Snowfall</th>\n      <th>Visibility</th>\n      <th>Surface_pressure</th>\n      <th>Convective_precipitation</th>\n      <th>Visual_cloud_cover</th>\n      <th>Total_cloud_cover</th>\n      <th>Precipitation_type</th>\n      <th>Instantaneous_10_metre_wind_gust</th>\n      <th>...</th>\n      <th>Low_cloud_cover</th>\n      <th>Snow_depth</th>\n      <th>High_cloud_cover</th>\n      <th>Evaporation</th>\n      <th>Wind_Direction</th>\n      <th>2_metre_dewpoint_temperature</th>\n      <th>Total_precipitation</th>\n      <th>2_metre_relative_humidity</th>\n      <th>Clear_sky_direct_solar_radiation_at_surface</th>\n      <th>Snow_height</th>\n    </tr>\n    <tr>\n      <th>time</th>\n      <th></th>\n      <th></th>\n      <th></th>\n      <th></th>\n      <th></th>\n      <th></th>\n      <th></th>\n      <th></th>\n      <th></th>\n      <th></th>\n      <th></th>\n      <th></th>\n      <th></th>\n      <th></th>\n      <th></th>\n      <th></th>\n      <th></th>\n      <th></th>\n      <th></th>\n      <th></th>\n      <th></th>\n    </tr>\n  </thead>\n  <tbody>\n    <tr>\n      <th>0</th>\n      <td>0.44</td>\n      <td>0.50</td>\n      <td>0.00</td>\n      <td>0.00</td>\n      <td>0.48</td>\n      <td>0.00</td>\n      <td>0.01</td>\n      <td>0.01</td>\n      <td>0.07</td>\n      <td>0.48</td>\n      <td>...</td>\n      <td>0.01</td>\n      <td>0.00</td>\n      <td>0.00</td>\n      <td>0.12</td>\n      <td>0.79</td>\n      <td>0.03</td>\n      <td>0.00</td>\n      <td>0.61</td>\n      <td>0.00</td>\n      <td>0.00</td>\n    </tr>\n    <tr>\n      <th>11657</th>\n      <td>0.31</td>\n      <td>0.03</td>\n      <td>0.00</td>\n      <td>0.47</td>\n      <td>0.50</td>\n      <td>0.01</td>\n      <td>0.57</td>\n      <td>0.78</td>\n      <td>1.00</td>\n      <td>0.00</td>\n      <td>...</td>\n      <td>0.39</td>\n      <td>0.00</td>\n      <td>0.61</td>\n      <td>0.12</td>\n      <td>0.09</td>\n      <td>0.84</td>\n      <td>0.00</td>\n      <td>0.43</td>\n      <td>0.54</td>\n      <td>0.00</td>\n    </tr>\n  </tbody>\n</table>\n<p>2 rows × 28 columns</p>\n</div>"
     },
     "execution_count": 17,
     "metadata": {},
     "output_type": "execute_result"
    }
   ],
   "source": [
    "# train/test split and scaling of feature covariates\n",
    "covF_train, covF_test = ts_covF.split_after(SPLIT)\n",
    "\n",
    "scalerF = Scaler()\n",
    "scalerF.fit_transform(covF_train)\n",
    "covF_ttrain = scalerF.transform(covF_train)\n",
    "covF_ttest = scalerF.transform(covF_test)\n",
    "covF_t = scalerF.transform(ts_covF)\n",
    "\n",
    "# make sure data are of type float\n",
    "covF_ttrain = covF_ttrain.astype(np.float32)\n",
    "covF_ttest = covF_ttest.astype(np.float32)\n",
    "\n",
    "pd.options.display.float_format = '{:.2f}'.format\n",
    "print(\"first and last row of scaled feature covariates:\")\n",
    "covF_t.pd_dataframe().iloc[[0,-1]]"
   ],
   "metadata": {
    "collapsed": false,
    "pycharm": {
     "name": "#%%\n"
    }
   }
  },
  {
   "cell_type": "code",
   "execution_count": 18,
   "outputs": [
    {
     "ename": "AttributeError",
     "evalue": "'RangeIndex' object has no attribute 'freq'",
     "output_type": "error",
     "traceback": [
      "\u001B[0;31m---------------------------------------------------------------------------\u001B[0m",
      "\u001B[0;31mAttributeError\u001B[0m                            Traceback (most recent call last)",
      "Cell \u001B[0;32mIn [18], line 2\u001B[0m\n\u001B[1;32m      1\u001B[0m \u001B[38;5;66;03m# feature engineering - create time covariates: hour, weekday, month, year, country-specific holidays\u001B[39;00m\n\u001B[0;32m----> 2\u001B[0m covT \u001B[38;5;241m=\u001B[39m \u001B[43mdatetime_attribute_timeseries\u001B[49m\u001B[43m(\u001B[49m\u001B[43m \u001B[49m\u001B[43mts_P\u001B[49m\u001B[38;5;241;43m.\u001B[39;49m\u001B[43mtime_index\u001B[49m\u001B[43m,\u001B[49m\u001B[43m \u001B[49m\u001B[43mattribute\u001B[49m\u001B[38;5;241;43m=\u001B[39;49m\u001B[38;5;124;43m\"\u001B[39;49m\u001B[38;5;124;43mhour\u001B[39;49m\u001B[38;5;124;43m\"\u001B[39;49m\u001B[43m,\u001B[49m\u001B[43m \u001B[49m\u001B[43madd_length\u001B[49m\u001B[38;5;241;43m=\u001B[39;49m\u001B[38;5;241;43m48\u001B[39;49m\u001B[43m \u001B[49m\u001B[43m)\u001B[49m   \u001B[38;5;66;03m# 48 hours beyond end of test set to prepare for out-of-sample forecasting\u001B[39;00m\n\u001B[1;32m      3\u001B[0m covT \u001B[38;5;241m=\u001B[39m covT\u001B[38;5;241m.\u001B[39mstack(  datetime_attribute_timeseries(covT\u001B[38;5;241m.\u001B[39mtime_index, attribute\u001B[38;5;241m=\u001B[39m\u001B[38;5;124m\"\u001B[39m\u001B[38;5;124mday_of_week\u001B[39m\u001B[38;5;124m\"\u001B[39m)  )\n\u001B[1;32m      4\u001B[0m covT \u001B[38;5;241m=\u001B[39m covT\u001B[38;5;241m.\u001B[39mstack(  datetime_attribute_timeseries(covT\u001B[38;5;241m.\u001B[39mtime_index, attribute\u001B[38;5;241m=\u001B[39m\u001B[38;5;124m\"\u001B[39m\u001B[38;5;124mmonth\u001B[39m\u001B[38;5;124m\"\u001B[39m)  )\n",
      "File \u001B[0;32m~/anaconda3/envs/energy/lib/python3.10/site-packages/darts/utils/timeseries_generation.py:639\u001B[0m, in \u001B[0;36mdatetime_attribute_timeseries\u001B[0;34m(time_index, attribute, one_hot, cyclic, until, add_length, dtype, with_columns)\u001B[0m\n\u001B[1;32m    636\u001B[0m \u001B[38;5;28;01mif\u001B[39;00m \u001B[38;5;28misinstance\u001B[39m(time_index, TimeSeries):\n\u001B[1;32m    637\u001B[0m     time_index \u001B[38;5;241m=\u001B[39m time_index\u001B[38;5;241m.\u001B[39mtime_index\n\u001B[0;32m--> 639\u001B[0m time_index \u001B[38;5;241m=\u001B[39m \u001B[43m_extend_time_index_until\u001B[49m\u001B[43m(\u001B[49m\u001B[43mtime_index\u001B[49m\u001B[43m,\u001B[49m\u001B[43m \u001B[49m\u001B[43muntil\u001B[49m\u001B[43m,\u001B[49m\u001B[43m \u001B[49m\u001B[43madd_length\u001B[49m\u001B[43m)\u001B[49m\n\u001B[1;32m    641\u001B[0m raise_if_not(\n\u001B[1;32m    642\u001B[0m     \u001B[38;5;28mhasattr\u001B[39m(pd\u001B[38;5;241m.\u001B[39mDatetimeIndex, attribute)\n\u001B[1;32m    643\u001B[0m     \u001B[38;5;129;01mor\u001B[39;00m (attribute \u001B[38;5;129;01min\u001B[39;00m [\u001B[38;5;124m\"\u001B[39m\u001B[38;5;124mweek\u001B[39m\u001B[38;5;124m\"\u001B[39m, \u001B[38;5;124m\"\u001B[39m\u001B[38;5;124mweekofyear\u001B[39m\u001B[38;5;124m\"\u001B[39m, \u001B[38;5;124m\"\u001B[39m\u001B[38;5;124mweek_of_year\u001B[39m\u001B[38;5;124m\"\u001B[39m]),\n\u001B[0;32m   (...)\u001B[0m\n\u001B[1;32m    647\u001B[0m     logger,\n\u001B[1;32m    648\u001B[0m )\n\u001B[1;32m    650\u001B[0m raise_if(one_hot \u001B[38;5;129;01mand\u001B[39;00m cyclic, \u001B[38;5;124m\"\u001B[39m\u001B[38;5;124mset only one of one_hot or cyclic to true\u001B[39m\u001B[38;5;124m\"\u001B[39m, logger)\n",
      "File \u001B[0;32m~/anaconda3/envs/energy/lib/python3.10/site-packages/darts/utils/timeseries_generation.py:471\u001B[0m, in \u001B[0;36m_extend_time_index_until\u001B[0;34m(time_index, until, add_length)\u001B[0m\n\u001B[1;32m    468\u001B[0m raise_if(\u001B[38;5;28mbool\u001B[39m(add_length) \u001B[38;5;129;01mand\u001B[39;00m \u001B[38;5;28mbool\u001B[39m(until), \u001B[38;5;124m\"\u001B[39m\u001B[38;5;124mset only one of add_length and until\u001B[39m\u001B[38;5;124m\"\u001B[39m)\n\u001B[1;32m    470\u001B[0m end \u001B[38;5;241m=\u001B[39m time_index[\u001B[38;5;241m-\u001B[39m\u001B[38;5;241m1\u001B[39m]\n\u001B[0;32m--> 471\u001B[0m freq \u001B[38;5;241m=\u001B[39m \u001B[43mtime_index\u001B[49m\u001B[38;5;241;43m.\u001B[39;49m\u001B[43mfreq\u001B[49m\n\u001B[1;32m    473\u001B[0m \u001B[38;5;28;01mif\u001B[39;00m add_length:\n\u001B[1;32m    474\u001B[0m     raise_if_not(\n\u001B[1;32m    475\u001B[0m         add_length \u001B[38;5;241m>\u001B[39m\u001B[38;5;241m=\u001B[39m \u001B[38;5;241m0\u001B[39m,\n\u001B[1;32m    476\u001B[0m         \u001B[38;5;124mf\u001B[39m\u001B[38;5;124m\"\u001B[39m\u001B[38;5;124mExpected add_length, by which to extend the time series by, \u001B[39m\u001B[38;5;124m\"\u001B[39m\n\u001B[1;32m    477\u001B[0m         \u001B[38;5;124mf\u001B[39m\u001B[38;5;124m\"\u001B[39m\u001B[38;5;124mto be positive, got \u001B[39m\u001B[38;5;132;01m{\u001B[39;00madd_length\u001B[38;5;132;01m}\u001B[39;00m\u001B[38;5;124m\"\u001B[39m,\n\u001B[1;32m    478\u001B[0m     )\n",
      "\u001B[0;31mAttributeError\u001B[0m: 'RangeIndex' object has no attribute 'freq'"
     ]
    }
   ],
   "source": [
    "# feature engineering - create time covariates: hour, weekday, month, year, country-specific holidays\n",
    "covT = datetime_attribute_timeseries( ts_P.time_index, attribute=\"hour\", add_length=48 )   # 48 hours beyond end of test set to prepare for out-of-sample forecasting\n",
    "covT = covT.stack(  datetime_attribute_timeseries(covT.time_index, attribute=\"day_of_week\")  )\n",
    "covT = covT.stack(  datetime_attribute_timeseries(covT.time_index, attribute=\"month\")  )\n",
    "covT = covT.stack(  datetime_attribute_timeseries(covT.time_index, attribute=\"year\")  )\n",
    "\n",
    "covT = covT.add_holidays(country_code=\"RU\")\n",
    "covT = covT.astype(np.float32)\n",
    "\n",
    "# train/test split\n",
    "covT_train, covT_test = covT.split_after(ts_train.end_time())\n",
    "\n",
    "\n",
    "# rescale the covariates: fitting on the training set\n",
    "scalerT = Scaler()\n",
    "scalerT.fit(covT_train)\n",
    "covT_ttrain = scalerT.transform(covT_train)\n",
    "covT_ttest = scalerT.transform(covT_test)\n",
    "covT_t = scalerT.transform(covT)\n",
    "\n",
    "covT_t = covT_t.astype(np.float32)\n",
    "\n",
    "pd.options.display.float_format = '{:.0f}'.format\n",
    "print(\"first and last row of unscaled time covariates:\")\n",
    "covT.pd_dataframe().iloc[[0,-1]]"
   ],
   "metadata": {
    "collapsed": false,
    "pycharm": {
     "name": "#%%\n"
    }
   }
  },
  {
   "cell_type": "code",
   "execution_count": 19,
   "outputs": [],
   "source": [
    "# dfX[\"ysin\"] = np.sin( 2 * np.pi * dfX[\"week\"] / (365.25/7) )\n",
    "# dfX[\"ycos\"] = np.cos( 2 * np.pi * dfX[\"week\"] / (365.25/7) )"
   ],
   "metadata": {
    "collapsed": false,
    "pycharm": {
     "name": "#%%\n"
    }
   }
  },
  {
   "cell_type": "code",
   "execution_count": 20,
   "outputs": [
    {
     "ename": "NameError",
     "evalue": "name 'covT' is not defined",
     "output_type": "error",
     "traceback": [
      "\u001B[0;31m---------------------------------------------------------------------------\u001B[0m",
      "\u001B[0;31mNameError\u001B[0m                                 Traceback (most recent call last)",
      "Cell \u001B[0;32mIn [20], line 2\u001B[0m\n\u001B[1;32m      1\u001B[0m \u001B[38;5;66;03m# combine feature and time covariates along component dimension: axis=1\u001B[39;00m\n\u001B[0;32m----> 2\u001B[0m ts_cov \u001B[38;5;241m=\u001B[39m ts_covF\u001B[38;5;241m.\u001B[39mconcatenate( \u001B[43mcovT\u001B[49m\u001B[38;5;241m.\u001B[39mslice_intersect(ts_covF), axis\u001B[38;5;241m=\u001B[39m\u001B[38;5;241m1\u001B[39m )                      \u001B[38;5;66;03m# unscaled F+T\u001B[39;00m\n\u001B[1;32m      3\u001B[0m cov_t \u001B[38;5;241m=\u001B[39m covF_t\u001B[38;5;241m.\u001B[39mconcatenate( covT_t\u001B[38;5;241m.\u001B[39mslice_intersect(covF_t), axis\u001B[38;5;241m=\u001B[39m\u001B[38;5;241m1\u001B[39m )                       \u001B[38;5;66;03m# scaled F+T\u001B[39;00m\n\u001B[1;32m      4\u001B[0m cov_ttrain \u001B[38;5;241m=\u001B[39m covF_ttrain\u001B[38;5;241m.\u001B[39mconcatenate( covT_ttrain\u001B[38;5;241m.\u001B[39mslice_intersect(covF_ttrain), axis\u001B[38;5;241m=\u001B[39m\u001B[38;5;241m1\u001B[39m )   \u001B[38;5;66;03m# scaled F+T training set\u001B[39;00m\n",
      "\u001B[0;31mNameError\u001B[0m: name 'covT' is not defined"
     ]
    }
   ],
   "source": [
    "# combine feature and time covariates along component dimension: axis=1\n",
    "ts_cov = ts_covF.concatenate( covT.slice_intersect(ts_covF), axis=1 )                      # unscaled F+T\n",
    "cov_t = covF_t.concatenate( covT_t.slice_intersect(covF_t), axis=1 )                       # scaled F+T\n",
    "cov_ttrain = covF_ttrain.concatenate( covT_ttrain.slice_intersect(covF_ttrain), axis=1 )   # scaled F+T training set\n",
    "cov_ttest = covF_ttest.concatenate( covT_ttest.slice_intersect(covF_ttest), axis=1 )       # scaled F+T test set\n",
    "\n",
    "pd.options.display.float_format = '{:.2f}'.format\n",
    "print(\"first and last row of unscaled covariates:\")\n",
    "ts_cov.pd_dataframe().iloc[[0,-1]]"
   ],
   "metadata": {
    "collapsed": false,
    "pycharm": {
     "name": "#%%\n"
    }
   }
  },
  {
   "cell_type": "code",
   "execution_count": 21,
   "outputs": [
    {
     "name": "stdout",
     "output_type": "stream",
     "text": [
      "first and last row of unscaled covariates:\n"
     ]
    },
    {
     "data": {
      "text/plain": "component  10_metre_V_wind_component  Snow_density  Snowfall  Visibility  \\\ntime                                                                       \n0                              -0.81        192.13      0.00    11151.34   \n11657                          -2.60          0.00      0.00 24134921.98   \n\ncomponent  Surface_pressure  Convective_precipitation  Visual_cloud_cover  \\\ntime                                                                        \n0                  94916.30                      0.00                0.84   \n11657              95044.20                      0.12               57.43   \n\ncomponent  Total_cloud_cover  Precipitation_type  \\\ntime                                               \n0                       0.84                5.00   \n11657                  78.33              255.00   \n\ncomponent  Instantaneous_10_metre_wind_gust  ...  Low_cloud_cover  Snow_depth  \\\ntime                                         ...                                \n0                                     10.20  ...             0.84        0.10   \n11657                                  0.00  ...            39.28        0.00   \n\ncomponent  High_cloud_cover  Evaporation  Wind_Direction  \\\ntime                                                       \n0                      0.00         0.00          280.00   \n11657                 61.40         0.00           22.50   \n\ncomponent  2_metre_dewpoint_temperature  Total_precipitation  \\\ntime                                                           \n0                                -31.40                 0.00   \n11657                             11.10                 0.00   \n\ncomponent  2_metre_relative_humidity  \\\ntime                                   \n0                              65.00   \n11657                          49.00   \n\ncomponent  Clear_sky_direct_solar_radiation_at_surface  Snow_height  \ntime                                                                 \n0                                                 0.00       511.42  \n11657                                      12831796.80         0.00  \n\n[2 rows x 28 columns]",
      "text/html": "<div>\n<style scoped>\n    .dataframe tbody tr th:only-of-type {\n        vertical-align: middle;\n    }\n\n    .dataframe tbody tr th {\n        vertical-align: top;\n    }\n\n    .dataframe thead th {\n        text-align: right;\n    }\n</style>\n<table border=\"1\" class=\"dataframe\">\n  <thead>\n    <tr style=\"text-align: right;\">\n      <th>component</th>\n      <th>10_metre_V_wind_component</th>\n      <th>Snow_density</th>\n      <th>Snowfall</th>\n      <th>Visibility</th>\n      <th>Surface_pressure</th>\n      <th>Convective_precipitation</th>\n      <th>Visual_cloud_cover</th>\n      <th>Total_cloud_cover</th>\n      <th>Precipitation_type</th>\n      <th>Instantaneous_10_metre_wind_gust</th>\n      <th>...</th>\n      <th>Low_cloud_cover</th>\n      <th>Snow_depth</th>\n      <th>High_cloud_cover</th>\n      <th>Evaporation</th>\n      <th>Wind_Direction</th>\n      <th>2_metre_dewpoint_temperature</th>\n      <th>Total_precipitation</th>\n      <th>2_metre_relative_humidity</th>\n      <th>Clear_sky_direct_solar_radiation_at_surface</th>\n      <th>Snow_height</th>\n    </tr>\n    <tr>\n      <th>time</th>\n      <th></th>\n      <th></th>\n      <th></th>\n      <th></th>\n      <th></th>\n      <th></th>\n      <th></th>\n      <th></th>\n      <th></th>\n      <th></th>\n      <th></th>\n      <th></th>\n      <th></th>\n      <th></th>\n      <th></th>\n      <th></th>\n      <th></th>\n      <th></th>\n      <th></th>\n      <th></th>\n      <th></th>\n    </tr>\n  </thead>\n  <tbody>\n    <tr>\n      <th>0</th>\n      <td>-0.81</td>\n      <td>192.13</td>\n      <td>0.00</td>\n      <td>11151.34</td>\n      <td>94916.30</td>\n      <td>0.00</td>\n      <td>0.84</td>\n      <td>0.84</td>\n      <td>5.00</td>\n      <td>10.20</td>\n      <td>...</td>\n      <td>0.84</td>\n      <td>0.10</td>\n      <td>0.00</td>\n      <td>0.00</td>\n      <td>280.00</td>\n      <td>-31.40</td>\n      <td>0.00</td>\n      <td>65.00</td>\n      <td>0.00</td>\n      <td>511.42</td>\n    </tr>\n    <tr>\n      <th>11657</th>\n      <td>-2.60</td>\n      <td>0.00</td>\n      <td>0.00</td>\n      <td>24134921.98</td>\n      <td>95044.20</td>\n      <td>0.12</td>\n      <td>57.43</td>\n      <td>78.33</td>\n      <td>255.00</td>\n      <td>0.00</td>\n      <td>...</td>\n      <td>39.28</td>\n      <td>0.00</td>\n      <td>61.40</td>\n      <td>0.00</td>\n      <td>22.50</td>\n      <td>11.10</td>\n      <td>0.00</td>\n      <td>49.00</td>\n      <td>12831796.80</td>\n      <td>0.00</td>\n    </tr>\n  </tbody>\n</table>\n<p>2 rows × 28 columns</p>\n</div>"
     },
     "execution_count": 21,
     "metadata": {},
     "output_type": "execute_result"
    }
   ],
   "source": [
    "ts_cov = ts_covF                     # unscaled F+T\n",
    "cov_t = covF_t                      # scaled F+T\n",
    "cov_ttrain = covF_ttrain   # scaled F+T training set\n",
    "cov_ttest = covF_ttest      # scaled F+T test set\n",
    "\n",
    "pd.options.display.float_format = '{:.2f}'.format\n",
    "print(\"first and last row of unscaled covariates:\")\n",
    "ts_cov.pd_dataframe().iloc[[0,-1]]"
   ],
   "metadata": {
    "collapsed": false,
    "pycharm": {
     "name": "#%%\n"
    }
   }
  },
  {
   "cell_type": "code",
   "execution_count": 21,
   "outputs": [],
   "source": [],
   "metadata": {
    "collapsed": false,
    "pycharm": {
     "name": "#%%\n"
    }
   }
  },
  {
   "cell_type": "code",
   "execution_count": 41,
   "outputs": [],
   "source": [
    "\n",
    "model = TFTModel(   input_chunk_length=INLEN,\n",
    "                    output_chunk_length=N_FC,\n",
    "                    hidden_size=HIDDEN,\n",
    "                    lstm_layers=LSTMLAYERS,\n",
    "                    num_attention_heads=ATTH,\n",
    "                    dropout=DROPOUT,\n",
    "                    batch_size=BATCH,\n",
    "                    n_epochs=1,#EPOCHS,\n",
    "                    nr_epochs_val_period=VALWAIT,\n",
    "                    likelihood=QuantileRegression(QUANTILES),\n",
    "                    optimizer_kwargs={\"lr\": LEARN},\n",
    "                    model_name=\"TFT_EnergyES\",\n",
    "                    log_tensorboard=True,\n",
    "                    random_state=RAND,\n",
    "                    force_reset=True,\n",
    "                    save_checkpoints=True\n",
    "                )"
   ],
   "metadata": {
    "collapsed": false,
    "pycharm": {
     "name": "#%%\n"
    }
   }
  },
  {
   "cell_type": "code",
   "execution_count": 42,
   "outputs": [],
   "source": [
    "cov_t = cov_t.astype('float32')"
   ],
   "metadata": {
    "collapsed": false,
    "pycharm": {
     "name": "#%%\n"
    }
   }
  },
  {
   "cell_type": "code",
   "execution_count": 43,
   "outputs": [
    {
     "data": {
      "text/plain": "Sanity Checking: 0it [00:00, ?it/s]",
      "application/vnd.jupyter.widget-view+json": {
       "version_major": 2,
       "version_minor": 0,
       "model_id": "89e2358fdaa74bef87ded833312891fd"
      }
     },
     "metadata": {},
     "output_type": "display_data"
    },
    {
     "data": {
      "text/plain": "Training: 0it [00:00, ?it/s]",
      "application/vnd.jupyter.widget-view+json": {
       "version_major": 2,
       "version_minor": 0,
       "model_id": "ed27b96157574ec4b11eb5c7d1f80a45"
      }
     },
     "metadata": {},
     "output_type": "display_data"
    },
    {
     "data": {
      "text/plain": "Validation: 0it [00:00, ?it/s]",
      "application/vnd.jupyter.widget-view+json": {
       "version_major": 2,
       "version_minor": 0,
       "model_id": "90b398825cdb450c9a3507c5133c241a"
      }
     },
     "metadata": {},
     "output_type": "display_data"
    },
    {
     "name": "stdout",
     "output_type": "stream",
     "text": [
      "have saved the model after training: /home/kpavel/PycharmProjects/ITMO_Hack_2022/experiments/exp1/_TFT_model_02.pth.tar\n"
     ]
    }
   ],
   "source": [
    "# training: load a saved model or (re)train\n",
    "if LOAD:\n",
    "    print(\"have loaded a previously saved model from disk:\" + mpath)\n",
    "    model = TFTModel.load_model(mpath)                            # load previously model from disk\n",
    "else:\n",
    "    model.fit(series=ts_ttrain,\n",
    "              future_covariates=cov_t,\n",
    "              val_series=ts_ttest,\n",
    "              val_future_covariates=cov_t,\n",
    "              verbose=True)\n",
    "    print(\"have saved the model after training:\", mpath)\n",
    "    model.save_model('TFT_model_02.pth.tar')"
   ],
   "metadata": {
    "collapsed": false,
    "pycharm": {
     "name": "#%%\n"
    }
   }
  },
  {
   "cell_type": "code",
   "execution_count": 105,
   "outputs": [],
   "source": [
    "model.save_model('TFT_model_02.pth.tar')"
   ],
   "metadata": {
    "collapsed": false,
    "pycharm": {
     "name": "#%%\n"
    }
   }
  },
  {
   "cell_type": "code",
   "execution_count": 33,
   "outputs": [
    {
     "data": {
      "text/plain": "<darts.models.forecasting.tft_model.TFTModel at 0x7f7269385900>"
     },
     "execution_count": 33,
     "metadata": {},
     "output_type": "execute_result"
    }
   ],
   "source": [
    "model.load_model('TFT_model_02.pth.tar')"
   ],
   "metadata": {
    "collapsed": false,
    "pycharm": {
     "name": "#%%\n"
    }
   }
  },
  {
   "cell_type": "code",
   "execution_count": 60,
   "outputs": [
    {
     "data": {
      "text/plain": "Predicting: 327it [00:00, ?it/s]",
      "application/vnd.jupyter.widget-view+json": {
       "version_major": 2,
       "version_minor": 0,
       "model_id": "6daa145a4eec4ac398ffda210824bd0c"
      }
     },
     "metadata": {},
     "output_type": "display_data"
    }
   ],
   "source": [
    "ts_tpred = model.predict(#series=ts_ttest,\n",
    "                         n=len(ts_ttest),\n",
    "                         num_samples=N_SAMPLES,\n",
    "                         n_jobs=N_JOBS,\n",
    "                         verbose=True)"
   ],
   "metadata": {
    "collapsed": false,
    "pycharm": {
     "name": "#%%\n"
    }
   }
  },
  {
   "cell_type": "code",
   "execution_count": null,
   "outputs": [],
   "source": [],
   "metadata": {
    "collapsed": false,
    "pycharm": {
     "name": "#%%\n"
    }
   }
  },
  {
   "cell_type": "code",
   "execution_count": null,
   "outputs": [],
   "source": [],
   "metadata": {
    "collapsed": false,
    "pycharm": {
     "name": "#%%\n"
    }
   }
  },
  {
   "cell_type": "code",
   "execution_count": null,
   "outputs": [],
   "source": [],
   "metadata": {
    "collapsed": false,
    "pycharm": {
     "name": "#%%\n"
    }
   }
  },
  {
   "cell_type": "code",
   "execution_count": null,
   "outputs": [],
   "source": [],
   "metadata": {
    "collapsed": false,
    "pycharm": {
     "name": "#%%\n"
    }
   }
  },
  {
   "cell_type": "code",
   "execution_count": null,
   "outputs": [],
   "source": [],
   "metadata": {
    "collapsed": false,
    "pycharm": {
     "name": "#%%\n"
    }
   }
  }
 ],
 "metadata": {
  "kernelspec": {
   "name": "energy",
   "language": "python",
   "display_name": "energy"
  },
  "language_info": {
   "codemirror_mode": {
    "name": "ipython",
    "version": 2
   },
   "file_extension": ".py",
   "mimetype": "text/x-python",
   "name": "python",
   "nbconvert_exporter": "python",
   "pygments_lexer": "ipython2",
   "version": "2.7.6"
  }
 },
 "nbformat": 4,
 "nbformat_minor": 0
}